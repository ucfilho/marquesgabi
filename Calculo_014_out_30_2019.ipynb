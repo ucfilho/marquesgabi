{
  "nbformat": 4,
  "nbformat_minor": 0,
  "metadata": {
    "colab": {
      "name": "Calculo_014_out_30_2019.ipynb",
      "provenance": [],
      "collapsed_sections": [],
      "include_colab_link": true
    },
    "kernelspec": {
      "name": "python3",
      "display_name": "Python 3"
    }
  },
  "cells": [
    {
      "cell_type": "markdown",
      "metadata": {
        "id": "view-in-github",
        "colab_type": "text"
      },
      "source": [
        "<a href=\"https://colab.research.google.com/github/ucfilho/marquesgabi/blob/master/Calculo_014_out_30_2019.ipynb\" target=\"_parent\"><img src=\"https://colab.research.google.com/assets/colab-badge.svg\" alt=\"Open In Colab\"/></a>"
      ]
    },
    {
      "cell_type": "code",
      "metadata": {
        "id": "9q3V2QrqnMBI",
        "colab_type": "code",
        "colab": {}
      },
      "source": [
        "# carrega as bibliotecas do python"
      ],
      "execution_count": 0,
      "outputs": []
    },
    {
      "cell_type": "code",
      "metadata": {
        "id": "szqvrsIInRDg",
        "colab_type": "code",
        "colab": {}
      },
      "source": [
        "%matplotlib inline\n",
        "from matplotlib import pyplot as plt\n",
        "import os \n",
        "import cv2\n",
        "import zipfile\n",
        "from skimage import data\n",
        "from skimage import filters\n",
        "from skimage import exposure\n",
        "import skimage.feature as sk\n",
        "import numpy as np\n",
        "import pandas as pd\n",
        "from google.colab import files\n",
        "from sklearn.metrics.cluster import entropy\n",
        "from sklearn.metrics.cluster import homogeneity_score\n"
      ],
      "execution_count": 0,
      "outputs": []
    },
    {
      "cell_type": "code",
      "metadata": {
        "id": "zsjb8DmRVtDy",
        "colab_type": "code",
        "outputId": "48f7acf6-c337-4c31-f3fe-22df394e4691",
        "colab": {
          "base_uri": "https://localhost:8080/",
          "height": 223
        }
      },
      "source": [
        "!wget http://ftp.feq.ufu.br/ubirajara/Sugar_set_30_2019.zip\n",
        "#!ls -l trash_nov_22_2018.zip\n"
      ],
      "execution_count": 3,
      "outputs": [
        {
          "output_type": "stream",
          "text": [
            "--2019-10-30 14:50:04--  http://ftp.feq.ufu.br/ubirajara/Sugar_set_30_2019.zip\n",
            "Resolving ftp.feq.ufu.br (ftp.feq.ufu.br)... 200.19.144.11\n",
            "Connecting to ftp.feq.ufu.br (ftp.feq.ufu.br)|200.19.144.11|:80... connected.\n",
            "HTTP request sent, awaiting response... 200 OK\n",
            "Length: 19584173 (19M) [application/zip]\n",
            "Saving to: ‘Sugar_set_30_2019.zip.5’\n",
            "\n",
            "Sugar_set_30_2019.z 100%[===================>]  18.68M  3.90MB/s    in 4.8s    \n",
            "\n",
            "2019-10-30 14:50:10 (3.90 MB/s) - ‘Sugar_set_30_2019.zip.5’ saved [19584173/19584173]\n",
            "\n"
          ],
          "name": "stdout"
        }
      ]
    },
    {
      "cell_type": "code",
      "metadata": {
        "id": "ygswjsh1ptUl",
        "colab_type": "code",
        "colab": {}
      },
      "source": [
        "\n",
        "file_name = zipfile.ZipFile('Sugar_set_30_2019.zip', 'r')\n",
        "file_name.extractall() "
      ],
      "execution_count": 0,
      "outputs": []
    },
    {
      "cell_type": "code",
      "metadata": {
        "id": "Qq1UTVWMnU0n",
        "colab_type": "code",
        "colab": {}
      },
      "source": [
        "# all images are resized in variable x, are in gray in variable p and in variable w are dataframe\n",
        "FILE='Sugar_set_30_2019.zip'\n",
        "img_name=[]\n",
        "x=[]\n",
        "p=[]\n",
        "w=[]\n",
        "Size=5 # trocar por 64 qdo acabar a analise\n",
        "\n",
        "with zipfile.ZipFile(FILE, \"r\") as f:\n",
        "    for name in f.namelist():\n",
        "        img_name.append(name)\n",
        "        #x.append(cv2.imread(name))\n",
        "        x.append(cv2.resize(cv2.imread(name),(Size,Size)))\n",
        "\n",
        "nrow=len(img_name)\n",
        "ncol=Size*Size\n",
        "pp=np.zeros((nrow,ncol))\n",
        "for i in range(nrow):\n",
        "    w.append(cv2.cvtColor(np.array(x[i]), cv2.COLOR_BGR2GRAY))\n",
        "    pp[i,:]=w[i].ravel()"
      ],
      "execution_count": 0,
      "outputs": []
    },
    {
      "cell_type": "code",
      "metadata": {
        "id": "9XPFWhiq3tGW",
        "colab_type": "code",
        "colab": {}
      },
      "source": [
        "Nfotos=len(img_name)\n",
        "GLCM=np.zeros((Nfotos, 14))   # lembrar do ANN_Hydrofoil_Neuronio_set_17_2018.ipynb\n",
        "Nrow=Size\n",
        "Ncol=Size\n",
        "#print(GLCM.shape)\n",
        "#Soma=np.sum(pp[k,:])\n",
        "for k in range(Nfotos):\n",
        "  \n",
        "  p=pp[k,:].reshape(Size,Size)\n",
        "  Soma=0\n",
        "  for i in range(Size):\n",
        "    for j in range(Size):\n",
        "      Soma=Soma+p[i,j]\n",
        "   \n",
        "  for i in range(Size):\n",
        "    for j in range(Size):\n",
        "      p[i,j]=p[i,j]/Soma\n",
        "  \n",
        "  G=Ncol-1\n",
        "  Pdif=[]\n",
        "  Soma_dif=0\n",
        "  Psom=[]\n",
        "  Soma_soma=0\n",
        "\n",
        "  for kk in range(2*G+1):\n",
        "    for i in range(Nrow):\n",
        "      for j in range(Ncol):\n",
        "        if((i+j)==kk):\n",
        "          Soma_soma=Soma_soma+p[i,j]\n",
        "        if((abs(i-j))==kk):\n",
        "          Soma_dif=Soma_dif+p[i,j]\n",
        "    Psom.append(Soma_soma)\n",
        "\n",
        "  for kk in range(G+1):\n",
        "    for i in range(Nrow):\n",
        "      for j in range(Ncol):\n",
        "        if((abs(i-j))==kk):\n",
        "          Soma_dif=Soma_dif+p[i,j]\n",
        "    Pdif.append(Soma_dif)\n",
        "\n",
        "  for i in range(Nrow):\n",
        "    for j in range(Ncol):\n",
        "      #print(\"i=%d j=%d k=%d\"%(i,j,k))\n",
        "      GLCM[k,0]=GLCM[k,0]+p[i,j]**2 #segundo momento angular\n",
        "      GLCM[k,1]=GLCM[k,1]+(i-j)**2*p[i,j] #contraste\n",
        "\n",
        "\n",
        "      MIx=0;MIy=0\n",
        "      for ii in range(Nrow):\n",
        "        for jj in range(Ncol):\n",
        "          MIy=MIy+jj*p[ii,jj]\n",
        "          MIx=MIx+ii*p[ii,jj]\n",
        "      Sx2=0;Sy2=0;\n",
        "      for ii in range(Nrow):\n",
        "        for jj in range(Ncol):\n",
        "          Sx2=Sx2+(ii-MIx)**2*p[ii,jj]\n",
        "          Sy2=Sy2+(jj-MIy)**2*p[ii,jj]\n",
        "      Sx=Sx2**0.5\n",
        "      Sy=Sy2**0.5\n",
        "\n",
        "\n",
        "      GLCM[k,2]=GLCM[k,2]+((i*j)*p[i,j]-MIx*MIy)/(Sx*Sy) #Correlacao\n",
        "      # CONFERIR CORRELACAO EM OUTROS\n",
        "\n",
        "      GLCM[k,3]=GLCM[k,3]+(i-np.mean(p))**2*p[i,j] #Variancia\n",
        "\n",
        "      GLCM[k,4]=GLCM[k,4]+(1/(1+(i-j)**2))*p[i,j]#INVERSA DIF MOMENTO\n",
        "\n",
        "      #GLCM[k,5]=GLCM[k,5]+(1/(1+(i-j)**2))*p[i,j]#INVERSA DIF MOMENTO\n",
        "\n",
        "      GLCM[k,8]=GLCM[k,8]-p[i,j]*np.log(p[i,j]) # entropia\n",
        "\n"
      ],
      "execution_count": 0,
      "outputs": []
    },
    {
      "cell_type": "code",
      "metadata": {
        "id": "VJG8c7cmrR3y",
        "colab_type": "code",
        "colab": {}
      },
      "source": [
        "# ver os conceitos aqui tambem\n",
        "# https://www.uio.no/studier/emner/matnat/ifi/INF4300/h08/undervisningsmateriale/glcm.pdf"
      ],
      "execution_count": 0,
      "outputs": []
    },
    {
      "cell_type": "code",
      "metadata": {
        "id": "bWRUesbYqQ2v",
        "colab_type": "code",
        "outputId": "62cdacf6-352c-4988-f812-1dfc97e4171e",
        "colab": {
          "base_uri": "https://localhost:8080/",
          "height": 969
        }
      },
      "source": [
        "pd.set_option('display.max_columns', 30)\n",
        "print(pd.DataFrame(GLCM))"
      ],
      "execution_count": 8,
      "outputs": [
        {
          "output_type": "stream",
          "text": [
            "           0         1          2         3         4    5    6    7  \\\n",
            "0   0.040159  4.006764 -48.388893  5.873156  0.423837  0.0  0.0  0.0   \n",
            "1   0.041540  4.282528 -47.724904  5.762803  0.411868  0.0  0.0  0.0   \n",
            "2   0.040287  4.030399 -49.193342  5.979967  0.424910  0.0  0.0  0.0   \n",
            "3   0.040175  4.015663 -48.607804  6.027608  0.435603  0.0  0.0  0.0   \n",
            "4   0.040313  4.043838 -47.746904  5.656749  0.422210  0.0  0.0  0.0   \n",
            "5   0.040234  4.056964 -49.752577  5.948915  0.431240  0.0  0.0  0.0   \n",
            "6   0.040177  3.895373 -49.375098  5.944445  0.435292  0.0  0.0  0.0   \n",
            "7   0.040276  3.931919 -51.702480  6.036687  0.428104  0.0  0.0  0.0   \n",
            "8   0.040229  3.993338 -49.941784  6.066993  0.427480  0.0  0.0  0.0   \n",
            "9   0.040272  3.979461 -49.007498  5.888981  0.430643  0.0  0.0  0.0   \n",
            "10  0.040134  3.934069 -48.671268  5.729726  0.432728  0.0  0.0  0.0   \n",
            "11  0.041463  3.928237 -48.569188  5.890711  0.447866  0.0  0.0  0.0   \n",
            "12  0.040367  4.035181 -49.472654  5.853991  0.426656  0.0  0.0  0.0   \n",
            "13  0.040158  3.968848 -49.843685  5.912714  0.429517  0.0  0.0  0.0   \n",
            "14  0.040253  4.044039 -50.763577  5.959033  0.422164  0.0  0.0  0.0   \n",
            "15  0.040186  4.023711 -49.898148  5.956926  0.428484  0.0  0.0  0.0   \n",
            "16  0.040090  4.097282 -49.108733  5.946493  0.422124  0.0  0.0  0.0   \n",
            "17  0.040080  4.012748 -48.622208  6.011883  0.427612  0.0  0.0  0.0   \n",
            "18  0.040168  3.938882 -48.567679  5.859662  0.433305  0.0  0.0  0.0   \n",
            "19  0.040256  3.993746 -49.612653  6.041455  0.428717  0.0  0.0  0.0   \n",
            "20  0.041017  3.807823 -48.158425  5.624193  0.444352  0.0  0.0  0.0   \n",
            "21  0.040295  3.873777 -49.870148  5.934538  0.430973  0.0  0.0  0.0   \n",
            "22  0.040133  4.009592 -48.905516  5.925221  0.421378  0.0  0.0  0.0   \n",
            "23  0.040141  3.981876 -47.131547  5.783934  0.428346  0.0  0.0  0.0   \n",
            "\n",
            "           8    9   10   11   12   13  \n",
            "0   3.216867  0.0  0.0  0.0  0.0  0.0  \n",
            "1   3.203164  0.0  0.0  0.0  0.0  0.0  \n",
            "2   3.215219  0.0  0.0  0.0  0.0  0.0  \n",
            "3   3.216685  0.0  0.0  0.0  0.0  0.0  \n",
            "4   3.214975  0.0  0.0  0.0  0.0  0.0  \n",
            "5   3.215969  0.0  0.0  0.0  0.0  0.0  \n",
            "6   3.216637  0.0  0.0  0.0  0.0  0.0  \n",
            "7   3.215371  0.0  0.0  0.0  0.0  0.0  \n",
            "8   3.216015  0.0  0.0  0.0  0.0  0.0  \n",
            "9   3.215601  0.0  0.0  0.0  0.0  0.0  \n",
            "10  3.217205  0.0  0.0  0.0  0.0  0.0  \n",
            "11  3.203624  0.0  0.0  0.0  0.0  0.0  \n",
            "12  3.214418  0.0  0.0  0.0  0.0  0.0  \n",
            "13  3.216909  0.0  0.0  0.0  0.0  0.0  \n",
            "14  3.215724  0.0  0.0  0.0  0.0  0.0  \n",
            "15  3.216545  0.0  0.0  0.0  0.0  0.0  \n",
            "16  3.217750  0.0  0.0  0.0  0.0  0.0  \n",
            "17  3.217872  0.0  0.0  0.0  0.0  0.0  \n",
            "18  3.216786  0.0  0.0  0.0  0.0  0.0  \n",
            "19  3.215717  0.0  0.0  0.0  0.0  0.0  \n",
            "20  3.207716  0.0  0.0  0.0  0.0  0.0  \n",
            "21  3.215196  0.0  0.0  0.0  0.0  0.0  \n",
            "22  3.217210  0.0  0.0  0.0  0.0  0.0  \n",
            "23  3.217122  0.0  0.0  0.0  0.0  0.0  \n"
          ],
          "name": "stdout"
        }
      ]
    },
    {
      "cell_type": "code",
      "metadata": {
        "id": "4SByB4bq4wO9",
        "colab_type": "code",
        "outputId": "9adee016-96f6-4bd2-cde3-8bc97dd1a5f1",
        "colab": {
          "base_uri": "https://localhost:8080/",
          "height": 260
        }
      },
      "source": [
        "GLCM=pd.DataFrame(GLCM)\n",
        "pd.set_option('display.max_columns', 30)\n",
        "print(GLCM.head(5))"
      ],
      "execution_count": 9,
      "outputs": [
        {
          "output_type": "stream",
          "text": [
            "          0         1          2         3         4    5    6    7         8  \\\n",
            "0  0.040159  4.006764 -48.388893  5.873156  0.423837  0.0  0.0  0.0  3.216867   \n",
            "1  0.041540  4.282528 -47.724904  5.762803  0.411868  0.0  0.0  0.0  3.203164   \n",
            "2  0.040287  4.030399 -49.193342  5.979967  0.424910  0.0  0.0  0.0  3.215219   \n",
            "3  0.040175  4.015663 -48.607804  6.027608  0.435603  0.0  0.0  0.0  3.216685   \n",
            "4  0.040313  4.043838 -47.746904  5.656749  0.422210  0.0  0.0  0.0  3.214975   \n",
            "\n",
            "     9   10   11   12   13  \n",
            "0  0.0  0.0  0.0  0.0  0.0  \n",
            "1  0.0  0.0  0.0  0.0  0.0  \n",
            "2  0.0  0.0  0.0  0.0  0.0  \n",
            "3  0.0  0.0  0.0  0.0  0.0  \n",
            "4  0.0  0.0  0.0  0.0  0.0  \n"
          ],
          "name": "stdout"
        }
      ]
    }
  ]
}