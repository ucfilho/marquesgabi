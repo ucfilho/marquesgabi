{
  "nbformat": 4,
  "nbformat_minor": 0,
  "metadata": {
    "colab": {
      "name": "Features_Determination_teste_010_dez_06_2019.ipynb",
      "provenance": [],
      "collapsed_sections": [],
      "include_colab_link": true
    },
    "kernelspec": {
      "name": "python3",
      "display_name": "Python 3"
    },
    "accelerator": "GPU"
  },
  "cells": [
    {
      "cell_type": "markdown",
      "metadata": {
        "id": "view-in-github",
        "colab_type": "text"
      },
      "source": [
        "<a href=\"https://colab.research.google.com/github/ucfilho/marquesgabi/blob/master/Features_Determination_teste_010_dez_06_2019.ipynb\" target=\"_parent\"><img src=\"https://colab.research.google.com/assets/colab-badge.svg\" alt=\"Open In Colab\"/></a>"
      ]
    },
    {
      "cell_type": "code",
      "metadata": {
        "id": "f393Z8HdEmRg",
        "colab_type": "code",
        "outputId": "e14cc5e2-2e07-46a4-f31b-b6b0a31b58e8",
        "colab": {
          "base_uri": "https://localhost:8080/",
          "height": 224
        }
      },
      "source": [
        "!pip install mahotas"
      ],
      "execution_count": 0,
      "outputs": [
        {
          "output_type": "stream",
          "text": [
            "Collecting mahotas\n",
            "\u001b[?25l  Downloading https://files.pythonhosted.org/packages/84/74/bd38163462eb346519f36dc205f0a52a01fb372c7bbcc87392c9b21cfe26/mahotas-1.4.9.tar.gz (1.5MB)\n",
            "\r\u001b[K     |▏                               | 10kB 23.6MB/s eta 0:00:01\r\u001b[K     |▍                               | 20kB 2.2MB/s eta 0:00:01\r\u001b[K     |▋                               | 30kB 3.2MB/s eta 0:00:01\r\u001b[K     |▉                               | 40kB 2.1MB/s eta 0:00:01\r\u001b[K     |█                               | 51kB 2.6MB/s eta 0:00:01\r\u001b[K     |█▎                              | 61kB 3.1MB/s eta 0:00:01\r\u001b[K     |█▌                              | 71kB 3.6MB/s eta 0:00:01\r\u001b[K     |█▊                              | 81kB 4.1MB/s eta 0:00:01\r\u001b[K     |██                              | 92kB 4.5MB/s eta 0:00:01\r\u001b[K     |██▏                             | 102kB 3.4MB/s eta 0:00:01\r\u001b[K     |██▍                             | 112kB 3.4MB/s eta 0:00:01\r\u001b[K     |██▋                             | 122kB 3.4MB/s eta 0:00:01\r\u001b[K     |██▉                             | 133kB 3.4MB/s eta 0:00:01\r\u001b[K     |███                             | 143kB 3.4MB/s eta 0:00:01\r\u001b[K     |███▏                            | 153kB 3.4MB/s eta 0:00:01\r\u001b[K     |███▍                            | 163kB 3.4MB/s eta 0:00:01\r\u001b[K     |███▋                            | 174kB 3.4MB/s eta 0:00:01\r\u001b[K     |███▉                            | 184kB 3.4MB/s eta 0:00:01\r\u001b[K     |████                            | 194kB 3.4MB/s eta 0:00:01\r\u001b[K     |████▎                           | 204kB 3.4MB/s eta 0:00:01\r\u001b[K     |████▌                           | 215kB 3.4MB/s eta 0:00:01\r\u001b[K     |████▊                           | 225kB 3.4MB/s eta 0:00:01\r\u001b[K     |█████                           | 235kB 3.4MB/s eta 0:00:01\r\u001b[K     |█████▏                          | 245kB 3.4MB/s eta 0:00:01\r\u001b[K     |█████▍                          | 256kB 3.4MB/s eta 0:00:01\r\u001b[K     |█████▋                          | 266kB 3.4MB/s eta 0:00:01\r\u001b[K     |█████▊                          | 276kB 3.4MB/s eta 0:00:01\r\u001b[K     |██████                          | 286kB 3.4MB/s eta 0:00:01\r\u001b[K     |██████▏                         | 296kB 3.4MB/s eta 0:00:01\r\u001b[K     |██████▍                         | 307kB 3.4MB/s eta 0:00:01\r\u001b[K     |██████▋                         | 317kB 3.4MB/s eta 0:00:01\r\u001b[K     |██████▉                         | 327kB 3.4MB/s eta 0:00:01\r\u001b[K     |███████                         | 337kB 3.4MB/s eta 0:00:01\r\u001b[K     |███████▎                        | 348kB 3.4MB/s eta 0:00:01\r\u001b[K     |███████▌                        | 358kB 3.4MB/s eta 0:00:01\r\u001b[K     |███████▊                        | 368kB 3.4MB/s eta 0:00:01\r\u001b[K     |████████                        | 378kB 3.4MB/s eta 0:00:01\r\u001b[K     |████████▏                       | 389kB 3.4MB/s eta 0:00:01\r\u001b[K     |████████▍                       | 399kB 3.4MB/s eta 0:00:01\r\u001b[K     |████████▋                       | 409kB 3.4MB/s eta 0:00:01\r\u001b[K     |████████▊                       | 419kB 3.4MB/s eta 0:00:01\r\u001b[K     |█████████                       | 430kB 3.4MB/s eta 0:00:01\r\u001b[K     |█████████▏                      | 440kB 3.4MB/s eta 0:00:01\r\u001b[K     |█████████▍                      | 450kB 3.4MB/s eta 0:00:01\r\u001b[K     |█████████▋                      | 460kB 3.4MB/s eta 0:00:01\r\u001b[K     |█████████▉                      | 471kB 3.4MB/s eta 0:00:01\r\u001b[K     |██████████                      | 481kB 3.4MB/s eta 0:00:01\r\u001b[K     |██████████▎                     | 491kB 3.4MB/s eta 0:00:01\r\u001b[K     |██████████▌                     | 501kB 3.4MB/s eta 0:00:01\r\u001b[K     |██████████▊                     | 512kB 3.4MB/s eta 0:00:01\r\u001b[K     |███████████                     | 522kB 3.4MB/s eta 0:00:01\r\u001b[K     |███████████▏                    | 532kB 3.4MB/s eta 0:00:01\r\u001b[K     |███████████▍                    | 542kB 3.4MB/s eta 0:00:01\r\u001b[K     |███████████▌                    | 552kB 3.4MB/s eta 0:00:01\r\u001b[K     |███████████▊                    | 563kB 3.4MB/s eta 0:00:01\r\u001b[K     |████████████                    | 573kB 3.4MB/s eta 0:00:01\r\u001b[K     |████████████▏                   | 583kB 3.4MB/s eta 0:00:01\r\u001b[K     |████████████▍                   | 593kB 3.4MB/s eta 0:00:01\r\u001b[K     |████████████▋                   | 604kB 3.4MB/s eta 0:00:01\r\u001b[K     |████████████▉                   | 614kB 3.4MB/s eta 0:00:01\r\u001b[K     |█████████████                   | 624kB 3.4MB/s eta 0:00:01\r\u001b[K     |█████████████▎                  | 634kB 3.4MB/s eta 0:00:01\r\u001b[K     |█████████████▌                  | 645kB 3.4MB/s eta 0:00:01\r\u001b[K     |█████████████▊                  | 655kB 3.4MB/s eta 0:00:01\r\u001b[K     |██████████████                  | 665kB 3.4MB/s eta 0:00:01\r\u001b[K     |██████████████▏                 | 675kB 3.4MB/s eta 0:00:01\r\u001b[K     |██████████████▍                 | 686kB 3.4MB/s eta 0:00:01\r\u001b[K     |██████████████▌                 | 696kB 3.4MB/s eta 0:00:01\r\u001b[K     |██████████████▊                 | 706kB 3.4MB/s eta 0:00:01\r\u001b[K     |███████████████                 | 716kB 3.4MB/s eta 0:00:01\r\u001b[K     |███████████████▏                | 727kB 3.4MB/s eta 0:00:01\r\u001b[K     |███████████████▍                | 737kB 3.4MB/s eta 0:00:01\r\u001b[K     |███████████████▋                | 747kB 3.4MB/s eta 0:00:01\r\u001b[K     |███████████████▉                | 757kB 3.4MB/s eta 0:00:01\r\u001b[K     |████████████████                | 768kB 3.4MB/s eta 0:00:01\r\u001b[K     |████████████████▎               | 778kB 3.4MB/s eta 0:00:01\r\u001b[K     |████████████████▌               | 788kB 3.4MB/s eta 0:00:01\r\u001b[K     |████████████████▊               | 798kB 3.4MB/s eta 0:00:01\r\u001b[K     |█████████████████               | 808kB 3.4MB/s eta 0:00:01\r\u001b[K     |█████████████████▏              | 819kB 3.4MB/s eta 0:00:01\r\u001b[K     |█████████████████▎              | 829kB 3.4MB/s eta 0:00:01\r\u001b[K     |█████████████████▌              | 839kB 3.4MB/s eta 0:00:01\r\u001b[K     |█████████████████▊              | 849kB 3.4MB/s eta 0:00:01\r\u001b[K     |██████████████████              | 860kB 3.4MB/s eta 0:00:01\r\u001b[K     |██████████████████▏             | 870kB 3.4MB/s eta 0:00:01\r\u001b[K     |██████████████████▍             | 880kB 3.4MB/s eta 0:00:01\r\u001b[K     |██████████████████▋             | 890kB 3.4MB/s eta 0:00:01\r\u001b[K     |██████████████████▉             | 901kB 3.4MB/s eta 0:00:01\r\u001b[K     |███████████████████             | 911kB 3.4MB/s eta 0:00:01\r\u001b[K     |███████████████████▎            | 921kB 3.4MB/s eta 0:00:01\r\u001b[K     |███████████████████▌            | 931kB 3.4MB/s eta 0:00:01\r\u001b[K     |███████████████████▊            | 942kB 3.4MB/s eta 0:00:01\r\u001b[K     |████████████████████            | 952kB 3.4MB/s eta 0:00:01\r\u001b[K     |████████████████████▏           | 962kB 3.4MB/s eta 0:00:01\r\u001b[K     |████████████████████▎           | 972kB 3.4MB/s eta 0:00:01\r\u001b[K     |████████████████████▌           | 983kB 3.4MB/s eta 0:00:01\r\u001b[K     |████████████████████▊           | 993kB 3.4MB/s eta 0:00:01\r\u001b[K     |█████████████████████           | 1.0MB 3.4MB/s eta 0:00:01\r\u001b[K     |█████████████████████▏          | 1.0MB 3.4MB/s eta 0:00:01\r\u001b[K     |█████████████████████▍          | 1.0MB 3.4MB/s eta 0:00:01\r\u001b[K     |█████████████████████▋          | 1.0MB 3.4MB/s eta 0:00:01\r\u001b[K     |█████████████████████▉          | 1.0MB 3.4MB/s eta 0:00:01\r\u001b[K     |██████████████████████          | 1.1MB 3.4MB/s eta 0:00:01\r\u001b[K     |██████████████████████▎         | 1.1MB 3.4MB/s eta 0:00:01\r\u001b[K     |██████████████████████▌         | 1.1MB 3.4MB/s eta 0:00:01\r\u001b[K     |██████████████████████▊         | 1.1MB 3.4MB/s eta 0:00:01\r\u001b[K     |███████████████████████         | 1.1MB 3.4MB/s eta 0:00:01\r\u001b[K     |███████████████████████         | 1.1MB 3.4MB/s eta 0:00:01\r\u001b[K     |███████████████████████▎        | 1.1MB 3.4MB/s eta 0:00:01\r\u001b[K     |███████████████████████▌        | 1.1MB 3.4MB/s eta 0:00:01\r\u001b[K     |███████████████████████▊        | 1.1MB 3.4MB/s eta 0:00:01\r\u001b[K     |████████████████████████        | 1.1MB 3.4MB/s eta 0:00:01\r\u001b[K     |████████████████████████▏       | 1.2MB 3.4MB/s eta 0:00:01\r\u001b[K     |████████████████████████▍       | 1.2MB 3.4MB/s eta 0:00:01\r\u001b[K     |████████████████████████▋       | 1.2MB 3.4MB/s eta 0:00:01\r\u001b[K     |████████████████████████▉       | 1.2MB 3.4MB/s eta 0:00:01\r\u001b[K     |█████████████████████████       | 1.2MB 3.4MB/s eta 0:00:01\r\u001b[K     |█████████████████████████▎      | 1.2MB 3.4MB/s eta 0:00:01\r\u001b[K     |█████████████████████████▌      | 1.2MB 3.4MB/s eta 0:00:01\r\u001b[K     |█████████████████████████▊      | 1.2MB 3.4MB/s eta 0:00:01\r\u001b[K     |█████████████████████████▉      | 1.2MB 3.4MB/s eta 0:00:01\r\u001b[K     |██████████████████████████      | 1.2MB 3.4MB/s eta 0:00:01\r\u001b[K     |██████████████████████████▎     | 1.3MB 3.4MB/s eta 0:00:01\r\u001b[K     |██████████████████████████▌     | 1.3MB 3.4MB/s eta 0:00:01\r\u001b[K     |██████████████████████████▊     | 1.3MB 3.4MB/s eta 0:00:01\r\u001b[K     |███████████████████████████     | 1.3MB 3.4MB/s eta 0:00:01\r\u001b[K     |███████████████████████████▏    | 1.3MB 3.4MB/s eta 0:00:01\r\u001b[K     |███████████████████████████▍    | 1.3MB 3.4MB/s eta 0:00:01\r\u001b[K     |███████████████████████████▋    | 1.3MB 3.4MB/s eta 0:00:01\r\u001b[K     |███████████████████████████▉    | 1.3MB 3.4MB/s eta 0:00:01\r\u001b[K     |████████████████████████████    | 1.3MB 3.4MB/s eta 0:00:01\r\u001b[K     |████████████████████████████▎   | 1.4MB 3.4MB/s eta 0:00:01\r\u001b[K     |████████████████████████████▌   | 1.4MB 3.4MB/s eta 0:00:01\r\u001b[K     |████████████████████████████▊   | 1.4MB 3.4MB/s eta 0:00:01\r\u001b[K     |████████████████████████████▉   | 1.4MB 3.4MB/s eta 0:00:01\r\u001b[K     |█████████████████████████████   | 1.4MB 3.4MB/s eta 0:00:01\r\u001b[K     |█████████████████████████████▎  | 1.4MB 3.4MB/s eta 0:00:01\r\u001b[K     |█████████████████████████████▌  | 1.4MB 3.4MB/s eta 0:00:01\r\u001b[K     |█████████████████████████████▊  | 1.4MB 3.4MB/s eta 0:00:01\r\u001b[K     |██████████████████████████████  | 1.4MB 3.4MB/s eta 0:00:01\r\u001b[K     |██████████████████████████████▏ | 1.4MB 3.4MB/s eta 0:00:01\r\u001b[K     |██████████████████████████████▍ | 1.5MB 3.4MB/s eta 0:00:01\r\u001b[K     |██████████████████████████████▋ | 1.5MB 3.4MB/s eta 0:00:01\r\u001b[K     |██████████████████████████████▉ | 1.5MB 3.4MB/s eta 0:00:01\r\u001b[K     |███████████████████████████████ | 1.5MB 3.4MB/s eta 0:00:01\r\u001b[K     |███████████████████████████████▎| 1.5MB 3.4MB/s eta 0:00:01\r\u001b[K     |███████████████████████████████▌| 1.5MB 3.4MB/s eta 0:00:01\r\u001b[K     |███████████████████████████████▋| 1.5MB 3.4MB/s eta 0:00:01\r\u001b[K     |███████████████████████████████▉| 1.5MB 3.4MB/s eta 0:00:01\r\u001b[K     |████████████████████████████████| 1.5MB 3.4MB/s \n",
            "\u001b[?25hRequirement already satisfied: numpy in /usr/local/lib/python3.6/dist-packages (from mahotas) (1.17.4)\n",
            "Building wheels for collected packages: mahotas\n",
            "  Building wheel for mahotas (setup.py) ... \u001b[?25l\u001b[?25hdone\n",
            "  Created wheel for mahotas: filename=mahotas-1.4.9-cp36-cp36m-linux_x86_64.whl size=4264031 sha256=cd95c352bde1585565fa8115281306f687c8269969f9e5cef8c990f4493aa8ff\n",
            "  Stored in directory: /root/.cache/pip/wheels/02/e7/50/b67eee3b19c479cc5b41f10230bf9c1556be6eaaf095c6e997\n",
            "Successfully built mahotas\n",
            "Installing collected packages: mahotas\n",
            "Successfully installed mahotas-1.4.9\n"
          ],
          "name": "stdout"
        }
      ]
    },
    {
      "cell_type": "code",
      "metadata": {
        "id": "W0wfLMP8nWAM",
        "colab_type": "code",
        "outputId": "e1f0e97c-c608-449f-d4c1-89664fe4dc8b",
        "colab": {
          "base_uri": "https://localhost:8080/",
          "height": 130
        }
      },
      "source": [
        "\n",
        "!git clone https://github.com/ucfilho/marquesgabi #clonar do Github\n",
        "%cd marquesgabi"
      ],
      "execution_count": 0,
      "outputs": [
        {
          "output_type": "stream",
          "text": [
            "Cloning into 'marquesgabi'...\n",
            "remote: Enumerating objects: 343, done.\u001b[K\n",
            "remote: Total 343 (delta 0), reused 0 (delta 0), pack-reused 343\u001b[K\n",
            "Receiving objects: 100% (343/343), 8.36 MiB | 27.62 MiB/s, done.\n",
            "Resolving deltas: 100% (194/194), done.\n",
            "/content/marquesgabi\n"
          ],
          "name": "stdout"
        }
      ]
    },
    {
      "cell_type": "code",
      "metadata": {
        "id": "SzWdrvAgvBId",
        "colab_type": "code",
        "colab": {}
      },
      "source": [
        "import numpy as np\n",
        "import cv2\n",
        "from skimage import data\n",
        "import matplotlib.pyplot as plt\n",
        "import matplotlib\n",
        "import pandas as pd\n",
        "from skimage import io, util\n",
        "import mahotas.features.texture as mht\n",
        "import mahotas.features\n",
        "import os \n",
        "import zipfile\n",
        "from skimage import filters\n",
        "from skimage import exposure\n",
        "import skimage.feature as sk\n",
        "from google.colab import files\n",
        "from numpy import linalg as LA\n",
        "from scipy.signal import find_peaks\n",
        "from scipy.signal import peak_prominences\n",
        "from scipy.signal import peak_widths\n",
        "import re\n",
        "import Go2BlackWhite\n",
        "import Go2Mahotas\n",
        "%matplotlib inline"
      ],
      "execution_count": 0,
      "outputs": []
    },
    {
      "cell_type": "code",
      "metadata": {
        "id": "xoW1HoWp3qNO",
        "colab_type": "code",
        "colab": {}
      },
      "source": [
        "Size=200 # tamanho da foto\n",
        "Sub_Size=int(Size/5) # tamanho do fracionamento\n",
        "Row_Crop=1/2 # posicao do corte\n",
        "Crop=int(Size*Row_Crop)"
      ],
      "execution_count": 0,
      "outputs": []
    },
    {
      "cell_type": "code",
      "metadata": {
        "id": "h1Zsufcm9bfv",
        "colab_type": "code",
        "outputId": "48f1071e-f9fb-4392-e06e-f57d5c02b324",
        "colab": {
          "base_uri": "https://localhost:8080/",
          "height": 224
        }
      },
      "source": [
        "!wget http://ftp.feq.ufu.br/ubirajara/GrBuInd.zip\n",
        "Transfere='GrBuInd.zip'"
      ],
      "execution_count": 0,
      "outputs": [
        {
          "output_type": "stream",
          "text": [
            "--2019-12-10 13:26:04--  http://ftp.feq.ufu.br/ubirajara/GrBuInd.zip\n",
            "Resolving ftp.feq.ufu.br (ftp.feq.ufu.br)... 200.19.144.11\n",
            "Connecting to ftp.feq.ufu.br (ftp.feq.ufu.br)|200.19.144.11|:80... connected.\n",
            "HTTP request sent, awaiting response... 200 OK\n",
            "Length: 497627 (486K) [application/zip]\n",
            "Saving to: ‘GrBuInd.zip’\n",
            "\n",
            "GrBuInd.zip         100%[===================>] 485.96K   350KB/s    in 1.4s    \n",
            "\n",
            "2019-12-10 13:26:06 (350 KB/s) - ‘GrBuInd.zip’ saved [497627/497627]\n",
            "\n"
          ],
          "name": "stdout"
        }
      ]
    },
    {
      "cell_type": "code",
      "metadata": {
        "id": "c43TnWalRs_H",
        "colab_type": "code",
        "colab": {}
      },
      "source": [
        "file_name = zipfile.ZipFile(Transfere, 'r')\n",
        "file_name.extractall()"
      ],
      "execution_count": 0,
      "outputs": []
    },
    {
      "cell_type": "code",
      "metadata": {
        "id": "GrLtSCRor_By",
        "colab_type": "code",
        "colab": {}
      },
      "source": [
        "# print(img_name)"
      ],
      "execution_count": 0,
      "outputs": []
    },
    {
      "cell_type": "code",
      "metadata": {
        "colab_type": "code",
        "id": "qCKcPafHsAuJ",
        "colab": {}
      },
      "source": [
        "# ww contain all photos in black and white\n",
        "ww,img_name=Go2BlackWhite.BlackWhite(Transfere,Size)\n",
        "# plt.axis(\"off\")\n",
        "# plt.imshow(ww[0], cmap = \"gray\")"
      ],
      "execution_count": 0,
      "outputs": []
    },
    {
      "cell_type": "code",
      "metadata": {
        "id": "MukX2r3ys3tm",
        "colab_type": "code",
        "colab": {}
      },
      "source": [
        "# Find the list elements starting with specific letter\n",
        "subs = 'B'\n",
        "Buraco = [x for x in img_name if re.search(subs, x)] \n",
        "subs = 'G'\n",
        "Grao = [x for x in img_name if re.search(subs, x)] \n",
        "subs = 'I'\n",
        "Indef = [x for x in img_name if re.search(subs, x)] "
      ],
      "execution_count": 0,
      "outputs": []
    },
    {
      "cell_type": "code",
      "metadata": {
        "id": "WkQzQVXn3k42",
        "colab_type": "code",
        "outputId": "d00af6e2-741b-47eb-ea90-fe93047a1e76",
        "colab": {
          "base_uri": "https://localhost:8080/",
          "height": 281
        }
      },
      "source": [
        "# find df texture for a given picture\n",
        "df=Go2Mahotas.Mahotas(ww[0],Size,Sub_Size,Crop,img_name)\n",
        "print(df)"
      ],
      "execution_count": 0,
      "outputs": [
        {
          "output_type": "stream",
          "text": [
            "          ASM    constrast    correl  ...  dif entropy      IMC1      IMC2\n",
            "0    0.012146   839.716383  0.922992  ...     5.360705 -0.553436  0.999757\n",
            "1    0.009309   852.210273  0.919052  ...     5.430678 -0.547121  0.999766\n",
            "2    0.008023   864.961744  0.914335  ...     5.494037 -0.540839  0.999770\n",
            "3    0.004495   885.729068  0.907571  ...     5.558871 -0.533217  0.999772\n",
            "4    0.002481   910.649248  0.898534  ...     5.616679 -0.525523  0.999770\n",
            "..        ...          ...       ...  ...          ...       ...       ...\n",
            "156  0.008712  1573.804771  0.810473  ...     5.662041 -0.511908  0.999565\n",
            "157  0.012512  1526.464033  0.824425  ...     5.580811 -0.518453  0.999551\n",
            "158  0.018239  1504.009837  0.833059  ...     5.495274 -0.526079  0.999535\n",
            "159  0.020161  1492.755909  0.839546  ...     5.417776 -0.533902  0.999531\n",
            "160  0.024144  1481.756316  0.844719  ...     5.339334 -0.541121  0.999515\n",
            "\n",
            "[161 rows x 13 columns]\n"
          ],
          "name": "stdout"
        }
      ]
    },
    {
      "cell_type": "code",
      "metadata": {
        "id": "U2ymyUPFiADf",
        "colab_type": "code",
        "colab": {}
      },
      "source": [
        "j=0\n",
        "cont=-1\n",
        "Posicao_Buraco=[]\n",
        "for i in img_name:\n",
        "  cont=cont+1\n",
        "  for k in Buraco:\n",
        "    if(i==k):\n",
        "      Posicao_Buraco.append(cont)\n",
        "j=0\n",
        "cont=-1\n",
        "Posicao_Grao=[]\n",
        "for i in img_name:\n",
        "  cont=cont+1\n",
        "  for k in Grao:\n",
        "    if(i==k):\n",
        "      Posicao_Grao.append(cont)\n",
        "\n",
        "j=0\n",
        "cont=-1\n",
        "Posicao_Indef=[]\n",
        "for i in img_name:\n",
        "  cont=cont+1\n",
        "  for k in Indef:\n",
        "    if(i==k):\n",
        "      Posicao_Indef.append(cont)\n",
        "\n",
        "# print(Posicao_Grao)\n",
        "# print(Posicao_Buraco)\n",
        "# print(Posicao_Indef)\n"
      ],
      "execution_count": 0,
      "outputs": []
    },
    {
      "cell_type": "code",
      "metadata": {
        "id": "aNTlSGubnL3P",
        "colab_type": "code",
        "colab": {}
      },
      "source": [
        "# compara constrast dos tres primeiros buracos\n",
        "Num=len(Posicao_Buraco)\n",
        "Matriz_X_Buraco=[]\n",
        "#Num=3\n",
        "for i in range(Num):\n",
        "  k=Posicao_Buraco[i]\n",
        "  df=Go2Mahotas.Mahotas(ww[k],Size,Sub_Size,Crop,img_name)\n",
        "  Matriz_X_Buraco.append(np.array(df['constrast']).ravel())\n",
        "  #plt.figure(i+1)\n",
        "  #plt.plot(df['constrast'])\n",
        "  #print(Matriz_X_Buraco)\n",
        "Contraste_Buraco=pd.DataFrame(Matriz_X_Buraco)"
      ],
      "execution_count": 0,
      "outputs": []
    },
    {
      "cell_type": "code",
      "metadata": {
        "id": "FKpqBGqMq0U2",
        "colab_type": "code",
        "colab": {}
      },
      "source": [
        "# compara constrast dos graos\n",
        "Num=len(Posicao_Grao)\n",
        "Matriz_X_Grao=[]\n",
        "for i in range(Num):\n",
        "  k=Posicao_Grao[i]\n",
        "  df=Go2Mahotas.Mahotas(ww[k],Size,Sub_Size,Crop,img_name)\n",
        "  Matriz_X_Grao.append(np.array(df['constrast']).ravel())\n",
        "  #plt.figure(i+1)\n",
        "  #plt.plot(df['constrast'])\n",
        "  #print(Matriz_X_Grao)\n",
        "Contraste_Grao=pd.DataFrame(Matriz_X_Grao)"
      ],
      "execution_count": 0,
      "outputs": []
    },
    {
      "cell_type": "code",
      "metadata": {
        "id": "uno28vfVq0lc",
        "colab_type": "code",
        "colab": {}
      },
      "source": [
        "# compara constrast dos indefinidos\n",
        "Num=len(Posicao_Indef)\n",
        "Matriz_X_Indef=[]\n",
        "for i in range(Num):\n",
        "  k=Posicao_Indef[i]\n",
        "  df=Go2Mahotas.Mahotas(ww[k],Size,Sub_Size,Crop,img_name)\n",
        "  Matriz_X_Indef.append(np.array(df['constrast']).ravel())\n",
        "  #plt.figure(i+1)\n",
        "  #plt.plot(df['constrast'])\n",
        "  #print(Matriz_X_Indef)\n",
        "Contraste_Indef=pd.DataFrame(Matriz_X_Indef)"
      ],
      "execution_count": 0,
      "outputs": []
    },
    {
      "cell_type": "code",
      "metadata": {
        "id": "EHSBh2ye9WV8",
        "colab_type": "code",
        "outputId": "2dd93230-f883-46c8-f9e2-2e591e630f04",
        "colab": {
          "base_uri": "https://localhost:8080/",
          "height": 167
        }
      },
      "source": [
        "print(Contraste_Buraco.head())"
      ],
      "execution_count": 0,
      "outputs": [
        {
          "output_type": "stream",
          "text": [
            "         0          1          2    ...        158        159        160\n",
            "0  10.217542  10.737327  11.381875  ...   2.519001   2.498003   2.473397\n",
            "1   6.003546   5.834985   5.670657  ...   0.776007   0.768684   0.762829\n",
            "2   0.931476   0.928858   0.926401  ...  11.728546  12.057861  12.352392\n",
            "3  11.321692  11.112385  10.878456  ...   9.826890   9.810289   9.791580\n",
            "4  22.274404  22.561366  22.652712  ...   9.063979   9.158033   9.172432\n",
            "\n",
            "[5 rows x 161 columns]\n"
          ],
          "name": "stdout"
        }
      ]
    },
    {
      "cell_type": "code",
      "metadata": {
        "id": "k5e1EwMAs84e",
        "colab_type": "code",
        "outputId": "67a343b4-cab4-424c-d05d-c93e5a6e1c2d",
        "colab": {
          "base_uri": "https://localhost:8080/",
          "height": 167
        }
      },
      "source": [
        "print(Contraste_Grao.head())"
      ],
      "execution_count": 0,
      "outputs": [
        {
          "output_type": "stream",
          "text": [
            "          0           1           2    ...         158         159         160\n",
            "0   55.587825   55.994613   56.367599  ...   52.978838   53.323603   53.671129\n",
            "1   42.148796   41.217373   40.305153  ...   28.219461   28.475855   28.739082\n",
            "2   68.178768   68.421474   68.673303  ...   20.419481   20.948352   21.496569\n",
            "3  137.309698  137.241872  137.167020  ...  118.571741  116.425251  114.176524\n",
            "4   15.956636   15.669235   15.386727  ...   33.118438   33.271832   33.426524\n",
            "\n",
            "[5 rows x 161 columns]\n"
          ],
          "name": "stdout"
        }
      ]
    },
    {
      "cell_type": "code",
      "metadata": {
        "id": "3ehKvYQAs9TP",
        "colab_type": "code",
        "outputId": "a34934e6-0bf9-4d74-8f82-094aae4971d5",
        "colab": {
          "base_uri": "https://localhost:8080/",
          "height": 167
        }
      },
      "source": [
        "print(Contraste_Indef.head())"
      ],
      "execution_count": 0,
      "outputs": [
        {
          "output_type": "stream",
          "text": [
            "         0          1          2    ...        158        159       160\n",
            "0   0.610791   0.631797   0.651015  ...   2.068738   2.011719  1.964320\n",
            "1   6.425748   6.820188   7.266938  ...  10.764859  10.548056  9.948919\n",
            "2   1.440101   1.412044   1.380243  ...   5.825234   6.103789  6.373077\n",
            "3  11.713519  11.476327  11.243212  ...   0.663774   0.650423  0.640841\n",
            "4   1.030371   1.046318   1.059336  ...   2.526262   2.458814  2.393323\n",
            "\n",
            "[5 rows x 161 columns]\n"
          ],
          "name": "stdout"
        }
      ]
    },
    {
      "cell_type": "code",
      "metadata": {
        "id": "dZSOVH78CeU_",
        "colab_type": "code",
        "outputId": "6abc0ac4-984f-480c-8da6-c7a46fecb0d2",
        "colab": {
          "base_uri": "https://localhost:8080/",
          "height": 131
        }
      },
      "source": [
        "# found drive\n",
        "from google.colab import drive\n",
        "drive.mount('drive')"
      ],
      "execution_count": 0,
      "outputs": [
        {
          "output_type": "stream",
          "text": [
            "Go to this URL in a browser: https://accounts.google.com/o/oauth2/auth?client_id=947318989803-6bn6qk8qdgf4n4g3pfee6491hc0brc4i.apps.googleusercontent.com&redirect_uri=urn%3aietf%3awg%3aoauth%3a2.0%3aoob&response_type=code&scope=email%20https%3a%2f%2fwww.googleapis.com%2fauth%2fdocs.test%20https%3a%2f%2fwww.googleapis.com%2fauth%2fdrive%20https%3a%2f%2fwww.googleapis.com%2fauth%2fdrive.photos.readonly%20https%3a%2f%2fwww.googleapis.com%2fauth%2fpeopleapi.readonly\n",
            "\n",
            "Enter your authorization code:\n",
            "··········\n",
            "Mounted at drive\n"
          ],
          "name": "stdout"
        }
      ]
    },
    {
      "cell_type": "code",
      "metadata": {
        "id": "Lw8rqNu0CpQv",
        "colab_type": "code",
        "colab": {}
      },
      "source": [
        "# get csv file\n",
        "Contraste_Buraco.to_csv('Contraste_Buraco_01_dez_2019.csv')"
      ],
      "execution_count": 0,
      "outputs": []
    },
    {
      "cell_type": "code",
      "metadata": {
        "id": "QS3XRVNFtISH",
        "colab_type": "code",
        "colab": {}
      },
      "source": [
        "# get csv file\n",
        "Contraste_Grao.to_csv('Contraste_Grao_01_dez_2019.csv')"
      ],
      "execution_count": 0,
      "outputs": []
    },
    {
      "cell_type": "code",
      "metadata": {
        "id": "1r-ljDKotIlT",
        "colab_type": "code",
        "colab": {}
      },
      "source": [
        "# get csv file\n",
        "Contraste_Indef.to_csv('Contraste_Indef_01_dez_2019.csv')"
      ],
      "execution_count": 0,
      "outputs": []
    },
    {
      "cell_type": "code",
      "metadata": {
        "id": "6KFSiJ3tB7L2",
        "colab_type": "code",
        "colab": {}
      },
      "source": [
        "# save in drive\n",
        "!cp Contraste_Buraco_01_dez_2019.csv drive/My\\ Drive/Maria_Gabriela_Textura_dados_dez_2019/"
      ],
      "execution_count": 0,
      "outputs": []
    },
    {
      "cell_type": "code",
      "metadata": {
        "id": "foBD0uxUtROs",
        "colab_type": "code",
        "colab": {}
      },
      "source": [
        "# save in drive\n",
        "!cp Contraste_Grao_01_dez_2019.csv drive/My\\ Drive/Maria_Gabriela_Textura_dados_dez_2019/"
      ],
      "execution_count": 0,
      "outputs": []
    },
    {
      "cell_type": "code",
      "metadata": {
        "id": "g778xFc2tRh3",
        "colab_type": "code",
        "colab": {}
      },
      "source": [
        "# save in drive\n",
        "!cp Contraste_Indef_01_dez_2019.csv drive/My\\ Drive/Maria_Gabriela_Textura_dados_dez_2019/"
      ],
      "execution_count": 0,
      "outputs": []
    }
  ]
}