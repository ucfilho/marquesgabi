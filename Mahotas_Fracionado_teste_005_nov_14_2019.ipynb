{
  "nbformat": 4,
  "nbformat_minor": 0,
  "metadata": {
    "colab": {
      "name": "Mahotas_Fracionado_teste_005_nov_14_2019.ipynb",
      "provenance": [],
      "collapsed_sections": [],
      "include_colab_link": true
    },
    "kernelspec": {
      "name": "python3",
      "display_name": "Python 3"
    }
  },
  "cells": [
    {
      "cell_type": "markdown",
      "metadata": {
        "id": "view-in-github",
        "colab_type": "text"
      },
      "source": [
        "<a href=\"https://colab.research.google.com/github/ucfilho/marquesgabi/blob/master/Mahotas_Fracionado_teste_005_nov_14_2019.ipynb\" target=\"_parent\"><img src=\"https://colab.research.google.com/assets/colab-badge.svg\" alt=\"Open In Colab\"/></a>"
      ]
    },
    {
      "cell_type": "code",
      "metadata": {
        "id": "f393Z8HdEmRg",
        "colab_type": "code",
        "outputId": "7d73e9ad-a54b-4ea5-dde1-2a4ac201ea8c",
        "colab": {
          "base_uri": "https://localhost:8080/",
          "height": 74
        }
      },
      "source": [
        "!pip install mahotas"
      ],
      "execution_count": 1,
      "outputs": [
        {
          "output_type": "stream",
          "text": [
            "Requirement already satisfied: mahotas in /usr/local/lib/python3.6/dist-packages (1.4.9)\n",
            "Requirement already satisfied: numpy in /usr/local/lib/python3.6/dist-packages (from mahotas) (1.17.4)\n"
          ],
          "name": "stdout"
        }
      ]
    },
    {
      "cell_type": "code",
      "metadata": {
        "id": "W0wfLMP8nWAM",
        "colab_type": "code",
        "colab": {}
      },
      "source": [
        "# proximas etapas que falta : dividir a foto em 10x10 e aplicar o mahotas em cada foto\n",
        "# encontrar \n",
        "# GLCM?\n",
        "# COLOCAR MAIS VARIAVEIS NAS FOTOS\n",
        "# VER QUAIS PARAMETROS USAR PARA CALCULAR O PSD (particle size distribution)\n",
        "# GERAR AS IMAGENS ARTIFICIAIS"
      ],
      "execution_count": 0,
      "outputs": []
    },
    {
      "cell_type": "code",
      "metadata": {
        "id": "SzWdrvAgvBId",
        "colab_type": "code",
        "colab": {}
      },
      "source": [
        "import numpy as np\n",
        "import cv2\n",
        "from skimage import data\n",
        "import matplotlib.pyplot as plt\n",
        "import matplotlib\n",
        "import pandas as pd\n",
        "from skimage import io, util\n",
        "import mahotas.features.texture as mht\n",
        "import mahotas.features\n",
        "import os \n",
        "import zipfile\n",
        "from skimage import filters\n",
        "from skimage import exposure\n",
        "import skimage.feature as sk\n",
        "from google.colab import files\n",
        "from numpy import linalg as LA\n",
        "%matplotlib inline"
      ],
      "execution_count": 0,
      "outputs": []
    },
    {
      "cell_type": "code",
      "metadata": {
        "id": "h1Zsufcm9bfv",
        "colab_type": "code",
        "outputId": "f4f3be1b-b16c-462d-bed8-9249cc3c5a2d",
        "colab": {
          "base_uri": "https://localhost:8080/",
          "height": 218
        }
      },
      "source": [
        "!wget http://ftp.feq.ufu.br/ubirajara/quadrado_v2.zip"
      ],
      "execution_count": 4,
      "outputs": [
        {
          "output_type": "stream",
          "text": [
            "--2019-11-14 19:41:45--  http://ftp.feq.ufu.br/ubirajara/quadrado_v2.zip\n",
            "Resolving ftp.feq.ufu.br (ftp.feq.ufu.br)... 200.19.144.11\n",
            "Connecting to ftp.feq.ufu.br (ftp.feq.ufu.br)|200.19.144.11|:80... connected.\n",
            "HTTP request sent, awaiting response... 200 OK\n",
            "Length: 22819538 (22M) [application/zip]\n",
            "Saving to: ‘quadrado_v2.zip.14’\n",
            "\n",
            "quadrado_v2.zip.14  100%[===================>]  21.76M  6.76MB/s    in 3.2s    \n",
            "\n",
            "2019-11-14 19:41:49 (6.76 MB/s) - ‘quadrado_v2.zip.14’ saved [22819538/22819538]\n",
            "\n"
          ],
          "name": "stdout"
        }
      ]
    },
    {
      "cell_type": "code",
      "metadata": {
        "id": "n3EWa3f7A-FE",
        "colab_type": "code",
        "colab": {
          "base_uri": "https://localhost:8080/",
          "height": 200
        },
        "outputId": "b5d79043-bbf9-474a-f616-61c19115d947"
      },
      "source": [
        "!ls"
      ],
      "execution_count": 5,
      "outputs": [
        {
          "output_type": "stream",
          "text": [
            "16_0634.jpg  25_0706.jpg  40_0780.jpg\t  quadrada.zip.2      quadrado_v2.zip.2\n",
            "16_0639.jpg  25_0710.jpg  45_0794.jpg\t  quadrada.zip.3      quadrado_v2.zip.3\n",
            "16_0640.jpg  30_0732.jpg  45_0797.jpg\t  quadrada.zip.4      quadrado_v2.zip.4\n",
            "18_0655.jpg  30_0735.jpg  45_0802.jpg\t  quadrado_v2.zip     quadrado_v2.zip.5\n",
            "18_0656.jpg  30_0737.jpg  70_0816.jpg\t  quadrado_v2.zip.1   quadrado_v2.zip.6\n",
            "18_0658.jpg  35_0751.jpg  70_0818.jpg\t  quadrado_v2.zip.10  quadrado_v2.zip.7\n",
            "20_0680.jpg  35_0757.jpg  70_0821.jpg\t  quadrado_v2.zip.11  quadrado_v2.zip.8\n",
            "20_0681.jpg  35_0760.jpg  quadrada\t  quadrado_v2.zip.12  quadrado_v2.zip.9\n",
            "20_0688.jpg  40_0776.jpg  quadrada.zip\t  quadrado_v2.zip.13  sample_data\n",
            "25_0703.jpg  40_0777.jpg  quadrada.zip.1  quadrado_v2.zip.14\n"
          ],
          "name": "stdout"
        }
      ]
    },
    {
      "cell_type": "code",
      "metadata": {
        "id": "qKqzlX77P5-M",
        "colab_type": "code",
        "colab": {}
      },
      "source": [
        "Size=10 # tamanho da foto\n",
        "Sub_Size=2 # tamanho do fracionamento\n",
        "Row_Crop=1/2 # posicao do corte\n",
        "Crop=int(Size*Row_Crop)"
      ],
      "execution_count": 0,
      "outputs": []
    },
    {
      "cell_type": "code",
      "metadata": {
        "id": "YVBsUlEc-Azi",
        "colab_type": "code",
        "colab": {}
      },
      "source": [
        "Transfere='quadrado_v2.zip'\n",
        "file_name = zipfile.ZipFile(Transfere, 'r')\n",
        "file_name.extractall()"
      ],
      "execution_count": 0,
      "outputs": []
    },
    {
      "cell_type": "code",
      "metadata": {
        "id": "t7KEAGdCBJ0a",
        "colab_type": "code",
        "colab": {
          "base_uri": "https://localhost:8080/",
          "height": 35
        },
        "outputId": "98391a46-9712-4520-b773-2a69b05f7ca6"
      },
      "source": [
        "print(file_name)"
      ],
      "execution_count": 8,
      "outputs": [
        {
          "output_type": "stream",
          "text": [
            "<zipfile.ZipFile filename='quadrado_v2.zip' mode='r'>\n"
          ],
          "name": "stdout"
        }
      ]
    },
    {
      "cell_type": "code",
      "metadata": {
        "id": "rIJFUkGF2h9o",
        "colab_type": "code",
        "outputId": "ca32645c-b6ce-4358-fb46-8004559ac480",
        "colab": {
          "base_uri": "https://localhost:8080/",
          "height": 467
        }
      },
      "source": [
        "!wget http://ftp.feq.ufu.br/ubirajara/quadrado_v2.zip\n",
        "\n",
        "file_name = zipfile.ZipFile(Transfere, 'r')\n",
        "file_name.extractall()\n",
        "# all images are load in variable x...\n",
        "FILE=Transfere\n",
        "img_name=[]\n",
        "xw=[]\n",
        "ww=[]\n",
        "\n",
        "with zipfile.ZipFile(FILE, \"r\") as f:\n",
        "    for name in f.namelist():\n",
        "        img_name.append(name)\n",
        "        #xw.append(cv2.imread(name))\n",
        "        xw.append(cv2.resize(cv2.imread(name),(Size,Size)))\n",
        "\n",
        "nrow=len(img_name)\n",
        "ncol=Size*Size\n",
        "pw=np.zeros((nrow,ncol))\n",
        "#pw=[]\n",
        "for i in range(nrow):\n",
        "    ww.append(cv2.cvtColor(np.array(xw[i]), cv2.COLOR_BGR2GRAY))\n",
        "    pw[i,:]=ww[i].ravel()\n",
        "\n",
        "plt.axis(\"off\")\n",
        "plt.imshow(ww[0], cmap = \"gray\")"
      ],
      "execution_count": 9,
      "outputs": [
        {
          "output_type": "stream",
          "text": [
            "--2019-11-14 19:41:52--  http://ftp.feq.ufu.br/ubirajara/quadrado_v2.zip\n",
            "Resolving ftp.feq.ufu.br (ftp.feq.ufu.br)... 200.19.144.11\n",
            "Connecting to ftp.feq.ufu.br (ftp.feq.ufu.br)|200.19.144.11|:80... connected.\n",
            "HTTP request sent, awaiting response... 200 OK\n",
            "Length: 22819538 (22M) [application/zip]\n",
            "Saving to: ‘quadrado_v2.zip.15’\n",
            "\n",
            "quadrado_v2.zip.15  100%[===================>]  21.76M  6.86MB/s    in 3.2s    \n",
            "\n",
            "2019-11-14 19:41:56 (6.86 MB/s) - ‘quadrado_v2.zip.15’ saved [22819538/22819538]\n",
            "\n"
          ],
          "name": "stdout"
        },
        {
          "output_type": "execute_result",
          "data": {
            "text/plain": [
              "<matplotlib.image.AxesImage at 0x7efd9cfcc048>"
            ]
          },
          "metadata": {
            "tags": []
          },
          "execution_count": 9
        },
        {
          "output_type": "display_data",
          "data": {
            "image/png": "[encoded data removed]",
            "text/plain": [
              "<Figure size 432x288 with 1 Axes>"
            ]
          },
          "metadata": {
            "tags": []
          }
        }
      ]
    },
    {
      "cell_type": "code",
      "metadata": {
        "id": "5zptA88eLE7I",
        "colab_type": "code",
        "colab": {}
      },
      "source": [
        "Nomes=['ASM','constrast','correl','variance','inv diff mom','sum aveg',\n",
        "       'sum var','sum entropy','entropy','dif var','dif entropy','IMC1',\n",
        "       'IMC2']\n"
      ],
      "execution_count": 0,
      "outputs": []
    },
    {
      "cell_type": "code",
      "metadata": {
        "id": "8Ficqv20-hfM",
        "colab_type": "code",
        "outputId": "1e894fa6-6f41-42cf-f058-c6f40cefad6b",
        "colab": {
          "base_uri": "https://localhost:8080/",
          "height": 566
        }
      },
      "source": [
        "#foto 0 (k=0)\n",
        "k=0\n",
        "#p_foto=pp[k,:].reshape(Size,Size)\n",
        "p_foto=pw[k,:].reshape(Size,Size)\n",
        "GLCM=[]\n",
        "glcm_haralick=[]\n",
        "x_ref=[]\n",
        "Count=Sub_Size\n",
        "p=np.zeros((Sub_Size,Sub_Size))\n",
        "j_ref=0\n",
        "Cada_foto=[]\n",
        "for k in range(Size):\n",
        "  if((k+Sub_Size-1)<Size):\n",
        "    for i in range(Sub_Size):\n",
        "      for j in range(Sub_Size):\n",
        "        p[i,j]=p_foto[Crop+i,j+k]\n",
        "    #plt.imshow(p, cmap = \"gray\")\n",
        "    print(p)\n",
        "    WW=np.copy(p) \n",
        "    Cada_foto.append(WW.ravel())\n",
        "    x_ref.append(Count-Sub_Size)\n",
        "    Count=Count+1\n",
        "    \n",
        "    Mahotas =pd.DataFrame(mahotas.features.haralick(p.astype(int)), columns =Nomes)\n",
        "    \n",
        "    GLCM=[]\n",
        "    for ii in Nomes:\n",
        "      GLCM.append(Mahotas[ii].mean())\n",
        "      #print('cheguei aqui!!!')\n",
        "    glcm_haralick.append(GLCM)\n",
        "\n",
        "df=pd.DataFrame(glcm_haralick,columns=Nomes)\n",
        "print(df)\n",
        "#print(Cada_foto)"
      ],
      "execution_count": 11,
      "outputs": [
        {
          "output_type": "stream",
          "text": [
            "[[132. 121.]\n",
            " [114. 125.]]\n",
            "[[121. 100.]\n",
            " [125. 118.]]\n",
            "[[100. 110.]\n",
            " [118. 115.]]\n",
            "[[110. 112.]\n",
            " [115. 113.]]\n",
            "[[112. 113.]\n",
            " [113. 124.]]\n",
            "[[113. 110.]\n",
            " [124. 125.]]\n",
            "[[110. 120.]\n",
            " [125. 111.]]\n",
            "[[120. 115.]\n",
            " [111. 120.]]\n",
            "[[115. 118.]\n",
            " [120. 111.]]\n",
            "     ASM  constrast    correl  ...  dif entropy      IMC1      IMC2\n",
            "0  0.375      97.25 -0.855882  ...         0.25 -1.000000  0.960337\n",
            "1  0.375     262.25 -0.566940  ...         0.50 -1.000000  0.960337\n",
            "2  0.375     129.50 -0.613119  ...         0.50 -1.000000  0.960337\n",
            "3  0.375       8.75 -0.653846  ...         0.25 -1.000000  0.960337\n",
            "4  0.500      66.50 -0.128866  ...         0.50 -0.583333  0.697405\n",
            "5  0.375     129.50 -0.511494  ...         0.50 -1.000000  0.960337\n",
            "6  0.375      81.75 -0.958599  ...         0.50 -1.000000  0.960337\n",
            "7  0.500      30.50 -0.429825  ...         0.50 -0.583333  0.697405\n",
            "8  0.375      25.50 -0.891304  ...         0.50 -1.000000  0.960337\n",
            "\n",
            "[9 rows x 13 columns]\n"
          ],
          "name": "stdout"
        }
      ]
    },
    {
      "cell_type": "code",
      "metadata": {
        "id": "N7-BsLNVNjpR",
        "colab_type": "code",
        "colab": {
          "base_uri": "https://localhost:8080/",
          "height": 200
        },
        "outputId": "21b0fc59-55c5-421f-cc4c-df18d82416fd"
      },
      "source": [
        "print(pd.DataFrame(Cada_foto))"
      ],
      "execution_count": 12,
      "outputs": [
        {
          "output_type": "stream",
          "text": [
            "       0      1      2      3\n",
            "0  132.0  121.0  114.0  125.0\n",
            "1  121.0  100.0  125.0  118.0\n",
            "2  100.0  110.0  118.0  115.0\n",
            "3  110.0  112.0  115.0  113.0\n",
            "4  112.0  113.0  113.0  124.0\n",
            "5  113.0  110.0  124.0  125.0\n",
            "6  110.0  120.0  125.0  111.0\n",
            "7  120.0  115.0  111.0  120.0\n",
            "8  115.0  118.0  120.0  111.0\n"
          ],
          "name": "stdout"
        }
      ]
    },
    {
      "cell_type": "code",
      "metadata": {
        "id": "n8FiHBTyGpFl",
        "colab_type": "code",
        "colab": {
          "base_uri": "https://localhost:8080/",
          "height": 35
        },
        "outputId": "02497136-ad92-4af7-bc63-e2c859590d09"
      },
      "source": [
        "print(np.array(Cada_foto).shape)"
      ],
      "execution_count": 13,
      "outputs": [
        {
          "output_type": "stream",
          "text": [
            "(9, 4)\n"
          ],
          "name": "stdout"
        }
      ]
    },
    {
      "cell_type": "code",
      "metadata": {
        "id": "HIryR8Z382D2",
        "colab_type": "code",
        "outputId": "0f2be32b-a84b-49fa-b792-4360938ead0a",
        "colab": {
          "base_uri": "https://localhost:8080/",
          "height": 163
        }
      },
      "source": [
        "print(np.array(GLCM).shape)\n",
        "print(Mahotas)"
      ],
      "execution_count": 14,
      "outputs": [
        {
          "output_type": "stream",
          "text": [
            "(13,)\n",
            "    ASM  constrast    correl  variance  ...   dif var  dif entropy  IMC1      IMC2\n",
            "0  0.25       45.0 -0.956522      11.5  ...  0.004064          1.0  -1.0  0.990800\n",
            "1  0.50       16.0 -1.000000       4.0  ...  0.008196         -0.0  -1.0  0.929873\n",
            "2  0.25       37.0 -0.608696      11.5  ...  0.004064          1.0  -1.0  0.990800\n",
            "3  0.50        4.0 -1.000000       1.0  ...  0.008196         -0.0  -1.0  0.929873\n",
            "\n",
            "[4 rows x 13 columns]\n"
          ],
          "name": "stdout"
        }
      ]
    },
    {
      "cell_type": "code",
      "metadata": {
        "id": "grfBh5qU1oFl",
        "colab_type": "code",
        "colab": {
          "base_uri": "https://localhost:8080/",
          "height": 200
        },
        "outputId": "d2f0dabf-ba42-443f-9436-5c5ee7555f3e"
      },
      "source": [
        "print(pd.DataFrame(Cada_foto))"
      ],
      "execution_count": 15,
      "outputs": [
        {
          "output_type": "stream",
          "text": [
            "       0      1      2      3\n",
            "0  132.0  121.0  114.0  125.0\n",
            "1  121.0  100.0  125.0  118.0\n",
            "2  100.0  110.0  118.0  115.0\n",
            "3  110.0  112.0  115.0  113.0\n",
            "4  112.0  113.0  113.0  124.0\n",
            "5  113.0  110.0  124.0  125.0\n",
            "6  110.0  120.0  125.0  111.0\n",
            "7  120.0  115.0  111.0  120.0\n",
            "8  115.0  118.0  120.0  111.0\n"
          ],
          "name": "stdout"
        }
      ]
    },
    {
      "cell_type": "code",
      "metadata": {
        "id": "P3315Q6Dxa6u",
        "colab_type": "code",
        "outputId": "eacef69b-6170-4077-b1fa-71944c13a75c",
        "colab": {
          "base_uri": "https://localhost:8080/",
          "height": 283
        }
      },
      "source": [
        "plt.plot(x_ref,df['entropy'])"
      ],
      "execution_count": 16,
      "outputs": [
        {
          "output_type": "execute_result",
          "data": {
            "text/plain": [
              "[<matplotlib.lines.Line2D at 0x7efd9c5da400>]"
            ]
          },
          "metadata": {
            "tags": []
          },
          "execution_count": 16
        },
        {
          "output_type": "display_data",
          "data": {
            "image/png": "[encoded data removed]",
            "text/plain": [
              "<Figure size 432x288 with 1 Axes>"
            ]
          },
          "metadata": {
            "tags": []
          }
        }
      ]
    },
    {
      "cell_type": "code",
      "metadata": {
        "id": "pWoXCW9EDk9u",
        "colab_type": "code",
        "outputId": "d03f1371-1754-4095-dbf6-a418466dd6bb",
        "colab": {
          "base_uri": "https://localhost:8080/",
          "height": 283
        }
      },
      "source": [
        "plt.plot(x_ref,df['ASM'])"
      ],
      "execution_count": 17,
      "outputs": [
        {
          "output_type": "execute_result",
          "data": {
            "text/plain": [
              "[<matplotlib.lines.Line2D at 0x7efd9a555cc0>]"
            ]
          },
          "metadata": {
            "tags": []
          },
          "execution_count": 17
        },
        {
          "output_type": "display_data",
          "data": {
            "image/png": "[encoded data removed]",
            "text/plain": [
              "<Figure size 432x288 with 1 Axes>"
            ]
          },
          "metadata": {
            "tags": []
          }
        }
      ]
    },
    {
      "cell_type": "code",
      "metadata": {
        "id": "8R9jsmgsDtFV",
        "colab_type": "code",
        "outputId": "0e211dd9-a74c-44d1-d678-820e16b26d0c",
        "colab": {
          "base_uri": "https://localhost:8080/",
          "height": 283
        }
      },
      "source": [
        "plt.plot(x_ref,df['constrast'])   "
      ],
      "execution_count": 18,
      "outputs": [
        {
          "output_type": "execute_result",
          "data": {
            "text/plain": [
              "[<matplotlib.lines.Line2D at 0x7efd9a4c9898>]"
            ]
          },
          "metadata": {
            "tags": []
          },
          "execution_count": 18
        },
        {
          "output_type": "display_data",
          "data": {
            "image/png": "[encoded data removed]",
            "text/plain": [
              "<Figure size 432x288 with 1 Axes>"
            ]
          },
          "metadata": {
            "tags": []
          }
        }
      ]
    },
    {
      "cell_type": "code",
      "metadata": {
        "id": "LBSSw1CSG-Jg",
        "colab_type": "code",
        "colab": {
          "base_uri": "https://localhost:8080/",
          "height": 35
        },
        "outputId": "6958c1ce-2b83-4ef1-fbf3-282b0ec135d0"
      },
      "source": [
        "Cada_foto[0]"
      ],
      "execution_count": 19,
      "outputs": [
        {
          "output_type": "execute_result",
          "data": {
            "text/plain": [
              "array([132., 121., 114., 125.])"
            ]
          },
          "metadata": {
            "tags": []
          },
          "execution_count": 19
        }
      ]
    },
    {
      "cell_type": "code",
      "metadata": {
        "id": "08P37aJwHPWR",
        "colab_type": "code",
        "colab": {
          "base_uri": "https://localhost:8080/",
          "height": 287
        },
        "outputId": "11acfacf-ac49-4957-e181-f8f67cd99d08"
      },
      "source": [
        "n=5\n",
        "plt.imshow(Cada_foto[n].reshape(Sub_Size,Sub_Size), cmap = \"gray\")\n",
        "print(np.array(df['constrast'])[n])  \n"
      ],
      "execution_count": 20,
      "outputs": [
        {
          "output_type": "stream",
          "text": [
            "129.5\n"
          ],
          "name": "stdout"
        },
        {
          "output_type": "display_data",
          "data": {
            "image/png": "[encoded data removed]",
            "text/plain": [
              "<Figure size 432x288 with 1 Axes>"
            ]
          },
          "metadata": {
            "tags": []
          }
        }
      ]
    },
    {
      "cell_type": "code",
      "metadata": {
        "id": "7IedQggqLtWl",
        "colab_type": "code",
        "colab": {
          "base_uri": "https://localhost:8080/",
          "height": 287
        },
        "outputId": "c8928b1d-0b30-4eea-9b64-705e5e1bd763"
      },
      "source": [
        "n=2\n",
        "plt.imshow(Cada_foto[n].reshape(Sub_Size,Sub_Size), cmap = \"gray\")\n",
        "print(np.array(df['constrast'])[n])"
      ],
      "execution_count": 21,
      "outputs": [
        {
          "output_type": "stream",
          "text": [
            "129.5\n"
          ],
          "name": "stdout"
        },
        {
          "output_type": "display_data",
          "data": {
            "image/png": "[encoded data removed]",
            "text/plain": [
              "<Figure size 432x288 with 1 Axes>"
            ]
          },
          "metadata": {
            "tags": []
          }
        }
      ]
    },
    {
      "cell_type": "code",
      "metadata": {
        "id": "tAyH6y96Kg42",
        "colab_type": "code",
        "colab": {
          "base_uri": "https://localhost:8080/",
          "height": 35
        },
        "outputId": "52711721-f156-4982-ba35-e3e01e7a7360"
      },
      "source": [
        "np.array(Cada_foto).shape"
      ],
      "execution_count": 22,
      "outputs": [
        {
          "output_type": "execute_result",
          "data": {
            "text/plain": [
              "(9, 4)"
            ]
          },
          "metadata": {
            "tags": []
          },
          "execution_count": 22
        }
      ]
    },
    {
      "cell_type": "code",
      "metadata": {
        "id": "kv5lGMR4IaK5",
        "colab_type": "code",
        "colab": {}
      },
      "source": [
        "plt.imshow(Cada_foto[50].reshape(Sub_Size,Sub_Size), cmap = \"gray\")\n",
        "print(np.array(df['constrast'])[50])  "
      ],
      "execution_count": 0,
      "outputs": []
    },
    {
      "cell_type": "code",
      "metadata": {
        "id": "XAI5QR_yF2_f",
        "colab_type": "code",
        "colab": {}
      },
      "source": [
        "\n",
        "for i in range(1, 14):\n",
        "    plt.subplot(5, 3, i)\n",
        "    plt.plot(x_ref,df[Nomes[i-1]])\n",
        "    plt.subplots_adjust(hspace = 1.8)\n",
        "    #fig.tight_layout() \n",
        "    plt.title(Nomes[i-1])\n",
        "    #plt.ylabel(Nomes[i-1])\n",
        "\n",
        "\n",
        "\n",
        "    #plt.text(0.5, 0.5,Nomes[i-1]),fontsize=18, ha='center')"
      ],
      "execution_count": 0,
      "outputs": []
    }
  ]
}