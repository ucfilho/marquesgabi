{
  "nbformat": 4,
  "nbformat_minor": 0,
  "metadata": {
    "colab": {
      "name": "K_Nearest_Neighbors_fotos_02_dez_17_2019.ipynb",
      "provenance": [],
      "include_colab_link": true
    },
    "kernelspec": {
      "name": "python3",
      "display_name": "Python 3"
    }
  },
  "cells": [
    {
      "cell_type": "markdown",
      "metadata": {
        "id": "view-in-github",
        "colab_type": "text"
      },
      "source": [
        "<a href=\"https://colab.research.google.com/github/ucfilho/marquesgabi/blob/master/K_Nearest_Neighbors_fotos_02_dez_17_2019.ipynb\" target=\"_parent\"><img src=\"https://colab.research.google.com/assets/colab-badge.svg\" alt=\"Open In Colab\"/></a>"
      ]
    },
    {
      "cell_type": "code",
      "metadata": {
        "id": "uPzMNtMQeqs-",
        "colab_type": "code",
        "colab": {}
      },
      "source": [
        "from sklearn.model_selection import train_test_split\n",
        "import numpy as np\n",
        "import cv2\n",
        "import pandas as pd"
      ],
      "execution_count": 0,
      "outputs": []
    },
    {
      "cell_type": "code",
      "metadata": {
        "id": "o4y_z_-ge57N",
        "colab_type": "code",
        "colab": {
          "base_uri": "https://localhost:8080/",
          "height": 223
        },
        "outputId": "fbc2cb68-a178-4df2-d05e-a60183c32548"
      },
      "source": [
        "!wget http://ftp.feq.ufu.br/ubirajara/Fotos_Treina_ANN_dez_2019.csv\n",
        "Transfere='Fotos_Treina_ANN_dez_2019.csv'"
      ],
      "execution_count": 2,
      "outputs": [
        {
          "output_type": "stream",
          "text": [
            "--2019-12-17 21:14:36--  http://ftp.feq.ufu.br/ubirajara/Fotos_Treina_ANN_dez_2019.csv\n",
            "Resolving ftp.feq.ufu.br (ftp.feq.ufu.br)... 200.19.144.11\n",
            "Connecting to ftp.feq.ufu.br (ftp.feq.ufu.br)|200.19.144.11|:80... connected.\n",
            "HTTP request sent, awaiting response... 200 OK\n",
            "Length: 21508 (21K) [text/csv]\n",
            "Saving to: ‘Fotos_Treina_ANN_dez_2019.csv.1’\n",
            "\n",
            "Fotos_Treina_ANN_de 100%[===================>]  21.00K  36.9KB/s    in 0.6s    \n",
            "\n",
            "2019-12-17 21:14:37 (36.9 KB/s) - ‘Fotos_Treina_ANN_dez_2019.csv.1’ saved [21508/21508]\n",
            "\n"
          ],
          "name": "stdout"
        }
      ]
    },
    {
      "cell_type": "code",
      "metadata": {
        "id": "es7O1fUjfK2o",
        "colab_type": "code",
        "colab": {}
      },
      "source": [
        "df= pd.read_csv(Transfere) "
      ],
      "execution_count": 0,
      "outputs": []
    },
    {
      "cell_type": "code",
      "metadata": {
        "id": "cytkRXeDgL7P",
        "colab_type": "code",
        "colab": {}
      },
      "source": [
        "df['Type'] = df['Type'].map({'buraco':1, 'grao':2, 'indef':3}) "
      ],
      "execution_count": 0,
      "outputs": []
    },
    {
      "cell_type": "code",
      "metadata": {
        "id": "PSb0j5MFfT85",
        "colab_type": "code",
        "colab": {
          "base_uri": "https://localhost:8080/",
          "height": 1000
        },
        "outputId": "d2310b37-817d-4f69-99d1-f43c73821875"
      },
      "source": [
        "#print(df.iloc[1:60,:])"
      ],
      "execution_count": 15,
      "outputs": [
        {
          "output_type": "stream",
          "text": [
            "    Unnamed: 0  Type  no.peaks  ...      Mode       Mean         Sd\n",
            "1            1     1       2.0  ...  1.186329   8.392858  10.178723\n",
            "2            2     1       2.0  ...  1.019165  10.898776  14.800251\n",
            "3            3     1       4.0  ...  6.722350  77.750603  45.762334\n",
            "4            4     1       6.0  ...  1.336058   8.154355   8.389805\n",
            "5            5     1       5.0  ...  0.748262   4.557677   4.166828\n",
            "6            6     1       3.0  ...  1.759735  12.462184  10.862058\n",
            "7            7     1      11.0  ...  1.079323  22.951218  48.109382\n",
            "8            8     1       4.0  ...  1.061107   6.175914   8.337779\n",
            "9            9     1       5.0  ...  3.134430  17.970815  11.050987\n",
            "10          10     1       2.0  ...  1.531406   9.364093   9.195058\n",
            "11          11     1       1.0  ...  0.492415  19.500417  25.397655\n",
            "12          12     1      11.0  ...  0.533329   1.578948   1.351007\n",
            "13          13     1       5.0  ...  0.792447  14.519483  16.895006\n",
            "14          14     1       3.0  ...  0.466178   6.960316   8.655474\n",
            "15          15     1       2.0  ...  0.884389   5.035413   3.719916\n",
            "16          16     1       4.0  ...  1.001890  10.399316  12.507120\n",
            "17          17     1       8.0  ...  2.548303  15.742633  12.744946\n",
            "18          18     1      10.0  ...  0.659599   2.988971   4.378616\n",
            "19          19     1       4.0  ...  1.068992   7.394904   5.282085\n",
            "20          20     1       5.0  ...  1.013301   8.715301   9.246480\n",
            "21          21     1       7.0  ...  0.556936   2.384122   1.535385\n",
            "22          22     1       8.0  ...  0.543208   1.344422   0.888294\n",
            "23          23     1       8.0  ...  1.613153   7.694028   8.761517\n",
            "24          24     1       9.0  ...  1.041897  12.705391  16.407517\n",
            "25          25     1       5.0  ...  0.622880   4.357673   6.440282\n",
            "26          26     1       4.0  ...  0.946828  15.225177  19.656774\n",
            "27          27     1       3.0  ...  1.259459  17.151566  30.503731\n",
            "28          28     1       7.0  ...  0.862048   2.751633   2.077484\n",
            "29          29     1       3.0  ...  0.512447   9.254556  12.777966\n",
            "30          30     1       7.0  ...  0.905054  16.218999  19.154931\n",
            "31          31     1       5.0  ...  1.559788   8.460025  10.315857\n",
            "32          32     1      10.0  ...  2.150818   8.486456  14.687298\n",
            "33          33     1       5.0  ...  0.838655   3.799588   4.160934\n",
            "34          34     1       6.0  ...  0.916593  17.200928  23.293362\n",
            "35          35     1       5.0  ...  5.044786  29.181403  21.480069\n",
            "36          36     1       6.0  ...  1.130132  12.131023  19.787429\n",
            "37          37     1      10.0  ...  4.074059  24.613801  38.348152\n",
            "38          38     1       6.0  ...  0.634558  12.505479  14.891896\n",
            "39          39     1       2.0  ...  0.725205   4.241255   3.857838\n",
            "40           0     2       9.0  ...  0.492801   3.428561   3.954993\n",
            "41           1     2       5.0  ...  0.762829   6.175834   3.765709\n",
            "42           2     2       6.0  ...  0.887800   3.476754   3.028102\n",
            "43           3     2       5.0  ...  0.656805   4.287639   2.874732\n",
            "44           4     2       3.0  ...  2.185055   6.767893   6.089387\n",
            "45           5     2       8.0  ...  0.422222   1.795585   1.169058\n",
            "46           6     2       3.0  ...  0.710955   4.668445   4.936378\n",
            "47           7     2       6.0  ...  1.808970   9.188403  10.882562\n",
            "48           8     2       3.0  ...  0.583826   3.340808   1.898353\n",
            "49           9     2       3.0  ...  0.642961   5.017915   6.220446\n",
            "50          10     2       4.0  ...  0.574462   2.717181   2.625300\n",
            "51          11     2       5.0  ...  1.605383   3.566899   1.900541\n",
            "52          12     2      10.0  ...  0.744962   1.323497   0.502659\n",
            "53          13     2      13.0  ...  0.496043   2.357642   1.221809\n",
            "54          14     2       3.0  ...  0.967743  11.103878  12.875971\n",
            "55          15     2       6.0  ...  0.596224   5.975165   7.396431\n",
            "56          16     2       6.0  ...  0.594605   8.033739   5.120889\n",
            "57          17     2       2.0  ...  1.150448  16.281962  12.689364\n",
            "58          18     2       6.0  ...  0.716363   1.420028   1.141691\n",
            "59          19     2       4.0  ...  0.748570  11.531817  10.332178\n",
            "\n",
            "[59 rows x 12 columns]\n"
          ],
          "name": "stdout"
        }
      ]
    },
    {
      "cell_type": "code",
      "metadata": {
        "id": "HypRp5CXey5q",
        "colab_type": "code",
        "colab": {}
      },
      "source": [
        "#X_train, X_test, y_train, y_test = train_test_split(X, y, test_size=0.20)"
      ],
      "execution_count": 0,
      "outputs": []
    },
    {
      "cell_type": "code",
      "metadata": {
        "id": "E6JAswuWhgSz",
        "colab_type": "code",
        "colab": {
          "base_uri": "https://localhost:8080/",
          "height": 36
        },
        "outputId": "ae220361-e350-461e-fa80-d82ba87f8270"
      },
      "source": [
        "df.shape"
      ],
      "execution_count": 16,
      "outputs": [
        {
          "output_type": "execute_result",
          "data": {
            "text/plain": [
              "(120, 12)"
            ]
          },
          "metadata": {
            "tags": []
          },
          "execution_count": 16
        }
      ]
    },
    {
      "cell_type": "code",
      "metadata": {
        "id": "1gVOPf_LhXhb",
        "colab_type": "code",
        "colab": {}
      },
      "source": [
        "X=df.iloc[:,2:12]\n",
        "y=df.iloc[:,1]"
      ],
      "execution_count": 0,
      "outputs": []
    },
    {
      "cell_type": "code",
      "metadata": {
        "id": "nD0-e8KNh2gO",
        "colab_type": "code",
        "colab": {
          "base_uri": "https://localhost:8080/",
          "height": 241
        },
        "outputId": "506889b6-3020-4480-bc67-b2d039b0892e"
      },
      "source": [
        "print(y)"
      ],
      "execution_count": 24,
      "outputs": [
        {
          "output_type": "stream",
          "text": [
            "0      1\n",
            "1      1\n",
            "2      1\n",
            "3      1\n",
            "4      1\n",
            "      ..\n",
            "115    3\n",
            "116    3\n",
            "117    3\n",
            "118    3\n",
            "119    3\n",
            "Name: Type, Length: 120, dtype: int64\n"
          ],
          "name": "stdout"
        }
      ]
    },
    {
      "cell_type": "code",
      "metadata": {
        "id": "wlfK6o4Nh7Yd",
        "colab_type": "code",
        "colab": {
          "base_uri": "https://localhost:8080/",
          "height": 36
        },
        "outputId": "33cb9a0c-b708-4aa7-dac4-e3ef7d5327cc"
      },
      "source": [
        "X.shape"
      ],
      "execution_count": 25,
      "outputs": [
        {
          "output_type": "execute_result",
          "data": {
            "text/plain": [
              "(120, 10)"
            ]
          },
          "metadata": {
            "tags": []
          },
          "execution_count": 25
        }
      ]
    }
  ]
}