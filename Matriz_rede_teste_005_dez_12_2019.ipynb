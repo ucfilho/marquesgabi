{
  "nbformat": 4,
  "nbformat_minor": 0,
  "metadata": {
    "colab": {
      "name": "Matriz_rede_teste_005_dez_12_2019.ipynb",
      "provenance": [],
      "collapsed_sections": [],
      "include_colab_link": true
    },
    "kernelspec": {
      "name": "python3",
      "display_name": "Python 3"
    },
    "accelerator": "GPU"
  },
  "cells": [
    {
      "cell_type": "markdown",
      "metadata": {
        "id": "view-in-github",
        "colab_type": "text"
      },
      "source": [
        "<a href=\"https://colab.research.google.com/github/ucfilho/marquesgabi/blob/master/Matriz_rede_teste_005_dez_12_2019.ipynb\" target=\"_parent\"><img src=\"https://colab.research.google.com/assets/colab-badge.svg\" alt=\"Open In Colab\"/></a>"
      ]
    },
    {
      "cell_type": "code",
      "metadata": {
        "id": "SzWdrvAgvBId",
        "colab_type": "code",
        "colab": {}
      },
      "source": [
        "import numpy as np\n",
        "import cv2\n",
        "from skimage import data\n",
        "import matplotlib.pyplot as plt\n",
        "import matplotlib\n",
        "import pandas as pd\n",
        "from skimage import io, util\n",
        "import os \n",
        "import zipfile\n",
        "from skimage import filters\n",
        "from skimage import exposure\n",
        "import skimage.feature as sk\n",
        "from google.colab import files\n",
        "from scipy import stats\n",
        "from scipy.signal import find_peaks\n",
        "from scipy.signal import peak_prominences\n",
        "from scipy.signal import peak_widths\n",
        "from scipy.integrate import simps\n",
        "%matplotlib inline"
      ],
      "execution_count": 0,
      "outputs": []
    },
    {
      "cell_type": "code",
      "metadata": {
        "id": "h1Zsufcm9bfv",
        "colab_type": "code",
        "outputId": "a4e52a31-153a-4bfa-e6fa-020b14a3386a",
        "colab": {
          "base_uri": "https://localhost:8080/",
          "height": 223
        }
      },
      "source": [
        "!wget http://ftp.feq.ufu.br/ubirajara/Contraste_dez_10_2019.zip\n",
        "Transfere='Contraste_dez_10_2019.zip'"
      ],
      "execution_count": 2,
      "outputs": [
        {
          "output_type": "stream",
          "text": [
            "--2019-12-12 14:20:20--  http://ftp.feq.ufu.br/ubirajara/Contraste_dez_10_2019.zip\n",
            "Resolving ftp.feq.ufu.br (ftp.feq.ufu.br)... 200.19.144.11\n",
            "Connecting to ftp.feq.ufu.br (ftp.feq.ufu.br)|200.19.144.11|:80... connected.\n",
            "HTTP request sent, awaiting response... 200 OK\n",
            "Length: 128014 (125K) [application/zip]\n",
            "Saving to: ‘Contraste_dez_10_2019.zip.15’\n",
            "\n",
            "Contraste_dez_10_20 100%[===================>] 125.01K  79.9KB/s    in 1.6s    \n",
            "\n",
            "2019-12-12 14:20:23 (79.9 KB/s) - ‘Contraste_dez_10_2019.zip.15’ saved [128014/128014]\n",
            "\n"
          ],
          "name": "stdout"
        }
      ]
    },
    {
      "cell_type": "code",
      "metadata": {
        "id": "n3EWa3f7A-FE",
        "colab_type": "code",
        "colab": {}
      },
      "source": [
        "file_name = zipfile.ZipFile(Transfere, 'r')\n",
        "file_name.extractall()\n",
        "FILE=Transfere\n",
        "file_name=[]\n",
        "\n",
        "with zipfile.ZipFile(FILE, \"r\") as f:\n",
        "    for name in f.namelist():\n",
        "        file_name.append(name)"
      ],
      "execution_count": 0,
      "outputs": []
    },
    {
      "cell_type": "code",
      "metadata": {
        "id": "avVL_ZAd7ZLi",
        "colab_type": "code",
        "colab": {
          "base_uri": "https://localhost:8080/",
          "height": 36
        },
        "outputId": "9ffc5c91-3d4e-4f54-dcc9-c1ee312d398f"
      },
      "source": [
        "print(file_name)"
      ],
      "execution_count": 4,
      "outputs": [
        {
          "output_type": "stream",
          "text": [
            "['Contraste_Buraco_01_dez_2019.csv', 'Contraste_Grao_01_dez_2019.csv', 'Contraste_Indef_01_dez_2019.csv']\n"
          ],
          "name": "stdout"
        }
      ]
    },
    {
      "cell_type": "code",
      "metadata": {
        "id": "qKqzlX77P5-M",
        "colab_type": "code",
        "colab": {}
      },
      "source": [
        "df = pd.read_csv(file_name[0]) # first picture\n",
        "df=np.array(df)\n",
        "df = np.delete(df, 0, axis=1) # delete first colunm"
      ],
      "execution_count": 0,
      "outputs": []
    },
    {
      "cell_type": "code",
      "metadata": {
        "id": "SMWUK-YFAnW-",
        "colab_type": "code",
        "colab": {
          "base_uri": "https://localhost:8080/",
          "height": 36
        },
        "outputId": "96828366-e2e9-4fc6-bc50-d2d2d3adc742"
      },
      "source": [
        "row,col=df.shape\n",
        "print(row)"
      ],
      "execution_count": 6,
      "outputs": [
        {
          "output_type": "stream",
          "text": [
            "40\n"
          ],
          "name": "stdout"
        }
      ]
    },
    {
      "cell_type": "code",
      "metadata": {
        "id": "nWTtaP0CBMU3",
        "colab_type": "code",
        "colab": {}
      },
      "source": [
        "Nomes=['no.peaks','Media_proem','area under','Width_peaks','Width_peaks_max',\n",
        "       'Width_peaks_min','Median','Mode','Mean','Sd' ]"
      ],
      "execution_count": 0,
      "outputs": []
    },
    {
      "cell_type": "code",
      "metadata": {
        "id": "LuyJQcmS9xc0",
        "colab_type": "code",
        "colab": {}
      },
      "source": [
        "Num=row  # linha do numero de fotos\n",
        "col=len(Nomes) # coluna do dataframe\n",
        "# x=[]\n",
        "matriz_x=np.zeros((row,col))\n",
        "for i in range(Num):\n",
        "  x=df[i,:]\n",
        "  peaks, rr = find_peaks(x, height=0)\n",
        "\n",
        "  N_peaks=len(peaks)\n",
        "  prominences = peak_prominences(x, peaks)\n",
        "  Media_proem=np.mean(prominences)\n",
        "  Area = simps(x, dx=1)\n",
        "  Width_peaks =np.mean(peak_widths(x, peaks, rel_height=0.5))\n",
        "  Width_peaks_max =np.max(peak_widths(x, peaks, rel_height=0.5))\n",
        "  Width_peaks_min =np.min(peak_widths(x, peaks, rel_height=0.5))\n",
        "  Median = np.median(x)\n",
        "  Mode= stats.mode(x)[0]\n",
        "  Mean=np.mean(x)\n",
        "  Sd=np.std(x)\n",
        "\n",
        "  Features=[]\n",
        "  Features.append(N_peaks)\n",
        "  Features.append(Media_proem )\n",
        "  Features.append(Area)\n",
        "  Features.append(Width_peaks )\n",
        "  Features.append(Width_peaks_max)\n",
        "  Features.append(Width_peaks_min)\n",
        "  Features.append(Median )\n",
        "  Features.append(Mode[0])\n",
        "  Features.append(Mean)\n",
        "  Features.append(Sd)\n",
        "  Features=pd.DataFrame(Features,index=Nomes)\n",
        "  #print(Features)\n",
        "  #x.append(Features.ravel())\n",
        "  #x.append(np.array(Features)[:,0])\n",
        "  j=0\n",
        "  for k in Nomes:\n",
        "    #print(Features.loc[k,0])\n",
        "    #print(i)\n",
        "    #print(j)\n",
        "    matriz_x[i,j]=Features.loc[k,0]\n",
        "    j=j+1\n",
        "    #print(j)\n"
      ],
      "execution_count": 0,
      "outputs": []
    },
    {
      "cell_type": "code",
      "metadata": {
        "id": "5MooYYWXNQH4",
        "colab_type": "code",
        "colab": {
          "base_uri": "https://localhost:8080/",
          "height": 1000
        },
        "outputId": "b19bc868-b45c-4581-e5e1-8581a54e4647"
      },
      "source": [
        "print(matriz_x)"
      ],
      "execution_count": 9,
      "outputs": [
        {
          "output_type": "stream",
          "text": [
            "[[9.00000000e+00 5.92255133e+01 5.45763345e+02 4.51127963e+01\n",
            "  1.59073313e+02 5.00041091e-01 1.36774326e+00 4.92800789e-01\n",
            "  3.42856145e+00 3.95499289e+00]\n",
            " [5.00000000e+00 5.12114864e+01 9.90885570e+02 4.59916720e+01\n",
            "  1.54712230e+02 5.09766556e-01 6.46894313e+00 7.62828731e-01\n",
            "  6.17583382e+00 3.76570853e+00]\n",
            " [6.00000000e+00 2.25571131e+01 5.53116669e+02 2.89121664e+01\n",
            "  8.27925347e+01 5.00515730e-01 1.87934336e+00 8.87799967e-01\n",
            "  3.47675445e+00 3.02810187e+00]\n",
            " [5.00000000e+00 6.46237152e+01 6.79735834e+02 5.60797750e+01\n",
            "  1.58759530e+02 7.05004931e-01 4.16240960e+00 6.56804734e-01\n",
            "  4.28763902e+00 2.87473166e+00]\n",
            " [3.00000000e+00 4.90818020e+01 1.07398729e+03 3.92632197e+01\n",
            "  1.17055393e+02 9.12157228e-01 3.35102318e+00 2.18505506e+00\n",
            "  6.76789298e+00 6.08938665e+00]\n",
            " [8.00000000e+00 6.05621437e+01 2.86617691e+02 5.25313376e+01\n",
            "  1.46458841e+02 5.55510337e-01 1.44709895e+00 4.22222222e-01\n",
            "  1.79558456e+00 1.16905760e+00]\n",
            " [3.00000000e+00 6.19027641e+01 7.38006794e+02 4.63344381e+01\n",
            "  1.58683724e+02 5.13264554e-01 4.14276792e+00 7.10954964e-01\n",
            "  4.66844536e+00 4.93637793e+00]\n",
            " [6.00000000e+00 4.14128365e+01 1.46549390e+03 4.51602262e+01\n",
            "  1.58120619e+02 5.09646302e-01 3.14972469e+00 1.80897025e+00\n",
            "  9.18840302e+00 1.08825616e+01]\n",
            " [3.00000000e+00 5.23156129e+01 5.33071433e+02 4.05971710e+01\n",
            "  1.20332586e+02 7.94211762e-01 3.29013807e+00 5.83826430e-01\n",
            "  3.34080842e+00 1.89835273e+00]\n",
            " [3.00000000e+00 6.30069677e+01 7.84902961e+02 5.11929269e+01\n",
            "  1.06500000e+02 1.12380952e+00 1.40998521e+00 6.42961045e-01\n",
            "  5.01791510e+00 6.22044594e+00]\n",
            " [4.00000000e+00 5.10364727e+01 4.30408294e+02 4.20857221e+01\n",
            "  1.16153934e+02 6.53933865e-01 1.09057774e+00 5.74461703e-01\n",
            "  2.71718069e+00 2.62529981e+00]\n",
            " [5.00000000e+00 4.46547126e+01 5.69084322e+02 3.70976712e+01\n",
            "  1.44050422e+02 5.79717457e-01 2.60221072e+00 1.60538297e+00\n",
            "  3.56689897e+00 1.90054128e+00]\n",
            " [1.00000000e+01 6.00269655e+01 2.10980120e+02 4.53140979e+01\n",
            "  1.53788075e+02 5.21578947e-01 1.18223208e+00 7.44962196e-01\n",
            "  1.32349728e+00 5.02659098e-01]\n",
            " [1.30000000e+01 5.06592216e+01 3.77236944e+02 4.16943189e+01\n",
            "  1.58845472e+02 5.16311226e-01 2.89537722e+00 4.96042899e-01\n",
            "  2.35764185e+00 1.22180946e+00]\n",
            " [3.00000000e+00 4.82176615e+01 1.76005795e+03 5.17121397e+01\n",
            "  1.52851151e+02 1.59127231e+00 7.46746384e+00 9.67743261e-01\n",
            "  1.11038778e+01 1.28759715e+01]\n",
            " [6.00000000e+00 7.45797047e+01 9.60963733e+02 5.76074242e+01\n",
            "  1.43500000e+02 5.79591018e-01 1.18893820e+00 5.96223702e-01\n",
            "  5.97516508e+00 7.39643133e+00]\n",
            " [6.00000000e+00 6.08868692e+01 1.29237516e+03 4.67511010e+01\n",
            "  1.36629184e+02 6.54460470e-01 8.61453402e+00 5.94604701e-01\n",
            "  8.03373917e+00 5.12088913e+00]\n",
            " [2.00000000e+00 7.13497897e+01 2.61058188e+03 4.80018593e+01\n",
            "  1.31557358e+02 9.50693642e+00 1.28492439e+01 1.15044790e+00\n",
            "  1.62819622e+01 1.26893640e+01]\n",
            " [6.00000000e+00 6.04039158e+01 2.25256135e+02 5.60978741e+01\n",
            "  1.58452722e+02 5.01257862e-01 1.00956607e+00 7.16362590e-01\n",
            "  1.42002804e+00 1.14169085e+00]\n",
            " [4.00000000e+00 8.10242083e+01 1.84827128e+03 6.10365483e+01\n",
            "  1.58087991e+02 5.37374372e-01 8.88525641e+00 7.48570020e-01\n",
            "  1.15318168e+01 1.03321784e+01]\n",
            " [1.20000000e+01 4.71482995e+01 1.72802961e+02 3.43893423e+01\n",
            "  1.29263411e+02 5.84388186e-01 7.60745398e-01 6.11271368e-01\n",
            "  1.09408001e+00 8.48285349e-01]\n",
            " [1.00000000e+00 6.07109522e+01 8.89446032e+02 5.15771289e+01\n",
            "  1.01957148e+02 2.39421844e+00 2.33548652e+00 2.75324622e-01\n",
            "  5.63081890e+00 9.06497012e+00]\n",
            " [5.00000000e+00 7.06396576e+01 1.76732273e+03 5.40647165e+01\n",
            "  1.58915413e+02 6.96761800e-01 6.91217949e+00 6.95471729e-01\n",
            "  1.10477504e+01 1.17387627e+01]\n",
            " [2.00000000e+00 6.04950855e+01 8.70174916e+02 6.75466309e+01\n",
            "  1.58557406e+02 3.58264711e+00 4.87159763e+00 6.18293886e-01\n",
            "  5.48229352e+00 4.01212724e+00]\n",
            " [9.00000000e+00 4.51508456e+01 2.27711808e+02 3.72259640e+01\n",
            "  1.36500000e+02 3.62565746e-01 8.72012656e-01 3.62064431e-01\n",
            "  1.43572467e+00 1.15946898e+00]\n",
            " [8.00000000e+00 6.24746571e+01 3.61039400e+02 4.52021243e+01\n",
            "  1.56925601e+02 5.05980851e-01 1.49928912e+00 4.93240467e-01\n",
            "  2.26935004e+00 2.04029461e+00]\n",
            " [3.00000000e+00 3.51910804e+01 4.47062104e+02 3.29461076e+01\n",
            "  7.60118315e+01 6.44661777e-01 1.87235371e+00 8.23676857e-01\n",
            "  2.82820408e+00 2.36431320e+00]\n",
            " [8.00000000e+00 2.08831316e+01 3.91707976e+02 1.59741932e+01\n",
            "  1.03547618e+02 6.16200402e-01 1.62388642e+00 9.78492768e-01\n",
            "  2.46807112e+00 2.05293838e+00]\n",
            " [3.00000000e+00 6.15873635e+01 3.73144491e+02 4.61633471e+01\n",
            "  1.34112673e+02 1.44138108e+00 1.59185569e+00 9.14649080e-01\n",
            "  2.32751974e+00 1.72944294e+00]\n",
            " [4.00000000e+00 4.51130256e+01 1.38643287e+02 4.55009679e+01\n",
            "  1.53679004e+02 3.41648176e-01 4.67833662e-01 2.41128369e-01\n",
            "  8.65491555e-01 7.25661803e-01]\n",
            " [4.00000000e+00 5.70873449e+01 1.25675088e+03 4.64208681e+01\n",
            "  1.36901136e+02 3.96377794e-01 9.19637574e-01 3.95233399e-01\n",
            "  8.05748448e+00 1.93526110e+01]\n",
            " [7.00000000e+00 5.68504430e+01 1.11679973e+03 4.49916078e+01\n",
            "  1.50974659e+02 6.88577309e-01 6.22592456e+00 3.70961128e+00\n",
            "  6.96696240e+00 1.51936555e+00]\n",
            " [7.00000000e+00 3.59361154e+01 5.68893987e+02 3.00552263e+01\n",
            "  1.49551212e+02 3.58666174e-01 2.12647929e+00 3.35252301e-01\n",
            "  3.56016859e+00 3.65201479e+00]\n",
            " [6.00000000e+00 6.23057311e+01 2.58071389e+02 4.61901473e+01\n",
            "  1.59202290e+02 2.83707265e-01 6.78636588e-01 2.81332183e-01\n",
            "  1.62951725e+00 2.43099960e+00]\n",
            " [5.00000000e+00 7.80827827e+01 1.33087500e+03 7.10538182e+01\n",
            "  1.57341613e+02 4.52888725e-01 2.93210059e+00 4.48500164e-01\n",
            "  8.50225870e+00 1.68904428e+01]\n",
            " [5.00000000e+00 8.54344557e+01 5.74512282e+02 6.61856754e+01\n",
            "  1.57747001e+02 8.09594954e-01 1.87629438e+00 9.92307692e-01\n",
            "  3.62375299e+00 4.78740285e+00]\n",
            " [5.00000000e+00 4.96661555e+01 9.84113837e+02 3.22742160e+01\n",
            "  1.33095338e+02 2.90779747e+00 5.92580539e+00 9.93676036e-01\n",
            "  6.14309841e+00 2.07934130e+00]\n",
            " [2.00000000e+00 3.42923536e+01 5.91496677e+02 4.77487554e+01\n",
            "  1.39906676e+02 5.71299639e-01 1.57918310e+00 3.29499507e-01\n",
            "  3.69619938e+00 3.59049097e+00]\n",
            " [3.00000000e+00 7.39618165e+01 1.55996961e+03 6.15967758e+01\n",
            "  1.57069097e+02 9.66791644e-01 1.00233851e+01 1.33786160e+00\n",
            "  9.72839951e+00 6.19626722e+00]\n",
            " [1.00000000e+01 2.74901590e+01 6.71374180e+02 2.20415756e+01\n",
            "  1.37651643e+02 6.56862745e-01 1.95054241e+00 8.29150230e-01\n",
            "  4.17834379e+00 3.61225223e+00]]\n"
          ],
          "name": "stdout"
        }
      ]
    },
    {
      "cell_type": "code",
      "metadata": {
        "id": "1GN5atVKI-co",
        "colab_type": "code",
        "colab": {
          "base_uri": "https://localhost:8080/",
          "height": 204
        },
        "outputId": "e0d34342-be1e-4b09-938d-35539cd5d7e8"
      },
      "source": [
        "for k in Nomes:\n",
        "  print(k)"
      ],
      "execution_count": 10,
      "outputs": [
        {
          "output_type": "stream",
          "text": [
            "no.peaks\n",
            "Media_proem\n",
            "area under\n",
            "Width_peaks\n",
            "Width_peaks_max\n",
            "Width_peaks_min\n",
            "Median\n",
            "Mode\n",
            "Mean\n",
            "Sd\n"
          ],
          "name": "stdout"
        }
      ]
    },
    {
      "cell_type": "code",
      "metadata": {
        "id": "d6pZvbRqLEsY",
        "colab_type": "code",
        "colab": {
          "base_uri": "https://localhost:8080/",
          "height": 204
        },
        "outputId": "77e95661-d071-4764-a711-2a9a690465bf"
      },
      "source": [
        "# so os valores o dataframe com nomes nas linhas nao aceitou acessar \n",
        "# os valores sem usar o .loc\n",
        "for k in Nomes:           \n",
        "  print(Features.loc[k,0])"
      ],
      "execution_count": 11,
      "outputs": [
        {
          "output_type": "stream",
          "text": [
            "10.0\n",
            "27.49015902366864\n",
            "671.3741795419676\n",
            "22.04157556454417\n",
            "137.65164267015706\n",
            "0.6568627450980884\n",
            "1.9505424063116368\n",
            "0.8291502301117686\n",
            "4.178343792495127\n",
            "3.612252232480098\n"
          ],
          "name": "stdout"
        }
      ]
    },
    {
      "cell_type": "code",
      "metadata": {
        "id": "UjJIyQeJKaZC",
        "colab_type": "code",
        "colab": {
          "base_uri": "https://localhost:8080/",
          "height": 36
        },
        "outputId": "528c45ef-3152-4901-b167-62bb9743a94a"
      },
      "source": [
        "print(Features.loc['no.peaks',0])"
      ],
      "execution_count": 12,
      "outputs": [
        {
          "output_type": "stream",
          "text": [
            "10.0\n"
          ],
          "name": "stdout"
        }
      ]
    },
    {
      "cell_type": "code",
      "metadata": {
        "id": "iBGmjpQ4J2_J",
        "colab_type": "code",
        "colab": {}
      },
      "source": [
        "#for k in Nomes:\n",
        "#  print(Features[k])\n"
      ],
      "execution_count": 0,
      "outputs": []
    },
    {
      "cell_type": "code",
      "metadata": {
        "id": "0Nx6JW9MEzFv",
        "colab_type": "code",
        "colab": {
          "base_uri": "https://localhost:8080/",
          "height": 73
        },
        "outputId": "1cb79f7c-2fe5-47ca-fed8-f725f2ff562a"
      },
      "source": [
        "print(np.array(Features)[:,0])\n",
        "#print(np.array(Features))"
      ],
      "execution_count": 13,
      "outputs": [
        {
          "output_type": "stream",
          "text": [
            "[1.00000000e+01 2.74901590e+01 6.71374180e+02 2.20415756e+01\n",
            " 1.37651643e+02 6.56862745e-01 1.95054241e+00 8.29150230e-01\n",
            " 4.17834379e+00 3.61225223e+00]\n"
          ],
          "name": "stdout"
        }
      ]
    },
    {
      "cell_type": "code",
      "metadata": {
        "id": "SvqwCW3gCv5z",
        "colab_type": "code",
        "colab": {
          "base_uri": "https://localhost:8080/",
          "height": 820
        },
        "outputId": "f65ef601-b08d-4555-fbda-990cc712b396"
      },
      "source": [
        "df_buraco=pd.DataFrame(matriz_x,columns=Nomes)\n",
        "print(df_buraco)"
      ],
      "execution_count": 14,
      "outputs": [
        {
          "output_type": "stream",
          "text": [
            "    no.peaks  Media_proem   area under  ...      Mode       Mean         Sd\n",
            "0        9.0    59.225513   545.763345  ...  0.492801   3.428561   3.954993\n",
            "1        5.0    51.211486   990.885570  ...  0.762829   6.175834   3.765709\n",
            "2        6.0    22.557113   553.116669  ...  0.887800   3.476754   3.028102\n",
            "3        5.0    64.623715   679.735834  ...  0.656805   4.287639   2.874732\n",
            "4        3.0    49.081802  1073.987286  ...  2.185055   6.767893   6.089387\n",
            "5        8.0    60.562144   286.617691  ...  0.422222   1.795585   1.169058\n",
            "6        3.0    61.902764   738.006794  ...  0.710955   4.668445   4.936378\n",
            "7        6.0    41.412836  1465.493898  ...  1.808970   9.188403  10.882562\n",
            "8        3.0    52.315613   533.071433  ...  0.583826   3.340808   1.898353\n",
            "9        3.0    63.006968   784.902961  ...  0.642961   5.017915   6.220446\n",
            "10       4.0    51.036473   430.408294  ...  0.574462   2.717181   2.625300\n",
            "11       5.0    44.654713   569.084322  ...  1.605383   3.566899   1.900541\n",
            "12      10.0    60.026966   210.980120  ...  0.744962   1.323497   0.502659\n",
            "13      13.0    50.659222   377.236944  ...  0.496043   2.357642   1.221809\n",
            "14       3.0    48.217662  1760.057950  ...  0.967743  11.103878  12.875971\n",
            "15       6.0    74.579705   960.963733  ...  0.596224   5.975165   7.396431\n",
            "16       6.0    60.886869  1292.375162  ...  0.594605   8.033739   5.120889\n",
            "17       2.0    71.349790  2610.581881  ...  1.150448  16.281962  12.689364\n",
            "18       6.0    60.403916   225.256135  ...  0.716363   1.420028   1.141691\n",
            "19       4.0    81.024208  1848.271278  ...  0.748570  11.531817  10.332178\n",
            "20      12.0    47.148300   172.802961  ...  0.611271   1.094080   0.848285\n",
            "21       1.0    60.710952   889.446032  ...  0.275325   5.630819   9.064970\n",
            "22       5.0    70.639658  1767.322726  ...  0.695472  11.047750  11.738763\n",
            "23       2.0    60.495085   870.174916  ...  0.618294   5.482294   4.012127\n",
            "24       9.0    45.150846   227.711808  ...  0.362064   1.435725   1.159469\n",
            "25       8.0    62.474657   361.039400  ...  0.493240   2.269350   2.040295\n",
            "26       3.0    35.191080   447.062104  ...  0.823677   2.828204   2.364313\n",
            "27       8.0    20.883132   391.707976  ...  0.978493   2.468071   2.052938\n",
            "28       3.0    61.587363   373.144491  ...  0.914649   2.327520   1.729443\n",
            "29       4.0    45.113026   138.643287  ...  0.241128   0.865492   0.725662\n",
            "30       4.0    57.087345  1256.750879  ...  0.395233   8.057484  19.352611\n",
            "31       7.0    56.850443  1116.799733  ...  3.709611   6.966962   1.519366\n",
            "32       7.0    35.936115   568.893987  ...  0.335252   3.560169   3.652015\n",
            "33       6.0    62.305731   258.071389  ...  0.281332   1.629517   2.431000\n",
            "34       5.0    78.082783  1330.875003  ...  0.448500   8.502259  16.890443\n",
            "35       5.0    85.434456   574.512282  ...  0.992308   3.623753   4.787403\n",
            "36       5.0    49.666155   984.113837  ...  0.993676   6.143098   2.079341\n",
            "37       2.0    34.292354   591.496677  ...  0.329500   3.696199   3.590491\n",
            "38       3.0    73.961817  1559.969614  ...  1.337862   9.728400   6.196267\n",
            "39      10.0    27.490159   671.374180  ...  0.829150   4.178344   3.612252\n",
            "\n",
            "[40 rows x 10 columns]\n"
          ],
          "name": "stdout"
        }
      ]
    },
    {
      "cell_type": "code",
      "metadata": {
        "id": "YVBsUlEc-Azi",
        "colab_type": "code",
        "outputId": "4c8705f7-32f6-4c4d-e4f7-b7b3068c7e40",
        "colab": {
          "base_uri": "https://localhost:8080/",
          "height": 36
        }
      },
      "source": [
        "'''\n",
        "file_name = zipfile.ZipFile(Transfere, 'r')\n",
        "file_name.extractall()\n",
        "'''"
      ],
      "execution_count": 15,
      "outputs": [
        {
          "output_type": "execute_result",
          "data": {
            "text/plain": [
              "\"\\nfile_name = zipfile.ZipFile(Transfere, 'r')\\nfile_name.extractall()\\n\""
            ]
          },
          "metadata": {
            "tags": []
          },
          "execution_count": 15
        }
      ]
    },
    {
      "cell_type": "code",
      "metadata": {
        "id": "t7KEAGdCBJ0a",
        "colab_type": "code",
        "outputId": "18517f48-3f15-4825-8760-69a9b5b19684",
        "colab": {
          "base_uri": "https://localhost:8080/",
          "height": 36
        }
      },
      "source": [
        "'''\n",
        "print(file_name)\n",
        "'''"
      ],
      "execution_count": 16,
      "outputs": [
        {
          "output_type": "execute_result",
          "data": {
            "text/plain": [
              "'\\nprint(file_name)\\n'"
            ]
          },
          "metadata": {
            "tags": []
          },
          "execution_count": 16
        }
      ]
    },
    {
      "cell_type": "code",
      "metadata": {
        "id": "8R9jsmgsDtFV",
        "colab_type": "code",
        "outputId": "cb47b56d-b072-446d-867b-5b933142157a",
        "colab": {
          "base_uri": "https://localhost:8080/",
          "height": 36
        }
      },
      "source": [
        "'''\n",
        "plt.plot(x_ref,df['constrast'])   \n",
        "'''"
      ],
      "execution_count": 17,
      "outputs": [
        {
          "output_type": "execute_result",
          "data": {
            "text/plain": [
              "\"\\nplt.plot(x_ref,df['constrast'])   \\n\""
            ]
          },
          "metadata": {
            "tags": []
          },
          "execution_count": 17
        }
      ]
    },
    {
      "cell_type": "code",
      "metadata": {
        "id": "3QB5rgbiF8Pc",
        "colab_type": "code",
        "colab": {}
      },
      "source": [
        "# https://docs.scipy.org/doc/scipy/reference/generated/scipy.signal.find_peaks.html"
      ],
      "execution_count": 0,
      "outputs": []
    },
    {
      "cell_type": "code",
      "metadata": {
        "id": "U09-LfLZFNCw",
        "colab_type": "code",
        "outputId": "7d95d9f9-66d6-4bb8-a0b3-bf7c1515c60c",
        "colab": {
          "base_uri": "https://localhost:8080/",
          "height": 56
        }
      },
      "source": [
        "'''\n",
        "x=np.array(df['constrast'])\n",
        "peaks, rr = find_peaks(x, height=0)\n",
        "plt.plot(x)\n",
        "plt.plot(peaks, x[peaks], \"x\")\n",
        "plt.plot(np.zeros_like(x), \"--\", color=\"gray\")\n",
        "plt.show()\n",
        "'''"
      ],
      "execution_count": 19,
      "outputs": [
        {
          "output_type": "execute_result",
          "data": {
            "text/plain": [
              "'\\nx=np.array(df[\\'constrast\\'])\\npeaks, rr = find_peaks(x, height=0)\\nplt.plot(x)\\nplt.plot(peaks, x[peaks], \"x\")\\nplt.plot(np.zeros_like(x), \"--\", color=\"gray\")\\nplt.show()\\n'"
            ]
          },
          "metadata": {
            "tags": []
          },
          "execution_count": 19
        }
      ]
    },
    {
      "cell_type": "code",
      "metadata": {
        "id": "s0z7uLL-FeVZ",
        "colab_type": "code",
        "outputId": "0c06ca09-3738-4d34-ac3d-c6ab859d3d49",
        "colab": {
          "base_uri": "https://localhost:8080/",
          "height": 36
        }
      },
      "source": [
        "'''\n",
        "print('Picos do contraste (posicao):')\n",
        "print(peaks)\n",
        "'''"
      ],
      "execution_count": 20,
      "outputs": [
        {
          "output_type": "execute_result",
          "data": {
            "text/plain": [
              "\"\\nprint('Picos do contraste (posicao):')\\nprint(peaks)\\n\""
            ]
          },
          "metadata": {
            "tags": []
          },
          "execution_count": 20
        }
      ]
    },
    {
      "cell_type": "code",
      "metadata": {
        "id": "7dujkF5CG_Rl",
        "colab_type": "code",
        "outputId": "4126f4e5-f24e-4dac-d31b-44b8569a2dcd",
        "colab": {
          "base_uri": "https://localhost:8080/",
          "height": 36
        }
      },
      "source": [
        "'''\n",
        "prominences = peak_prominences(x, peaks)[0]\n",
        "print(prominences)\n",
        "'''"
      ],
      "execution_count": 21,
      "outputs": [
        {
          "output_type": "execute_result",
          "data": {
            "text/plain": [
              "'\\nprominences = peak_prominences(x, peaks)[0]\\nprint(prominences)\\n'"
            ]
          },
          "metadata": {
            "tags": []
          },
          "execution_count": 21
        }
      ]
    },
    {
      "cell_type": "code",
      "metadata": {
        "id": "AFNEVWAnH7ui",
        "colab_type": "code",
        "outputId": "249d440e-1d35-4df6-cc65-ea31022f72dc",
        "colab": {
          "base_uri": "https://localhost:8080/",
          "height": 36
        }
      },
      "source": [
        "'''\n",
        "results_widths = peak_widths(x, peaks, rel_height=0.5)\n",
        "print(results_widths)\n",
        "'''"
      ],
      "execution_count": 22,
      "outputs": [
        {
          "output_type": "execute_result",
          "data": {
            "text/plain": [
              "'\\nresults_widths = peak_widths(x, peaks, rel_height=0.5)\\nprint(results_widths)\\n'"
            ]
          },
          "metadata": {
            "tags": []
          },
          "execution_count": 22
        }
      ]
    }
  ]
}