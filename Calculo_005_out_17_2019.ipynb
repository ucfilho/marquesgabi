{
  "nbformat": 4,
  "nbformat_minor": 0,
  "metadata": {
    "colab": {
      "name": "Calculo_005_out_17_2019.ipynb",
      "provenance": [],
      "collapsed_sections": [],
      "include_colab_link": true
    },
    "kernelspec": {
      "name": "python3",
      "display_name": "Python 3"
    }
  },
  "cells": [
    {
      "cell_type": "markdown",
      "metadata": {
        "id": "view-in-github",
        "colab_type": "text"
      },
      "source": [
        "<a href=\"https://colab.research.google.com/github/ucfilho/marquesgabi/blob/master/Calculo_005_out_17_2019.ipynb\" target=\"_parent\"><img src=\"https://colab.research.google.com/assets/colab-badge.svg\" alt=\"Open In Colab\"/></a>"
      ]
    },
    {
      "cell_type": "code",
      "metadata": {
        "id": "9q3V2QrqnMBI",
        "colab_type": "code",
        "colab": {}
      },
      "source": [
        "# carrega as bibliotecas do python"
      ],
      "execution_count": 0,
      "outputs": []
    },
    {
      "cell_type": "code",
      "metadata": {
        "id": "szqvrsIInRDg",
        "colab_type": "code",
        "colab": {}
      },
      "source": [
        "%matplotlib inline\n",
        "from matplotlib import pyplot as plt\n",
        "import os \n",
        "import cv2\n",
        "import zipfile\n",
        "from skimage import data\n",
        "from skimage import filters\n",
        "from skimage import exposure\n",
        "import numpy as np\n",
        "import pandas as pd\n",
        "from google.colab import files"
      ],
      "execution_count": 0,
      "outputs": []
    },
    {
      "cell_type": "code",
      "metadata": {
        "id": "zsjb8DmRVtDy",
        "colab_type": "code",
        "outputId": "bd9c24e3-1ba0-4580-f5e6-a96cf0880405",
        "colab": {
          "base_uri": "https://localhost:8080/",
          "height": 223
        }
      },
      "source": [
        "!wget http://ftp.feq.ufu.br/ubirajara/Sugar_set_30_2019.zip\n",
        "#!ls -l trash_nov_22_2018.zip\n"
      ],
      "execution_count": 3,
      "outputs": [
        {
          "output_type": "stream",
          "text": [
            "--2019-10-17 13:58:10--  http://ftp.feq.ufu.br/ubirajara/Sugar_set_30_2019.zip\n",
            "Resolving ftp.feq.ufu.br (ftp.feq.ufu.br)... 200.19.144.11\n",
            "Connecting to ftp.feq.ufu.br (ftp.feq.ufu.br)|200.19.144.11|:80... connected.\n",
            "HTTP request sent, awaiting response... 200 OK\n",
            "Length: 19584173 (19M) [application/zip]\n",
            "Saving to: ‘Sugar_set_30_2019.zip.3’\n",
            "\n",
            "Sugar_set_30_2019.z 100%[===================>]  18.68M  5.05MB/s    in 4.4s    \n",
            "\n",
            "2019-10-17 13:58:15 (4.25 MB/s) - ‘Sugar_set_30_2019.zip.3’ saved [19584173/19584173]\n",
            "\n"
          ],
          "name": "stdout"
        }
      ]
    },
    {
      "cell_type": "code",
      "metadata": {
        "id": "ygswjsh1ptUl",
        "colab_type": "code",
        "colab": {}
      },
      "source": [
        "\n",
        "file_name = zipfile.ZipFile('Sugar_set_30_2019.zip', 'r')\n",
        "file_name.extractall() "
      ],
      "execution_count": 0,
      "outputs": []
    },
    {
      "cell_type": "code",
      "metadata": {
        "id": "Qq1UTVWMnU0n",
        "colab_type": "code",
        "colab": {}
      },
      "source": [
        "# all images are load in variable x...\n",
        "FILE='Sugar_set_30_2019.zip'\n",
        "img_name=[]\n",
        "x=[]\n",
        "p=[]\n",
        "w=[]\n",
        "\n",
        "\n",
        "with zipfile.ZipFile(FILE, \"r\") as f:\n",
        "    for name in f.namelist():\n",
        "        img_name.append(name)\n",
        "        #x.append(cv2.imread(name))\n",
        "        x.append(cv2.resize(cv2.imread(name),(64,64)))\n",
        "        p.append(cv2.cvtColor(cv2.imread(name), cv2.COLOR_RGB2GRAY))\n",
        "\n",
        "Num=len(img_name)\n",
        "\n",
        "for i in range(Num):\n",
        "    w.append(cv2.cvtColor(np.array(x[i]), cv2.COLOR_BGR2GRAY))\n"
      ],
      "execution_count": 0,
      "outputs": []
    },
    {
      "cell_type": "code",
      "metadata": {
        "id": "y_z3gpiinuP2",
        "colab_type": "code",
        "colab": {}
      },
      "source": [
        "#img=plt.imread(img_name[2])\n",
        "#plt.axis(\"off\")\n",
        "#plt.imshow(x[2])"
      ],
      "execution_count": 0,
      "outputs": []
    },
    {
      "cell_type": "code",
      "metadata": {
        "id": "eh8FK7Nqvm1v",
        "colab_type": "code",
        "colab": {}
      },
      "source": [
        "#img=plt.imread(img_name[2])\n",
        "#plt.axis(\"off\")\n",
        "#plt.imshow(p[2], cmap = \"gray\")"
      ],
      "execution_count": 0,
      "outputs": []
    },
    {
      "cell_type": "code",
      "metadata": {
        "id": "eC0IvMs8yVC3",
        "colab_type": "code",
        "colab": {}
      },
      "source": [
        "#plt.axis(\"off\")\n",
        "#plt.imshow(w[2], cmap = \"gray\")"
      ],
      "execution_count": 0,
      "outputs": []
    },
    {
      "cell_type": "code",
      "metadata": {
        "id": "HQ-nNY4c0ImC",
        "colab_type": "code",
        "outputId": "9daddcec-87a1-442f-f3e3-ee75a0c0344e",
        "colab": {
          "base_uri": "https://localhost:8080/",
          "height": 36
        }
      },
      "source": [
        "Nrow=64\n",
        "Ncol=64\n",
        "Entropia=0 # estamos calculando da primeira foto\n",
        "for i in range(Nrow):\n",
        "  for j in range(Ncol):\n",
        "    Entropia=Entropia-p[0][i,j]*np.log(p[0][i,j])\n",
        "print(\"Entropia=\",Entropia)\n"
      ],
      "execution_count": 9,
      "outputs": [
        {
          "output_type": "stream",
          "text": [
            "Entropia= -1718510.75\n"
          ],
          "name": "stdout"
        }
      ]
    },
    {
      "cell_type": "code",
      "metadata": {
        "id": "qCae0Ft32stE",
        "colab_type": "code",
        "colab": {}
      },
      "source": [
        ""
      ],
      "execution_count": 0,
      "outputs": []
    },
    {
      "cell_type": "code",
      "metadata": {
        "id": "dgCx4Jn43XnM",
        "colab_type": "code",
        "outputId": "543b6f16-fb0b-40a9-e968-0140c264bfd1",
        "colab": {
          "base_uri": "https://localhost:8080/",
          "height": 75
        }
      },
      "source": [
        "print(img_name)\n",
        "Nfotos=len(img_name)\n",
        "print(Nfotos)"
      ],
      "execution_count": 10,
      "outputs": [
        {
          "output_type": "stream",
          "text": [
            "['IMG_16_0634.jpg', 'IMG_16_0639.jpg', 'IMG_16_0640.jpg', 'IMG_18_0655.jpg', 'IMG_18_0656.jpg', 'IMG_18_0658.jpg', 'IMG_20_0680.jpg', 'IMG_20_0681.jpg', 'IMG_20_0688.jpg', 'IMG_25_0703.jpg', 'IMG_25_0706.jpg', 'IMG_25_0710.jpg', 'IMG_30_0732.jpg', 'IMG_30_0735.jpg', 'IMG_30_0737.jpg', 'IMG_35_0751.jpg', 'IMG_35_0757.jpg', 'IMG_35_0760.jpg', 'IMG_40_0776.jpg', 'IMG_40_0777.jpg', 'IMG_40_0780.jpg', 'IMG_70_0816.jpg', 'IMG_70_0818.jpg', 'IMG_70_0821.jpg']\n",
            "24\n"
          ],
          "name": "stdout"
        }
      ]
    },
    {
      "cell_type": "code",
      "metadata": {
        "id": "9XPFWhiq3tGW",
        "colab_type": "code",
        "colab": {}
      },
      "source": [
        "Nfotos=len(img_name)\n",
        "GLCM=np.zeros((Nfotos, 13))   # lembrar do ANN_Hydrofoil_Neuronio_set_17_2018.ipynb\n",
        "Nrow=64\n",
        "Ncol=64\n",
        "n=64\n",
        "for k in range(Nfotos):\n",
        "  Nrow=np.copy(len(w[k][0,:]))\n",
        "  Ncol=np.copy(len(w[k][:,0]))\n",
        "  for i in range(Nrow):\n",
        "    for j in range(Ncol):\n",
        "      GLCM[k,7]=GLCM[k,7]-w[k][i,j]*np.log(w[k][i,j]) # entropia\n",
        "      GLCM[k,0]=GLCM[k,0]+w[k][i,j]**2 #segundo momento angular\n",
        "      GLCM[k,1]=GLCM[k,1]+n**2*w[k][i,j]*abs(i-j) #contraste\n",
        "      GLCM[k,3]=GLCM[k,3]+(i-np.mean(w[0]))**2*w[k][i,j] #Variancia\n",
        "\n"
      ],
      "execution_count": 0,
      "outputs": []
    },
    {
      "cell_type": "code",
      "metadata": {
        "id": "4SByB4bq4wO9",
        "colab_type": "code",
        "outputId": "b64c85de-d145-4f97-f327-2e7d9f5358b2",
        "colab": {
          "base_uri": "https://localhost:8080/",
          "height": 260
        }
      },
      "source": [
        "GLCM=pd.DataFrame(GLCM)\n",
        "pd.set_option('display.max_columns', 30)\n",
        "print(GLCM.head(5))"
      ],
      "execution_count": 12,
      "outputs": [
        {
          "output_type": "stream",
          "text": [
            "           0             1    2             3    4    5    6            7   \\\n",
            "0  54484823.0  4.085873e+10  0.0  3.373193e+09  0.0  0.0  0.0 -2226516.000   \n",
            "1  54769626.0  4.093024e+10  0.0  3.383962e+09  0.0  0.0  0.0 -2233982.750   \n",
            "2  54438840.0  4.085407e+10  0.0  3.371528e+09  0.0  0.0  0.0 -2225965.000   \n",
            "3  55163756.0  4.114828e+10  0.0  3.388901e+09  0.0  0.0  0.0 -2244433.750   \n",
            "4  49194613.0  3.891152e+10  0.0  3.244090e+09  0.0  0.0  0.0 -2092762.375   \n",
            "\n",
            "    8    9    10   11   12  \n",
            "0  0.0  0.0  0.0  0.0  0.0  \n",
            "1  0.0  0.0  0.0  0.0  0.0  \n",
            "2  0.0  0.0  0.0  0.0  0.0  \n",
            "3  0.0  0.0  0.0  0.0  0.0  \n",
            "4  0.0  0.0  0.0  0.0  0.0  \n"
          ],
          "name": "stdout"
        }
      ]
    },
    {
      "cell_type": "code",
      "metadata": {
        "id": "gQrpoGmM_eng",
        "colab_type": "code",
        "colab": {
          "base_uri": "https://localhost:8080/",
          "height": 36
        },
        "outputId": "ec935e17-7932-4ed3-c410-58484e882641"
      },
      "source": [
        "print(np.mean(w[0]))"
      ],
      "execution_count": 13,
      "outputs": [
        {
          "output_type": "stream",
          "text": [
            "114.515869140625\n"
          ],
          "name": "stdout"
        }
      ]
    }
  ]
}