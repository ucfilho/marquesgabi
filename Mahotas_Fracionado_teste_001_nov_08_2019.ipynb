{
  "nbformat": 4,
  "nbformat_minor": 0,
  "metadata": {
    "colab": {
      "name": "Mahotas_Fracionado_teste_001_nov_08_2019.ipynb",
      "provenance": [],
      "collapsed_sections": [],
      "include_colab_link": true
    },
    "kernelspec": {
      "name": "python3",
      "display_name": "Python 3"
    }
  },
  "cells": [
    {
      "cell_type": "markdown",
      "metadata": {
        "id": "view-in-github",
        "colab_type": "text"
      },
      "source": [
        "<a href=\"https://colab.research.google.com/github/ucfilho/marquesgabi/blob/master/Mahotas_Fracionado_teste_001_nov_08_2019.ipynb\" target=\"_parent\"><img src=\"https://colab.research.google.com/assets/colab-badge.svg\" alt=\"Open In Colab\"/></a>"
      ]
    },
    {
      "cell_type": "code",
      "metadata": {
        "id": "f393Z8HdEmRg",
        "colab_type": "code",
        "outputId": "aae97587-2756-4b85-8210-0d8821cb7ac2",
        "colab": {
          "base_uri": "https://localhost:8080/",
          "height": 52
        }
      },
      "source": [
        "!pip install mahotas"
      ],
      "execution_count": 0,
      "outputs": [
        {
          "output_type": "stream",
          "text": [
            "Requirement already satisfied: mahotas in /usr/local/lib/python3.6/dist-packages (1.4.8)\n",
            "Requirement already satisfied: numpy in /usr/local/lib/python3.6/dist-packages (from mahotas) (1.17.3)\n"
          ],
          "name": "stdout"
        }
      ]
    },
    {
      "cell_type": "code",
      "metadata": {
        "id": "W0wfLMP8nWAM",
        "colab_type": "code",
        "colab": {}
      },
      "source": [
        "# proximas etapas que falta : dividir a foto em 10x10 e aplicar o mahotas em cada foto\n",
        "# encontrar \n",
        "# GLCM?\n",
        "# COLOCAR MAIS VARIAVEIS NAS FOTOS\n",
        "# VER QUAIS PARAMETROS USAR PARA CALCULAR O PSD (particle size distribution)\n",
        "# GERAR AS IMAGENS ARTIFICIAIS"
      ],
      "execution_count": 0,
      "outputs": []
    },
    {
      "cell_type": "code",
      "metadata": {
        "id": "SzWdrvAgvBId",
        "colab_type": "code",
        "colab": {}
      },
      "source": [
        "import numpy as np\n",
        "import cv2\n",
        "from skimage import data\n",
        "import matplotlib.pyplot as plt\n",
        "import matplotlib\n",
        "import pandas as pd\n",
        "from skimage import io, util\n",
        "import mahotas.features.texture as mht\n",
        "import mahotas.features"
      ],
      "execution_count": 0,
      "outputs": []
    },
    {
      "cell_type": "code",
      "metadata": {
        "id": "qKqzlX77P5-M",
        "colab_type": "code",
        "colab": {}
      },
      "source": [
        "# https://buildmedia.readthedocs.org/media/pdf/mahotas/latest/mahotas.pdf\n",
        "\n",
        "# Why there are only 13 features implemented? (pag 42)\n",
        "# Only the first 13 features are implemented. The last (14th) feature is \n",
        "# normally considered to be unstable, although it\n",
        "# is not clear to me why this is. (See this unanswered question on Cross-validated).\n",
        "\n",
        "# What mahotas.features.haralick return as answer?  (pag 58)\n",
        "# mahotas.features.haralick returns features in 4 directions. \n",
        "# We just take the mean (sometimes you use the spread ptp() too).\n",
        "\n",
        "# Who uses mahotas? (pag 62)\n",
        "# In June 2016, there were 34 papers citing the mahotas paper\n",
        "\n",
        "\n"
      ],
      "execution_count": 0,
      "outputs": []
    },
    {
      "cell_type": "code",
      "metadata": {
        "id": "oYq2yaKzvI8M",
        "colab_type": "code",
        "colab": {}
      },
      "source": [
        "images = ('hubble_deep_field',\n",
        "          'immunohistochemistry',\n",
        "          'microaneurysms',\n",
        "          'moon',\n",
        "          'retina')\n",
        "caller = getattr(data, images[4])\n",
        "image = caller()"
      ],
      "execution_count": 0,
      "outputs": []
    },
    {
      "cell_type": "code",
      "metadata": {
        "id": "5zptA88eLE7I",
        "colab_type": "code",
        "colab": {}
      },
      "source": [
        "Nomes=['ASM','constrast','correl','variance','inv diff mom','sum aveg',\n",
        "       'sum var','sum entropy','entropy','dif var','dif entropy','IMC1',\n",
        "       'IMC2']\n",
        "Mahotas =pd.DataFrame(mahotas.features.haralick(image), columns =Nomes)"
      ],
      "execution_count": 0,
      "outputs": []
    },
    {
      "cell_type": "code",
      "metadata": {
        "id": "oVOE26IhTIWI",
        "colab_type": "code",
        "outputId": "82bf9768-c223-4058-ea12-097d25dea530",
        "colab": {
          "base_uri": "https://localhost:8080/",
          "height": 298
        }
      },
      "source": [
        "print(Mahotas)"
      ],
      "execution_count": 0,
      "outputs": [
        {
          "output_type": "stream",
          "text": [
            "         ASM    constrast    correl  ...  dif entropy      IMC1      IMC2\n",
            "0   0.015965     6.426415  0.999452  ...     2.011315 -0.658899  0.999928\n",
            "1   0.015042    11.980861  0.998978  ...     2.317360 -0.610684  0.999863\n",
            "2   0.016155     6.180067  0.999473  ...     1.932706 -0.671126  0.999939\n",
            "3   0.015076    11.616170  0.999009  ...     2.299061 -0.613425  0.999868\n",
            "4   0.009879  6236.057486  0.364507  ...     5.857769 -0.294217  0.989769\n",
            "5   0.009913  6246.183988  0.363298  ...     5.898624 -0.280109  0.987671\n",
            "6   0.009887  6247.766785  0.363141  ...     5.905899 -0.278668  0.987431\n",
            "7   0.009889  6257.427252  0.361977  ...     5.920880 -0.274740  0.986771\n",
            "8   0.009890  6251.722946  0.362559  ...     5.904230 -0.278622  0.987438\n",
            "9   0.009910  6244.108317  0.363509  ...     5.901138 -0.279984  0.987650\n",
            "10  0.009890  6242.236141  0.363704  ...     5.888625 -0.282506  0.988057\n",
            "11  0.009883  6249.916788  0.362743  ...     5.905857 -0.278486  0.987415\n",
            "12  0.009884  6255.125330  0.362212  ...     5.921136 -0.274899  0.986799\n",
            "\n",
            "[13 rows x 13 columns]\n"
          ],
          "name": "stdout"
        }
      ]
    },
    {
      "cell_type": "code",
      "metadata": {
        "id": "73qOztHJU-pu",
        "colab_type": "code",
        "outputId": "ec963dc3-d6d3-441b-9849-968f97697238",
        "colab": {
          "base_uri": "https://localhost:8080/",
          "height": 263
        }
      },
      "source": [
        "GLCM=[]\n",
        "for i in Nomes:\n",
        "  GLCM.append(Mahotas[i].mean())\n",
        "glcm_haralick=pd.DataFrame(GLCM,index=Nomes,columns=['glcm'])\n",
        "print(glcm_haralick)\n",
        "\n"
      ],
      "execution_count": 0,
      "outputs": [
        {
          "output_type": "stream",
          "text": [
            "                      glcm\n",
            "ASM               0.011636\n",
            "constrast      4328.211427\n",
            "correl            0.558812\n",
            "variance       5199.945084\n",
            "inv diff mom      0.258144\n",
            "sum aveg        170.509695\n",
            "sum var       16471.568908\n",
            "sum entropy       7.372673\n",
            "entropy          10.695967\n",
            "dif var           0.000439\n",
            "dif entropy       4.743431\n",
            "IMC1             -0.390490\n",
            "IMC2              0.991431\n"
          ],
          "name": "stdout"
        }
      ]
    },
    {
      "cell_type": "code",
      "metadata": {
        "id": "yUbinIYNRt0V",
        "colab_type": "code",
        "colab": {}
      },
      "source": [
        "plt.imshow(image)"
      ],
      "execution_count": 0,
      "outputs": []
    }
  ]
}