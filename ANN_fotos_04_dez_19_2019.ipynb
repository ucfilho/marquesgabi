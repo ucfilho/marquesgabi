{
  "nbformat": 4,
  "nbformat_minor": 0,
  "metadata": {
    "colab": {
      "name": "ANN_fotos_04_dez_19_2019.ipynb",
      "provenance": [],
      "collapsed_sections": [],
      "include_colab_link": true
    },
    "kernelspec": {
      "name": "python3",
      "display_name": "Python 3"
    }
  },
  "cells": [
    {
      "cell_type": "markdown",
      "metadata": {
        "id": "view-in-github",
        "colab_type": "text"
      },
      "source": [
        "<a href=\"https://colab.research.google.com/github/ucfilho/marquesgabi/blob/master/ANN_fotos_04_dez_19_2019.ipynb\" target=\"_parent\"><img src=\"https://colab.research.google.com/assets/colab-badge.svg\" alt=\"Open In Colab\"/></a>"
      ]
    },
    {
      "cell_type": "code",
      "metadata": {
        "id": "uPzMNtMQeqs-",
        "colab_type": "code",
        "colab": {}
      },
      "source": [
        "from sklearn.model_selection import train_test_split\n",
        "import numpy as np\n",
        "import cv2\n",
        "import math\n",
        "import pandas as pd\n",
        "from sklearn.neural_network import MLPRegressor\n",
        "from sklearn.metrics import mean_squared_error\n",
        "from sklearn.metrics import r2_score \n",
        "from mpl_toolkits.mplot3d import Axes3D, axes3d\n",
        "from sklearn.metrics import classification_report, confusion_matrix\n",
        "import matplotlib.pyplot as plt\n",
        "import matplotlib\n",
        "%matplotlib inline"
      ],
      "execution_count": 0,
      "outputs": []
    },
    {
      "cell_type": "code",
      "metadata": {
        "id": "4vZxttY2XZ2e",
        "colab_type": "code",
        "colab": {}
      },
      "source": [
        "# funcao normatiza dados\n",
        "def Normatiza(x):\n",
        "    strings=list(x)\n",
        "    for i in strings:\n",
        "        max_x=x[i].max()\n",
        "        min_x=x[i].min()\n",
        "        a=(max_x+min_x)/2\n",
        "        b=(max_x-min_x)/2\n",
        "        x[i]=(x[i]-a)/b\n",
        "    return x"
      ],
      "execution_count": 0,
      "outputs": []
    },
    {
      "cell_type": "code",
      "metadata": {
        "id": "quDi173pXomN",
        "colab_type": "code",
        "colab": {}
      },
      "source": [
        "# funcao retorna os dados a forma original\n",
        "def Original(x,x_old):\n",
        "    strings=list(x)\n",
        "    for i in strings:\n",
        "        max_x=x_old[i].max()\n",
        "        min_x=x_old[i].min()\n",
        "        a=(max_x+min_x)/2\n",
        "        b=(max_x-min_x)/2\n",
        "        x[i]=x[i]*b+a\n",
        "    return x"
      ],
      "execution_count": 0,
      "outputs": []
    },
    {
      "cell_type": "code",
      "metadata": {
        "id": "o4y_z_-ge57N",
        "colab_type": "code",
        "outputId": "88cd49d6-83e2-41c4-f2ae-1086dfdb30e7",
        "colab": {
          "base_uri": "https://localhost:8080/",
          "height": 218
        }
      },
      "source": [
        "!wget http://ftp.feq.ufu.br/ubirajara/Fotos_Treina_ANN_dez_2019.csv\n",
        "Transfere='Fotos_Treina_ANN_dez_2019.csv'"
      ],
      "execution_count": 4,
      "outputs": [
        {
          "output_type": "stream",
          "text": [
            "--2019-12-19 21:17:14--  http://ftp.feq.ufu.br/ubirajara/Fotos_Treina_ANN_dez_2019.csv\n",
            "Resolving ftp.feq.ufu.br (ftp.feq.ufu.br)... 200.19.144.11\n",
            "Connecting to ftp.feq.ufu.br (ftp.feq.ufu.br)|200.19.144.11|:80... connected.\n",
            "HTTP request sent, awaiting response... 200 OK\n",
            "Length: 21508 (21K) [text/csv]\n",
            "Saving to: ‘Fotos_Treina_ANN_dez_2019.csv.40’\n",
            "\n",
            "Fotos_Treina_ANN_de 100%[===================>]  21.00K  50.4KB/s    in 0.4s    \n",
            "\n",
            "2019-12-19 21:17:15 (50.4 KB/s) - ‘Fotos_Treina_ANN_dez_2019.csv.40’ saved [21508/21508]\n",
            "\n"
          ],
          "name": "stdout"
        }
      ]
    },
    {
      "cell_type": "code",
      "metadata": {
        "id": "es7O1fUjfK2o",
        "colab_type": "code",
        "colab": {}
      },
      "source": [
        "df= pd.read_csv(Transfere) "
      ],
      "execution_count": 0,
      "outputs": []
    },
    {
      "cell_type": "code",
      "metadata": {
        "id": "cytkRXeDgL7P",
        "colab_type": "code",
        "colab": {}
      },
      "source": [
        "df['Type'] = df['Type'].map({'buraco':1, 'grao':2, 'indef':3}) "
      ],
      "execution_count": 0,
      "outputs": []
    },
    {
      "cell_type": "code",
      "metadata": {
        "id": "1gVOPf_LhXhb",
        "colab_type": "code",
        "colab": {}
      },
      "source": [
        "X=df.iloc[:,2:12]\n",
        "yw=df.iloc[:,1]\n"
      ],
      "execution_count": 0,
      "outputs": []
    },
    {
      "cell_type": "code",
      "metadata": {
        "id": "geHZFo-biUh8",
        "colab_type": "code",
        "colab": {}
      },
      "source": [
        "# reescreve a variavel de resposta em três saídas (zero e um) \n",
        "ref=np.array(yw)\n",
        "row=len(ref)\n",
        "y=np.zeros((row,3))\n",
        "for i in range(row):\n",
        "  if(ref[i]==1):\n",
        "    y[i,0]=1\n",
        "  else:\n",
        "    if(ref[i]==2):\n",
        "      y[i,1]=1\n",
        "    else:\n",
        "      y[i,2]=1\n"
      ],
      "execution_count": 0,
      "outputs": []
    },
    {
      "cell_type": "code",
      "metadata": {
        "id": "q_R9MQraX2K_",
        "colab_type": "code",
        "colab": {
          "base_uri": "https://localhost:8080/",
          "height": 273
        },
        "outputId": "cb8d3082-8753-4af1-cf8a-5c6176d08ed8"
      },
      "source": [
        "\n",
        "# separa os dados variaveis de entrada em normatizados e originais\n",
        "X_OLD=[]\n",
        "X_OLD=X.copy()\n",
        "X=Normatiza(X)\n",
        "#print(X)\n",
        "y = pd.DataFrame(y, columns=['buraco', 'grao','indef'])\n",
        "\n",
        "\n",
        "y_OLD=[]\n",
        "y_OLD=y.copy()\n",
        "y=Normatiza(y)\n",
        "print(y)\n"
      ],
      "execution_count": 9,
      "outputs": [
        {
          "output_type": "stream",
          "text": [
            "     buraco  grao  indef\n",
            "0       1.0  -1.0   -1.0\n",
            "1       1.0  -1.0   -1.0\n",
            "2       1.0  -1.0   -1.0\n",
            "3       1.0  -1.0   -1.0\n",
            "4       1.0  -1.0   -1.0\n",
            "..      ...   ...    ...\n",
            "115    -1.0  -1.0    1.0\n",
            "116    -1.0  -1.0    1.0\n",
            "117    -1.0  -1.0    1.0\n",
            "118    -1.0  -1.0    1.0\n",
            "119    -1.0  -1.0    1.0\n",
            "\n",
            "[120 rows x 3 columns]\n"
          ],
          "name": "stdout"
        }
      ]
    },
    {
      "cell_type": "code",
      "metadata": {
        "id": "Zi9gBj86i0V_",
        "colab_type": "code",
        "colab": {}
      },
      "source": [
        "# Train Test Split\n",
        "X_train, X_test, y_train, y_test = train_test_split(X, y, test_size=0.20)"
      ],
      "execution_count": 0,
      "outputs": []
    },
    {
      "cell_type": "code",
      "metadata": {
        "id": "YoPO53S3bif2",
        "colab_type": "code",
        "colab": {}
      },
      "source": [
        "# define a rede neural \n",
        "N_Hidden=15\n",
        "clf = MLPRegressor(solver='lbfgs',activation='tanh',alpha=1e-5,hidden_layer_sizes=(N_Hidden), \n",
        "                    random_state=0)\n"
      ],
      "execution_count": 0,
      "outputs": []
    },
    {
      "cell_type": "code",
      "metadata": {
        "id": "Q_l54GfQs8dW",
        "colab_type": "code",
        "colab": {
          "base_uri": "https://localhost:8080/",
          "height": 55
        },
        "outputId": "3c652f4d-4953-43fd-9364-86defeb34d66"
      },
      "source": [
        "'''\n",
        "N_Hidden=15\n",
        "clf = MLPRegressor(solver='adam',activation='tanh',alpha=1e-5,\n",
        "                   verbose=False,hidden_layer_sizes=(N_Hidden),\n",
        "                   early_stopping=False,random_state=1)\n",
        "'''"
      ],
      "execution_count": 12,
      "outputs": [
        {
          "output_type": "execute_result",
          "data": {
            "text/plain": [
              "\"\\nN_Hidden=15\\nclf = MLPRegressor(solver='adam',activation='tanh',alpha=1e-5,\\n                   verbose=False,hidden_layer_sizes=(N_Hidden),\\n                   early_stopping=False,random_state=1)\\n\""
            ]
          },
          "metadata": {
            "tags": []
          },
          "execution_count": 12
        }
      ]
    },
    {
      "cell_type": "code",
      "metadata": {
        "id": "oV7QM-VmlW66",
        "colab_type": "code",
        "colab": {}
      },
      "source": [
        "#print(y_test)"
      ],
      "execution_count": 0,
      "outputs": []
    },
    {
      "cell_type": "code",
      "metadata": {
        "id": "VCd7bGM8bm04",
        "colab_type": "code",
        "outputId": "ebe20a80-5225-4221-aca5-ddd008a32c1e",
        "colab": {
          "base_uri": "https://localhost:8080/",
          "height": 145
        }
      },
      "source": [
        "# treina a rede neural\n",
        "clf.fit(X_train, y_train)\n"
      ],
      "execution_count": 14,
      "outputs": [
        {
          "output_type": "execute_result",
          "data": {
            "text/plain": [
              "MLPRegressor(activation='tanh', alpha=1e-05, batch_size='auto', beta_1=0.9,\n",
              "             beta_2=0.999, early_stopping=False, epsilon=1e-08,\n",
              "             hidden_layer_sizes=15, learning_rate='constant',\n",
              "             learning_rate_init=0.001, max_iter=200, momentum=0.9,\n",
              "             n_iter_no_change=10, nesterovs_momentum=True, power_t=0.5,\n",
              "             random_state=0, shuffle=True, solver='lbfgs', tol=0.0001,\n",
              "             validation_fraction=0.1, verbose=False, warm_start=False)"
            ]
          },
          "metadata": {
            "tags": []
          },
          "execution_count": 14
        }
      ]
    },
    {
      "cell_type": "code",
      "metadata": {
        "id": "kSXYEWkmbu1p",
        "colab_type": "code",
        "colab": {}
      },
      "source": [
        "# usa a rede neural treina em calculos para treino e teste\n",
        "y_calc_train=clf.predict(X_train)\n",
        "y_calc_test=clf.predict(X_test)\n"
      ],
      "execution_count": 0,
      "outputs": []
    },
    {
      "cell_type": "code",
      "metadata": {
        "id": "-XL45oAhlfaJ",
        "colab_type": "code",
        "colab": {}
      },
      "source": [
        "row,col=y_test.shape\n",
        "y_pred=np.zeros(row)\n",
        "\n",
        "for i in range(row):\n",
        "  if(y_calc_test[i,0]>0):\n",
        "    y_pred[i]=1\n",
        "  else:\n",
        "    if(y_calc_test[i,1]>0):\n",
        "      y_pred[i]=2\n",
        "    else:\n",
        "      y_pred[i]=3\n",
        "\n",
        "row,col=y_test.shape\n",
        "y_test=np.array(y_test)\n",
        "y_inic=np.zeros(row)\n",
        "for i in range(row):\n",
        "  if(y_test[i,0]>0):\n",
        "    y_inic[i]=1\n",
        "  else:\n",
        "    if(y_test[i,1]>0):\n",
        "      y_inic[i]=2\n",
        "    else:\n",
        "      y_inic[i]=3"
      ],
      "execution_count": 0,
      "outputs": []
    },
    {
      "cell_type": "code",
      "metadata": {
        "id": "-wd9agMnqFJM",
        "colab_type": "code",
        "colab": {
          "base_uri": "https://localhost:8080/",
          "height": 456
        },
        "outputId": "6846d087-2186-4e45-afcb-8e5f5128fac9"
      },
      "source": [
        "print(y_calc_test)"
      ],
      "execution_count": 17,
      "outputs": [
        {
          "output_type": "stream",
          "text": [
            "[[-0.64947553  0.79051901 -1.25271018]\n",
            " [ 0.54715922 -1.3346971  -0.09505566]\n",
            " [-1.44198862  0.99532731 -0.55067622]\n",
            " [-1.48027285 -0.46184443  1.02128353]\n",
            " [ 0.79902802 -1.28720083 -0.51492568]\n",
            " [-1.07855683 -1.55143599  1.57147635]\n",
            " [-0.77181146  1.30032985 -1.37037759]\n",
            " [-1.31236769 -0.24338554  0.66642495]\n",
            " [-0.34927389  0.08921495 -0.76191776]\n",
            " [ 0.16888699  0.55073246 -1.78406815]\n",
            " [-0.78992246  0.23419103 -0.48844561]\n",
            " [ 0.95071426 -1.36934477 -0.61691708]\n",
            " [-1.05067895 -0.467436    0.45179732]\n",
            " [-1.40057309  1.3367921  -1.0150949 ]\n",
            " [-0.21114183 -1.22339013  0.69145429]\n",
            " [ 0.30789358 -0.73947038 -0.60932598]\n",
            " [-0.74097837 -0.4047019   0.17838458]\n",
            " [-1.36127696  0.20027948  0.02660049]\n",
            " [ 0.19477172 -1.30077945  0.06526396]\n",
            " [ 2.3438527  -2.53681622 -0.84217554]\n",
            " [-0.79585934  0.92163069 -1.18983197]\n",
            " [-1.60843875 -0.57836672  1.23464715]\n",
            " [ 0.43183346 -0.80902894 -0.64281375]\n",
            " [ 0.27439868 -0.88224686 -0.41983599]]\n"
          ],
          "name": "stdout"
        }
      ]
    },
    {
      "cell_type": "code",
      "metadata": {
        "id": "2yTW8j-ed6oI",
        "colab_type": "code",
        "colab": {}
      },
      "source": [
        "# transforma a saida da rede em dataframe \n",
        "y_inic=pd.DataFrame(y_inic).astype(int)\n",
        "y_pred=pd.DataFrame(y_pred).astype(int)\n",
        "y_inic.columns = ['Type']\n",
        "y_pred.columns = ['Type']"
      ],
      "execution_count": 0,
      "outputs": []
    },
    {
      "cell_type": "code",
      "metadata": {
        "id": "azNolN-XmtuL",
        "colab_type": "code",
        "colab": {
          "base_uri": "https://localhost:8080/",
          "height": 456
        },
        "outputId": "6a01b020-3b38-4b6e-c5e5-c8299647ae0e"
      },
      "source": [
        "print(y_calc_test)"
      ],
      "execution_count": 19,
      "outputs": [
        {
          "output_type": "stream",
          "text": [
            "[[-0.64947553  0.79051901 -1.25271018]\n",
            " [ 0.54715922 -1.3346971  -0.09505566]\n",
            " [-1.44198862  0.99532731 -0.55067622]\n",
            " [-1.48027285 -0.46184443  1.02128353]\n",
            " [ 0.79902802 -1.28720083 -0.51492568]\n",
            " [-1.07855683 -1.55143599  1.57147635]\n",
            " [-0.77181146  1.30032985 -1.37037759]\n",
            " [-1.31236769 -0.24338554  0.66642495]\n",
            " [-0.34927389  0.08921495 -0.76191776]\n",
            " [ 0.16888699  0.55073246 -1.78406815]\n",
            " [-0.78992246  0.23419103 -0.48844561]\n",
            " [ 0.95071426 -1.36934477 -0.61691708]\n",
            " [-1.05067895 -0.467436    0.45179732]\n",
            " [-1.40057309  1.3367921  -1.0150949 ]\n",
            " [-0.21114183 -1.22339013  0.69145429]\n",
            " [ 0.30789358 -0.73947038 -0.60932598]\n",
            " [-0.74097837 -0.4047019   0.17838458]\n",
            " [-1.36127696  0.20027948  0.02660049]\n",
            " [ 0.19477172 -1.30077945  0.06526396]\n",
            " [ 2.3438527  -2.53681622 -0.84217554]\n",
            " [-0.79585934  0.92163069 -1.18983197]\n",
            " [-1.60843875 -0.57836672  1.23464715]\n",
            " [ 0.43183346 -0.80902894 -0.64281375]\n",
            " [ 0.27439868 -0.88224686 -0.41983599]]\n"
          ],
          "name": "stdout"
        }
      ]
    },
    {
      "cell_type": "code",
      "metadata": {
        "id": "yuJNYvbGcjVE",
        "colab_type": "code",
        "outputId": "d9f0831b-f6b0-4c30-e4d0-3506a7ce3773",
        "colab": {
          "base_uri": "https://localhost:8080/",
          "height": 255
        }
      },
      "source": [
        "# Evaluating the Algorithm\n",
        "print(confusion_matrix(y_pred, y_inic))\n",
        "print(classification_report(y_pred, y_inic))"
      ],
      "execution_count": 20,
      "outputs": [
        {
          "output_type": "stream",
          "text": [
            "[[1 2 6]\n",
            " [3 4 1]\n",
            " [1 3 3]]\n",
            "              precision    recall  f1-score   support\n",
            "\n",
            "           1       0.20      0.11      0.14         9\n",
            "           2       0.44      0.50      0.47         8\n",
            "           3       0.30      0.43      0.35         7\n",
            "\n",
            "    accuracy                           0.33        24\n",
            "   macro avg       0.31      0.35      0.32        24\n",
            "weighted avg       0.31      0.33      0.31        24\n",
            "\n"
          ],
          "name": "stdout"
        }
      ]
    },
    {
      "cell_type": "code",
      "metadata": {
        "id": "0_2coHl9nOW_",
        "colab_type": "code",
        "colab": {
          "base_uri": "https://localhost:8080/",
          "height": 474
        },
        "outputId": "e6b6c93d-a316-4f2a-f325-a66dd26f08d7"
      },
      "source": [
        "print(y_pred)"
      ],
      "execution_count": 21,
      "outputs": [
        {
          "output_type": "stream",
          "text": [
            "    Type\n",
            "0      2\n",
            "1      1\n",
            "2      2\n",
            "3      3\n",
            "4      1\n",
            "5      3\n",
            "6      2\n",
            "7      3\n",
            "8      2\n",
            "9      1\n",
            "10     2\n",
            "11     1\n",
            "12     3\n",
            "13     2\n",
            "14     3\n",
            "15     1\n",
            "16     3\n",
            "17     2\n",
            "18     1\n",
            "19     1\n",
            "20     2\n",
            "21     3\n",
            "22     1\n",
            "23     1\n"
          ],
          "name": "stdout"
        }
      ]
    }
  ]
}