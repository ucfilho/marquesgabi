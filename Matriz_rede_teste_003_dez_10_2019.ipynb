{
  "nbformat": 4,
  "nbformat_minor": 0,
  "metadata": {
    "colab": {
      "name": "Matriz_rede_teste_003_dez_10_2019.ipynb",
      "provenance": [],
      "collapsed_sections": [],
      "include_colab_link": true
    },
    "kernelspec": {
      "name": "python3",
      "display_name": "Python 3"
    },
    "accelerator": "GPU"
  },
  "cells": [
    {
      "cell_type": "markdown",
      "metadata": {
        "id": "view-in-github",
        "colab_type": "text"
      },
      "source": [
        "<a href=\"https://colab.research.google.com/github/ucfilho/marquesgabi/blob/master/Matriz_rede_teste_003_dez_10_2019.ipynb\" target=\"_parent\"><img src=\"https://colab.research.google.com/assets/colab-badge.svg\" alt=\"Open In Colab\"/></a>"
      ]
    },
    {
      "cell_type": "code",
      "metadata": {
        "id": "SzWdrvAgvBId",
        "colab_type": "code",
        "colab": {}
      },
      "source": [
        "import numpy as np\n",
        "import cv2\n",
        "from skimage import data\n",
        "import matplotlib.pyplot as plt\n",
        "import matplotlib\n",
        "import pandas as pd\n",
        "from skimage import io, util\n",
        "import os \n",
        "import zipfile\n",
        "from skimage import filters\n",
        "from skimage import exposure\n",
        "import skimage.feature as sk\n",
        "from google.colab import files\n",
        "from scipy import stats\n",
        "from scipy.signal import find_peaks\n",
        "from scipy.signal import peak_prominences\n",
        "from scipy.signal import peak_widths\n",
        "from scipy.integrate import simps\n",
        "%matplotlib inline"
      ],
      "execution_count": 0,
      "outputs": []
    },
    {
      "cell_type": "code",
      "metadata": {
        "id": "h1Zsufcm9bfv",
        "colab_type": "code",
        "outputId": "be8117f9-72fa-4ca3-99a0-fdbc889efa38",
        "colab": {
          "base_uri": "https://localhost:8080/",
          "height": 223
        }
      },
      "source": [
        "!wget http://ftp.feq.ufu.br/ubirajara/Contraste_dez_10_2019.zip\n",
        "Transfere='Contraste_dez_10_2019.zip'"
      ],
      "execution_count": 2,
      "outputs": [
        {
          "output_type": "stream",
          "text": [
            "--2019-12-10 15:57:56--  http://ftp.feq.ufu.br/ubirajara/Contraste_dez_10_2019.zip\n",
            "Resolving ftp.feq.ufu.br (ftp.feq.ufu.br)... 200.19.144.11\n",
            "Connecting to ftp.feq.ufu.br (ftp.feq.ufu.br)|200.19.144.11|:80... connected.\n",
            "HTTP request sent, awaiting response... 200 OK\n",
            "Length: 128014 (125K) [application/zip]\n",
            "Saving to: ‘Contraste_dez_10_2019.zip.9’\n",
            "\n",
            "Contraste_dez_10_20 100%[===================>] 125.01K   107KB/s    in 1.2s    \n",
            "\n",
            "2019-12-10 15:57:58 (107 KB/s) - ‘Contraste_dez_10_2019.zip.9’ saved [128014/128014]\n",
            "\n"
          ],
          "name": "stdout"
        }
      ]
    },
    {
      "cell_type": "code",
      "metadata": {
        "id": "n3EWa3f7A-FE",
        "colab_type": "code",
        "colab": {}
      },
      "source": [
        "file_name = zipfile.ZipFile(Transfere, 'r')\n",
        "file_name.extractall()\n",
        "FILE=Transfere\n",
        "file_name=[]\n",
        "\n",
        "with zipfile.ZipFile(FILE, \"r\") as f:\n",
        "    for name in f.namelist():\n",
        "        file_name.append(name)"
      ],
      "execution_count": 0,
      "outputs": []
    },
    {
      "cell_type": "code",
      "metadata": {
        "id": "avVL_ZAd7ZLi",
        "colab_type": "code",
        "colab": {}
      },
      "source": [
        "#print(file_name)"
      ],
      "execution_count": 0,
      "outputs": []
    },
    {
      "cell_type": "code",
      "metadata": {
        "id": "qKqzlX77P5-M",
        "colab_type": "code",
        "colab": {}
      },
      "source": [
        "df = pd.read_csv(file_name[0]) # first picture\n",
        "df=np.array(df)\n",
        "df = np.delete(df, 0, axis=1) # delete first colunm"
      ],
      "execution_count": 0,
      "outputs": []
    },
    {
      "cell_type": "code",
      "metadata": {
        "id": "LuyJQcmS9xc0",
        "colab_type": "code",
        "colab": {
          "base_uri": "https://localhost:8080/",
          "height": 335
        },
        "outputId": "e283871d-00ac-4479-e759-4980b7fef043"
      },
      "source": [
        "x=df[0,:]\n",
        "peaks, rr = find_peaks(x, height=0)\n",
        "\n",
        "N_peaks=len(peaks);print('no.peaks=',N_peaks)\n",
        "prominences = peak_prominences(x, peaks)\n",
        "Media_proem=np.mean(prominences);print('Media_proem=',Media_proem)\n",
        "Area = simps(x, dx=1);print('area under=',Area)\n",
        "Width_peaks =np.mean(peak_widths(x, peaks, rel_height=0.5));print('Width_peaks=',Width_peaks)\n",
        "Median = np.median(x);print('Median=',Median)\n",
        "Mode= stats.mode(x)[0];print('Mode=',Mode)\n",
        "Mean=np.mean(x);print('mean=',Mean)\n",
        "Sd=np.std(x);print('Sd=',Sd)\n",
        "\n",
        "Nomes=['no.peaks','Media_proem','area under','Width_peaks',\n",
        "       'Median','Mode','Mean','Sd' ]\n",
        "Features=[]\n",
        "Features.append(N_peaks)\n",
        "Features.append(Media_proem )\n",
        "Features.append(Area)\n",
        "Features.append(Width_peaks )\n",
        "Features.append(Median )\n",
        "Features.append(Mode)\n",
        "Features.append(Mean)\n",
        "Features.append(Sd)\n",
        "\n",
        "Features=pd.DataFrame(Features,index=Nomes)\n",
        "print(Features)\n"
      ],
      "execution_count": 6,
      "outputs": [
        {
          "output_type": "stream",
          "text": [
            "no.peaks= 9\n",
            "Media_proem= 59.22551333795992\n",
            "area under= 545.7633451128643\n",
            "Width_peaks= 45.11279628886152\n",
            "Median= 1.3677432610124916\n",
            "Mode= [0.49280079]\n",
            "mean= 3.4285614492345253\n",
            "Sd= 3.9549928914347356\n",
            "                                0\n",
            "no.peaks                        9\n",
            "Media_proem               59.2255\n",
            "area under                545.763\n",
            "Width_peaks               45.1128\n",
            "Median                    1.36774\n",
            "Mode         [0.4928007889546351]\n",
            "Mean                      3.42856\n",
            "Sd                        3.95499\n"
          ],
          "name": "stdout"
        }
      ]
    },
    {
      "cell_type": "code",
      "metadata": {
        "id": "IzO_LnsnJru2",
        "colab_type": "code",
        "colab": {}
      },
      "source": [
        "Nomes=['area','n.peaks','l.peaks','mean','sd','max','min']\n"
      ],
      "execution_count": 0,
      "outputs": []
    },
    {
      "cell_type": "code",
      "metadata": {
        "id": "YVBsUlEc-Azi",
        "colab_type": "code",
        "colab": {
          "base_uri": "https://localhost:8080/",
          "height": 36
        },
        "outputId": "e1fd2081-24e4-4d3e-cbe2-05ca1ac7a164"
      },
      "source": [
        "'''\n",
        "file_name = zipfile.ZipFile(Transfere, 'r')\n",
        "file_name.extractall()\n",
        "'''"
      ],
      "execution_count": 8,
      "outputs": [
        {
          "output_type": "execute_result",
          "data": {
            "text/plain": [
              "\"\\nfile_name = zipfile.ZipFile(Transfere, 'r')\\nfile_name.extractall()\\n\""
            ]
          },
          "metadata": {
            "tags": []
          },
          "execution_count": 8
        }
      ]
    },
    {
      "cell_type": "code",
      "metadata": {
        "id": "t7KEAGdCBJ0a",
        "colab_type": "code",
        "outputId": "464fce1d-5296-4220-f665-9a8ba6577839",
        "colab": {
          "base_uri": "https://localhost:8080/",
          "height": 36
        }
      },
      "source": [
        "'''\n",
        "print(file_name)\n",
        "'''"
      ],
      "execution_count": 9,
      "outputs": [
        {
          "output_type": "execute_result",
          "data": {
            "text/plain": [
              "'\\nprint(file_name)\\n'"
            ]
          },
          "metadata": {
            "tags": []
          },
          "execution_count": 9
        }
      ]
    },
    {
      "cell_type": "code",
      "metadata": {
        "id": "8R9jsmgsDtFV",
        "colab_type": "code",
        "outputId": "806c1d11-44da-42a9-9a45-85a1c9e4fc85",
        "colab": {
          "base_uri": "https://localhost:8080/",
          "height": 36
        }
      },
      "source": [
        "'''\n",
        "plt.plot(x_ref,df['constrast'])   \n",
        "'''"
      ],
      "execution_count": 10,
      "outputs": [
        {
          "output_type": "execute_result",
          "data": {
            "text/plain": [
              "\"\\nplt.plot(x_ref,df['constrast'])   \\n\""
            ]
          },
          "metadata": {
            "tags": []
          },
          "execution_count": 10
        }
      ]
    },
    {
      "cell_type": "code",
      "metadata": {
        "id": "3QB5rgbiF8Pc",
        "colab_type": "code",
        "colab": {}
      },
      "source": [
        "# https://docs.scipy.org/doc/scipy/reference/generated/scipy.signal.find_peaks.html"
      ],
      "execution_count": 0,
      "outputs": []
    },
    {
      "cell_type": "code",
      "metadata": {
        "id": "U09-LfLZFNCw",
        "colab_type": "code",
        "outputId": "a7c552ee-e371-4606-e3a0-b064221b7ccb",
        "colab": {
          "base_uri": "https://localhost:8080/",
          "height": 56
        }
      },
      "source": [
        "'''\n",
        "x=np.array(df['constrast'])\n",
        "peaks, rr = find_peaks(x, height=0)\n",
        "plt.plot(x)\n",
        "plt.plot(peaks, x[peaks], \"x\")\n",
        "plt.plot(np.zeros_like(x), \"--\", color=\"gray\")\n",
        "plt.show()\n",
        "'''"
      ],
      "execution_count": 12,
      "outputs": [
        {
          "output_type": "execute_result",
          "data": {
            "text/plain": [
              "'\\nx=np.array(df[\\'constrast\\'])\\npeaks, rr = find_peaks(x, height=0)\\nplt.plot(x)\\nplt.plot(peaks, x[peaks], \"x\")\\nplt.plot(np.zeros_like(x), \"--\", color=\"gray\")\\nplt.show()\\n'"
            ]
          },
          "metadata": {
            "tags": []
          },
          "execution_count": 12
        }
      ]
    },
    {
      "cell_type": "code",
      "metadata": {
        "id": "s0z7uLL-FeVZ",
        "colab_type": "code",
        "outputId": "3759d9cf-5b26-4c95-d6f6-fe165267cf7e",
        "colab": {
          "base_uri": "https://localhost:8080/",
          "height": 36
        }
      },
      "source": [
        "'''\n",
        "print('Picos do contraste (posicao):')\n",
        "print(peaks)\n",
        "'''"
      ],
      "execution_count": 13,
      "outputs": [
        {
          "output_type": "execute_result",
          "data": {
            "text/plain": [
              "\"\\nprint('Picos do contraste (posicao):')\\nprint(peaks)\\n\""
            ]
          },
          "metadata": {
            "tags": []
          },
          "execution_count": 13
        }
      ]
    },
    {
      "cell_type": "code",
      "metadata": {
        "id": "7dujkF5CG_Rl",
        "colab_type": "code",
        "outputId": "576c8fca-be7a-45a5-acd8-a415dfe5dcfb",
        "colab": {
          "base_uri": "https://localhost:8080/",
          "height": 36
        }
      },
      "source": [
        "'''\n",
        "prominences = peak_prominences(x, peaks)[0]\n",
        "print(prominences)\n",
        "'''"
      ],
      "execution_count": 14,
      "outputs": [
        {
          "output_type": "execute_result",
          "data": {
            "text/plain": [
              "'\\nprominences = peak_prominences(x, peaks)[0]\\nprint(prominences)\\n'"
            ]
          },
          "metadata": {
            "tags": []
          },
          "execution_count": 14
        }
      ]
    },
    {
      "cell_type": "code",
      "metadata": {
        "id": "AFNEVWAnH7ui",
        "colab_type": "code",
        "outputId": "794ff06f-2d11-40be-c40d-0788267a78ba",
        "colab": {
          "base_uri": "https://localhost:8080/",
          "height": 36
        }
      },
      "source": [
        "'''\n",
        "results_widths = peak_widths(x, peaks, rel_height=0.5)\n",
        "print(results_widths)\n",
        "'''"
      ],
      "execution_count": 15,
      "outputs": [
        {
          "output_type": "execute_result",
          "data": {
            "text/plain": [
              "'\\nresults_widths = peak_widths(x, peaks, rel_height=0.5)\\nprint(results_widths)\\n'"
            ]
          },
          "metadata": {
            "tags": []
          },
          "execution_count": 15
        }
      ]
    }
  ]
}