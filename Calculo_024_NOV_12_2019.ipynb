{
  "nbformat": 4,
  "nbformat_minor": 0,
  "metadata": {
    "colab": {
      "name": "Calculo_024_NOV_12_2019.ipynb",
      "provenance": [],
      "collapsed_sections": [],
      "include_colab_link": true
    },
    "kernelspec": {
      "name": "python3",
      "display_name": "Python 3"
    }
  },
  "cells": [
    {
      "cell_type": "markdown",
      "metadata": {
        "id": "view-in-github",
        "colab_type": "text"
      },
      "source": [
        "<a href=\"https://colab.research.google.com/github/ucfilho/marquesgabi/blob/master/Calculo_024_NOV_12_2019.ipynb\" target=\"_parent\"><img src=\"https://colab.research.google.com/assets/colab-badge.svg\" alt=\"Open In Colab\"/></a>"
      ]
    },
    {
      "cell_type": "code",
      "metadata": {
        "id": "9q3V2QrqnMBI",
        "colab_type": "code",
        "colab": {}
      },
      "source": [
        "# carrega as bibliotecas do python"
      ],
      "execution_count": 0,
      "outputs": []
    },
    {
      "cell_type": "code",
      "metadata": {
        "id": "7ehcD9CI2hdG",
        "colab_type": "code",
        "colab": {}
      },
      "source": [
        "# rotate image....\n",
        "# https://www.pyimagesearch.com/2017/01/02/rotate-images-correctly-with-opencv-and-python/\n",
        "# https://pythontic.com/image-processing/pillow/rotate"
      ],
      "execution_count": 0,
      "outputs": []
    },
    {
      "cell_type": "code",
      "metadata": {
        "id": "szqvrsIInRDg",
        "colab_type": "code",
        "colab": {}
      },
      "source": [
        "%matplotlib inline\n",
        "from matplotlib import pyplot as plt\n",
        "import os \n",
        "import cv2\n",
        "import zipfile\n",
        "from skimage import data\n",
        "from skimage import filters\n",
        "from skimage import exposure\n",
        "import skimage.feature as sk\n",
        "import numpy as np\n",
        "import pandas as pd\n",
        "from google.colab import files\n",
        "from sklearn.metrics.cluster import entropy\n",
        "from sklearn.metrics.cluster import homogeneity_score\n",
        "from numpy import linalg as LA\n"
      ],
      "execution_count": 0,
      "outputs": []
    },
    {
      "cell_type": "code",
      "metadata": {
        "id": "zsjb8DmRVtDy",
        "colab_type": "code",
        "outputId": "9556dc69-846c-42dc-d092-ee22b96e3bec",
        "colab": {
          "base_uri": "https://localhost:8080/",
          "height": 204
        }
      },
      "source": [
        "!wget http://ftp.feq.ufu.br/ubirajara/Sugar_set_30_2019.zip"
      ],
      "execution_count": 0,
      "outputs": [
        {
          "output_type": "stream",
          "text": [
            "--2019-11-14 11:56:34--  http://ftp.feq.ufu.br/ubirajara/Sugar_set_30_2019.zip\n",
            "Resolving ftp.feq.ufu.br (ftp.feq.ufu.br)... 200.19.144.11\n",
            "Connecting to ftp.feq.ufu.br (ftp.feq.ufu.br)|200.19.144.11|:80... connected.\n",
            "HTTP request sent, awaiting response... 200 OK\n",
            "Length: 19584173 (19M) [application/zip]\n",
            "Saving to: ‘Sugar_set_30_2019.zip’\n",
            "\n",
            "Sugar_set_30_2019.z 100%[===================>]  18.68M  4.90MB/s    in 3.8s    \n",
            "\n",
            "2019-11-14 11:56:38 (4.90 MB/s) - ‘Sugar_set_30_2019.zip’ saved [19584173/19584173]\n",
            "\n"
          ],
          "name": "stdout"
        }
      ]
    },
    {
      "cell_type": "code",
      "metadata": {
        "id": "ygswjsh1ptUl",
        "colab_type": "code",
        "colab": {}
      },
      "source": [
        "\n",
        "file_name = zipfile.ZipFile('Sugar_set_30_2019.zip', 'r')\n",
        "file_name.extractall() "
      ],
      "execution_count": 0,
      "outputs": []
    },
    {
      "cell_type": "code",
      "metadata": {
        "id": "Qq1UTVWMnU0n",
        "colab_type": "code",
        "colab": {}
      },
      "source": [
        "# all images are resized in variable x, are in gray in variable p and in variable w are dataframe\n",
        "FILE='Sugar_set_30_2019.zip'\n",
        "img_name=[]\n",
        "x=[]\n",
        "p=[]\n",
        "w=[]\n",
        "Size=5 # trocar por 64 qdo acabar a analise\n",
        "\n",
        "with zipfile.ZipFile(FILE, \"r\") as f:\n",
        "    for name in f.namelist():\n",
        "        img_name.append(name)\n",
        "        #x.append(cv2.imread(name))\n",
        "        x.append(cv2.resize(cv2.imread(name),(Size,Size)))\n",
        "\n",
        "nrow=len(img_name)\n",
        "ncol=Size*Size\n",
        "pp=np.zeros((nrow,ncol)) #np é uma matriz e cada linha é uma foto\n",
        "for i in range(nrow):\n",
        "    w.append(cv2.cvtColor(np.array(x[i]), cv2.COLOR_BGR2GRAY))\n",
        "    pp[i,:]=w[i].ravel()"
      ],
      "execution_count": 0,
      "outputs": []
    },
    {
      "cell_type": "code",
      "metadata": {
        "id": "FFahQriWmGHt",
        "colab_type": "code",
        "outputId": "88e2c898-8461-470e-ed70-2e60a64d9f7b",
        "colab": {
          "base_uri": "https://localhost:8080/",
          "height": 153
        }
      },
      "source": [
        "!git clone https://github.com/ucfilho/marquesgabi #clonar do Github\n",
        "%cd marquesgabi\n",
        "import Go2GLCM #é uma função com as 14 fórmulas do GLCM"
      ],
      "execution_count": 0,
      "outputs": [
        {
          "output_type": "stream",
          "text": [
            "Cloning into 'marquesgabi'...\n",
            "remote: Enumerating objects: 85, done.\u001b[K\n",
            "remote: Counting objects:   1% (1/85)\u001b[K\rremote: Counting objects:   2% (2/85)\u001b[K\rremote: Counting objects:   3% (3/85)\u001b[K\rremote: Counting objects:   4% (4/85)\u001b[K\rremote: Counting objects:   5% (5/85)\u001b[K\rremote: Counting objects:   7% (6/85)\u001b[K\rremote: Counting objects:   8% (7/85)\u001b[K\rremote: Counting objects:   9% (8/85)\u001b[K\rremote: Counting objects:  10% (9/85)\u001b[K\rremote: Counting objects:  11% (10/85)\u001b[K\rremote: Counting objects:  12% (11/85)\u001b[K\rremote: Counting objects:  14% (12/85)\u001b[K\rremote: Counting objects:  15% (13/85)\u001b[K\rremote: Counting objects:  16% (14/85)\u001b[K\rremote: Counting objects:  17% (15/85)\u001b[K\rremote: Counting objects:  18% (16/85)\u001b[K\rremote: Counting objects:  20% (17/85)\u001b[K\rremote: Counting objects:  21% (18/85)\u001b[K\rremote: Counting objects:  22% (19/85)\u001b[K\rremote: Counting objects:  23% (20/85)\u001b[K\rremote: Counting objects:  24% (21/85)\u001b[K\rremote: Counting objects:  25% (22/85)\u001b[K\rremote: Counting objects:  27% (23/85)\u001b[K\rremote: Counting objects:  28% (24/85)\u001b[K\rremote: Counting objects:  29% (25/85)\u001b[K\rremote: Counting objects:  30% (26/85)\u001b[K\rremote: Counting objects:  31% (27/85)\u001b[K\rremote: Counting objects:  32% (28/85)\u001b[K\rremote: Counting objects:  34% (29/85)\u001b[K\rremote: Counting objects:  35% (30/85)\u001b[K\rremote: Counting objects:  36% (31/85)\u001b[K\rremote: Counting objects:  37% (32/85)\u001b[K\rremote: Counting objects:  38% (33/85)\u001b[K\rremote: Counting objects:  40% (34/85)\u001b[K\rremote: Counting objects:  41% (35/85)\u001b[K\rremote: Counting objects:  42% (36/85)\u001b[K\rremote: Counting objects:  43% (37/85)\u001b[K\rremote: Counting objects:  44% (38/85)\u001b[K\rremote: Counting objects:  45% (39/85)\u001b[K\rremote: Counting objects:  47% (40/85)\u001b[K\rremote: Counting objects:  48% (41/85)\u001b[K\rremote: Counting objects:  49% (42/85)\u001b[K\rremote: Counting objects:  50% (43/85)\u001b[K\rremote: Counting objects:  51% (44/85)\u001b[K\rremote: Counting objects:  52% (45/85)\u001b[K\rremote: Counting objects:  54% (46/85)\u001b[K\rremote: Counting objects:  55% (47/85)\u001b[K\rremote: Counting objects:  56% (48/85)\u001b[K\rremote: Counting objects:  57% (49/85)\u001b[K\rremote: Counting objects:  58% (50/85)\u001b[K\rremote: Counting objects:  60% (51/85)\u001b[K\rremote: Counting objects:  61% (52/85)\u001b[K\rremote: Counting objects:  62% (53/85)\u001b[K\rremote: Counting objects:  63% (54/85)\u001b[K\rremote: Counting objects:  64% (55/85)\u001b[K\rremote: Counting objects:  65% (56/85)\u001b[K\rremote: Counting objects:  67% (57/85)\u001b[K\rremote: Counting objects:  68% (58/85)\u001b[K\rremote: Counting objects:  69% (59/85)\u001b[K\rremote: Counting objects:  70% (60/85)\u001b[K\rremote: Counting objects:  71% (61/85)\u001b[K\rremote: Counting objects:  72% (62/85)\u001b[K\rremote: Counting objects:  74% (63/85)\u001b[K\rremote: Counting objects:  75% (64/85)\u001b[K\rremote: Counting objects:  76% (65/85)\u001b[K\rremote: Counting objects:  77% (66/85)\u001b[K\rremote: Counting objects:  78% (67/85)\u001b[K\rremote: Counting objects:  80% (68/85)\u001b[K\rremote: Counting objects:  81% (69/85)\u001b[K\rremote: Counting objects:  82% (70/85)\u001b[K\rremote: Counting objects:  83% (71/85)\u001b[K\rremote: Counting objects:  84% (72/85)\u001b[K\rremote: Counting objects:  85% (73/85)\u001b[K\rremote: Counting objects:  87% (74/85)\u001b[K\rremote: Counting objects:  88% (75/85)\u001b[K\rremote: Counting objects:  89% (76/85)\u001b[K\rremote: Counting objects:  90% (77/85)\u001b[K\rremote: Counting objects:  91% (78/85)\u001b[K\rremote: Counting objects:  92% (79/85)\u001b[K\rremote: Counting objects:  94% (80/85)\u001b[K\rremote: Counting objects:  95% (81/85)\u001b[K\rremote: Counting objects:  96% (82/85)\u001b[K\rremote: Counting objects:  97% (83/85)\u001b[K\rremote: Counting objects:  98% (84/85)\u001b[K\rremote: Counting objects: 100% (85/85)\u001b[K\rremote: Counting objects: 100% (85/85), done.\u001b[K\n",
            "remote: Compressing objects: 100% (85/85), done.\u001b[K\n",
            "remote: Total 247 (delta 50), reused 0 (delta 0), pack-reused 162\u001b[K\n",
            "Receiving objects: 100% (247/247), 3.62 MiB | 5.69 MiB/s, done.\n",
            "Resolving deltas: 100% (136/136), done.\n",
            "/content/marquesgabi/marquesgabi/marquesgabi/marquesgabi/marquesgabi/marquesgabi/marquesgabi/marquesgabi\n"
          ],
          "name": "stdout"
        }
      ]
    },
    {
      "cell_type": "code",
      "metadata": {
        "id": "9XPFWhiq3tGW",
        "colab_type": "code",
        "outputId": "c9e3ad56-75a3-4b41-d90e-5e2342f87f59",
        "colab": {
          "base_uri": "https://localhost:8080/",
          "height": 374
        }
      },
      "source": [
        "Nfotos=len(img_name)\n",
        "print(Nfotos)\n",
        "GLCM=[]\n",
        "for k in range(Nfotos): \n",
        "  p=pp[k,:].reshape(Size,Size) #voltar o pp para p novamente no formato ij, mas sem as info que atrapalham\n",
        "  MAT=Go2GLCM.GLCM(p) #???????????\n",
        "  pd.set_option('display.max_columns', 30)\n",
        "  GLCM.append(MAT.ravel())\n",
        "\n",
        "Nomes=['ASM','constrast','correl','variance','inv diff mom','sum aveg',\n",
        "       'sum var','sum entropy','entropy','dif var','dif entropy','IMC1',\n",
        "       'IMC2','MCC']\n",
        "print(pd.DataFrame(GLCM,columns=Nomes).head())\n",
        "  "
      ],
      "execution_count": 0,
      "outputs": [
        {
          "output_type": "stream",
          "text": [
            "24\n",
            "        ASM  constrast     correl  variance  inv diff mom   sum aveg  \\\n",
            "0  0.040159   4.006764 -48.388893  5.873156      0.423837  20.097900   \n",
            "1  0.041540   4.282528 -47.724904  5.762803      0.411868  20.118283   \n",
            "2  0.040287   4.030399 -49.193342  5.979967      0.424910  20.208554   \n",
            "3  0.040175   4.015663 -48.607804  6.027608      0.435603  20.231465   \n",
            "4  0.040313   4.043838 -47.746904  5.656749      0.422210  19.935322   \n",
            "\n",
            "     sum var  sum entropy   entropy    dif var  dif entropy      IMC1  \\\n",
            "0  38.848134     2.080038  0.648663  20.033820     7.608990 -0.000770   \n",
            "1  38.570089     2.064334  0.646616  21.412639     7.688757 -0.005531   \n",
            "2  39.133866     2.071191  0.656965  20.151997     7.628194 -0.001239   \n",
            "3  39.597120     2.083742  0.653877  20.078315     7.654684 -0.000658   \n",
            "4  38.085237     2.073301  0.652921  20.219188     7.614789 -0.001073   \n",
            "\n",
            "       IMC2       MCC  \n",
            "0  0.049748  0.039787  \n",
            "1  0.132720  0.133372  \n",
            "2  0.063068  0.045709  \n",
            "3  0.045987  0.036992  \n",
            "4  0.058718  0.051329  \n"
          ],
          "name": "stdout"
        }
      ]
    },
    {
      "cell_type": "code",
      "metadata": {
        "id": "8JqTwJ9TpmzE",
        "colab_type": "code",
        "outputId": "ca1311d9-c071-4f07-fc3a-fd886d9e91dc",
        "colab": {
          "base_uri": "https://localhost:8080/",
          "height": 34
        }
      },
      "source": [
        "print(p.shape)"
      ],
      "execution_count": 0,
      "outputs": [
        {
          "output_type": "stream",
          "text": [
            "(5, 5)\n"
          ],
          "name": "stdout"
        }
      ]
    },
    {
      "cell_type": "code",
      "metadata": {
        "id": "4SByB4bq4wO9",
        "colab_type": "code",
        "outputId": "39725ea4-613c-4df1-ee6f-f748c7b3a439",
        "colab": {
          "base_uri": "https://localhost:8080/",
          "height": 54
        }
      },
      "source": [
        "'''          \n",
        "          0         1          2         3         4          5          6  \\\n",
        "0  0.040159  4.006764 -48.388893  5.873156  0.423837  20.097900  38.848134   \n",
        "1  0.041540  4.282528 -47.724904  5.762803  0.411868  20.118283  38.570089   \n",
        "2  0.040287  4.030399 -49.193342  5.979967  0.424910  20.208554  39.133866   \n",
        "3  0.040175  4.015663 -48.607804  6.027608  0.435603  20.231465  39.597120   \n",
        "4  0.040313  4.043838 -47.746904  5.656749  0.422210  19.935322  38.085237   \n",
        "\n",
        "          7         8          9        10        11        12        13  \n",
        "0  2.080038  0.648663  20.033820  7.608990 -0.000770  0.049748  0.039787  \n",
        "1  2.064334  0.646616  21.412639  7.688757 -0.005531  0.132720  0.133372  \n",
        "2  2.071191  0.656965  20.151997  7.628194 -0.001239  0.063068  0.045709  \n",
        "3  2.083742  0.653877  20.078315  7.654684 -0.000658  0.045987  0.036992  \n",
        "4  2.073301  0.652921  20.219188  7.614789 -0.001073  0.058718  0.051329\n",
        "'''"
      ],
      "execution_count": 0,
      "outputs": [
        {
          "output_type": "execute_result",
          "data": {
            "text/plain": [
              "'          \\n          0         1          2         3         4          5          6  0  0.040159  4.006764 -48.388893  5.873156  0.423837  20.097900  38.848134   \\n1  0.041540  4.282528 -47.724904  5.762803  0.411868  20.118283  38.570089   \\n2  0.040287  4.030399 -49.193342  5.979967  0.424910  20.208554  39.133866   \\n3  0.040175  4.015663 -48.607804  6.027608  0.435603  20.231465  39.597120   \\n4  0.040313  4.043838 -47.746904  5.656749  0.422210  19.935322  38.085237   \\n\\n          7         8          9        10        11        12        13  \\n0  2.080038  0.648663  20.033820  7.608990 -0.000770  0.049748  0.039787  \\n1  2.064334  0.646616  21.412639  7.688757 -0.005531  0.132720  0.133372  \\n2  2.071191  0.656965  20.151997  7.628194 -0.001239  0.063068  0.045709  \\n3  2.083742  0.653877  20.078315  7.654684 -0.000658  0.045987  0.036992  \\n4  2.073301  0.652921  20.219188  7.614789 -0.001073  0.058718  0.051329\\n'"
            ]
          },
          "metadata": {
            "tags": []
          },
          "execution_count": 193
        }
      ]
    },
    {
      "cell_type": "code",
      "metadata": {
        "id": "DVBIw8hpxRC3",
        "colab_type": "code",
        "outputId": "40146d53-a129-49d5-a314-7200997c244e",
        "colab": {
          "base_uri": "https://localhost:8080/",
          "height": 85
        }
      },
      "source": [
        "#Entender o greycomatrix e o greycoprops\n",
        "import numpy as np\n",
        "#from skimage.feature import haar_like_feature_coord\n",
        "#from skimage.feature import draw_haar_like_feature\n",
        "from skimage.feature import greycomatrix\n",
        "from skimage.feature import greycoprops\n",
        "image = np.array([[0, 0, 1, 1],[0, 0, 1, 1],[0, 2, 2, 2],[2, 2, 3, 3]], dtype=np.uint8)\n",
        "g = greycomatrix(image, [1, 2], [0, np.pi/2], levels=6,normed=True, symmetric=True)\n",
        "contrast = greycoprops(g, 'contrast')\n",
        "correlation= greycoprops(g, 'correlation')\n",
        "print(contrast)\n",
        "print(correlation)"
      ],
      "execution_count": 0,
      "outputs": [
        {
          "output_type": "stream",
          "text": [
            "[[0.58333333 1.        ]\n",
            " [1.25       2.75      ]]\n",
            "[[ 0.71953255  0.48571429]\n",
            " [ 0.41176471 -0.29411765]]\n"
          ],
          "name": "stdout"
        }
      ]
    },
    {
      "cell_type": "code",
      "metadata": {
        "id": "f3-bQ4EKb7Ua",
        "colab_type": "code",
        "outputId": "4563fba3-9600-44e6-dfd8-2d69ef321433",
        "colab": {
          "base_uri": "https://localhost:8080/",
          "height": 85
        }
      },
      "source": [
        "image = np.array(w[0], dtype=np.uint8)\n",
        "g = greycomatrix(image, [1, 2], [0, np.pi/2], levels=255,normed=True, symmetric=True)\n",
        "contrast = greycoprops(g, 'contrast')\n",
        "correlation= greycoprops(g, 'correlation')\n",
        "print(contrast)\n",
        "print(correlation)"
      ],
      "execution_count": 0,
      "outputs": [
        {
          "output_type": "stream",
          "text": [
            "[[ 98.2         85.1       ]\n",
            " [153.66666667  72.4       ]]\n",
            "[[-0.0829887   0.15825915]\n",
            " [-0.56657076  0.20068695]]\n"
          ],
          "name": "stdout"
        }
      ]
    },
    {
      "cell_type": "code",
      "metadata": {
        "id": "aiA8Ic5DR1Dc",
        "colab_type": "code",
        "outputId": "d6ccdb6a-3f84-499f-f212-1dc9a9ecd330",
        "colab": {
          "base_uri": "https://localhost:8080/",
          "height": 85
        }
      },
      "source": [
        "P=w[0]\n",
        "print\n",
        "row,col=P.shape\n",
        "Size=row\n",
        "Soma=0\n",
        "for i in range(Size):\n",
        "    for j in range(Size):\n",
        "      Soma=Soma+P[i,j]\n",
        "  \n",
        "for i in range(Size):\n",
        "  for j in range(Size):\n",
        "    P[i,j]=P[i,j]/Soma\n",
        "\n",
        "image = np.array(P, dtype=np.uint8)\n",
        "g = greycomatrix(image, [1, 2], [0, np.pi/2], levels=255,normed=True, symmetric=True)\n",
        "contrast = greycoprops(g, 'contrast')\n",
        "correlation= greycoprops(g, 'correlation')\n",
        "print(contrast)\n",
        "print(correlation)"
      ],
      "execution_count": 0,
      "outputs": [
        {
          "output_type": "stream",
          "text": [
            "[[0. 0.]\n",
            " [0. 0.]]\n",
            "[[1. 1.]\n",
            " [1. 1.]]\n"
          ],
          "name": "stdout"
        }
      ]
    },
    {
      "cell_type": "code",
      "metadata": {
        "id": "T1T7VLXfX8u3",
        "colab_type": "code",
        "outputId": "7c8b2306-ff7f-412f-d0a6-9ddb62727d77",
        "colab": {
          "base_uri": "https://localhost:8080/",
          "height": 119
        }
      },
      "source": [
        "print(P);print(Size)"
      ],
      "execution_count": 0,
      "outputs": [
        {
          "output_type": "stream",
          "text": [
            "[[0 0 0 0 0]\n",
            " [0 0 0 0 0]\n",
            " [0 0 0 0 0]\n",
            " [0 0 0 0 0]\n",
            " [0 0 0 0 0]]\n",
            "5\n"
          ],
          "name": "stdout"
        }
      ]
    },
    {
      "cell_type": "code",
      "metadata": {
        "id": "yfCdjVXYUyxa",
        "colab_type": "code",
        "colab": {}
      },
      "source": [
        "# glcm = [0 1 2 3;1 1 2 3;1 0 2 0;0 0 0 3]"
      ],
      "execution_count": 0,
      "outputs": []
    },
    {
      "cell_type": "code",
      "metadata": {
        "id": "rf0_P-i_U4sV",
        "colab_type": "code",
        "outputId": "f86080d4-5208-4579-fc98-fbe8968ef5f2",
        "colab": {
          "base_uri": "https://localhost:8080/",
          "height": 54
        }
      },
      "source": [
        "'''\n",
        "https://www.mathworks.com/help/images/ref/graycoprops.html\n",
        "glcm = 4×4\n",
        "\n",
        "     0     1     2     3\n",
        "     1     1     2     3\n",
        "     1     0     2     0\n",
        "     0     0     0     3\n",
        "'''"
      ],
      "execution_count": 0,
      "outputs": [
        {
          "output_type": "execute_result",
          "data": {
            "text/plain": [
              "'\\nhttps://www.mathworks.com/help/images/ref/graycoprops.html\\nglcm = 4×4\\n\\n     0     1     2     3\\n     1     1     2     3\\n     1     0     2     0\\n     0     0     0     3\\n'"
            ]
          },
          "metadata": {
            "tags": []
          },
          "execution_count": 199
        }
      ]
    },
    {
      "cell_type": "code",
      "metadata": {
        "id": "0VHCSz9AU8aW",
        "colab_type": "code",
        "outputId": "07739b81-a753-4199-9e81-4ccf6dcc793b",
        "colab": {
          "base_uri": "https://localhost:8080/",
          "height": 54
        }
      },
      "source": [
        "'''\n",
        "stats = graycoprops(glcm)\n",
        "stats = struct with fields:\n",
        "       Contrast: 2.8947\n",
        "    Correlation: 0.0783\n",
        "         Energy: 0.1191\n",
        "    Homogeneity: 0.5658\n",
        "'''"
      ],
      "execution_count": 0,
      "outputs": [
        {
          "output_type": "execute_result",
          "data": {
            "text/plain": [
              "'\\nstats = graycoprops(glcm)\\nstats = struct with fields:\\n       Contrast: 2.8947\\n    Correlation: 0.0783\\n         Energy: 0.1191\\n    Homogeneity: 0.5658\\n'"
            ]
          },
          "metadata": {
            "tags": []
          },
          "execution_count": 200
        }
      ]
    },
    {
      "cell_type": "code",
      "metadata": {
        "id": "AQFCL9xiVFVI",
        "colab_type": "code",
        "outputId": "a6bdb567-9b08-4f8a-9cd2-d21cde388c11",
        "colab": {
          "base_uri": "https://localhost:8080/",
          "height": 85
        }
      },
      "source": [
        "glcm = np.array([[0, 1, 2, 3],[1, 1, 2, 3],[1, 0, 2, 0],[0, 0, 0, 3]]);print(glcm)"
      ],
      "execution_count": 0,
      "outputs": [
        {
          "output_type": "stream",
          "text": [
            "[[0 1 2 3]\n",
            " [1 1 2 3]\n",
            " [1 0 2 0]\n",
            " [0 0 0 3]]\n"
          ],
          "name": "stdout"
        }
      ]
    },
    {
      "cell_type": "code",
      "metadata": {
        "colab_type": "code",
        "outputId": "1af06c94-1071-4058-a647-02e684bcbc58",
        "id": "Tf3rDWIVKpCw",
        "colab": {
          "base_uri": "https://localhost:8080/",
          "height": 85
        }
      },
      "source": [
        "glcm = np.array([[0, 1, 2, 3],[1, 1, 2, 3],[1, 0, 2, 0],[0, 0, 0, 3]]);print(glcm)"
      ],
      "execution_count": 0,
      "outputs": [
        {
          "output_type": "stream",
          "text": [
            "[[0 1 2 3]\n",
            " [1 1 2 3]\n",
            " [1 0 2 0]\n",
            " [0 0 0 3]]\n"
          ],
          "name": "stdout"
        }
      ]
    },
    {
      "cell_type": "code",
      "metadata": {
        "id": "Es3xk8QnWZtf",
        "colab_type": "code",
        "outputId": "86c485c0-1e55-41e7-f431-63566efb6565",
        "colab": {
          "base_uri": "https://localhost:8080/",
          "height": 85
        }
      },
      "source": [
        "image = np.array(glcm, dtype=np.uint8)\n",
        "g = greycomatrix(image, [0,1], [0, np.pi/2], levels=4, normed=True, symmetric=True)\n",
        "contrast = greycoprops(g, 'contrast')\n",
        "correlation= greycoprops(g, 'correlation')\n",
        "print(contrast)\n",
        "print(correlation)"
      ],
      "execution_count": 0,
      "outputs": [
        {
          "output_type": "stream",
          "text": [
            "[[0.         0.        ]\n",
            " [1.91666667 2.08333333]]\n",
            "[[1.         1.        ]\n",
            " [0.13615023 0.10581222]]\n"
          ],
          "name": "stdout"
        }
      ]
    },
    {
      "cell_type": "code",
      "metadata": {
        "colab_type": "code",
        "outputId": "3500777c-62a1-4276-d1ab-fa9b03401320",
        "id": "73wNKi0TKv13",
        "colab": {
          "base_uri": "https://localhost:8080/",
          "height": 85
        }
      },
      "source": [
        "Glcm_test = np.array([[0, 1, 2, 3],[1, 1, 2, 3],[1, 0, 2, 0],[0, 0, 0, 3]]);print(Glcm_test)"
      ],
      "execution_count": 0,
      "outputs": [
        {
          "output_type": "stream",
          "text": [
            "[[0 1 2 3]\n",
            " [1 1 2 3]\n",
            " [1 0 2 0]\n",
            " [0 0 0 3]]\n"
          ],
          "name": "stdout"
        }
      ]
    },
    {
      "cell_type": "code",
      "metadata": {
        "id": "L6ctF1EmVssR",
        "colab_type": "code",
        "outputId": "6cabda47-c263-48d9-ea52-576487eca36d",
        "colab": {
          "base_uri": "https://localhost:8080/",
          "height": 527
        }
      },
      "source": [
        "row,col=glcm.shape\n",
        "print('====');print(Glcm_test)\n",
        "GLCMat=np.zeros((row,col))\n",
        "for i in range(row):\n",
        "  for j in range(col):\n",
        "    print(Glcm_test[i,j])\n",
        "    A=2**Glcm_test[i,j]\n",
        "    GLCMat[i,j]=A\n",
        "print(GLCMat)\n",
        "MAT=Go2GLCM.GLCM(GLCMat) # como calcular se tem zero???\n",
        "Nomes=['ASM','constrast','correl','variance','inv diff mom','sum aveg',\n",
        "       'sum var','sum entropy','entropy','dif var','dif entropy','IMC1',\n",
        "       'IMC2','MCC']\n",
        "print(pd.DataFrame(MAT,columns=Nomes))\n",
        "#print(MAT)"
      ],
      "execution_count": 0,
      "outputs": [
        {
          "output_type": "stream",
          "text": [
            "====\n",
            "[[0 1 2 3]\n",
            " [1 1 2 3]\n",
            " [1 0 2 0]\n",
            " [0 0 0 3]]\n",
            "0\n",
            "1\n",
            "2\n",
            "3\n",
            "1\n",
            "1\n",
            "2\n",
            "3\n",
            "1\n",
            "0\n",
            "2\n",
            "0\n",
            "0\n",
            "0\n",
            "0\n",
            "3\n",
            "[[1. 2. 4. 8.]\n",
            " [2. 2. 4. 8.]\n",
            " [2. 1. 4. 1.]\n",
            " [1. 1. 1. 8.]]\n",
            "      ASM  constrast     correl  variance  inv diff mom  sum aveg    sum var  \\\n",
            "0  0.1048       3.04 -35.910537  2.781406         0.488     13.76  21.386099   \n",
            "\n",
            "   sum entropy  entropy  dif var  dif entropy      IMC1      IMC2       MCC  \n",
            "0     1.702149  0.95788    12.16     5.456622 -0.064736  0.400743  0.388483  \n"
          ],
          "name": "stdout"
        }
      ]
    },
    {
      "cell_type": "code",
      "metadata": {
        "id": "A72kNG5LLrZ0",
        "colab_type": "code",
        "outputId": "da04c234-3469-4164-85a1-9ee482c7846a",
        "colab": {
          "base_uri": "https://localhost:8080/",
          "height": 34
        }
      },
      "source": [
        "print(MAT[0,0]**0.5)"
      ],
      "execution_count": 0,
      "outputs": [
        {
          "output_type": "stream",
          "text": [
            "0.3237282811247729\n"
          ],
          "name": "stdout"
        }
      ]
    },
    {
      "cell_type": "code",
      "metadata": {
        "colab_type": "code",
        "id": "XaKkeOqwK1oH",
        "outputId": "e8f42324-e2f6-4e1b-df8a-fb8d337be342",
        "colab": {
          "base_uri": "https://localhost:8080/",
          "height": 85
        }
      },
      "source": [
        "glcm = np.array([[0, 1, 2, 3],[1, 1, 2, 3],[1, 0, 2, 0],[0, 0, 0, 3]]);print(glcm)"
      ],
      "execution_count": 0,
      "outputs": [
        {
          "output_type": "stream",
          "text": [
            "[[0 1 2 3]\n",
            " [1 1 2 3]\n",
            " [1 0 2 0]\n",
            " [0 0 0 3]]\n"
          ],
          "name": "stdout"
        }
      ]
    },
    {
      "cell_type": "code",
      "metadata": {
        "colab_type": "code",
        "id": "Yt7lXlyGK6ff",
        "colab": {}
      },
      "source": [
        "#MAT=Go2GLCM.GLCM(glcm) #Como calcular se tem zero???\n",
        "#print(MAT)"
      ],
      "execution_count": 0,
      "outputs": []
    }
  ]
}