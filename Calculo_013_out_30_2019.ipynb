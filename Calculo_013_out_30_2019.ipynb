{
  "nbformat": 4,
  "nbformat_minor": 0,
  "metadata": {
    "colab": {
      "name": "Calculo_013_out_30_2019.ipynb",
      "provenance": [],
      "collapsed_sections": [],
      "include_colab_link": true
    },
    "kernelspec": {
      "name": "python3",
      "display_name": "Python 3"
    }
  },
  "cells": [
    {
      "cell_type": "markdown",
      "metadata": {
        "id": "view-in-github",
        "colab_type": "text"
      },
      "source": [
        "<a href=\"https://colab.research.google.com/github/ucfilho/marquesgabi/blob/master/Calculo_013_out_30_2019.ipynb\" target=\"_parent\"><img src=\"https://colab.research.google.com/assets/colab-badge.svg\" alt=\"Open In Colab\"/></a>"
      ]
    },
    {
      "cell_type": "code",
      "metadata": {
        "id": "9q3V2QrqnMBI",
        "colab_type": "code",
        "colab": {}
      },
      "source": [
        "# carrega as bibliotecas do python"
      ],
      "execution_count": 0,
      "outputs": []
    },
    {
      "cell_type": "code",
      "metadata": {
        "id": "szqvrsIInRDg",
        "colab_type": "code",
        "colab": {}
      },
      "source": [
        "%matplotlib inline\n",
        "from matplotlib import pyplot as plt\n",
        "import os \n",
        "import cv2\n",
        "import zipfile\n",
        "from skimage import data\n",
        "from skimage import filters\n",
        "from skimage import exposure\n",
        "import skimage.feature as sk\n",
        "import numpy as np\n",
        "import pandas as pd\n",
        "from google.colab import files\n",
        "from sklearn.metrics.cluster import entropy\n",
        "from sklearn.metrics.cluster import homogeneity_score\n"
      ],
      "execution_count": 0,
      "outputs": []
    },
    {
      "cell_type": "code",
      "metadata": {
        "id": "zsjb8DmRVtDy",
        "colab_type": "code",
        "outputId": "c5128bc6-e06c-4e52-f7d9-260a868623b7",
        "colab": {
          "base_uri": "https://localhost:8080/",
          "height": 223
        }
      },
      "source": [
        "!wget http://ftp.feq.ufu.br/ubirajara/Sugar_set_30_2019.zip\n",
        "#!ls -l trash_nov_22_2018.zip\n"
      ],
      "execution_count": 5,
      "outputs": [
        {
          "output_type": "stream",
          "text": [
            "--2019-10-30 13:31:17--  http://ftp.feq.ufu.br/ubirajara/Sugar_set_30_2019.zip\n",
            "Resolving ftp.feq.ufu.br (ftp.feq.ufu.br)... 200.19.144.11\n",
            "Connecting to ftp.feq.ufu.br (ftp.feq.ufu.br)|200.19.144.11|:80... connected.\n",
            "HTTP request sent, awaiting response... 200 OK\n",
            "Length: 19584173 (19M) [application/zip]\n",
            "Saving to: ‘Sugar_set_30_2019.zip’\n",
            "\n",
            "Sugar_set_30_2019.z 100%[===================>]  18.68M  5.63MB/s    in 3.3s    \n",
            "\n",
            "2019-10-30 13:31:21 (5.63 MB/s) - ‘Sugar_set_30_2019.zip’ saved [19584173/19584173]\n",
            "\n"
          ],
          "name": "stdout"
        }
      ]
    },
    {
      "cell_type": "code",
      "metadata": {
        "id": "ygswjsh1ptUl",
        "colab_type": "code",
        "colab": {}
      },
      "source": [
        "\n",
        "file_name = zipfile.ZipFile('Sugar_set_30_2019.zip', 'r')\n",
        "file_name.extractall() "
      ],
      "execution_count": 0,
      "outputs": []
    },
    {
      "cell_type": "code",
      "metadata": {
        "id": "Qq1UTVWMnU0n",
        "colab_type": "code",
        "colab": {}
      },
      "source": [
        "# all images are resized in variable x, are in gray in variable p and in variable w are dataframe\n",
        "FILE='Sugar_set_30_2019.zip'\n",
        "img_name=[]\n",
        "x=[]\n",
        "p=[]\n",
        "w=[]\n",
        "Size=5 # trocar por 64 qdo acabar a analise\n",
        "\n",
        "with zipfile.ZipFile(FILE, \"r\") as f:\n",
        "    for name in f.namelist():\n",
        "        img_name.append(name)\n",
        "        #x.append(cv2.imread(name))\n",
        "        x.append(cv2.resize(cv2.imread(name),(Size,Size)))\n",
        "\n",
        "nrow=len(img_name)\n",
        "ncol=Size*Size\n",
        "pp=np.zeros((nrow,ncol))\n",
        "for i in range(nrow):\n",
        "    w.append(cv2.cvtColor(np.array(x[i]), cv2.COLOR_BGR2GRAY))\n",
        "    pp[i,:]=w[i].ravel()"
      ],
      "execution_count": 0,
      "outputs": []
    },
    {
      "cell_type": "code",
      "metadata": {
        "id": "9XPFWhiq3tGW",
        "colab_type": "code",
        "colab": {}
      },
      "source": [
        "Nfotos=len(img_name)\n",
        "GLCM=np.zeros((Nfotos, 14))   # lembrar do ANN_Hydrofoil_Neuronio_set_17_2018.ipynb\n",
        "Nrow=Size\n",
        "Ncol=Size\n",
        "#print(GLCM.shape)\n",
        "#Soma=np.sum(pp[k,:])\n",
        "for k in range(Nfotos):\n",
        "  \n",
        "  p=pp[k,:].reshape(Size,Size)\n",
        "  Soma=0\n",
        "  for i in range(Size):\n",
        "    for j in range(Size):\n",
        "      Soma=Soma+p[i,j]\n",
        "   \n",
        "  for i in range(Size):\n",
        "    for j in range(Size):\n",
        "      p[i,j]=p[i,j]/Soma\n",
        "\n",
        "  for i in range(Nrow):\n",
        "    for j in range(Ncol):\n",
        "      #print(\"i=%d j=%d k=%d\"%(i,j,k))\n",
        "      GLCM[k,7]=GLCM[k,7]-p[i,j]*np.log(p[i,j]) # entropia\n",
        "      GLCM[k,0]=GLCM[k,0]+p[i,j]**2 #segundo momento angular\n",
        "      GLCM[k,1]=GLCM[k,1]+(i-j)**2*p[i,j] #contraste\n",
        "      GLCM[k,3]=GLCM[k,3]+(i-np.mean(p))**2*p[i,j] #Variancia\n",
        "\n"
      ],
      "execution_count": 0,
      "outputs": []
    },
    {
      "cell_type": "code",
      "metadata": {
        "id": "bWRUesbYqQ2v",
        "colab_type": "code",
        "outputId": "635c11ea-6b1c-47c3-c292-85914b77e2d3",
        "colab": {
          "base_uri": "https://localhost:8080/",
          "height": 969
        }
      },
      "source": [
        "pd.set_option('display.max_columns', 30)\n",
        "print(pd.DataFrame(GLCM))"
      ],
      "execution_count": 9,
      "outputs": [
        {
          "output_type": "stream",
          "text": [
            "           0         1    2         3    4    5    6         7    8    9   10  \\\n",
            "0   0.040159  4.006764  0.0  5.873156  0.0  0.0  0.0  3.216867  0.0  0.0  0.0   \n",
            "1   0.041540  4.282528  0.0  5.762803  0.0  0.0  0.0  3.203164  0.0  0.0  0.0   \n",
            "2   0.040287  4.030399  0.0  5.979967  0.0  0.0  0.0  3.215219  0.0  0.0  0.0   \n",
            "3   0.040175  4.015663  0.0  6.027608  0.0  0.0  0.0  3.216685  0.0  0.0  0.0   \n",
            "4   0.040313  4.043838  0.0  5.656749  0.0  0.0  0.0  3.214975  0.0  0.0  0.0   \n",
            "5   0.040234  4.056964  0.0  5.948915  0.0  0.0  0.0  3.215969  0.0  0.0  0.0   \n",
            "6   0.040177  3.895373  0.0  5.944445  0.0  0.0  0.0  3.216637  0.0  0.0  0.0   \n",
            "7   0.040276  3.931919  0.0  6.036687  0.0  0.0  0.0  3.215371  0.0  0.0  0.0   \n",
            "8   0.040229  3.993338  0.0  6.066993  0.0  0.0  0.0  3.216015  0.0  0.0  0.0   \n",
            "9   0.040272  3.979461  0.0  5.888981  0.0  0.0  0.0  3.215601  0.0  0.0  0.0   \n",
            "10  0.040134  3.934069  0.0  5.729726  0.0  0.0  0.0  3.217205  0.0  0.0  0.0   \n",
            "11  0.041463  3.928237  0.0  5.890711  0.0  0.0  0.0  3.203624  0.0  0.0  0.0   \n",
            "12  0.040367  4.035181  0.0  5.853991  0.0  0.0  0.0  3.214418  0.0  0.0  0.0   \n",
            "13  0.040158  3.968848  0.0  5.912714  0.0  0.0  0.0  3.216909  0.0  0.0  0.0   \n",
            "14  0.040253  4.044039  0.0  5.959033  0.0  0.0  0.0  3.215724  0.0  0.0  0.0   \n",
            "15  0.040186  4.023711  0.0  5.956926  0.0  0.0  0.0  3.216545  0.0  0.0  0.0   \n",
            "16  0.040090  4.097282  0.0  5.946493  0.0  0.0  0.0  3.217750  0.0  0.0  0.0   \n",
            "17  0.040080  4.012748  0.0  6.011883  0.0  0.0  0.0  3.217872  0.0  0.0  0.0   \n",
            "18  0.040168  3.938882  0.0  5.859662  0.0  0.0  0.0  3.216786  0.0  0.0  0.0   \n",
            "19  0.040256  3.993746  0.0  6.041455  0.0  0.0  0.0  3.215717  0.0  0.0  0.0   \n",
            "20  0.041017  3.807823  0.0  5.624193  0.0  0.0  0.0  3.207716  0.0  0.0  0.0   \n",
            "21  0.040295  3.873777  0.0  5.934538  0.0  0.0  0.0  3.215196  0.0  0.0  0.0   \n",
            "22  0.040133  4.009592  0.0  5.925221  0.0  0.0  0.0  3.217210  0.0  0.0  0.0   \n",
            "23  0.040141  3.981876  0.0  5.783934  0.0  0.0  0.0  3.217122  0.0  0.0  0.0   \n",
            "\n",
            "     11   12   13  \n",
            "0   0.0  0.0  0.0  \n",
            "1   0.0  0.0  0.0  \n",
            "2   0.0  0.0  0.0  \n",
            "3   0.0  0.0  0.0  \n",
            "4   0.0  0.0  0.0  \n",
            "5   0.0  0.0  0.0  \n",
            "6   0.0  0.0  0.0  \n",
            "7   0.0  0.0  0.0  \n",
            "8   0.0  0.0  0.0  \n",
            "9   0.0  0.0  0.0  \n",
            "10  0.0  0.0  0.0  \n",
            "11  0.0  0.0  0.0  \n",
            "12  0.0  0.0  0.0  \n",
            "13  0.0  0.0  0.0  \n",
            "14  0.0  0.0  0.0  \n",
            "15  0.0  0.0  0.0  \n",
            "16  0.0  0.0  0.0  \n",
            "17  0.0  0.0  0.0  \n",
            "18  0.0  0.0  0.0  \n",
            "19  0.0  0.0  0.0  \n",
            "20  0.0  0.0  0.0  \n",
            "21  0.0  0.0  0.0  \n",
            "22  0.0  0.0  0.0  \n",
            "23  0.0  0.0  0.0  \n"
          ],
          "name": "stdout"
        }
      ]
    },
    {
      "cell_type": "code",
      "metadata": {
        "id": "4SByB4bq4wO9",
        "colab_type": "code",
        "outputId": "212f424e-723e-4ae5-c637-dec7ea68ce98",
        "colab": {
          "base_uri": "https://localhost:8080/",
          "height": 260
        }
      },
      "source": [
        "GLCM=pd.DataFrame(GLCM)\n",
        "pd.set_option('display.max_columns', 30)\n",
        "print(GLCM.head(5))"
      ],
      "execution_count": 10,
      "outputs": [
        {
          "output_type": "stream",
          "text": [
            "          0         1    2         3    4    5    6         7    8    9   10  \\\n",
            "0  0.040159  4.006764  0.0  5.873156  0.0  0.0  0.0  3.216867  0.0  0.0  0.0   \n",
            "1  0.041540  4.282528  0.0  5.762803  0.0  0.0  0.0  3.203164  0.0  0.0  0.0   \n",
            "2  0.040287  4.030399  0.0  5.979967  0.0  0.0  0.0  3.215219  0.0  0.0  0.0   \n",
            "3  0.040175  4.015663  0.0  6.027608  0.0  0.0  0.0  3.216685  0.0  0.0  0.0   \n",
            "4  0.040313  4.043838  0.0  5.656749  0.0  0.0  0.0  3.214975  0.0  0.0  0.0   \n",
            "\n",
            "    11   12   13  \n",
            "0  0.0  0.0  0.0  \n",
            "1  0.0  0.0  0.0  \n",
            "2  0.0  0.0  0.0  \n",
            "3  0.0  0.0  0.0  \n",
            "4  0.0  0.0  0.0  \n"
          ],
          "name": "stdout"
        }
      ]
    },
    {
      "cell_type": "code",
      "metadata": {
        "id": "SBE7lPivqRlU",
        "colab_type": "code",
        "outputId": "5331486f-597a-4e31-e629-dae5a2de4911",
        "colab": {
          "base_uri": "https://localhost:8080/",
          "height": 36
        }
      },
      "source": [
        "print(\"ENTROPIA=\",entropy(w[0])) # O valor nao bate....\n",
        "# print(\"HOMOGENEITY=\",homogeneity_score(w[0])) ESTE NAO FUNCIONA...."
      ],
      "execution_count": 11,
      "outputs": [
        {
          "output_type": "stream",
          "text": [
            "ENTROPIA= 2.886165178199427\n"
          ],
          "name": "stdout"
        }
      ]
    },
    {
      "cell_type": "code",
      "metadata": {
        "id": "vYBCUNK8rCi7",
        "colab_type": "code",
        "outputId": "ad458f85-9da3-435c-e088-c22f5abd2977",
        "colab": {
          "base_uri": "https://localhost:8080/",
          "height": 36
        }
      },
      "source": [
        "print(entropy(w[0]))"
      ],
      "execution_count": 12,
      "outputs": [
        {
          "output_type": "stream",
          "text": [
            "2.886165178199427\n"
          ],
          "name": "stdout"
        }
      ]
    },
    {
      "cell_type": "code",
      "metadata": {
        "id": "qCae0Ft32stE",
        "colab_type": "code",
        "outputId": "01eb852c-fea1-4e73-f9c7-0fa646a65fbe",
        "colab": {
          "base_uri": "https://localhost:8080/",
          "height": 1000
        }
      },
      "source": [
        "'''\n",
        "#print(Nfotos)\n",
        "\n",
        "##Then I say \n",
        "\n",
        "glcm = sk.greycomatrix(w[0], [1], [0])\n",
        "#glcm = sk.greycomatrix(x[0], [1],[0])\n",
        "#print(glcm)\n",
        "#glcm = feature.greycomatrix(grayImg, [1], [0, np.pi/4, np.pi/2, 3*np.pi/4])\n",
        "print(glcm.shape) # (256, 256, 1, 4)\n",
        "\n",
        "#rank.entropy(glcm, disk(5)) # throws an error since entropy expects a 2-D array in its arguments\n",
        "\n",
        "print(glcm)\n",
        "'''"
      ],
      "execution_count": 14,
      "outputs": [
        {
          "output_type": "stream",
          "text": [
            "(256, 256, 1, 1)\n",
            "[[[[0]]\n",
            "\n",
            "  [[0]]\n",
            "\n",
            "  [[0]]\n",
            "\n",
            "  ...\n",
            "\n",
            "  [[0]]\n",
            "\n",
            "  [[0]]\n",
            "\n",
            "  [[0]]]\n",
            "\n",
            "\n",
            " [[[0]]\n",
            "\n",
            "  [[0]]\n",
            "\n",
            "  [[0]]\n",
            "\n",
            "  ...\n",
            "\n",
            "  [[0]]\n",
            "\n",
            "  [[0]]\n",
            "\n",
            "  [[0]]]\n",
            "\n",
            "\n",
            " [[[0]]\n",
            "\n",
            "  [[0]]\n",
            "\n",
            "  [[0]]\n",
            "\n",
            "  ...\n",
            "\n",
            "  [[0]]\n",
            "\n",
            "  [[0]]\n",
            "\n",
            "  [[0]]]\n",
            "\n",
            "\n",
            " ...\n",
            "\n",
            "\n",
            " [[[0]]\n",
            "\n",
            "  [[0]]\n",
            "\n",
            "  [[0]]\n",
            "\n",
            "  ...\n",
            "\n",
            "  [[0]]\n",
            "\n",
            "  [[0]]\n",
            "\n",
            "  [[0]]]\n",
            "\n",
            "\n",
            " [[[0]]\n",
            "\n",
            "  [[0]]\n",
            "\n",
            "  [[0]]\n",
            "\n",
            "  ...\n",
            "\n",
            "  [[0]]\n",
            "\n",
            "  [[0]]\n",
            "\n",
            "  [[0]]]\n",
            "\n",
            "\n",
            " [[[0]]\n",
            "\n",
            "  [[0]]\n",
            "\n",
            "  [[0]]\n",
            "\n",
            "  ...\n",
            "\n",
            "  [[0]]\n",
            "\n",
            "  [[0]]\n",
            "\n",
            "  [[0]]]]\n"
          ],
          "name": "stdout"
        }
      ]
    },
    {
      "cell_type": "code",
      "metadata": {
        "id": "v8QcQzBupvlV",
        "colab_type": "code",
        "colab": {
          "base_uri": "https://localhost:8080/",
          "height": 173
        },
        "outputId": "5e620490-54d5-49f6-d544-b8c0be76b755"
      },
      "source": [
        "# glcm = greycomatrix(w[0], [5], [0], 256, symmetric=True, normed=True)"
      ],
      "execution_count": 15,
      "outputs": [
        {
          "output_type": "error",
          "ename": "NameError",
          "evalue": "ignored",
          "traceback": [
            "\u001b[0;31m---------------------------------------------------------------------------\u001b[0m",
            "\u001b[0;31mNameError\u001b[0m                                 Traceback (most recent call last)",
            "\u001b[0;32m<ipython-input-15-9f7eaa834c4c>\u001b[0m in \u001b[0;36m<module>\u001b[0;34m()\u001b[0m\n\u001b[0;32m----> 1\u001b[0;31m \u001b[0mglcm\u001b[0m \u001b[0;34m=\u001b[0m \u001b[0mgreycomatrix\u001b[0m\u001b[0;34m(\u001b[0m\u001b[0mw\u001b[0m\u001b[0;34m[\u001b[0m\u001b[0;36m0\u001b[0m\u001b[0;34m]\u001b[0m\u001b[0;34m,\u001b[0m \u001b[0;34m[\u001b[0m\u001b[0;36m5\u001b[0m\u001b[0;34m]\u001b[0m\u001b[0;34m,\u001b[0m \u001b[0;34m[\u001b[0m\u001b[0;36m0\u001b[0m\u001b[0;34m]\u001b[0m\u001b[0;34m,\u001b[0m \u001b[0;36m256\u001b[0m\u001b[0;34m,\u001b[0m \u001b[0msymmetric\u001b[0m\u001b[0;34m=\u001b[0m\u001b[0;32mTrue\u001b[0m\u001b[0;34m,\u001b[0m \u001b[0mnormed\u001b[0m\u001b[0;34m=\u001b[0m\u001b[0;32mTrue\u001b[0m\u001b[0;34m)\u001b[0m\u001b[0;34m\u001b[0m\u001b[0;34m\u001b[0m\u001b[0m\n\u001b[0m",
            "\u001b[0;31mNameError\u001b[0m: name 'greycomatrix' is not defined"
          ]
        }
      ]
    }
  ]
}