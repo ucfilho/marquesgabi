{
  "nbformat": 4,
  "nbformat_minor": 0,
  "metadata": {
    "colab": {
      "name": "Calculo_011_out_24_2019.ipynb",
      "provenance": [],
      "collapsed_sections": [],
      "include_colab_link": true
    },
    "kernelspec": {
      "name": "python3",
      "display_name": "Python 3"
    }
  },
  "cells": [
    {
      "cell_type": "markdown",
      "metadata": {
        "id": "view-in-github",
        "colab_type": "text"
      },
      "source": [
        "<a href=\"https://colab.research.google.com/github/ucfilho/marquesgabi/blob/master/Calculo_011_out_24_2019.ipynb\" target=\"_parent\"><img src=\"https://colab.research.google.com/assets/colab-badge.svg\" alt=\"Open In Colab\"/></a>"
      ]
    },
    {
      "cell_type": "code",
      "metadata": {
        "id": "9q3V2QrqnMBI",
        "colab_type": "code",
        "colab": {}
      },
      "source": [
        "# carrega as bibliotecas do python"
      ],
      "execution_count": 0,
      "outputs": []
    },
    {
      "cell_type": "code",
      "metadata": {
        "id": "szqvrsIInRDg",
        "colab_type": "code",
        "colab": {}
      },
      "source": [
        "%matplotlib inline\n",
        "from matplotlib import pyplot as plt\n",
        "import os \n",
        "import cv2\n",
        "import zipfile\n",
        "from skimage import data\n",
        "from skimage import filters\n",
        "from skimage import exposure\n",
        "import skimage.feature as sk\n",
        "import numpy as np\n",
        "import pandas as pd\n",
        "from google.colab import files"
      ],
      "execution_count": 0,
      "outputs": []
    },
    {
      "cell_type": "code",
      "metadata": {
        "id": "zsjb8DmRVtDy",
        "colab_type": "code",
        "outputId": "98510d54-c549-4d19-9a68-31a9b89e59c1",
        "colab": {
          "base_uri": "https://localhost:8080/",
          "height": 223
        }
      },
      "source": [
        "!wget http://ftp.feq.ufu.br/ubirajara/Sugar_set_30_2019.zip\n",
        "#!ls -l trash_nov_22_2018.zip\n"
      ],
      "execution_count": 3,
      "outputs": [
        {
          "output_type": "stream",
          "text": [
            "--2019-10-25 02:09:08--  http://ftp.feq.ufu.br/ubirajara/Sugar_set_30_2019.zip\n",
            "Resolving ftp.feq.ufu.br (ftp.feq.ufu.br)... 200.19.144.11\n",
            "Connecting to ftp.feq.ufu.br (ftp.feq.ufu.br)|200.19.144.11|:80... connected.\n",
            "HTTP request sent, awaiting response... 200 OK\n",
            "Length: 19584173 (19M) [application/zip]\n",
            "Saving to: ‘Sugar_set_30_2019.zip.8’\n",
            "\n",
            "Sugar_set_30_2019.z 100%[===================>]  18.68M  4.94MB/s    in 3.8s    \n",
            "\n",
            "2019-10-25 02:09:12 (4.94 MB/s) - ‘Sugar_set_30_2019.zip.8’ saved [19584173/19584173]\n",
            "\n"
          ],
          "name": "stdout"
        }
      ]
    },
    {
      "cell_type": "code",
      "metadata": {
        "id": "ygswjsh1ptUl",
        "colab_type": "code",
        "colab": {}
      },
      "source": [
        "\n",
        "file_name = zipfile.ZipFile('Sugar_set_30_2019.zip', 'r')\n",
        "file_name.extractall() "
      ],
      "execution_count": 0,
      "outputs": []
    },
    {
      "cell_type": "code",
      "metadata": {
        "id": "Qq1UTVWMnU0n",
        "colab_type": "code",
        "colab": {}
      },
      "source": [
        "# all images are resized in variable x, are in gray in variable p and in variable w are dataframe\n",
        "FILE='Sugar_set_30_2019.zip'\n",
        "img_name=[]\n",
        "x=[]\n",
        "p=[]\n",
        "w=[]\n",
        "Size=5 # trocar por 64 qdo acabar a analise\n",
        "\n",
        "with zipfile.ZipFile(FILE, \"r\") as f:\n",
        "    for name in f.namelist():\n",
        "        img_name.append(name)\n",
        "        #x.append(cv2.imread(name))\n",
        "        x.append(cv2.resize(cv2.imread(name),(Size,Size)))\n",
        "\n",
        "nrow=len(img_name)\n",
        "ncol=Size*Size\n",
        "pp=np.zeros((nrow,ncol))\n",
        "for i in range(nrow):\n",
        "    w.append(cv2.cvtColor(np.array(x[i]), cv2.COLOR_BGR2GRAY))\n",
        "    pp[i,:]=w[i].ravel()"
      ],
      "execution_count": 0,
      "outputs": []
    },
    {
      "cell_type": "code",
      "metadata": {
        "id": "XevGUL8dyi-h",
        "colab_type": "code",
        "outputId": "96097e6a-3569-41c7-e48e-82a6eab6c02e",
        "colab": {
          "base_uri": "https://localhost:8080/",
          "height": 36
        }
      },
      "source": [
        "print(sum(pp[0,:]))\n",
        "# 379131"
      ],
      "execution_count": 6,
      "outputs": [
        {
          "output_type": "stream",
          "text": [
            "2809.0\n"
          ],
          "name": "stdout"
        }
      ]
    },
    {
      "cell_type": "code",
      "metadata": {
        "id": "9M_rvdFNzMSX",
        "colab_type": "code",
        "outputId": "865f4a08-fc46-4b52-afc4-f77e423985e5",
        "colab": {
          "base_uri": "https://localhost:8080/",
          "height": 932
        }
      },
      "source": [
        "print(pp.shape)\n",
        "print(pp)"
      ],
      "execution_count": 7,
      "outputs": [
        {
          "output_type": "stream",
          "text": [
            "(24, 25)\n",
            "[[113. 102. 114. 119.  96. 115. 106.  99. 122. 122. 118. 108. 107. 111.\n",
            "  117. 124. 113. 110. 116. 123. 109. 116. 108. 110. 111.]\n",
            " [104. 109. 112. 227. 123. 106. 111. 101. 107. 108. 113. 110. 113. 119.\n",
            "  123. 128. 107. 109. 116. 126. 117. 118. 113. 123. 116.]\n",
            " [ 98. 101. 104. 107. 117. 120. 113.  88. 115. 108. 128. 126. 126. 104.\n",
            "  119. 113. 127. 109. 107. 124. 112. 119. 114. 115. 115.]\n",
            " [117. 107. 104. 102. 116. 122. 124. 112. 112. 118. 101. 114. 116. 109.\n",
            "  118. 105. 114. 112. 121. 110. 132. 118. 119. 124. 126.]\n",
            " [121. 106. 132. 123. 131. 107.  97. 113. 117. 111.  93. 118. 106. 110.\n",
            "  112.  99. 121. 120. 105. 113.  97. 109. 107. 113. 102.]\n",
            " [104. 106.  97. 111. 134. 122. 107. 111. 117. 114. 105. 114. 128. 115.\n",
            "  121. 112. 111. 107. 121. 132. 120. 110. 116. 118. 126.]\n",
            " [109. 116. 102. 117. 101. 120. 117. 112. 100. 124. 125. 113. 122. 120.\n",
            "  119. 112. 107. 127. 120. 127. 115. 115. 110. 126. 120.]\n",
            " [ 94. 107. 110. 128.  99. 104. 109. 112. 120. 118. 122. 122. 116. 130.\n",
            "  129. 107. 116. 118. 125. 129. 116. 120. 115. 126. 131.]\n",
            " [119. 118. 105. 115. 120. 125. 122. 124. 115. 126. 136. 118. 115. 132.\n",
            "  144. 122. 126. 143. 129. 143. 137. 128. 130. 129. 131.]\n",
            " [116. 128. 121. 122. 115. 124. 127. 109. 115. 126. 126. 127. 123. 122.\n",
            "  161. 120. 124. 121. 136. 135. 138. 110. 119. 120. 131.]\n",
            " [118. 126. 143. 130. 134. 119. 139. 127. 134. 128. 126. 127. 131. 129.\n",
            "  121. 117. 118. 134. 126. 124. 115. 113. 127. 133. 131.]\n",
            " [117. 120. 108. 128. 124. 109. 240. 113. 129. 131. 118. 118. 110. 122.\n",
            "  117. 123. 130. 121. 133. 134. 138. 115. 137. 132. 138.]\n",
            " [118. 108. 115. 119. 123. 145. 125. 128. 122. 159. 122. 136. 125. 142.\n",
            "  159. 132. 116. 123. 128. 123. 134. 122. 124. 124. 140.]\n",
            " [113. 114. 123. 118. 117. 124. 140. 133. 128. 128. 126. 118. 126. 147.\n",
            "  137. 132. 133. 124. 133. 127. 133. 120. 133. 124. 127.]\n",
            " [106. 114. 128. 118. 129. 115. 112. 129. 137. 141. 133. 126. 123. 121.\n",
            "  151. 125. 124. 124. 133. 141. 127. 124. 123. 134. 141.]\n",
            " [ 97. 121. 111. 113. 124. 106. 109. 136. 114. 111. 115. 113. 122. 113.\n",
            "  124. 105. 114. 113. 123. 119. 124. 117. 118. 122. 126.]\n",
            " [105. 101. 106. 109. 118. 111. 103. 106. 114. 116. 111. 114. 110. 107.\n",
            "  122. 110. 118. 114. 113. 119. 121. 111. 112. 114. 111.]\n",
            " [110. 114. 101. 110. 108. 116. 105. 113. 113. 115. 116. 104. 107. 109.\n",
            "  114. 117. 114. 113. 118. 114. 116. 119. 116. 120. 122.]\n",
            " [113. 127. 110. 120. 117. 139. 121. 119. 116. 131. 127. 117. 130. 125.\n",
            "  132. 136. 109. 129. 129. 118. 115. 119. 119. 124. 134.]\n",
            " [117. 111. 117. 112. 109. 109. 125. 108. 122. 120. 128. 122. 116. 120.\n",
            "  147. 135. 109. 115. 125. 137. 128. 124. 119. 132. 131.]\n",
            " [120. 138. 133. 144. 126. 116. 220. 133. 135. 117. 119. 127. 122. 121.\n",
            "  132. 107. 127. 130. 128. 129. 102. 143. 128. 127. 123.]\n",
            " [115. 130. 108. 102. 118. 139. 126. 128. 125. 120. 122. 142. 117. 154.\n",
            "  145. 127. 124. 127. 126. 137. 126. 126. 128. 132. 125.]\n",
            " [124. 118. 138. 134. 127. 141. 123. 138. 128. 131. 136. 139. 124. 133.\n",
            "  146. 138. 133. 151. 123. 136. 130. 144. 131. 137. 133.]\n",
            " [140. 136. 126. 117. 125. 130. 127. 125. 130. 132. 118. 110. 120. 125.\n",
            "  131. 127. 122. 127. 116. 140. 124. 121. 137. 117. 122.]]\n"
          ],
          "name": "stdout"
        }
      ]
    },
    {
      "cell_type": "code",
      "metadata": {
        "id": "ZYnovM8CzUm5",
        "colab_type": "code",
        "outputId": "fba6f1c2-40cc-4527-fa7f-8caea1c83d59",
        "colab": {
          "base_uri": "https://localhost:8080/",
          "height": 36
        }
      },
      "source": [
        "soma=0\n",
        "for i in range(Size*Size):\n",
        "  soma=soma+pp[0,i]\n",
        "print(soma)"
      ],
      "execution_count": 8,
      "outputs": [
        {
          "output_type": "stream",
          "text": [
            "2809.0\n"
          ],
          "name": "stdout"
        }
      ]
    },
    {
      "cell_type": "code",
      "metadata": {
        "id": "5P-b8jTsqaYF",
        "colab_type": "code",
        "outputId": "08933c76-8979-4402-955f-aa3392c5d0f0",
        "colab": {
          "base_uri": "https://localhost:8080/",
          "height": 129
        }
      },
      "source": [
        "Num=len(img_name)\n",
        "pd.set_option('display.max_columns', 64)\n",
        "pd.set_option('display.max_rows', 64)\n",
        "for k in range(Num):\n",
        "  p=pp[k,:].reshape(Size,Size)\n",
        "  if(k==0):\n",
        "    print(pd.DataFrame(p))\n",
        "  #print('===============')\n",
        "  '''\n",
        "  for i in range(64):\n",
        "    for j in range(64):\n",
        "      p[i,j]=p[i,j]/MP[k]\n",
        "  '''"
      ],
      "execution_count": 9,
      "outputs": [
        {
          "output_type": "stream",
          "text": [
            "       0      1      2      3      4\n",
            "0  113.0  102.0  114.0  119.0   96.0\n",
            "1  115.0  106.0   99.0  122.0  122.0\n",
            "2  118.0  108.0  107.0  111.0  117.0\n",
            "3  124.0  113.0  110.0  116.0  123.0\n",
            "4  109.0  116.0  108.0  110.0  111.0\n"
          ],
          "name": "stdout"
        }
      ]
    },
    {
      "cell_type": "code",
      "metadata": {
        "id": "MeTbd0CHm4XP",
        "colab_type": "code",
        "colab": {}
      },
      "source": [
        ""
      ],
      "execution_count": 0,
      "outputs": []
    },
    {
      "cell_type": "code",
      "metadata": {
        "id": "0XIPN0jNrTyW",
        "colab_type": "code",
        "outputId": "aac8ef9d-9d21-4ca5-e2b1-2606aac48bef",
        "colab": {
          "base_uri": "https://localhost:8080/",
          "height": 36
        }
      },
      "source": [
        "95/379131"
      ],
      "execution_count": 10,
      "outputs": [
        {
          "output_type": "execute_result",
          "data": {
            "text/plain": [
              "0.0002505730209347165"
            ]
          },
          "metadata": {
            "tags": []
          },
          "execution_count": 10
        }
      ]
    },
    {
      "cell_type": "code",
      "metadata": {
        "id": "HABYiX72sr8d",
        "colab_type": "code",
        "outputId": "ba157f90-8f5a-4bb3-9143-f34d2220fff4",
        "colab": {
          "base_uri": "https://localhost:8080/",
          "height": 56
        }
      },
      "source": [
        "'''\n",
        "primeira foto:\n",
        "[[0.00025057 0.00021365 0.00020573 ... 0.00020046 0.00017936 0.00019782]\n",
        " [0.00027431 0.00023475 0.00021892 ... 0.00021628 0.00020046 0.00021628]\n",
        " [0.0002664  0.00024002 0.00022683 ... 0.00023211 0.0002242  0.00023738]\n",
        " ...\n",
        " [0.00027431 0.00028222 0.00028222 ... 0.00025585 0.00025057 0.00026904]\n",
        " [0.00027167 0.00027695 0.00028222 ... 0.00026376 0.0002453  0.00024794]\n",
        " [0.0002664  0.00026904 0.00027959 ... 0.00027431 0.00024794 0.00024002]]'''"
      ],
      "execution_count": 11,
      "outputs": [
        {
          "output_type": "execute_result",
          "data": {
            "text/plain": [
              "'\\nprimeira foto:\\n[[0.00025057 0.00021365 0.00020573 ... 0.00020046 0.00017936 0.00019782]\\n [0.00027431 0.00023475 0.00021892 ... 0.00021628 0.00020046 0.00021628]\\n [0.0002664  0.00024002 0.00022683 ... 0.00023211 0.0002242  0.00023738]\\n ...\\n [0.00027431 0.00028222 0.00028222 ... 0.00025585 0.00025057 0.00026904]\\n [0.00027167 0.00027695 0.00028222 ... 0.00026376 0.0002453  0.00024794]\\n [0.0002664  0.00026904 0.00027959 ... 0.00027431 0.00024794 0.00024002]]'"
            ]
          },
          "metadata": {
            "tags": []
          },
          "execution_count": 11
        }
      ]
    },
    {
      "cell_type": "code",
      "metadata": {
        "id": "77tpRtsOp_8T",
        "colab_type": "code",
        "colab": {
          "base_uri": "https://localhost:8080/",
          "height": 56
        },
        "outputId": "7052ad91-19f7-43b7-8d37-8a9f6ea976ef"
      },
      "source": [
        "'''\n",
        "       0      1      2      3      4      5      6      7      8      9\n",
        "0  104.0  102.0  115.0  117.0  115.0  117.0  116.0  113.0  107.0  128.0\n",
        "1   99.0  120.0  110.0  248.0  112.0   98.0  107.0  187.0  109.0  104.0\n",
        "2  119.0  115.0  112.0  118.0  112.0  112.0  102.0  110.0  127.0  120.0\n",
        "3  119.0  116.0  120.0  115.0  113.0  123.0  119.0  103.0  112.0  113.0\n",
        "4  110.0  114.0  131.0  115.0  109.0  109.0  114.0  132.0  115.0  122.0\n",
        "5  114.0  116.0  123.0  113.0  118.0  106.0  115.0  186.0  110.0  127.0\n",
        "6  109.0  105.0  111.0  109.0  109.0  200.0  113.0  107.0  116.0  125.0\n",
        "7  113.0  114.0  111.0  112.0  125.0  119.0  124.0  126.0  117.0  118.0\n",
        "8  118.0  110.0  105.0  108.0  108.0  111.0  108.0  121.0  122.0  114.0\n",
        "9  114.0  111.0  112.0  110.0  111.0  115.0  115.0  119.0  112.0  116.0\n",
        "'''"
      ],
      "execution_count": 12,
      "outputs": [
        {
          "output_type": "execute_result",
          "data": {
            "text/plain": [
              "'\\n       0      1      2      3      4      5      6      7      8      9\\n0  104.0  102.0  115.0  117.0  115.0  117.0  116.0  113.0  107.0  128.0\\n1   99.0  120.0  110.0  248.0  112.0   98.0  107.0  187.0  109.0  104.0\\n2  119.0  115.0  112.0  118.0  112.0  112.0  102.0  110.0  127.0  120.0\\n3  119.0  116.0  120.0  115.0  113.0  123.0  119.0  103.0  112.0  113.0\\n4  110.0  114.0  131.0  115.0  109.0  109.0  114.0  132.0  115.0  122.0\\n5  114.0  116.0  123.0  113.0  118.0  106.0  115.0  186.0  110.0  127.0\\n6  109.0  105.0  111.0  109.0  109.0  200.0  113.0  107.0  116.0  125.0\\n7  113.0  114.0  111.0  112.0  125.0  119.0  124.0  126.0  117.0  118.0\\n8  118.0  110.0  105.0  108.0  108.0  111.0  108.0  121.0  122.0  114.0\\n9  114.0  111.0  112.0  110.0  111.0  115.0  115.0  119.0  112.0  116.0\\n'"
            ]
          },
          "metadata": {
            "tags": []
          },
          "execution_count": 12
        }
      ]
    },
    {
      "cell_type": "code",
      "metadata": {
        "id": "TmucUWazeK5B",
        "colab_type": "code",
        "colab": {
          "base_uri": "https://localhost:8080/",
          "height": 111
        },
        "outputId": "5678ba99-b134-4515-f7e8-8a0bf480e897"
      },
      "source": [
        "print(w[0])\n",
        "# print(sum(sum(w[0]))) fornece valor errado\n",
        "# print(sum(w[0]))  fornece valor errado"
      ],
      "execution_count": 13,
      "outputs": [
        {
          "output_type": "stream",
          "text": [
            "[[113 102 114 119  96]\n",
            " [115 106  99 122 122]\n",
            " [118 108 107 111 117]\n",
            " [124 113 110 116 123]\n",
            " [109 116 108 110 111]]\n"
          ],
          "name": "stdout"
        }
      ]
    },
    {
      "cell_type": "code",
      "metadata": {
        "id": "ZDP_BvoAn2vM",
        "colab_type": "code",
        "colab": {
          "base_uri": "https://localhost:8080/",
          "height": 36
        },
        "outputId": "bfdb5591-5aaa-40f4-e1c1-8e42f3312937"
      },
      "source": [
        "A=113.0+102.0+114.0+119.0+96.0\n",
        "B=115.0+106.0+99.0+122.0+122.0\n",
        "C=118.0+108.0+107.0+111.0+117.0\n",
        "D=124.0+113.0+110.0+116.0+123.0\n",
        "E=109.0+116.0+108.0+110.0+111.0\n",
        "print(A+B+C+D+E)"
      ],
      "execution_count": 24,
      "outputs": [
        {
          "output_type": "stream",
          "text": [
            "2809.0\n"
          ],
          "name": "stdout"
        }
      ]
    },
    {
      "cell_type": "code",
      "metadata": {
        "id": "dgCx4Jn43XnM",
        "colab_type": "code",
        "outputId": "be579115-375a-4e6a-a22e-fb35a5ba99e6",
        "colab": {
          "base_uri": "https://localhost:8080/",
          "height": 75
        }
      },
      "source": [
        "print(img_name)\n",
        "Nfotos=len(img_name)\n",
        "print(Nfotos)"
      ],
      "execution_count": 15,
      "outputs": [
        {
          "output_type": "stream",
          "text": [
            "['IMG_16_0634.jpg', 'IMG_16_0639.jpg', 'IMG_16_0640.jpg', 'IMG_18_0655.jpg', 'IMG_18_0656.jpg', 'IMG_18_0658.jpg', 'IMG_20_0680.jpg', 'IMG_20_0681.jpg', 'IMG_20_0688.jpg', 'IMG_25_0703.jpg', 'IMG_25_0706.jpg', 'IMG_25_0710.jpg', 'IMG_30_0732.jpg', 'IMG_30_0735.jpg', 'IMG_30_0737.jpg', 'IMG_35_0751.jpg', 'IMG_35_0757.jpg', 'IMG_35_0760.jpg', 'IMG_40_0776.jpg', 'IMG_40_0777.jpg', 'IMG_40_0780.jpg', 'IMG_70_0816.jpg', 'IMG_70_0818.jpg', 'IMG_70_0821.jpg']\n",
            "24\n"
          ],
          "name": "stdout"
        }
      ]
    },
    {
      "cell_type": "code",
      "metadata": {
        "id": "NJOnzjbQTE6t",
        "colab_type": "code",
        "colab": {
          "base_uri": "https://localhost:8080/",
          "height": 36
        },
        "outputId": "5c608063-3410-4cbb-cd49-780ede2fd8c6"
      },
      "source": [
        "104/10599"
      ],
      "execution_count": 16,
      "outputs": [
        {
          "output_type": "execute_result",
          "data": {
            "text/plain": [
              "0.00981224643834324"
            ]
          },
          "metadata": {
            "tags": []
          },
          "execution_count": 16
        }
      ]
    },
    {
      "cell_type": "code",
      "metadata": {
        "id": "9XPFWhiq3tGW",
        "colab_type": "code",
        "outputId": "70e9959e-a62f-4e30-f9cb-31acddeab07a",
        "colab": {
          "base_uri": "https://localhost:8080/",
          "height": 783
        }
      },
      "source": [
        "Nfotos=len(img_name)\n",
        "GLCM=np.zeros((Nfotos, 14))   # lembrar do ANN_Hydrofoil_Neuronio_set_17_2018.ipynb\n",
        "Nrow=Size\n",
        "Ncol=Size\n",
        "print(GLCM.shape)\n",
        "#Soma=np.sum(pp[k,:])\n",
        "for k in range(Nfotos):\n",
        "  \n",
        "  p=pp[k,:].reshape(Size,Size)\n",
        "  Soma=0\n",
        "  for i in range(Size):\n",
        "    for j in range(Size):\n",
        "      if(k==0): \n",
        "        print(\"i=\",i,\"j=\",j,\"pij=\",p[i,j])\n",
        "      Soma=Soma+p[i,j]\n",
        "   \n",
        "  if(k==0):\n",
        "    print(\"=====\",Soma,\"=======\") \n",
        "    print(p)\n",
        "    print(pd.DataFrame(p));\n",
        "  for i in range(Size):\n",
        "    for j in range(Size):\n",
        "      p[i,j]=p[i,j]/Soma\n",
        "\n",
        "  \n",
        "  if(k==0): \n",
        "    print('============================')\n",
        "    print(Soma)\n",
        "    #print(pd.DataFrame(p));\n",
        "    print('============================');\n",
        "  for i in range(Nrow):\n",
        "    for j in range(Ncol):\n",
        "      #print(\"i=%d j=%d k=%d\"%(i,j,k))\n",
        "      GLCM[k,7]=GLCM[k,7]-p[i,j]*np.log(p[i,j]) # entropia\n",
        "      GLCM[k,0]=GLCM[k,0]+p[i,j]**2 #segundo momento angular\n",
        "      GLCM[k,1]=GLCM[k,1]+(i-j)**2*p[i,j] #contraste\n",
        "      GLCM[k,3]=GLCM[k,3]+(i-np.mean(p))**2*p[i,j] #Variancia\n",
        "\n"
      ],
      "execution_count": 17,
      "outputs": [
        {
          "output_type": "stream",
          "text": [
            "(24, 14)\n",
            "i= 0 j= 0 pij= 113.0\n",
            "i= 0 j= 1 pij= 102.0\n",
            "i= 0 j= 2 pij= 114.0\n",
            "i= 0 j= 3 pij= 119.0\n",
            "i= 0 j= 4 pij= 96.0\n",
            "i= 1 j= 0 pij= 115.0\n",
            "i= 1 j= 1 pij= 106.0\n",
            "i= 1 j= 2 pij= 99.0\n",
            "i= 1 j= 3 pij= 122.0\n",
            "i= 1 j= 4 pij= 122.0\n",
            "i= 2 j= 0 pij= 118.0\n",
            "i= 2 j= 1 pij= 108.0\n",
            "i= 2 j= 2 pij= 107.0\n",
            "i= 2 j= 3 pij= 111.0\n",
            "i= 2 j= 4 pij= 117.0\n",
            "i= 3 j= 0 pij= 124.0\n",
            "i= 3 j= 1 pij= 113.0\n",
            "i= 3 j= 2 pij= 110.0\n",
            "i= 3 j= 3 pij= 116.0\n",
            "i= 3 j= 4 pij= 123.0\n",
            "i= 4 j= 0 pij= 109.0\n",
            "i= 4 j= 1 pij= 116.0\n",
            "i= 4 j= 2 pij= 108.0\n",
            "i= 4 j= 3 pij= 110.0\n",
            "i= 4 j= 4 pij= 111.0\n",
            "===== 2809.0 =======\n",
            "[[113. 102. 114. 119.  96.]\n",
            " [115. 106.  99. 122. 122.]\n",
            " [118. 108. 107. 111. 117.]\n",
            " [124. 113. 110. 116. 123.]\n",
            " [109. 116. 108. 110. 111.]]\n",
            "       0      1      2      3      4\n",
            "0  113.0  102.0  114.0  119.0   96.0\n",
            "1  115.0  106.0   99.0  122.0  122.0\n",
            "2  118.0  108.0  107.0  111.0  117.0\n",
            "3  124.0  113.0  110.0  116.0  123.0\n",
            "4  109.0  116.0  108.0  110.0  111.0\n",
            "============================\n",
            "2809.0\n",
            "============================\n"
          ],
          "name": "stdout"
        }
      ]
    },
    {
      "cell_type": "code",
      "metadata": {
        "id": "hgc0aHgDYtwd",
        "colab_type": "code",
        "colab": {
          "base_uri": "https://localhost:8080/",
          "height": 55
        },
        "outputId": "2dcb0691-8931-4443-da91-5fba33405eb0"
      },
      "source": [
        "nrow,ncol=w[0].shape;print(nrow);print(ncol)"
      ],
      "execution_count": 18,
      "outputs": [
        {
          "output_type": "stream",
          "text": [
            "5\n",
            "5\n"
          ],
          "name": "stdout"
        }
      ]
    },
    {
      "cell_type": "code",
      "metadata": {
        "id": "zCeWSpZnscYY",
        "colab_type": "code",
        "outputId": "3a5d3b9f-7b50-4107-e63e-7b41527365f4",
        "colab": {
          "base_uri": "https://localhost:8080/",
          "height": 36
        }
      },
      "source": [
        "print(GLCM.shape)"
      ],
      "execution_count": 19,
      "outputs": [
        {
          "output_type": "stream",
          "text": [
            "(24, 14)\n"
          ],
          "name": "stdout"
        }
      ]
    },
    {
      "cell_type": "code",
      "metadata": {
        "id": "SMcuaty3fTJC",
        "colab_type": "code",
        "colab": {
          "base_uri": "https://localhost:8080/",
          "height": 111
        },
        "outputId": "a48f811d-ede8-46d7-dbb7-e2ccd46d4009"
      },
      "source": [
        "print(p)"
      ],
      "execution_count": 20,
      "outputs": [
        {
          "output_type": "stream",
          "text": [
            "[[0.0445151  0.04324324 0.04006359 0.03720191 0.03974563]\n",
            " [0.04133545 0.04038156 0.03974563 0.04133545 0.04197138]\n",
            " [0.03751987 0.03497615 0.0381558  0.03974563 0.04165342]\n",
            " [0.04038156 0.03879173 0.04038156 0.03688394 0.0445151 ]\n",
            " [0.03942766 0.03847377 0.04356121 0.03720191 0.03879173]]\n"
          ],
          "name": "stdout"
        }
      ]
    },
    {
      "cell_type": "code",
      "metadata": {
        "id": "bWRUesbYqQ2v",
        "colab_type": "code",
        "outputId": "3aac4948-04e2-4824-e903-95b670233152",
        "colab": {
          "base_uri": "https://localhost:8080/",
          "height": 969
        }
      },
      "source": [
        "pd.set_option('display.max_columns', 30)\n",
        "print(pd.DataFrame(GLCM))"
      ],
      "execution_count": 21,
      "outputs": [
        {
          "output_type": "stream",
          "text": [
            "           0         1    2         3    4    5    6         7    8    9   10  \\\n",
            "0   0.040159  4.006764  0.0  5.873156  0.0  0.0  0.0  3.216867  0.0  0.0  0.0   \n",
            "1   0.041540  4.282528  0.0  5.762803  0.0  0.0  0.0  3.203164  0.0  0.0  0.0   \n",
            "2   0.040287  4.030399  0.0  5.979967  0.0  0.0  0.0  3.215219  0.0  0.0  0.0   \n",
            "3   0.040175  4.015663  0.0  6.027608  0.0  0.0  0.0  3.216685  0.0  0.0  0.0   \n",
            "4   0.040313  4.043838  0.0  5.656749  0.0  0.0  0.0  3.214975  0.0  0.0  0.0   \n",
            "5   0.040234  4.056964  0.0  5.948915  0.0  0.0  0.0  3.215969  0.0  0.0  0.0   \n",
            "6   0.040177  3.895373  0.0  5.944445  0.0  0.0  0.0  3.216637  0.0  0.0  0.0   \n",
            "7   0.040276  3.931919  0.0  6.036687  0.0  0.0  0.0  3.215371  0.0  0.0  0.0   \n",
            "8   0.040229  3.993338  0.0  6.066993  0.0  0.0  0.0  3.216015  0.0  0.0  0.0   \n",
            "9   0.040272  3.979461  0.0  5.888981  0.0  0.0  0.0  3.215601  0.0  0.0  0.0   \n",
            "10  0.040134  3.934069  0.0  5.729726  0.0  0.0  0.0  3.217205  0.0  0.0  0.0   \n",
            "11  0.041463  3.928237  0.0  5.890711  0.0  0.0  0.0  3.203624  0.0  0.0  0.0   \n",
            "12  0.040367  4.035181  0.0  5.853991  0.0  0.0  0.0  3.214418  0.0  0.0  0.0   \n",
            "13  0.040158  3.968848  0.0  5.912714  0.0  0.0  0.0  3.216909  0.0  0.0  0.0   \n",
            "14  0.040253  4.044039  0.0  5.959033  0.0  0.0  0.0  3.215724  0.0  0.0  0.0   \n",
            "15  0.040186  4.023711  0.0  5.956926  0.0  0.0  0.0  3.216545  0.0  0.0  0.0   \n",
            "16  0.040090  4.097282  0.0  5.946493  0.0  0.0  0.0  3.217750  0.0  0.0  0.0   \n",
            "17  0.040080  4.012748  0.0  6.011883  0.0  0.0  0.0  3.217872  0.0  0.0  0.0   \n",
            "18  0.040168  3.938882  0.0  5.859662  0.0  0.0  0.0  3.216786  0.0  0.0  0.0   \n",
            "19  0.040256  3.993746  0.0  6.041455  0.0  0.0  0.0  3.215717  0.0  0.0  0.0   \n",
            "20  0.041017  3.807823  0.0  5.624193  0.0  0.0  0.0  3.207716  0.0  0.0  0.0   \n",
            "21  0.040295  3.873777  0.0  5.934538  0.0  0.0  0.0  3.215196  0.0  0.0  0.0   \n",
            "22  0.040133  4.009592  0.0  5.925221  0.0  0.0  0.0  3.217210  0.0  0.0  0.0   \n",
            "23  0.040141  3.981876  0.0  5.783934  0.0  0.0  0.0  3.217122  0.0  0.0  0.0   \n",
            "\n",
            "     11   12   13  \n",
            "0   0.0  0.0  0.0  \n",
            "1   0.0  0.0  0.0  \n",
            "2   0.0  0.0  0.0  \n",
            "3   0.0  0.0  0.0  \n",
            "4   0.0  0.0  0.0  \n",
            "5   0.0  0.0  0.0  \n",
            "6   0.0  0.0  0.0  \n",
            "7   0.0  0.0  0.0  \n",
            "8   0.0  0.0  0.0  \n",
            "9   0.0  0.0  0.0  \n",
            "10  0.0  0.0  0.0  \n",
            "11  0.0  0.0  0.0  \n",
            "12  0.0  0.0  0.0  \n",
            "13  0.0  0.0  0.0  \n",
            "14  0.0  0.0  0.0  \n",
            "15  0.0  0.0  0.0  \n",
            "16  0.0  0.0  0.0  \n",
            "17  0.0  0.0  0.0  \n",
            "18  0.0  0.0  0.0  \n",
            "19  0.0  0.0  0.0  \n",
            "20  0.0  0.0  0.0  \n",
            "21  0.0  0.0  0.0  \n",
            "22  0.0  0.0  0.0  \n",
            "23  0.0  0.0  0.0  \n"
          ],
          "name": "stdout"
        }
      ]
    },
    {
      "cell_type": "code",
      "metadata": {
        "id": "4SByB4bq4wO9",
        "colab_type": "code",
        "outputId": "9c1daddb-ff71-441f-bfb6-15b72f0b272c",
        "colab": {
          "base_uri": "https://localhost:8080/",
          "height": 260
        }
      },
      "source": [
        "GLCM=pd.DataFrame(GLCM)\n",
        "pd.set_option('display.max_columns', 30)\n",
        "print(GLCM.head(5))"
      ],
      "execution_count": 22,
      "outputs": [
        {
          "output_type": "stream",
          "text": [
            "          0         1    2         3    4    5    6         7    8    9   10  \\\n",
            "0  0.040159  4.006764  0.0  5.873156  0.0  0.0  0.0  3.216867  0.0  0.0  0.0   \n",
            "1  0.041540  4.282528  0.0  5.762803  0.0  0.0  0.0  3.203164  0.0  0.0  0.0   \n",
            "2  0.040287  4.030399  0.0  5.979967  0.0  0.0  0.0  3.215219  0.0  0.0  0.0   \n",
            "3  0.040175  4.015663  0.0  6.027608  0.0  0.0  0.0  3.216685  0.0  0.0  0.0   \n",
            "4  0.040313  4.043838  0.0  5.656749  0.0  0.0  0.0  3.214975  0.0  0.0  0.0   \n",
            "\n",
            "    11   12   13  \n",
            "0  0.0  0.0  0.0  \n",
            "1  0.0  0.0  0.0  \n",
            "2  0.0  0.0  0.0  \n",
            "3  0.0  0.0  0.0  \n",
            "4  0.0  0.0  0.0  \n"
          ],
          "name": "stdout"
        }
      ]
    },
    {
      "cell_type": "code",
      "metadata": {
        "id": "qCae0Ft32stE",
        "colab_type": "code",
        "colab": {
          "base_uri": "https://localhost:8080/",
          "height": 383
        },
        "outputId": "f941a6b1-ae65-4cda-a36d-80ca9d0b6a12"
      },
      "source": [
        "#print(Nfotos)\n",
        "\n",
        "##Then I say \n",
        "\n",
        "\n",
        "glcm = sk.greycomatrix(x[0], [1],[0])\n",
        "print(glcm[0])"
      ],
      "execution_count": 23,
      "outputs": [
        {
          "output_type": "error",
          "ename": "ValueError",
          "evalue": "ignored",
          "traceback": [
            "\u001b[0;31m---------------------------------------------------------------------------\u001b[0m",
            "\u001b[0;31mValueError\u001b[0m                                Traceback (most recent call last)",
            "\u001b[0;32m<ipython-input-23-3721ebce8c8a>\u001b[0m in \u001b[0;36m<module>\u001b[0;34m()\u001b[0m\n\u001b[1;32m      1\u001b[0m \u001b[0;34m\u001b[0m\u001b[0m\n\u001b[1;32m      2\u001b[0m \u001b[0;34m\u001b[0m\u001b[0m\n\u001b[0;32m----> 3\u001b[0;31m \u001b[0mglcm\u001b[0m \u001b[0;34m=\u001b[0m \u001b[0msk\u001b[0m\u001b[0;34m.\u001b[0m\u001b[0mgreycomatrix\u001b[0m\u001b[0;34m(\u001b[0m\u001b[0mx\u001b[0m\u001b[0;34m[\u001b[0m\u001b[0;36m0\u001b[0m\u001b[0;34m]\u001b[0m\u001b[0;34m,\u001b[0m \u001b[0;34m[\u001b[0m\u001b[0;36m1\u001b[0m\u001b[0;34m]\u001b[0m\u001b[0;34m,\u001b[0m\u001b[0;34m[\u001b[0m\u001b[0;36m0\u001b[0m\u001b[0;34m]\u001b[0m\u001b[0;34m)\u001b[0m\u001b[0;34m\u001b[0m\u001b[0;34m\u001b[0m\u001b[0m\n\u001b[0m\u001b[1;32m      4\u001b[0m \u001b[0mprint\u001b[0m\u001b[0;34m(\u001b[0m\u001b[0mglcm\u001b[0m\u001b[0;34m[\u001b[0m\u001b[0;36m0\u001b[0m\u001b[0;34m]\u001b[0m\u001b[0;34m)\u001b[0m\u001b[0;34m\u001b[0m\u001b[0;34m\u001b[0m\u001b[0m\n",
            "\u001b[0;32m/usr/local/lib/python3.6/dist-packages/skimage/feature/texture.py\u001b[0m in \u001b[0;36mgreycomatrix\u001b[0;34m(image, distances, angles, levels, symmetric, normed)\u001b[0m\n\u001b[1;32m    100\u001b[0m \u001b[0;34m\u001b[0m\u001b[0m\n\u001b[1;32m    101\u001b[0m     \"\"\"\n\u001b[0;32m--> 102\u001b[0;31m     \u001b[0massert_nD\u001b[0m\u001b[0;34m(\u001b[0m\u001b[0mimage\u001b[0m\u001b[0;34m,\u001b[0m \u001b[0;36m2\u001b[0m\u001b[0;34m)\u001b[0m\u001b[0;34m\u001b[0m\u001b[0;34m\u001b[0m\u001b[0m\n\u001b[0m\u001b[1;32m    103\u001b[0m     \u001b[0massert_nD\u001b[0m\u001b[0;34m(\u001b[0m\u001b[0mdistances\u001b[0m\u001b[0;34m,\u001b[0m \u001b[0;36m1\u001b[0m\u001b[0;34m,\u001b[0m \u001b[0;34m'distances'\u001b[0m\u001b[0;34m)\u001b[0m\u001b[0;34m\u001b[0m\u001b[0;34m\u001b[0m\u001b[0m\n\u001b[1;32m    104\u001b[0m     \u001b[0massert_nD\u001b[0m\u001b[0;34m(\u001b[0m\u001b[0mangles\u001b[0m\u001b[0;34m,\u001b[0m \u001b[0;36m1\u001b[0m\u001b[0;34m,\u001b[0m \u001b[0;34m'angles'\u001b[0m\u001b[0;34m)\u001b[0m\u001b[0;34m\u001b[0m\u001b[0;34m\u001b[0m\u001b[0m\n",
            "\u001b[0;32m/usr/local/lib/python3.6/dist-packages/skimage/_shared/utils.py\u001b[0m in \u001b[0;36massert_nD\u001b[0;34m(array, ndim, arg_name)\u001b[0m\n\u001b[1;32m    174\u001b[0m         \u001b[0;32mraise\u001b[0m \u001b[0mValueError\u001b[0m\u001b[0;34m(\u001b[0m\u001b[0mmsg_empty_array\u001b[0m \u001b[0;34m%\u001b[0m \u001b[0;34m(\u001b[0m\u001b[0marg_name\u001b[0m\u001b[0;34m)\u001b[0m\u001b[0;34m)\u001b[0m\u001b[0;34m\u001b[0m\u001b[0;34m\u001b[0m\u001b[0m\n\u001b[1;32m    175\u001b[0m     \u001b[0;32mif\u001b[0m \u001b[0;32mnot\u001b[0m \u001b[0marray\u001b[0m\u001b[0;34m.\u001b[0m\u001b[0mndim\u001b[0m \u001b[0;32min\u001b[0m \u001b[0mndim\u001b[0m\u001b[0;34m:\u001b[0m\u001b[0;34m\u001b[0m\u001b[0;34m\u001b[0m\u001b[0m\n\u001b[0;32m--> 176\u001b[0;31m         \u001b[0;32mraise\u001b[0m \u001b[0mValueError\u001b[0m\u001b[0;34m(\u001b[0m\u001b[0mmsg_incorrect_dim\u001b[0m \u001b[0;34m%\u001b[0m \u001b[0;34m(\u001b[0m\u001b[0marg_name\u001b[0m\u001b[0;34m,\u001b[0m \u001b[0;34m'-or-'\u001b[0m\u001b[0;34m.\u001b[0m\u001b[0mjoin\u001b[0m\u001b[0;34m(\u001b[0m\u001b[0;34m[\u001b[0m\u001b[0mstr\u001b[0m\u001b[0;34m(\u001b[0m\u001b[0mn\u001b[0m\u001b[0;34m)\u001b[0m \u001b[0;32mfor\u001b[0m \u001b[0mn\u001b[0m \u001b[0;32min\u001b[0m \u001b[0mndim\u001b[0m\u001b[0;34m]\u001b[0m\u001b[0;34m)\u001b[0m\u001b[0;34m)\u001b[0m\u001b[0;34m)\u001b[0m\u001b[0;34m\u001b[0m\u001b[0;34m\u001b[0m\u001b[0m\n\u001b[0m\u001b[1;32m    177\u001b[0m \u001b[0;34m\u001b[0m\u001b[0m\n\u001b[1;32m    178\u001b[0m \u001b[0;34m\u001b[0m\u001b[0m\n",
            "\u001b[0;31mValueError\u001b[0m: The parameter `image` must be a 2-dimensional array"
          ]
        }
      ]
    }
  ]
}