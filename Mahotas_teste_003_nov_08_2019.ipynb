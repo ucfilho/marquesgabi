{
  "nbformat": 4,
  "nbformat_minor": 0,
  "metadata": {
    "colab": {
      "name": "Mahotas_teste_003_nov_08_2019.ipynb",
      "provenance": [],
      "collapsed_sections": [],
      "include_colab_link": true
    },
    "kernelspec": {
      "name": "python3",
      "display_name": "Python 3"
    }
  },
  "cells": [
    {
      "cell_type": "markdown",
      "metadata": {
        "id": "view-in-github",
        "colab_type": "text"
      },
      "source": [
        "<a href=\"https://colab.research.google.com/github/ucfilho/marquesgabi/blob/master/Mahotas_teste_003_nov_08_2019.ipynb\" target=\"_parent\"><img src=\"https://colab.research.google.com/assets/colab-badge.svg\" alt=\"Open In Colab\"/></a>"
      ]
    },
    {
      "cell_type": "code",
      "metadata": {
        "id": "f393Z8HdEmRg",
        "colab_type": "code",
        "outputId": "72802c65-fc4d-423c-8907-a72755e9e274",
        "colab": {
          "base_uri": "https://localhost:8080/",
          "height": 230
        }
      },
      "source": [
        "!pip install mahotas"
      ],
      "execution_count": 1,
      "outputs": [
        {
          "output_type": "stream",
          "text": [
            "Collecting mahotas\n",
            "\u001b[?25l  Downloading https://files.pythonhosted.org/packages/27/4b/72581c4316b2fb08cbcb3309d9f2eccd40f09f6af6117545e75f4015c505/mahotas-1.4.8.tar.gz (1.5MB)\n",
            "\r\u001b[K     |▏                               | 10kB 16.8MB/s eta 0:00:01\r\u001b[K     |▍                               | 20kB 7.0MB/s eta 0:00:01\r\u001b[K     |▋                               | 30kB 9.6MB/s eta 0:00:01\r\u001b[K     |▉                               | 40kB 6.1MB/s eta 0:00:01\r\u001b[K     |█                               | 51kB 7.3MB/s eta 0:00:01\r\u001b[K     |█▎                              | 61kB 8.6MB/s eta 0:00:01\r\u001b[K     |█▌                              | 71kB 9.8MB/s eta 0:00:01\r\u001b[K     |█▊                              | 81kB 10.9MB/s eta 0:00:01\r\u001b[K     |██                              | 92kB 12.1MB/s eta 0:00:01\r\u001b[K     |██▏                             | 102kB 9.5MB/s eta 0:00:01\r\u001b[K     |██▍                             | 112kB 9.5MB/s eta 0:00:01\r\u001b[K     |██▋                             | 122kB 9.5MB/s eta 0:00:01\r\u001b[K     |██▉                             | 133kB 9.5MB/s eta 0:00:01\r\u001b[K     |███                             | 143kB 9.5MB/s eta 0:00:01\r\u001b[K     |███▏                            | 153kB 9.5MB/s eta 0:00:01\r\u001b[K     |███▍                            | 163kB 9.5MB/s eta 0:00:01\r\u001b[K     |███▋                            | 174kB 9.5MB/s eta 0:00:01\r\u001b[K     |███▉                            | 184kB 9.5MB/s eta 0:00:01\r\u001b[K     |████                            | 194kB 9.5MB/s eta 0:00:01\r\u001b[K     |████▎                           | 204kB 9.5MB/s eta 0:00:01\r\u001b[K     |████▌                           | 215kB 9.5MB/s eta 0:00:01\r\u001b[K     |████▊                           | 225kB 9.5MB/s eta 0:00:01\r\u001b[K     |█████                           | 235kB 9.5MB/s eta 0:00:01\r\u001b[K     |█████▏                          | 245kB 9.5MB/s eta 0:00:01\r\u001b[K     |█████▍                          | 256kB 9.5MB/s eta 0:00:01\r\u001b[K     |█████▋                          | 266kB 9.5MB/s eta 0:00:01\r\u001b[K     |█████▊                          | 276kB 9.5MB/s eta 0:00:01\r\u001b[K     |██████                          | 286kB 9.5MB/s eta 0:00:01\r\u001b[K     |██████▏                         | 296kB 9.5MB/s eta 0:00:01\r\u001b[K     |██████▍                         | 307kB 9.5MB/s eta 0:00:01\r\u001b[K     |██████▋                         | 317kB 9.5MB/s eta 0:00:01\r\u001b[K     |██████▉                         | 327kB 9.5MB/s eta 0:00:01\r\u001b[K     |███████                         | 337kB 9.5MB/s eta 0:00:01\r\u001b[K     |███████▎                        | 348kB 9.5MB/s eta 0:00:01\r\u001b[K     |███████▌                        | 358kB 9.5MB/s eta 0:00:01\r\u001b[K     |███████▊                        | 368kB 9.5MB/s eta 0:00:01\r\u001b[K     |████████                        | 378kB 9.5MB/s eta 0:00:01\r\u001b[K     |████████▏                       | 389kB 9.5MB/s eta 0:00:01\r\u001b[K     |████████▍                       | 399kB 9.5MB/s eta 0:00:01\r\u001b[K     |████████▋                       | 409kB 9.5MB/s eta 0:00:01\r\u001b[K     |████████▊                       | 419kB 9.5MB/s eta 0:00:01\r\u001b[K     |█████████                       | 430kB 9.5MB/s eta 0:00:01\r\u001b[K     |█████████▏                      | 440kB 9.5MB/s eta 0:00:01\r\u001b[K     |█████████▍                      | 450kB 9.5MB/s eta 0:00:01\r\u001b[K     |█████████▋                      | 460kB 9.5MB/s eta 0:00:01\r\u001b[K     |█████████▉                      | 471kB 9.5MB/s eta 0:00:01\r\u001b[K     |██████████                      | 481kB 9.5MB/s eta 0:00:01\r\u001b[K     |██████████▎                     | 491kB 9.5MB/s eta 0:00:01\r\u001b[K     |██████████▌                     | 501kB 9.5MB/s eta 0:00:01\r\u001b[K     |██████████▊                     | 512kB 9.5MB/s eta 0:00:01\r\u001b[K     |███████████                     | 522kB 9.5MB/s eta 0:00:01\r\u001b[K     |███████████▏                    | 532kB 9.5MB/s eta 0:00:01\r\u001b[K     |███████████▍                    | 542kB 9.5MB/s eta 0:00:01\r\u001b[K     |███████████▌                    | 552kB 9.5MB/s eta 0:00:01\r\u001b[K     |███████████▊                    | 563kB 9.5MB/s eta 0:00:01\r\u001b[K     |████████████                    | 573kB 9.5MB/s eta 0:00:01\r\u001b[K     |████████████▏                   | 583kB 9.5MB/s eta 0:00:01\r\u001b[K     |████████████▍                   | 593kB 9.5MB/s eta 0:00:01\r\u001b[K     |████████████▋                   | 604kB 9.5MB/s eta 0:00:01\r\u001b[K     |████████████▉                   | 614kB 9.5MB/s eta 0:00:01\r\u001b[K     |█████████████                   | 624kB 9.5MB/s eta 0:00:01\r\u001b[K     |█████████████▎                  | 634kB 9.5MB/s eta 0:00:01\r\u001b[K     |█████████████▌                  | 645kB 9.5MB/s eta 0:00:01\r\u001b[K     |█████████████▊                  | 655kB 9.5MB/s eta 0:00:01\r\u001b[K     |██████████████                  | 665kB 9.5MB/s eta 0:00:01\r\u001b[K     |██████████████▏                 | 675kB 9.5MB/s eta 0:00:01\r\u001b[K     |██████████████▍                 | 686kB 9.5MB/s eta 0:00:01\r\u001b[K     |██████████████▌                 | 696kB 9.5MB/s eta 0:00:01\r\u001b[K     |██████████████▊                 | 706kB 9.5MB/s eta 0:00:01\r\u001b[K     |███████████████                 | 716kB 9.5MB/s eta 0:00:01\r\u001b[K     |███████████████▏                | 727kB 9.5MB/s eta 0:00:01\r\u001b[K     |███████████████▍                | 737kB 9.5MB/s eta 0:00:01\r\u001b[K     |███████████████▋                | 747kB 9.5MB/s eta 0:00:01\r\u001b[K     |███████████████▉                | 757kB 9.5MB/s eta 0:00:01\r\u001b[K     |████████████████                | 768kB 9.5MB/s eta 0:00:01\r\u001b[K     |████████████████▎               | 778kB 9.5MB/s eta 0:00:01\r\u001b[K     |████████████████▌               | 788kB 9.5MB/s eta 0:00:01\r\u001b[K     |████████████████▊               | 798kB 9.5MB/s eta 0:00:01\r\u001b[K     |█████████████████               | 808kB 9.5MB/s eta 0:00:01\r\u001b[K     |█████████████████▏              | 819kB 9.5MB/s eta 0:00:01\r\u001b[K     |█████████████████▎              | 829kB 9.5MB/s eta 0:00:01\r\u001b[K     |█████████████████▌              | 839kB 9.5MB/s eta 0:00:01\r\u001b[K     |█████████████████▊              | 849kB 9.5MB/s eta 0:00:01\r\u001b[K     |██████████████████              | 860kB 9.5MB/s eta 0:00:01\r\u001b[K     |██████████████████▏             | 870kB 9.5MB/s eta 0:00:01\r\u001b[K     |██████████████████▍             | 880kB 9.5MB/s eta 0:00:01\r\u001b[K     |██████████████████▋             | 890kB 9.5MB/s eta 0:00:01\r\u001b[K     |██████████████████▉             | 901kB 9.5MB/s eta 0:00:01\r\u001b[K     |███████████████████             | 911kB 9.5MB/s eta 0:00:01\r\u001b[K     |███████████████████▎            | 921kB 9.5MB/s eta 0:00:01\r\u001b[K     |███████████████████▌            | 931kB 9.5MB/s eta 0:00:01\r\u001b[K     |███████████████████▊            | 942kB 9.5MB/s eta 0:00:01\r\u001b[K     |████████████████████            | 952kB 9.5MB/s eta 0:00:01\r\u001b[K     |████████████████████▏           | 962kB 9.5MB/s eta 0:00:01\r\u001b[K     |████████████████████▎           | 972kB 9.5MB/s eta 0:00:01\r\u001b[K     |████████████████████▌           | 983kB 9.5MB/s eta 0:00:01\r\u001b[K     |████████████████████▊           | 993kB 9.5MB/s eta 0:00:01\r\u001b[K     |█████████████████████           | 1.0MB 9.5MB/s eta 0:00:01\r\u001b[K     |█████████████████████▏          | 1.0MB 9.5MB/s eta 0:00:01\r\u001b[K     |█████████████████████▍          | 1.0MB 9.5MB/s eta 0:00:01\r\u001b[K     |█████████████████████▋          | 1.0MB 9.5MB/s eta 0:00:01\r\u001b[K     |█████████████████████▉          | 1.0MB 9.5MB/s eta 0:00:01\r\u001b[K     |██████████████████████          | 1.1MB 9.5MB/s eta 0:00:01\r\u001b[K     |██████████████████████▎         | 1.1MB 9.5MB/s eta 0:00:01\r\u001b[K     |██████████████████████▌         | 1.1MB 9.5MB/s eta 0:00:01\r\u001b[K     |██████████████████████▊         | 1.1MB 9.5MB/s eta 0:00:01\r\u001b[K     |███████████████████████         | 1.1MB 9.5MB/s eta 0:00:01\r\u001b[K     |███████████████████████         | 1.1MB 9.5MB/s eta 0:00:01\r\u001b[K     |███████████████████████▎        | 1.1MB 9.5MB/s eta 0:00:01\r\u001b[K     |███████████████████████▌        | 1.1MB 9.5MB/s eta 0:00:01\r\u001b[K     |███████████████████████▊        | 1.1MB 9.5MB/s eta 0:00:01\r\u001b[K     |████████████████████████        | 1.1MB 9.5MB/s eta 0:00:01\r\u001b[K     |████████████████████████▏       | 1.2MB 9.5MB/s eta 0:00:01\r\u001b[K     |████████████████████████▍       | 1.2MB 9.5MB/s eta 0:00:01\r\u001b[K     |████████████████████████▋       | 1.2MB 9.5MB/s eta 0:00:01\r\u001b[K     |████████████████████████▉       | 1.2MB 9.5MB/s eta 0:00:01\r\u001b[K     |█████████████████████████       | 1.2MB 9.5MB/s eta 0:00:01\r\u001b[K     |█████████████████████████▎      | 1.2MB 9.5MB/s eta 0:00:01\r\u001b[K     |█████████████████████████▌      | 1.2MB 9.5MB/s eta 0:00:01\r\u001b[K     |█████████████████████████▊      | 1.2MB 9.5MB/s eta 0:00:01\r\u001b[K     |██████████████████████████      | 1.2MB 9.5MB/s eta 0:00:01\r\u001b[K     |██████████████████████████      | 1.2MB 9.5MB/s eta 0:00:01\r\u001b[K     |██████████████████████████▎     | 1.3MB 9.5MB/s eta 0:00:01\r\u001b[K     |██████████████████████████▌     | 1.3MB 9.5MB/s eta 0:00:01\r\u001b[K     |██████████████████████████▊     | 1.3MB 9.5MB/s eta 0:00:01\r\u001b[K     |███████████████████████████     | 1.3MB 9.5MB/s eta 0:00:01\r\u001b[K     |███████████████████████████▏    | 1.3MB 9.5MB/s eta 0:00:01\r\u001b[K     |███████████████████████████▍    | 1.3MB 9.5MB/s eta 0:00:01\r\u001b[K     |███████████████████████████▋    | 1.3MB 9.5MB/s eta 0:00:01\r\u001b[K     |███████████████████████████▉    | 1.3MB 9.5MB/s eta 0:00:01\r\u001b[K     |████████████████████████████    | 1.3MB 9.5MB/s eta 0:00:01\r\u001b[K     |████████████████████████████▎   | 1.4MB 9.5MB/s eta 0:00:01\r\u001b[K     |████████████████████████████▌   | 1.4MB 9.5MB/s eta 0:00:01\r\u001b[K     |████████████████████████████▊   | 1.4MB 9.5MB/s eta 0:00:01\r\u001b[K     |████████████████████████████▉   | 1.4MB 9.5MB/s eta 0:00:01\r\u001b[K     |█████████████████████████████   | 1.4MB 9.5MB/s eta 0:00:01\r\u001b[K     |█████████████████████████████▎  | 1.4MB 9.5MB/s eta 0:00:01\r\u001b[K     |█████████████████████████████▌  | 1.4MB 9.5MB/s eta 0:00:01\r\u001b[K     |█████████████████████████████▊  | 1.4MB 9.5MB/s eta 0:00:01\r\u001b[K     |██████████████████████████████  | 1.4MB 9.5MB/s eta 0:00:01\r\u001b[K     |██████████████████████████████▏ | 1.4MB 9.5MB/s eta 0:00:01\r\u001b[K     |██████████████████████████████▍ | 1.5MB 9.5MB/s eta 0:00:01\r\u001b[K     |██████████████████████████████▋ | 1.5MB 9.5MB/s eta 0:00:01\r\u001b[K     |██████████████████████████████▉ | 1.5MB 9.5MB/s eta 0:00:01\r\u001b[K     |███████████████████████████████ | 1.5MB 9.5MB/s eta 0:00:01\r\u001b[K     |███████████████████████████████▎| 1.5MB 9.5MB/s eta 0:00:01\r\u001b[K     |███████████████████████████████▌| 1.5MB 9.5MB/s eta 0:00:01\r\u001b[K     |███████████████████████████████▊| 1.5MB 9.5MB/s eta 0:00:01\r\u001b[K     |███████████████████████████████▉| 1.5MB 9.5MB/s eta 0:00:01\r\u001b[K     |████████████████████████████████| 1.5MB 9.5MB/s \n",
            "\u001b[?25hRequirement already satisfied: numpy in /usr/local/lib/python3.6/dist-packages (from mahotas) (1.17.3)\n",
            "Building wheels for collected packages: mahotas\n",
            "  Building wheel for mahotas (setup.py) ... \u001b[?25l\u001b[?25hdone\n",
            "  Created wheel for mahotas: filename=mahotas-1.4.8-cp36-cp36m-linux_x86_64.whl size=4263940 sha256=c63bae290fa0bc4fd748c42e73dd931baa1b4007d54b66719e24be9b0a73232e\n",
            "  Stored in directory: /root/.cache/pip/wheels/3e/8b/93/690deca49a46242df274db70dbef26c0a6fa86e378b677e1ab\n",
            "Successfully built mahotas\n",
            "Installing collected packages: mahotas\n",
            "Successfully installed mahotas-1.4.8\n"
          ],
          "name": "stdout"
        }
      ]
    },
    {
      "cell_type": "code",
      "metadata": {
        "id": "SzWdrvAgvBId",
        "colab_type": "code",
        "colab": {}
      },
      "source": [
        "import numpy as np\n",
        "import cv2\n",
        "from skimage import data\n",
        "import matplotlib.pyplot as plt\n",
        "import matplotlib\n",
        "import pandas as pd\n",
        "from skimage import io, util\n",
        "import mahotas.features.texture as mht\n",
        "import mahotas.features"
      ],
      "execution_count": 0,
      "outputs": []
    },
    {
      "cell_type": "code",
      "metadata": {
        "id": "qKqzlX77P5-M",
        "colab_type": "code",
        "colab": {}
      },
      "source": [
        "# https://buildmedia.readthedocs.org/media/pdf/mahotas/latest/mahotas.pdf\n",
        "\n",
        "# Why there are only 13 features implemented? (pag 42)\n",
        "# Only the first 13 features are implemented. The last (14th) feature is \n",
        "# normally considered to be unstable, although it\n",
        "# is not clear to me why this is. (See this unanswered question on Cross-validated).\n",
        "\n",
        "# What mahotas.features.haralick return as answer?  (pag 58)\n",
        "# mahotas.features.haralick returns features in 4 directions. \n",
        "# We just take the mean (sometimes you use the spread ptp() too).\n",
        "\n",
        "# Who uses mahotas? (pag 62)\n",
        "# In June 2016, there were 34 papers citing the mahotas paper\n",
        "\n",
        "\n"
      ],
      "execution_count": 0,
      "outputs": []
    },
    {
      "cell_type": "code",
      "metadata": {
        "id": "oYq2yaKzvI8M",
        "colab_type": "code",
        "colab": {}
      },
      "source": [
        "images = ('hubble_deep_field',\n",
        "          'immunohistochemistry',\n",
        "          'microaneurysms',\n",
        "          'moon',\n",
        "          'retina')\n",
        "caller = getattr(data, images[4])\n",
        "image = caller()"
      ],
      "execution_count": 0,
      "outputs": []
    },
    {
      "cell_type": "code",
      "metadata": {
        "id": "5zptA88eLE7I",
        "colab_type": "code",
        "colab": {}
      },
      "source": [
        "Mahotas =pd.DataFrame(mahotas.features.haralick(image))"
      ],
      "execution_count": 0,
      "outputs": []
    },
    {
      "cell_type": "code",
      "metadata": {
        "id": "oVOE26IhTIWI",
        "colab_type": "code",
        "colab": {
          "base_uri": "https://localhost:8080/",
          "height": 298
        },
        "outputId": "ae99df7e-a417-4700-e01d-f9ddc508b103"
      },
      "source": [
        "print(Mahotas)"
      ],
      "execution_count": 9,
      "outputs": [
        {
          "output_type": "stream",
          "text": [
            "          0            1         2   ...        10        11        12\n",
            "0   0.015965     6.426415  0.999452  ...  2.011315 -0.658899  0.999928\n",
            "1   0.015042    11.980861  0.998978  ...  2.317360 -0.610684  0.999863\n",
            "2   0.016155     6.180067  0.999473  ...  1.932706 -0.671126  0.999939\n",
            "3   0.015076    11.616170  0.999009  ...  2.299061 -0.613425  0.999868\n",
            "4   0.009879  6236.057486  0.364507  ...  5.857769 -0.294217  0.989769\n",
            "5   0.009913  6246.183988  0.363298  ...  5.898624 -0.280109  0.987671\n",
            "6   0.009887  6247.766785  0.363141  ...  5.905899 -0.278668  0.987431\n",
            "7   0.009889  6257.427252  0.361977  ...  5.920880 -0.274740  0.986771\n",
            "8   0.009890  6251.722946  0.362559  ...  5.904230 -0.278622  0.987438\n",
            "9   0.009910  6244.108317  0.363509  ...  5.901138 -0.279984  0.987650\n",
            "10  0.009890  6242.236141  0.363704  ...  5.888625 -0.282506  0.988057\n",
            "11  0.009883  6249.916788  0.362743  ...  5.905857 -0.278486  0.987415\n",
            "12  0.009884  6255.125330  0.362212  ...  5.921136 -0.274899  0.986799\n",
            "\n",
            "[13 rows x 13 columns]\n"
          ],
          "name": "stdout"
        }
      ]
    },
    {
      "cell_type": "code",
      "metadata": {
        "id": "oIvAhiApT7HZ",
        "colab_type": "code",
        "colab": {
          "base_uri": "https://localhost:8080/",
          "height": 932
        },
        "outputId": "06f148d9-fe83-405c-e183-f1d47d46e1da"
      },
      "source": [
        "print(mahotas.features.haralick(image))"
      ],
      "execution_count": 10,
      "outputs": [
        {
          "output_type": "stream",
          "text": [
            "[[ 1.59646151e-02  6.42641538e+00  9.99452141e-01  5.86502271e+03\n",
            "   6.51390158e-01  1.79522843e+02  2.34536644e+04  7.54520660e+00\n",
            "   9.00439563e+00  1.27361490e-03  2.01131459e+00 -6.58898717e-01\n",
            "   9.99928158e-01]\n",
            " [ 1.50424687e-02  1.19808615e+01  9.98978369e-01  5.86359286e+03\n",
            "   5.84361095e-01  1.79648715e+02  2.34423906e+04  7.56089528e+00\n",
            "   9.33093504e+00  1.04911028e-03  2.31736037e+00 -6.10684008e-01\n",
            "   9.99863070e-01]\n",
            " [ 1.61553687e-02  6.18006695e+00  9.99473146e-01  5.86506907e+03\n",
            "   6.67523580e-01  1.79522321e+02  2.34540962e+04  7.54219148e+00\n",
            "   8.92221486e+00  1.33579084e-03  1.93270560e+00 -6.71126244e-01\n",
            "   9.99939032e-01]\n",
            " [ 1.50760651e-02  1.16161699e+01  9.99009467e-01  5.86359277e+03\n",
            "   5.86507510e-01  1.79648716e+02  2.34427549e+04  7.56042006e+00\n",
            "   9.31252656e+00  1.05668308e-03  2.29906055e+00 -6.13424924e-01\n",
            "   9.99868020e-01]\n",
            " [ 9.87900775e-03  6.23605749e+03  3.64507007e-01  4.90647226e+03\n",
            "   9.80030825e-02  1.66319880e+02  1.33898316e+04  7.28019510e+00\n",
            "   1.12891153e+01  1.12185852e-04  5.85776861e+00 -2.94216524e-01\n",
            "   9.89769189e-01]\n",
            " [ 9.91301317e-03  6.24618399e+03  3.63297746e-01  4.90510591e+03\n",
            "   9.63087182e-02  1.66437085e+02  1.33742397e+04  7.29215940e+00\n",
            "   1.13862477e+01  1.10485090e-04  5.89862379e+00 -2.80108827e-01\n",
            "   9.87670857e-01]\n",
            " [ 9.88731535e-03  6.24776678e+03  3.63140548e-01  4.90513784e+03\n",
            "   9.67136187e-02  1.66436696e+02  1.33727846e+04  7.29221558e+00\n",
            "   1.13955179e+01  1.10049683e-04  5.90589860e+00 -2.78667639e-01\n",
            "   9.87430709e-01]\n",
            " [ 9.88862741e-03  6.25742725e+03  3.61977086e-01  4.90376373e+03\n",
            "   9.57845666e-02  1.66553983e+02  1.33576277e+04  7.29481074e+00\n",
            "   1.14252970e+01  1.09618023e-04  5.92087988e+00 -2.74739696e-01\n",
            "   9.86771238e-01]\n",
            " [ 9.89004843e-03  6.25172295e+03  3.62558669e-01  4.90376341e+03\n",
            "   9.54624834e-02  1.66553986e+02  1.33633307e+04  7.29650125e+00\n",
            "   1.13995654e+01  1.10056826e-04  5.90423008e+00 -2.78622255e-01\n",
            "   9.87438449e-01]\n",
            " [ 9.90969486e-03  6.24410832e+03  3.63509107e-01  4.90510421e+03\n",
            "   9.62491839e-02  1.66437105e+02  1.33763085e+04  7.29286853e+00\n",
            "   1.13870337e+01  1.10407507e-04  5.90113838e+00 -2.79984360e-01\n",
            "   9.87650241e-01]\n",
            " [ 9.88954427e-03  6.24223614e+03  3.63704275e-01  4.90513757e+03\n",
            "   9.63871007e-02  1.66436699e+02  1.33783142e+04  7.29427694e+00\n",
            "   1.13700846e+01  1.10536373e-04  5.88862466e+00 -2.82506360e-01\n",
            "   9.88057277e-01]\n",
            " [ 9.88315858e-03  6.24991679e+03  3.62742616e-01  4.90376177e+03\n",
            "   9.53959279e-02  1.66554006e+02  1.33651303e+04  7.29762200e+00\n",
            "   1.14004304e+01  1.09931637e-04  5.90585746e+00 -2.78485822e-01\n",
            "   9.87415427e-01]\n",
            " [ 9.88376020e-03  6.25512533e+03  3.62211566e-01  4.90376197e+03\n",
            "   9.57819437e-02  1.66554004e+02  1.33599225e+04  7.29538472e+00\n",
            "   1.14242071e+01  1.09632172e-04  5.92113564e+00 -2.74898587e-01\n",
            "   9.86799075e-01]]\n"
          ],
          "name": "stdout"
        }
      ]
    },
    {
      "cell_type": "code",
      "metadata": {
        "id": "yUbinIYNRt0V",
        "colab_type": "code",
        "colab": {}
      },
      "source": [
        "plt.imshow(image)"
      ],
      "execution_count": 0,
      "outputs": []
    }
  ]
}