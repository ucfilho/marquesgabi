{
  "nbformat": 4,
  "nbformat_minor": 0,
  "metadata": {
    "colab": {
      "name": "Distribuicao_Granulometrica_jun_14_2019.ipynb",
      "version": "0.3.2",
      "provenance": [],
      "collapsed_sections": [],
      "include_colab_link": true
    },
    "kernelspec": {
      "name": "python3",
      "display_name": "Python 3"
    }
  },
  "cells": [
    {
      "cell_type": "markdown",
      "metadata": {
        "id": "view-in-github",
        "colab_type": "text"
      },
      "source": [
        "<a href=\"https://colab.research.google.com/github/ucfilho/marquesgabi/blob/master/Distribuicao_Granulometrica_jun_14_2019.ipynb\" target=\"_parent\"><img src=\"https://colab.research.google.com/assets/colab-badge.svg\" alt=\"Open In Colab\"/></a>"
      ]
    },
    {
      "cell_type": "code",
      "metadata": {
        "id": "wwmhr7WKIZid",
        "colab_type": "code",
        "colab": {}
      },
      "source": [
        "import numpy as np\n"
      ],
      "execution_count": 0,
      "outputs": []
    },
    {
      "cell_type": "code",
      "metadata": {
        "id": "FknQCAyIJ26g",
        "colab_type": "code",
        "outputId": "2544fd69-d1cc-4db8-cf91-36e0de31d681",
        "colab": {
          "base_uri": "https://localhost:8080/",
          "height": 117
        }
      },
      "source": [
        "! pip install --upgrade Cython\n",
        "! pip install --upgrade git+https://github.com/statsmodels/statsmodels\n",
        "import statsmodels.api as sm"
      ],
      "execution_count": 0,
      "outputs": [
        {
          "output_type": "stream",
          "text": [
            "Requirement already up-to-date: Cython in /usr/local/lib/python3.6/dist-packages (0.29.10)\n",
            "Collecting git+https://github.com/statsmodels/statsmodels\n",
            "  Cloning https://github.com/statsmodels/statsmodels to /tmp/pip-req-build-znn4ds9k\n",
            "  Running command git clone -q https://github.com/statsmodels/statsmodels /tmp/pip-req-build-znn4ds9k\n"
          ],
          "name": "stdout"
        }
      ]
    },
    {
      "cell_type": "code",
      "metadata": {
        "id": "zCKJukB8IeJy",
        "colab_type": "code",
        "colab": {}
      },
      "source": [
        "X=[0.948,0.789,0.583,0.321,0.187,0.115,0.069,0.037,0.022,0.011,0.004]\n",
        "D=[2.38 ,1.68 ,1.19,0.841, 0.595,0.420 ,0.297,0.210 ,0.149 ,0.105 ,0.074]\n",
        "print(len(X))\n",
        "print(len(D))"
      ],
      "execution_count": 0,
      "outputs": []
    },
    {
      "cell_type": "code",
      "metadata": {
        "id": "sR5RlepCJoCX",
        "colab_type": "code",
        "colab": {}
      },
      "source": [
        "import numpy as np\n",
        "import pandas as pd\n",
        "import scipy as sp\n",
        "\n",
        "import matplotlib.pyplot as plt\n",
        "import os\n",
        "\n",
        "Path='/home/ucfilho/Documents/Doutorados_Mestrados/Doutorado_Raiana/Superficie_Resposta'\n",
        "os.chdir(Path)\n",
        "\"\"\"\"\"\n",
        "!/usr/bin/python3\n",
        "cd '/home/ucfilho/Documents/Doutorados_Mestrados/Doutorado_Raiana/Superficie_Resposta'\n",
        "chmod +x Otimiza_vapor_maio_18_2017.py\n",
        "./Otimiza_vapor_maio_18_2017.py\n",
        "\n",
        "\"\"\"\"\"\n",
        "DAT=pd.read_csv(\"Vapor_otimiza_maio_18_2017.txt\",sep='\\t')\n",
        "print(DAT)\n",
        "\n",
        "#X = DAT[['NTB', 'PW']]\n",
        "X = DAT.loc[:,'NTB':'PW']\n",
        "print(X)\n",
        "#y = DAT[['SSC']]\n",
        "#y= DAT.loc['SSC']\n",
        "y= DAT['SSC']\n",
        "print(y)\n",
        "\n",
        "## fit a OLS model with intercept on TV and Radio\n",
        "X = sm.add_constant(X)\n",
        "est = sm.OLS(y, X).fit()\n",
        "\n",
        "print(est.summary())"
      ],
      "execution_count": 0,
      "outputs": []
    },
    {
      "cell_type": "code",
      "metadata": {
        "id": "mAwDTbtbKhpZ",
        "colab_type": "code",
        "colab": {}
      },
      "source": [
        "import statsmodels.api as sm"
      ],
      "execution_count": 0,
      "outputs": []
    }
  ]
}