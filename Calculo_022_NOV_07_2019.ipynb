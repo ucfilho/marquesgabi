{
  "nbformat": 4,
  "nbformat_minor": 0,
  "metadata": {
    "colab": {
      "name": "Calculo_022_NOV_07_2019.ipynb",
      "provenance": [],
      "collapsed_sections": [],
      "include_colab_link": true
    },
    "kernelspec": {
      "name": "python3",
      "display_name": "Python 3"
    }
  },
  "cells": [
    {
      "cell_type": "markdown",
      "metadata": {
        "id": "view-in-github",
        "colab_type": "text"
      },
      "source": [
        "<a href=\"https://colab.research.google.com/github/ucfilho/marquesgabi/blob/master/Calculo_022_NOV_07_2019.ipynb\" target=\"_parent\"><img src=\"https://colab.research.google.com/assets/colab-badge.svg\" alt=\"Open In Colab\"/></a>"
      ]
    },
    {
      "cell_type": "code",
      "metadata": {
        "id": "9q3V2QrqnMBI",
        "colab_type": "code",
        "colab": {}
      },
      "source": [
        "# carrega as bibliotecas do python"
      ],
      "execution_count": 0,
      "outputs": []
    },
    {
      "cell_type": "code",
      "metadata": {
        "id": "7ehcD9CI2hdG",
        "colab_type": "code",
        "colab": {}
      },
      "source": [
        "# rotate image....\n",
        "# https://www.pyimagesearch.com/2017/01/02/rotate-images-correctly-with-opencv-and-python/\n",
        "# https://pythontic.com/image-processing/pillow/rotate"
      ],
      "execution_count": 0,
      "outputs": []
    },
    {
      "cell_type": "code",
      "metadata": {
        "id": "szqvrsIInRDg",
        "colab_type": "code",
        "colab": {}
      },
      "source": [
        "%matplotlib inline\n",
        "from matplotlib import pyplot as plt\n",
        "import os \n",
        "import cv2\n",
        "import zipfile\n",
        "from skimage import data\n",
        "from skimage import filters\n",
        "from skimage import exposure\n",
        "import skimage.feature as sk\n",
        "import numpy as np\n",
        "import pandas as pd\n",
        "from google.colab import files\n",
        "from sklearn.metrics.cluster import entropy\n",
        "from sklearn.metrics.cluster import homogeneity_score\n",
        "from numpy import linalg as LA\n"
      ],
      "execution_count": 0,
      "outputs": []
    },
    {
      "cell_type": "code",
      "metadata": {
        "id": "zsjb8DmRVtDy",
        "colab_type": "code",
        "outputId": "b0624885-75f6-4f75-d03d-ca4b7252f7f4",
        "colab": {
          "base_uri": "https://localhost:8080/",
          "height": 210
        }
      },
      "source": [
        "!wget http://ftp.feq.ufu.br/ubirajara/Sugar_set_30_2019.zip\n",
        "#!ls -l trash_nov_22_2018.zip\n"
      ],
      "execution_count": 4,
      "outputs": [
        {
          "output_type": "stream",
          "text": [
            "--2019-11-07 20:29:24--  http://ftp.feq.ufu.br/ubirajara/Sugar_set_30_2019.zip\n",
            "Resolving ftp.feq.ufu.br (ftp.feq.ufu.br)... 200.19.144.11\n",
            "Connecting to ftp.feq.ufu.br (ftp.feq.ufu.br)|200.19.144.11|:80... connected.\n",
            "HTTP request sent, awaiting response... 200 OK\n",
            "Length: 19584173 (19M) [application/zip]\n",
            "Saving to: ‘Sugar_set_30_2019.zip.1’\n",
            "\n",
            "Sugar_set_30_2019.z 100%[===================>]  18.68M  6.43MB/s    in 2.9s    \n",
            "\n",
            "2019-11-07 20:29:27 (6.43 MB/s) - ‘Sugar_set_30_2019.zip.1’ saved [19584173/19584173]\n",
            "\n"
          ],
          "name": "stdout"
        }
      ]
    },
    {
      "cell_type": "code",
      "metadata": {
        "id": "ygswjsh1ptUl",
        "colab_type": "code",
        "colab": {}
      },
      "source": [
        "\n",
        "file_name = zipfile.ZipFile('Sugar_set_30_2019.zip', 'r')\n",
        "file_name.extractall() "
      ],
      "execution_count": 0,
      "outputs": []
    },
    {
      "cell_type": "code",
      "metadata": {
        "id": "Qq1UTVWMnU0n",
        "colab_type": "code",
        "colab": {}
      },
      "source": [
        "# all images are resized in variable x, are in gray in variable p and in variable w are dataframe\n",
        "FILE='Sugar_set_30_2019.zip'\n",
        "img_name=[]\n",
        "x=[]\n",
        "p=[]\n",
        "w=[]\n",
        "Size=5 # trocar por 64 qdo acabar a analise\n",
        "\n",
        "with zipfile.ZipFile(FILE, \"r\") as f:\n",
        "    for name in f.namelist():\n",
        "        img_name.append(name)\n",
        "        #x.append(cv2.imread(name))\n",
        "        x.append(cv2.resize(cv2.imread(name),(Size,Size)))\n",
        "\n",
        "nrow=len(img_name)\n",
        "ncol=Size*Size\n",
        "pp=np.zeros((nrow,ncol))\n",
        "for i in range(nrow):\n",
        "    w.append(cv2.cvtColor(np.array(x[i]), cv2.COLOR_BGR2GRAY))\n",
        "    pp[i,:]=w[i].ravel()"
      ],
      "execution_count": 0,
      "outputs": []
    },
    {
      "cell_type": "code",
      "metadata": {
        "id": "FFahQriWmGHt",
        "colab_type": "code",
        "outputId": "b2da9e52-ec9e-471e-b4f9-7dd12e31fd02",
        "colab": {
          "base_uri": "https://localhost:8080/",
          "height": 52
        }
      },
      "source": [
        "!git clone https://github.com/ucfilho/marquesgabi #clonar do Github\n",
        "%cd marquesgabi\n",
        "import Go2GLCM"
      ],
      "execution_count": 7,
      "outputs": [
        {
          "output_type": "stream",
          "text": [
            "fatal: destination path 'marquesgabi' already exists and is not an empty directory.\n",
            "/content/marquesgabi\n"
          ],
          "name": "stdout"
        }
      ]
    },
    {
      "cell_type": "code",
      "metadata": {
        "id": "9XPFWhiq3tGW",
        "colab_type": "code",
        "outputId": "38647703-789b-4cc2-bdb7-c1eb7ac71628",
        "colab": {
          "base_uri": "https://localhost:8080/",
          "height": 1000
        }
      },
      "source": [
        "Nfotos=len(img_name)\n",
        "GLCM=[]\n",
        "for k in range(Nfotos):\n",
        "  p=pp[k,:].reshape(Size,Size)\n",
        "  MAT=Go2GLCM.GLCM(p)\n",
        "  pd.set_option('display.max_columns', 30)\n",
        "  GLCM.append(MAT.ravel())\n",
        "\n",
        "Nomes=['ASM','constrast','correl','variance','inv diff mom','sum aveg',\n",
        "       'sum var','sum entropy','entropy','dif var','dif entropy','IMC1',\n",
        "       'IMC2','MCC']\n",
        "print(pd.DataFrame(GLCM,columns=Nomes))\n",
        "\n",
        "  "
      ],
      "execution_count": 8,
      "outputs": [
        {
          "output_type": "stream",
          "text": [
            "         ASM  constrast     correl  variance  inv diff mom   sum aveg  \\\n",
            "0   0.040159   4.006764 -48.388893  5.873156      0.423837  20.097900   \n",
            "1   0.041540   4.282528 -47.724904  5.762803      0.411868  20.118283   \n",
            "2   0.040287   4.030399 -49.193342  5.979967      0.424910  20.208554   \n",
            "3   0.040175   4.015663 -48.607804  6.027608      0.435603  20.231465   \n",
            "4   0.040313   4.043838 -47.746904  5.656749      0.422210  19.935322   \n",
            "5   0.040234   4.056964 -49.752577  5.948915      0.431240  20.434179   \n",
            "6   0.040177   3.895373 -49.375098  5.944445      0.435292  20.236533   \n",
            "7   0.040276   3.931919 -51.702480  6.036687      0.428104  20.603832   \n",
            "8   0.040229   3.993338 -49.941784  6.066993      0.427480  20.420368   \n",
            "9   0.040272   3.979461 -49.007498  5.888981      0.430643  20.247112   \n",
            "10  0.040134   3.934069 -48.671268  5.729726      0.432728  20.036278   \n",
            "11  0.041463   3.928237 -48.569188  5.890711      0.447866  20.068643   \n",
            "12  0.040367   4.035181 -49.472654  5.853991      0.426656  20.309776   \n",
            "13  0.040158   3.968848 -49.843685  5.912714      0.429517  20.221838   \n",
            "14  0.040253   4.044039 -50.763577  5.959033      0.422164  20.563070   \n",
            "15  0.040186   4.023711 -49.898148  5.956926      0.428484  20.352234   \n",
            "16  0.040090   4.097282 -49.108733  5.946493      0.422124  20.268240   \n",
            "17  0.040080   4.012748 -48.622208  6.011883      0.427612  20.219547   \n",
            "18  0.040168   3.938882 -48.567679  5.859662      0.433305  20.110533   \n",
            "19  0.040256   3.993746 -49.612653  6.041455      0.428717  20.406517   \n",
            "20  0.041017   3.807823 -48.158425  5.624193      0.444352  19.769018   \n",
            "21  0.040295   3.873777 -49.870148  5.934538      0.430973  20.242979   \n",
            "22  0.040133   4.009592 -48.905516  5.925221      0.421378  20.140887   \n",
            "23  0.040141   3.981876 -47.131547  5.783934      0.428346  19.925278   \n",
            "\n",
            "      sum var  sum entropy   entropy    dif var  dif entropy      IMC1  \\\n",
            "0   38.848134     2.080038  0.648663  20.033820     7.608990 -0.000770   \n",
            "1   38.570089     2.064334  0.646616  21.412639     7.688757 -0.005531   \n",
            "2   39.133866     2.071191  0.656965  20.151997     7.628194 -0.001239   \n",
            "3   39.597120     2.083742  0.653877  20.078315     7.654684 -0.000658   \n",
            "4   38.085237     2.073301  0.652921  20.219188     7.614789 -0.001073   \n",
            "5   40.230847     2.075870  0.682095  20.284821     7.655078 -0.000922   \n",
            "6   39.573951     2.085067  0.652156  19.476865     7.577211 -0.000988   \n",
            "7   40.693982     2.074155  0.658831  19.659596     7.578699 -0.000549   \n",
            "8   40.181363     2.081093  0.666620  19.966688     7.605428 -0.000692   \n",
            "9   39.592274     2.082958  0.673809  19.897304     7.621302 -0.001170   \n",
            "10  38.554257     2.077204  0.646436  19.670347     7.601373 -0.000467   \n",
            "11  38.872586     2.078754  0.645509  19.641186     7.659214 -0.006092   \n",
            "12  39.582354     2.076718  0.684002  20.175903     7.629865 -0.000825   \n",
            "13  39.031595     2.070200  0.643805  19.844242     7.610513 -0.000632   \n",
            "14  40.558430     2.074030  0.689326  20.220195     7.622171 -0.000570   \n",
            "15  39.695415     2.072495  0.660197  20.118557     7.627342 -0.000876   \n",
            "16  39.327358     2.071620  0.664715  20.486409     7.647754 -0.000337   \n",
            "17  39.499598     2.084077  0.650044  20.063739     7.623504 -0.000212   \n",
            "18  39.054108     2.083887  0.655471  19.694408     7.600480 -0.000923   \n",
            "19  40.250093     2.085007  0.668884  19.968729     7.623622 -0.000853   \n",
            "20  37.541614     2.076241  0.628183  19.039113     7.580083 -0.003077   \n",
            "21  39.453390     2.079680  0.650935  19.368886     7.536257 -0.001198   \n",
            "22  38.845679     2.075156  0.647399  20.047962     7.588288 -0.000810   \n",
            "23  38.512463     2.087686  0.658245  19.909380     7.609884 -0.000701   \n",
            "\n",
            "        IMC2       MCC  \n",
            "0   0.049748  0.039787  \n",
            "1   0.132720  0.133372  \n",
            "2   0.063068  0.045709  \n",
            "3   0.045987  0.036992  \n",
            "4   0.058718  0.051329  \n",
            "5   0.054422  0.043527  \n",
            "6   0.056352  0.040677  \n",
            "7   0.042002  0.038265  \n",
            "8   0.047156  0.037697  \n",
            "9   0.061295  0.043862  \n",
            "10  0.038765  0.029734  \n",
            "11  0.139237  0.141814  \n",
            "12  0.051484  0.038411  \n",
            "13  0.045091  0.035332  \n",
            "14  0.042812  0.034853  \n",
            "15  0.053054  0.040517  \n",
            "16  0.032944  0.023720  \n",
            "17  0.026141  0.022604  \n",
            "18  0.054465  0.041306  \n",
            "19  0.052339  0.039832  \n",
            "20  0.099215  0.096133  \n",
            "21  0.062043  0.047937  \n",
            "22  0.051039  0.039404  \n",
            "23  0.047462  0.036301  \n"
          ],
          "name": "stdout"
        }
      ]
    },
    {
      "cell_type": "code",
      "metadata": {
        "id": "8JqTwJ9TpmzE",
        "colab_type": "code",
        "outputId": "8cc49132-8c14-435c-d30b-442e76ed080d",
        "colab": {
          "base_uri": "https://localhost:8080/",
          "height": 34
        }
      },
      "source": [
        "print(p.shape)"
      ],
      "execution_count": 9,
      "outputs": [
        {
          "output_type": "stream",
          "text": [
            "(5, 5)\n"
          ],
          "name": "stdout"
        }
      ]
    },
    {
      "cell_type": "code",
      "metadata": {
        "id": "4SByB4bq4wO9",
        "colab_type": "code",
        "outputId": "99cb5cfb-45a4-4065-bd91-7db634322d11",
        "colab": {
          "base_uri": "https://localhost:8080/",
          "height": 54
        }
      },
      "source": [
        "'''          \n",
        "          0         1          2         3         4          5          6  \\\n",
        "0  0.040159  4.006764 -48.388893  5.873156  0.423837  20.097900  38.848134   \n",
        "1  0.041540  4.282528 -47.724904  5.762803  0.411868  20.118283  38.570089   \n",
        "2  0.040287  4.030399 -49.193342  5.979967  0.424910  20.208554  39.133866   \n",
        "3  0.040175  4.015663 -48.607804  6.027608  0.435603  20.231465  39.597120   \n",
        "4  0.040313  4.043838 -47.746904  5.656749  0.422210  19.935322  38.085237   \n",
        "\n",
        "          7         8          9        10        11        12        13  \n",
        "0  2.080038  0.648663  20.033820  7.608990 -0.000770  0.049748  0.039787  \n",
        "1  2.064334  0.646616  21.412639  7.688757 -0.005531  0.132720  0.133372  \n",
        "2  2.071191  0.656965  20.151997  7.628194 -0.001239  0.063068  0.045709  \n",
        "3  2.083742  0.653877  20.078315  7.654684 -0.000658  0.045987  0.036992  \n",
        "4  2.073301  0.652921  20.219188  7.614789 -0.001073  0.058718  0.051329\n",
        "'''"
      ],
      "execution_count": 10,
      "outputs": [
        {
          "output_type": "execute_result",
          "data": {
            "text/plain": [
              "'          \\n          0         1          2         3         4          5          6  0  0.040159  4.006764 -48.388893  5.873156  0.423837  20.097900  38.848134   \\n1  0.041540  4.282528 -47.724904  5.762803  0.411868  20.118283  38.570089   \\n2  0.040287  4.030399 -49.193342  5.979967  0.424910  20.208554  39.133866   \\n3  0.040175  4.015663 -48.607804  6.027608  0.435603  20.231465  39.597120   \\n4  0.040313  4.043838 -47.746904  5.656749  0.422210  19.935322  38.085237   \\n\\n          7         8          9        10        11        12        13  \\n0  2.080038  0.648663  20.033820  7.608990 -0.000770  0.049748  0.039787  \\n1  2.064334  0.646616  21.412639  7.688757 -0.005531  0.132720  0.133372  \\n2  2.071191  0.656965  20.151997  7.628194 -0.001239  0.063068  0.045709  \\n3  2.083742  0.653877  20.078315  7.654684 -0.000658  0.045987  0.036992  \\n4  2.073301  0.652921  20.219188  7.614789 -0.001073  0.058718  0.051329\\n'"
            ]
          },
          "metadata": {
            "tags": []
          },
          "execution_count": 10
        }
      ]
    },
    {
      "cell_type": "code",
      "metadata": {
        "id": "DVBIw8hpxRC3",
        "colab_type": "code",
        "outputId": "b952afee-e1b1-49c1-8516-15fedbdbe225",
        "colab": {
          "base_uri": "https://localhost:8080/",
          "height": 87
        }
      },
      "source": [
        "import numpy as np\n",
        "#from skimage.feature import haar_like_feature_coord\n",
        "#from skimage.feature import draw_haar_like_feature\n",
        "from skimage.feature import greycomatrix\n",
        "from skimage.feature import greycoprops\n",
        "#import skimage.feature.greycoprops as greycoprops\n",
        "image = np.array([[0, 0, 1, 1],[0, 0, 1, 1],[0, 2, 2, 2],[2, 2, 3, 3]], dtype=np.uint8)\n",
        "g = greycomatrix(image, [1, 2], [0, np.pi/2], levels=6,normed=True, symmetric=True)\n",
        "contrast = greycoprops(g, 'contrast')\n",
        "correlation= greycoprops(g, 'correlation')\n",
        "print(contrast)\n",
        "print(correlation)"
      ],
      "execution_count": 11,
      "outputs": [
        {
          "output_type": "stream",
          "text": [
            "[[0.58333333 1.        ]\n",
            " [1.25       2.75      ]]\n",
            "[[ 0.71953255  0.48571429]\n",
            " [ 0.41176471 -0.29411765]]\n"
          ],
          "name": "stdout"
        }
      ]
    },
    {
      "cell_type": "code",
      "metadata": {
        "id": "f3-bQ4EKb7Ua",
        "colab_type": "code",
        "outputId": "9b01841d-ee76-49b5-c192-9b34f001d01f",
        "colab": {
          "base_uri": "https://localhost:8080/",
          "height": 87
        }
      },
      "source": [
        "image = np.array(w[0], dtype=np.uint8)\n",
        "g = greycomatrix(image, [1, 2], [0, np.pi/2], levels=255,normed=True, symmetric=True)\n",
        "contrast = greycoprops(g, 'contrast')\n",
        "correlation= greycoprops(g, 'correlation')\n",
        "print(contrast)\n",
        "print(correlation)"
      ],
      "execution_count": 12,
      "outputs": [
        {
          "output_type": "stream",
          "text": [
            "[[ 98.2         85.1       ]\n",
            " [153.66666667  72.4       ]]\n",
            "[[-0.0829887   0.15825915]\n",
            " [-0.56657076  0.20068695]]\n"
          ],
          "name": "stdout"
        }
      ]
    },
    {
      "cell_type": "code",
      "metadata": {
        "id": "aiA8Ic5DR1Dc",
        "colab_type": "code",
        "outputId": "75e61dc5-d9e4-4269-db55-f61899038afc",
        "colab": {
          "base_uri": "https://localhost:8080/",
          "height": 87
        }
      },
      "source": [
        "P=w[0]\n",
        "print\n",
        "row,col=P.shape\n",
        "Size=row\n",
        "Soma=0\n",
        "for i in range(Size):\n",
        "    for j in range(Size):\n",
        "      Soma=Soma+P[i,j]\n",
        "  \n",
        "for i in range(Size):\n",
        "  for j in range(Size):\n",
        "    P[i,j]=P[i,j]/Soma\n",
        "\n",
        "image = np.array(P, dtype=np.uint8)\n",
        "g = greycomatrix(image, [1, 2], [0, np.pi/2], levels=255,normed=True, symmetric=True)\n",
        "contrast = greycoprops(g, 'contrast')\n",
        "correlation= greycoprops(g, 'correlation')\n",
        "print(contrast)\n",
        "print(correlation)"
      ],
      "execution_count": 13,
      "outputs": [
        {
          "output_type": "stream",
          "text": [
            "[[0. 0.]\n",
            " [0. 0.]]\n",
            "[[1. 1.]\n",
            " [1. 1.]]\n"
          ],
          "name": "stdout"
        }
      ]
    },
    {
      "cell_type": "code",
      "metadata": {
        "id": "T1T7VLXfX8u3",
        "colab_type": "code",
        "outputId": "11cf9eb1-c42b-480a-a845-91d07f26a3be",
        "colab": {
          "base_uri": "https://localhost:8080/",
          "height": 122
        }
      },
      "source": [
        "print(P);print(Size)"
      ],
      "execution_count": 14,
      "outputs": [
        {
          "output_type": "stream",
          "text": [
            "[[0 0 0 0 0]\n",
            " [0 0 0 0 0]\n",
            " [0 0 0 0 0]\n",
            " [0 0 0 0 0]\n",
            " [0 0 0 0 0]]\n",
            "5\n"
          ],
          "name": "stdout"
        }
      ]
    },
    {
      "cell_type": "code",
      "metadata": {
        "id": "yfCdjVXYUyxa",
        "colab_type": "code",
        "colab": {}
      },
      "source": [
        "# glcm = [0 1 2 3;1 1 2 3;1 0 2 0;0 0 0 3]"
      ],
      "execution_count": 0,
      "outputs": []
    },
    {
      "cell_type": "code",
      "metadata": {
        "id": "rf0_P-i_U4sV",
        "colab_type": "code",
        "colab": {
          "base_uri": "https://localhost:8080/",
          "height": 34
        },
        "outputId": "5fbc2c0a-6097-4156-df22-9891f6b4dba9"
      },
      "source": [
        "'''\n",
        "https://www.mathworks.com/help/images/ref/graycoprops.html\n",
        "glcm = 4×4\n",
        "\n",
        "     0     1     2     3\n",
        "     1     1     2     3\n",
        "     1     0     2     0\n",
        "     0     0     0     3\n",
        "'''"
      ],
      "execution_count": 16,
      "outputs": [
        {
          "output_type": "execute_result",
          "data": {
            "text/plain": [
              "'\\nglcm = 4×4\\n\\n     0     1     2     3\\n     1     1     2     3\\n     1     0     2     0\\n     0     0     0     3\\n'"
            ]
          },
          "metadata": {
            "tags": []
          },
          "execution_count": 16
        }
      ]
    },
    {
      "cell_type": "code",
      "metadata": {
        "id": "0VHCSz9AU8aW",
        "colab_type": "code",
        "colab": {
          "base_uri": "https://localhost:8080/",
          "height": 54
        },
        "outputId": "be2a0d2a-a756-43df-948a-7b4d60295315"
      },
      "source": [
        "'''\n",
        "stats = graycoprops(glcm)\n",
        "stats = struct with fields:\n",
        "       Contrast: 2.8947\n",
        "    Correlation: 0.0783\n",
        "         Energy: 0.1191\n",
        "    Homogeneity: 0.5658\n",
        "'''"
      ],
      "execution_count": 17,
      "outputs": [
        {
          "output_type": "execute_result",
          "data": {
            "text/plain": [
              "'\\nstats = graycoprops(glcm)\\nstats = struct with fields:\\n       Contrast: 2.8947\\n    Correlation: 0.0783\\n         Energy: 0.1191\\n    Homogeneity: 0.5658\\n'"
            ]
          },
          "metadata": {
            "tags": []
          },
          "execution_count": 17
        }
      ]
    },
    {
      "cell_type": "code",
      "metadata": {
        "id": "AQFCL9xiVFVI",
        "colab_type": "code",
        "colab": {
          "base_uri": "https://localhost:8080/",
          "height": 87
        },
        "outputId": "af4b7dae-c118-4191-e5bf-b645ffdacb9b"
      },
      "source": [
        "glcm = np.array([[0, 1, 2, 3],[1, 1, 2, 3],[1, 0, 2, 0],[0, 0, 0, 3]]);print(glcm)"
      ],
      "execution_count": 18,
      "outputs": [
        {
          "output_type": "stream",
          "text": [
            "[[0 1 2 3]\n",
            " [1 1 2 3]\n",
            " [1 0 2 0]\n",
            " [0 0 0 3]]\n"
          ],
          "name": "stdout"
        }
      ]
    },
    {
      "cell_type": "code",
      "metadata": {
        "id": "Es3xk8QnWZtf",
        "colab_type": "code",
        "colab": {
          "base_uri": "https://localhost:8080/",
          "height": 87
        },
        "outputId": "47ba3bf5-a71b-4b75-9581-e389d3ab3c27"
      },
      "source": [
        "image = np.array(glcm, dtype=np.uint8)\n",
        "g = greycomatrix(image, [0,1], [0, np.pi/2], levels=4, normed=True, symmetric=True)\n",
        "contrast = greycoprops(g, 'contrast')\n",
        "correlation= greycoprops(g, 'correlation')\n",
        "print(contrast)\n",
        "print(correlation)"
      ],
      "execution_count": 25,
      "outputs": [
        {
          "output_type": "stream",
          "text": [
            "[[0. 0.]\n",
            " [0. 0.]]\n",
            "[[1. 1.]\n",
            " [1. 1.]]\n"
          ],
          "name": "stdout"
        }
      ]
    },
    {
      "cell_type": "code",
      "metadata": {
        "id": "L6ctF1EmVssR",
        "colab_type": "code",
        "colab": {
          "base_uri": "https://localhost:8080/",
          "height": 1000
        },
        "outputId": "e9a5d920-cb0d-4060-f7cc-c0dd27727dfa"
      },
      "source": [
        "MAT=Go2GLCM.GLCM(glcm) # como calcular se tem zero???\n",
        "print(MAT)"
      ],
      "execution_count": 19,
      "outputs": [
        {
          "output_type": "stream",
          "text": [
            "/content/marquesgabi/Go2GLCM.py:72: RuntimeWarning: divide by zero encountered in log\n",
            "  HXY=HXY-p[i,j]*np.log(p[i,j])\n",
            "/content/marquesgabi/Go2GLCM.py:72: RuntimeWarning: invalid value encountered in multiply\n",
            "  HXY=HXY-p[i,j]*np.log(p[i,j])\n",
            "/content/marquesgabi/Go2GLCM.py:73: RuntimeWarning: divide by zero encountered in log\n",
            "  HXY1=HXY1-p[i,j]*np.log(px[i]*py[j])\n",
            "/content/marquesgabi/Go2GLCM.py:73: RuntimeWarning: invalid value encountered in multiply\n",
            "  HXY1=HXY1-p[i,j]*np.log(px[i]*py[j])\n",
            "/content/marquesgabi/Go2GLCM.py:74: RuntimeWarning: divide by zero encountered in log\n",
            "  HXY2=HXY2-px[i]*py[j]*np.log(px[i]*py[j])\n",
            "/content/marquesgabi/Go2GLCM.py:74: RuntimeWarning: invalid value encountered in multiply\n",
            "  HXY2=HXY2-px[i]*py[j]*np.log(px[i]*py[j])\n",
            "/content/marquesgabi/Go2GLCM.py:77: RuntimeWarning: divide by zero encountered in log\n",
            "  HX=HX-px[i]*np.log(px[i])\n",
            "/content/marquesgabi/Go2GLCM.py:77: RuntimeWarning: invalid value encountered in multiply\n",
            "  HX=HX-px[i]*np.log(px[i])\n",
            "/content/marquesgabi/Go2GLCM.py:80: RuntimeWarning: divide by zero encountered in log\n",
            "  HY=HY-py[j]*np.log(py[j])\n",
            "/content/marquesgabi/Go2GLCM.py:80: RuntimeWarning: invalid value encountered in multiply\n",
            "  HY=HY-py[j]*np.log(py[j])\n",
            "/content/marquesgabi/Go2GLCM.py:107: RuntimeWarning: invalid value encountered in true_divide\n",
            "  GLCM[k,2]=GLCM[k,2]+((i*j)*p[i,j]-MIx*MIy)/(Sx*Sy) #Correlacao\n",
            "/content/marquesgabi/Go2GLCM.py:118: RuntimeWarning: divide by zero encountered in log\n",
            "  f8=f8-Psom[kr]*np.log(Psom[kr])\n",
            "/content/marquesgabi/Go2GLCM.py:118: RuntimeWarning: invalid value encountered in multiply\n",
            "  f8=f8-Psom[kr]*np.log(Psom[kr])\n",
            "/content/marquesgabi/Go2GLCM.py:124: RuntimeWarning: divide by zero encountered in log\n",
            "  GLCM[k,8]=GLCM[k,8]-p[i,j]*np.log(p[i,j]) # entropia\n",
            "/content/marquesgabi/Go2GLCM.py:124: RuntimeWarning: invalid value encountered in multiply\n",
            "  GLCM[k,8]=GLCM[k,8]-p[i,j]*np.log(p[i,j]) # entropia\n",
            "/content/marquesgabi/Go2GLCM.py:128: RuntimeWarning: divide by zero encountered in log\n",
            "  GLCM[k,10]=GLCM[k,10]-Pdif[kr]*np.log(Pdif[kr]) # difference entropy\n",
            "/content/marquesgabi/Go2GLCM.py:128: RuntimeWarning: invalid value encountered in multiply\n",
            "  GLCM[k,10]=GLCM[k,10]-Pdif[kr]*np.log(Pdif[kr]) # difference entropy\n",
            "/content/marquesgabi/Go2GLCM.py:137: RuntimeWarning: invalid value encountered in long_scalars\n",
            "  Q[i,j]=Q[i,j]+p[i,kr]*p[j,kr]/(px[i]*py[kr])\n"
          ],
          "name": "stderr"
        },
        {
          "output_type": "error",
          "ename": "LinAlgError",
          "evalue": "ignored",
          "traceback": [
            "\u001b[0;31m---------------------------------------------------------------------------\u001b[0m",
            "\u001b[0;31mLinAlgError\u001b[0m                               Traceback (most recent call last)",
            "\u001b[0;32m<ipython-input-19-02a7ab375740>\u001b[0m in \u001b[0;36m<module>\u001b[0;34m()\u001b[0m\n\u001b[0;32m----> 1\u001b[0;31m \u001b[0mMAT\u001b[0m\u001b[0;34m=\u001b[0m\u001b[0mGo2GLCM\u001b[0m\u001b[0;34m.\u001b[0m\u001b[0mGLCM\u001b[0m\u001b[0;34m(\u001b[0m\u001b[0mglcm\u001b[0m\u001b[0;34m)\u001b[0m\u001b[0;34m\u001b[0m\u001b[0;34m\u001b[0m\u001b[0m\n\u001b[0m\u001b[1;32m      2\u001b[0m \u001b[0mprint\u001b[0m\u001b[0;34m(\u001b[0m\u001b[0mMAT\u001b[0m\u001b[0;34m)\u001b[0m\u001b[0;34m\u001b[0m\u001b[0;34m\u001b[0m\u001b[0m\n",
            "\u001b[0;32m/content/marquesgabi/Go2GLCM.py\u001b[0m in \u001b[0;36mGLCM\u001b[0;34m(p)\u001b[0m\n\u001b[1;32m    138\u001b[0m \u001b[0;34m\u001b[0m\u001b[0m\n\u001b[1;32m    139\u001b[0m     \u001b[0;31m#v = LA.eig(Q)\u001b[0m\u001b[0;34m\u001b[0m\u001b[0;34m\u001b[0m\u001b[0;34m\u001b[0m\u001b[0m\n\u001b[0;32m--> 140\u001b[0;31m     \u001b[0mv\u001b[0m\u001b[0;34m=\u001b[0m\u001b[0mLA\u001b[0m\u001b[0;34m.\u001b[0m\u001b[0meigvals\u001b[0m\u001b[0;34m(\u001b[0m\u001b[0mQ\u001b[0m\u001b[0;34m)\u001b[0m\u001b[0;34m\u001b[0m\u001b[0;34m\u001b[0m\u001b[0m\n\u001b[0m\u001b[1;32m    141\u001b[0m     \u001b[0mn\u001b[0m\u001b[0;34m=\u001b[0m\u001b[0mlen\u001b[0m\u001b[0;34m(\u001b[0m\u001b[0mv\u001b[0m\u001b[0;34m)\u001b[0m\u001b[0;34m\u001b[0m\u001b[0;34m\u001b[0m\u001b[0m\n\u001b[1;32m    142\u001b[0m     \u001b[0mv\u001b[0m\u001b[0;34m.\u001b[0m\u001b[0msort\u001b[0m\u001b[0;34m(\u001b[0m\u001b[0;34m)\u001b[0m\u001b[0;34m\u001b[0m\u001b[0;34m\u001b[0m\u001b[0m\n",
            "\u001b[0;32m<__array_function__ internals>\u001b[0m in \u001b[0;36meigvals\u001b[0;34m(*args, **kwargs)\u001b[0m\n",
            "\u001b[0;32m/usr/local/lib/python3.6/dist-packages/numpy/linalg/linalg.py\u001b[0m in \u001b[0;36meigvals\u001b[0;34m(a)\u001b[0m\n\u001b[1;32m   1056\u001b[0m     \u001b[0m_assertRankAtLeast2\u001b[0m\u001b[0;34m(\u001b[0m\u001b[0ma\u001b[0m\u001b[0;34m)\u001b[0m\u001b[0;34m\u001b[0m\u001b[0;34m\u001b[0m\u001b[0m\n\u001b[1;32m   1057\u001b[0m     \u001b[0m_assertNdSquareness\u001b[0m\u001b[0;34m(\u001b[0m\u001b[0ma\u001b[0m\u001b[0;34m)\u001b[0m\u001b[0;34m\u001b[0m\u001b[0;34m\u001b[0m\u001b[0m\n\u001b[0;32m-> 1058\u001b[0;31m     \u001b[0m_assertFinite\u001b[0m\u001b[0;34m(\u001b[0m\u001b[0ma\u001b[0m\u001b[0;34m)\u001b[0m\u001b[0;34m\u001b[0m\u001b[0;34m\u001b[0m\u001b[0m\n\u001b[0m\u001b[1;32m   1059\u001b[0m     \u001b[0mt\u001b[0m\u001b[0;34m,\u001b[0m \u001b[0mresult_t\u001b[0m \u001b[0;34m=\u001b[0m \u001b[0m_commonType\u001b[0m\u001b[0;34m(\u001b[0m\u001b[0ma\u001b[0m\u001b[0;34m)\u001b[0m\u001b[0;34m\u001b[0m\u001b[0;34m\u001b[0m\u001b[0m\n\u001b[1;32m   1060\u001b[0m \u001b[0;34m\u001b[0m\u001b[0m\n",
            "\u001b[0;32m/usr/local/lib/python3.6/dist-packages/numpy/linalg/linalg.py\u001b[0m in \u001b[0;36m_assertFinite\u001b[0;34m(*arrays)\u001b[0m\n\u001b[1;32m    216\u001b[0m     \u001b[0;32mfor\u001b[0m \u001b[0ma\u001b[0m \u001b[0;32min\u001b[0m \u001b[0marrays\u001b[0m\u001b[0;34m:\u001b[0m\u001b[0;34m\u001b[0m\u001b[0;34m\u001b[0m\u001b[0m\n\u001b[1;32m    217\u001b[0m         \u001b[0;32mif\u001b[0m \u001b[0;32mnot\u001b[0m \u001b[0;34m(\u001b[0m\u001b[0misfinite\u001b[0m\u001b[0;34m(\u001b[0m\u001b[0ma\u001b[0m\u001b[0;34m)\u001b[0m\u001b[0;34m.\u001b[0m\u001b[0mall\u001b[0m\u001b[0;34m(\u001b[0m\u001b[0;34m)\u001b[0m\u001b[0;34m)\u001b[0m\u001b[0;34m:\u001b[0m\u001b[0;34m\u001b[0m\u001b[0;34m\u001b[0m\u001b[0m\n\u001b[0;32m--> 218\u001b[0;31m             \u001b[0;32mraise\u001b[0m \u001b[0mLinAlgError\u001b[0m\u001b[0;34m(\u001b[0m\u001b[0;34m\"Array must not contain infs or NaNs\"\u001b[0m\u001b[0;34m)\u001b[0m\u001b[0;34m\u001b[0m\u001b[0;34m\u001b[0m\u001b[0m\n\u001b[0m\u001b[1;32m    219\u001b[0m \u001b[0;34m\u001b[0m\u001b[0m\n\u001b[1;32m    220\u001b[0m \u001b[0;32mdef\u001b[0m \u001b[0m_isEmpty2d\u001b[0m\u001b[0;34m(\u001b[0m\u001b[0marr\u001b[0m\u001b[0;34m)\u001b[0m\u001b[0;34m:\u001b[0m\u001b[0;34m\u001b[0m\u001b[0;34m\u001b[0m\u001b[0m\n",
            "\u001b[0;31mLinAlgError\u001b[0m: Array must not contain infs or NaNs"
          ]
        }
      ]
    }
  ]
}