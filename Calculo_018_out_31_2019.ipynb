{
  "nbformat": 4,
  "nbformat_minor": 0,
  "metadata": {
    "colab": {
      "name": "Calculo_018_out_31_2019.ipynb",
      "provenance": [],
      "collapsed_sections": [],
      "include_colab_link": true
    },
    "kernelspec": {
      "name": "python3",
      "display_name": "Python 3"
    }
  },
  "cells": [
    {
      "cell_type": "markdown",
      "metadata": {
        "id": "view-in-github",
        "colab_type": "text"
      },
      "source": [
        "<a href=\"https://colab.research.google.com/github/ucfilho/marquesgabi/blob/master/Calculo_018_out_31_2019.ipynb\" target=\"_parent\"><img src=\"https://colab.research.google.com/assets/colab-badge.svg\" alt=\"Open In Colab\"/></a>"
      ]
    },
    {
      "cell_type": "code",
      "metadata": {
        "id": "9q3V2QrqnMBI",
        "colab_type": "code",
        "colab": {}
      },
      "source": [
        "# carrega as bibliotecas do python"
      ],
      "execution_count": 0,
      "outputs": []
    },
    {
      "cell_type": "code",
      "metadata": {
        "id": "szqvrsIInRDg",
        "colab_type": "code",
        "colab": {}
      },
      "source": [
        "%matplotlib inline\n",
        "from matplotlib import pyplot as plt\n",
        "import os \n",
        "import cv2\n",
        "import zipfile\n",
        "from skimage import data\n",
        "from skimage import filters\n",
        "from skimage import exposure\n",
        "import skimage.feature as sk\n",
        "import numpy as np\n",
        "import pandas as pd\n",
        "from google.colab import files\n",
        "from sklearn.metrics.cluster import entropy\n",
        "from sklearn.metrics.cluster import homogeneity_score\n",
        "from numpy import linalg as LA\n"
      ],
      "execution_count": 0,
      "outputs": []
    },
    {
      "cell_type": "code",
      "metadata": {
        "id": "zsjb8DmRVtDy",
        "colab_type": "code",
        "outputId": "3668bdb4-61b2-4a20-e8a5-8940701f3d8d",
        "colab": {
          "base_uri": "https://localhost:8080/",
          "height": 210
        }
      },
      "source": [
        "!wget http://ftp.feq.ufu.br/ubirajara/Sugar_set_30_2019.zip\n",
        "#!ls -l trash_nov_22_2018.zip\n"
      ],
      "execution_count": 3,
      "outputs": [
        {
          "output_type": "stream",
          "text": [
            "--2019-11-01 02:52:55--  http://ftp.feq.ufu.br/ubirajara/Sugar_set_30_2019.zip\n",
            "Resolving ftp.feq.ufu.br (ftp.feq.ufu.br)... 200.19.144.11\n",
            "Connecting to ftp.feq.ufu.br (ftp.feq.ufu.br)|200.19.144.11|:80... connected.\n",
            "HTTP request sent, awaiting response... 200 OK\n",
            "Length: 19584173 (19M) [application/zip]\n",
            "Saving to: ‘Sugar_set_30_2019.zip.13’\n",
            "\n",
            "Sugar_set_30_2019.z 100%[===================>]  18.68M  5.56MB/s    in 3.4s    \n",
            "\n",
            "2019-11-01 02:52:59 (5.56 MB/s) - ‘Sugar_set_30_2019.zip.13’ saved [19584173/19584173]\n",
            "\n"
          ],
          "name": "stdout"
        }
      ]
    },
    {
      "cell_type": "code",
      "metadata": {
        "id": "ygswjsh1ptUl",
        "colab_type": "code",
        "colab": {}
      },
      "source": [
        "\n",
        "file_name = zipfile.ZipFile('Sugar_set_30_2019.zip', 'r')\n",
        "file_name.extractall() "
      ],
      "execution_count": 0,
      "outputs": []
    },
    {
      "cell_type": "code",
      "metadata": {
        "id": "Qq1UTVWMnU0n",
        "colab_type": "code",
        "colab": {}
      },
      "source": [
        "# all images are resized in variable x, are in gray in variable p and in variable w are dataframe\n",
        "FILE='Sugar_set_30_2019.zip'\n",
        "img_name=[]\n",
        "x=[]\n",
        "p=[]\n",
        "w=[]\n",
        "Size=5 # trocar por 64 qdo acabar a analise\n",
        "\n",
        "with zipfile.ZipFile(FILE, \"r\") as f:\n",
        "    for name in f.namelist():\n",
        "        img_name.append(name)\n",
        "        #x.append(cv2.imread(name))\n",
        "        x.append(cv2.resize(cv2.imread(name),(Size,Size)))\n",
        "\n",
        "nrow=len(img_name)\n",
        "ncol=Size*Size\n",
        "pp=np.zeros((nrow,ncol))\n",
        "for i in range(nrow):\n",
        "    w.append(cv2.cvtColor(np.array(x[i]), cv2.COLOR_BGR2GRAY))\n",
        "    pp[i,:]=w[i].ravel()"
      ],
      "execution_count": 0,
      "outputs": []
    },
    {
      "cell_type": "code",
      "metadata": {
        "id": "9XPFWhiq3tGW",
        "colab_type": "code",
        "colab": {}
      },
      "source": [
        "Nfotos=len(img_name)\n",
        "GLCM=np.zeros((Nfotos, 14))   \n",
        "Nrow=Size\n",
        "Ncol=Size\n",
        "#print(GLCM.shape)\n",
        "#Soma=np.sum(pp[k,:])\n",
        "\n",
        "G=Ncol-1\n",
        "\n",
        "for k in range(Nfotos):\n",
        "  Pdif=[] \n",
        "  Psom=[]\n",
        "  p=pp[k,:].reshape(Size,Size)\n",
        "  Soma=0\n",
        "  px=[]\n",
        "  py=[]\n",
        "  for i in range(Size):\n",
        "    for j in range(Size):\n",
        "      Soma=Soma+p[i,j]\n",
        "  \n",
        "  for i in range(Size):\n",
        "    for j in range(Size):\n",
        "      p[i,j]=p[i,j]/Soma\n",
        "\n",
        "  for i in range(Size):\n",
        "    Somax=0\n",
        "    for j in range(Size):\n",
        "      Somax=Somax+p[i,j]\n",
        "    px.append(Somax)\n",
        "\n",
        "  for j in range(Size):\n",
        "    Somay=0\n",
        "    for i in range(Size):\n",
        "      Somay=Somay+p[i,j]\n",
        "    py.append(Somay)\n",
        "\n",
        "  for kr in range(2*G+1):\n",
        "    Soma_soma=0\n",
        "    for i in range(Nrow):\n",
        "      for j in range(Ncol):\n",
        "        if((i+j)==kr):\n",
        "          Soma_soma=Soma_soma+p[i,j]\n",
        "    Psom.append(Soma_soma)\n",
        "\n",
        "  for kr in range(G+1):\n",
        "    Soma_dif=0\n",
        "    for i in range(Nrow):\n",
        "      for j in range(Ncol):\n",
        "        if((abs(i-j))==kr):\n",
        "          Soma_dif=Soma_dif+p[i,j]\n",
        "    Pdif.append(Soma_dif)\n",
        "\n",
        "  HXY=0\n",
        "  HXY1=0\n",
        "  HXY2=0\n",
        "  for i in range(Nrow):\n",
        "    for j in range(Ncol):\n",
        "      HXY=HXY-p[i,j]*np.log(p[i,j])\n",
        "      HXY1=HXY1-p[i,j]*np.log(px[i]*py[j])\n",
        "      HXY2=HXY2-px[i]*py[j]*np.log(px[i]*py[j])\n",
        "  HX=0\n",
        "  for i in range(Nrow):\n",
        "    HX=HX-px[i]*np.log(px[i])\n",
        "  HY=0\n",
        "  for j in range(Nrow):\n",
        "    HY=HY-py[j]*np.log(py[j])\n",
        "  if(HX>HY):\n",
        "    maxH=HX\n",
        "  else:\n",
        "    maxH=HY\n",
        "\n",
        "  for i in range(Nrow):\n",
        "    for j in range(Ncol):\n",
        "      #print(\"i=%d j=%d k=%d\"%(i,j,k))\n",
        "      GLCM[k,0]=GLCM[k,0]+p[i,j]**2 #segundo momento angular\n",
        "      GLCM[k,1]=GLCM[k,1]+(i-j)**2*p[i,j] #contraste\n",
        "\n",
        "\n",
        "      MIx=0;MIy=0\n",
        "      for ii in range(Nrow):\n",
        "        for jj in range(Ncol):\n",
        "          MIy=MIy+jj*p[ii,jj]\n",
        "          MIx=MIx+ii*p[ii,jj]\n",
        "      Sx2=0;Sy2=0;\n",
        "      for ii in range(Nrow):\n",
        "        for jj in range(Ncol):\n",
        "          Sx2=Sx2+(ii-MIx)**2*p[ii,jj]\n",
        "          Sy2=Sy2+(jj-MIy)**2*p[ii,jj]\n",
        "      Sx=Sx2**0.5\n",
        "      Sy=Sy2**0.5\n",
        "\n",
        "\n",
        "      GLCM[k,2]=GLCM[k,2]+((i*j)*p[i,j]-MIx*MIy)/(Sx*Sy) #Correlacao\n",
        "      # CONFERIR CORRELACAO EM OUTROS\n",
        "\n",
        "      GLCM[k,3]=GLCM[k,3]+(i-np.mean(p))**2*p[i,j] #Variancia\n",
        "\n",
        "      GLCM[k,4]=GLCM[k,4]+(1/(1+(i-j)**2))*p[i,j]#INVERSA DIF MOMENTO\n",
        "      \n",
        "    f8=0\n",
        "      \n",
        "    for kr in range(len(Psom)):\n",
        "      GLCM[k,5]=GLCM[k,5]+kr*Psom[kr] # conferir !!!!! ok???\n",
        "      f8=f8-Psom[kr]*np.log(Psom[kr])\n",
        "\n",
        "    for kr in range(len(Psom)):\n",
        "      GLCM[k,6]=GLCM[k,6]+(kr-f8)**2*Psom[kr] # sum of variance\n",
        "\n",
        "    GLCM[k,7]=f8  # sum entropy\n",
        "    GLCM[k,8]=GLCM[k,8]-p[i,j]*np.log(p[i,j]) # entropia\n",
        "\n",
        "    for kr in range(len(Pdif)):\n",
        "      GLCM[k,9]=GLCM[k,9]+(kr)**2*Pdif[kr] # variance difference\n",
        "      GLCM[k,10]=GLCM[k,10]-Pdif[kr]*np.log(Pdif[kr]) # difference entropy\n",
        "      \n",
        "    GLCM[k,11]=(HXY-HXY1)/maxH # information measure of correlation 1\n",
        "    GLCM[k,12]=(1-np.exp(-2*(HXY2-HXY)))**0.5 # information measure of correlation 2\n",
        "\n",
        "    Q=np.zeros((Nrow,Ncol))\n",
        "    for i in range(Nrow):\n",
        "      for j in range(Ncol):\n",
        "        for kr in range(Ncol):\n",
        "          Q[i,j]=Q[i,j]+p[i,kr]*p[j,kr]/(px[i]*py[kr])\n",
        "    \n",
        "    #v = LA.eig(Q)\n",
        "    v=LA.eigvals(Q)\n",
        "    n=len(v)\n",
        "    v.sort()\n",
        "    #print(v)\n",
        "    #print(v[n-2])\n",
        "    GLCM[k,13]=v[n-2]**0.5 # maximal correlation coefficient "
      ],
      "execution_count": 0,
      "outputs": []
    },
    {
      "cell_type": "code",
      "metadata": {
        "id": "VJG8c7cmrR3y",
        "colab_type": "code",
        "colab": {}
      },
      "source": [
        "# ver os conceitos GLCM aqui tambem\n",
        "# http://haralick.org/journals/TexturalFeatures.pdf"
      ],
      "execution_count": 0,
      "outputs": []
    },
    {
      "cell_type": "code",
      "metadata": {
        "id": "bWRUesbYqQ2v",
        "colab_type": "code",
        "outputId": "e0c4964e-886e-48bf-fdc5-c6372e553dbc",
        "colab": {
          "base_uri": "https://localhost:8080/",
          "height": 914
        }
      },
      "source": [
        "pd.set_option('display.max_columns', 30)\n",
        "print(pd.DataFrame(GLCM))"
      ],
      "execution_count": 12,
      "outputs": [
        {
          "output_type": "stream",
          "text": [
            "           0         1          2         3         4          5          6  \\\n",
            "0   0.040159  4.006764 -48.388893  5.873156  0.423837  20.097900  38.848134   \n",
            "1   0.041540  4.282528 -47.724904  5.762803  0.411868  20.118283  38.570089   \n",
            "2   0.040287  4.030399 -49.193342  5.979967  0.424910  20.208554  39.133866   \n",
            "3   0.040175  4.015663 -48.607804  6.027608  0.435603  20.231465  39.597120   \n",
            "4   0.040313  4.043838 -47.746904  5.656749  0.422210  19.935322  38.085237   \n",
            "5   0.040234  4.056964 -49.752577  5.948915  0.431240  20.434179  40.230847   \n",
            "6   0.040177  3.895373 -49.375098  5.944445  0.435292  20.236533  39.573951   \n",
            "7   0.040276  3.931919 -51.702480  6.036687  0.428104  20.603832  40.693982   \n",
            "8   0.040229  3.993338 -49.941784  6.066993  0.427480  20.420368  40.181363   \n",
            "9   0.040272  3.979461 -49.007498  5.888981  0.430643  20.247112  39.592274   \n",
            "10  0.040134  3.934069 -48.671268  5.729726  0.432728  20.036278  38.554257   \n",
            "11  0.041463  3.928237 -48.569188  5.890711  0.447866  20.068643  38.872586   \n",
            "12  0.040367  4.035181 -49.472654  5.853991  0.426656  20.309776  39.582354   \n",
            "13  0.040158  3.968848 -49.843685  5.912714  0.429517  20.221838  39.031595   \n",
            "14  0.040253  4.044039 -50.763577  5.959033  0.422164  20.563070  40.558430   \n",
            "15  0.040186  4.023711 -49.898148  5.956926  0.428484  20.352234  39.695415   \n",
            "16  0.040090  4.097282 -49.108733  5.946493  0.422124  20.268240  39.327358   \n",
            "17  0.040080  4.012748 -48.622208  6.011883  0.427612  20.219547  39.499598   \n",
            "18  0.040168  3.938882 -48.567679  5.859662  0.433305  20.110533  39.054108   \n",
            "19  0.040256  3.993746 -49.612653  6.041455  0.428717  20.406517  40.250093   \n",
            "20  0.041017  3.807823 -48.158425  5.624193  0.444352  19.769018  37.541614   \n",
            "21  0.040295  3.873777 -49.870148  5.934538  0.430973  20.242979  39.453390   \n",
            "22  0.040133  4.009592 -48.905516  5.925221  0.421378  20.140887  38.845679   \n",
            "23  0.040141  3.981876 -47.131547  5.783934  0.428346  19.925278  38.512463   \n",
            "\n",
            "           7         8          9        10        11        12        13  \n",
            "0   2.080038  0.648663  20.033820  7.608990 -0.000770  0.049748  0.039787  \n",
            "1   2.064334  0.646616  21.412639  7.688757 -0.005531  0.132720  0.133372  \n",
            "2   2.071191  0.656965  20.151997  7.628194 -0.001239  0.063068  0.045709  \n",
            "3   2.083742  0.653877  20.078315  7.654684 -0.000658  0.045987  0.036992  \n",
            "4   2.073301  0.652921  20.219188  7.614789 -0.001073  0.058718  0.051329  \n",
            "5   2.075870  0.682095  20.284821  7.655078 -0.000922  0.054422  0.043527  \n",
            "6   2.085067  0.652156  19.476865  7.577211 -0.000988  0.056352  0.040677  \n",
            "7   2.074155  0.658831  19.659596  7.578699 -0.000549  0.042002  0.038265  \n",
            "8   2.081093  0.666620  19.966688  7.605428 -0.000692  0.047156  0.037697  \n",
            "9   2.082958  0.673809  19.897304  7.621302 -0.001170  0.061295  0.043862  \n",
            "10  2.077204  0.646436  19.670347  7.601373 -0.000467  0.038765  0.029734  \n",
            "11  2.078754  0.645509  19.641186  7.659214 -0.006092  0.139237  0.141814  \n",
            "12  2.076718  0.684002  20.175903  7.629865 -0.000825  0.051484  0.038411  \n",
            "13  2.070200  0.643805  19.844242  7.610513 -0.000632  0.045091  0.035332  \n",
            "14  2.074030  0.689326  20.220195  7.622171 -0.000570  0.042812  0.034853  \n",
            "15  2.072495  0.660197  20.118557  7.627342 -0.000876  0.053054  0.040517  \n",
            "16  2.071620  0.664715  20.486409  7.647754 -0.000337  0.032944  0.023720  \n",
            "17  2.084077  0.650044  20.063739  7.623504 -0.000212  0.026141  0.022604  \n",
            "18  2.083887  0.655471  19.694408  7.600480 -0.000923  0.054465  0.041306  \n",
            "19  2.085007  0.668884  19.968729  7.623622 -0.000853  0.052339  0.039832  \n",
            "20  2.076241  0.628183  19.039113  7.580083 -0.003077  0.099215  0.096133  \n",
            "21  2.079680  0.650935  19.368886  7.536257 -0.001198  0.062043  0.047937  \n",
            "22  2.075156  0.647399  20.047962  7.588288 -0.000810  0.051039  0.039404  \n",
            "23  2.087686  0.658245  19.909380  7.609884 -0.000701  0.047462  0.036301  \n"
          ],
          "name": "stdout"
        }
      ]
    },
    {
      "cell_type": "code",
      "metadata": {
        "id": "4SByB4bq4wO9",
        "colab_type": "code",
        "outputId": "8f45f8b1-4868-412b-c797-43f97e145a88",
        "colab": {
          "base_uri": "https://localhost:8080/",
          "height": 246
        }
      },
      "source": [
        "GLCM=pd.DataFrame(GLCM)\n",
        "pd.set_option('display.max_columns', 30)\n",
        "print(GLCM.head(5))"
      ],
      "execution_count": 13,
      "outputs": [
        {
          "output_type": "stream",
          "text": [
            "          0         1          2         3         4          5          6  \\\n",
            "0  0.040159  4.006764 -48.388893  5.873156  0.423837  20.097900  38.848134   \n",
            "1  0.041540  4.282528 -47.724904  5.762803  0.411868  20.118283  38.570089   \n",
            "2  0.040287  4.030399 -49.193342  5.979967  0.424910  20.208554  39.133866   \n",
            "3  0.040175  4.015663 -48.607804  6.027608  0.435603  20.231465  39.597120   \n",
            "4  0.040313  4.043838 -47.746904  5.656749  0.422210  19.935322  38.085237   \n",
            "\n",
            "          7         8          9        10        11        12        13  \n",
            "0  2.080038  0.648663  20.033820  7.608990 -0.000770  0.049748  0.039787  \n",
            "1  2.064334  0.646616  21.412639  7.688757 -0.005531  0.132720  0.133372  \n",
            "2  2.071191  0.656965  20.151997  7.628194 -0.001239  0.063068  0.045709  \n",
            "3  2.083742  0.653877  20.078315  7.654684 -0.000658  0.045987  0.036992  \n",
            "4  2.073301  0.652921  20.219188  7.614789 -0.001073  0.058718  0.051329  \n"
          ],
          "name": "stdout"
        }
      ]
    },
    {
      "cell_type": "code",
      "metadata": {
        "id": "DVBIw8hpxRC3",
        "colab_type": "code",
        "outputId": "11e599be-f856-4cb0-8df2-7c222e0aa5a0",
        "colab": {
          "base_uri": "https://localhost:8080/",
          "height": 87
        }
      },
      "source": [
        "import numpy as np\n",
        "#from skimage.feature import haar_like_feature_coord\n",
        "#from skimage.feature import draw_haar_like_feature\n",
        "from skimage.feature import greycomatrix\n",
        "from skimage.feature import greycoprops\n",
        "#import skimage.feature.greycoprops as greycoprops\n",
        "image = np.array([[0, 0, 1, 1],[0, 0, 1, 1],[0, 2, 2, 2],[2, 2, 3, 3]], dtype=np.uint8)\n",
        "g = greycomatrix(image, [1, 2], [0, np.pi/2], levels=6,normed=True, symmetric=True)\n",
        "contrast = greycoprops(g, 'contrast')\n",
        "correlation= greycoprops(g, 'correlation')\n",
        "print(contrast)\n",
        "print(correlation)"
      ],
      "execution_count": 14,
      "outputs": [
        {
          "output_type": "stream",
          "text": [
            "[[0.58333333 1.        ]\n",
            " [1.25       2.75      ]]\n",
            "[[ 0.71953255  0.48571429]\n",
            " [ 0.41176471 -0.29411765]]\n"
          ],
          "name": "stdout"
        }
      ]
    }
  ]
}