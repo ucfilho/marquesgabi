{
  "nbformat": 4,
  "nbformat_minor": 0,
  "metadata": {
    "colab": {
      "name": "Calculo_023_NOV_07_2019.ipynb",
      "provenance": [],
      "collapsed_sections": [],
      "include_colab_link": true
    },
    "kernelspec": {
      "name": "python3",
      "display_name": "Python 3"
    }
  },
  "cells": [
    {
      "cell_type": "markdown",
      "metadata": {
        "id": "view-in-github",
        "colab_type": "text"
      },
      "source": [
        "<a href=\"https://colab.research.google.com/github/ucfilho/marquesgabi/blob/master/Calculo_023_NOV_07_2019.ipynb\" target=\"_parent\"><img src=\"https://colab.research.google.com/assets/colab-badge.svg\" alt=\"Open In Colab\"/></a>"
      ]
    },
    {
      "cell_type": "code",
      "metadata": {
        "id": "9q3V2QrqnMBI",
        "colab_type": "code",
        "colab": {}
      },
      "source": [
        "# carrega as bibliotecas do python"
      ],
      "execution_count": 0,
      "outputs": []
    },
    {
      "cell_type": "code",
      "metadata": {
        "id": "7ehcD9CI2hdG",
        "colab_type": "code",
        "colab": {}
      },
      "source": [
        "# rotate image....\n",
        "# https://www.pyimagesearch.com/2017/01/02/rotate-images-correctly-with-opencv-and-python/\n",
        "# https://pythontic.com/image-processing/pillow/rotate"
      ],
      "execution_count": 0,
      "outputs": []
    },
    {
      "cell_type": "code",
      "metadata": {
        "id": "szqvrsIInRDg",
        "colab_type": "code",
        "colab": {}
      },
      "source": [
        "%matplotlib inline\n",
        "from matplotlib import pyplot as plt\n",
        "import os \n",
        "import cv2\n",
        "import zipfile\n",
        "from skimage import data\n",
        "from skimage import filters\n",
        "from skimage import exposure\n",
        "import skimage.feature as sk\n",
        "import numpy as np\n",
        "import pandas as pd\n",
        "from google.colab import files\n",
        "from sklearn.metrics.cluster import entropy\n",
        "from sklearn.metrics.cluster import homogeneity_score\n",
        "from numpy import linalg as LA\n"
      ],
      "execution_count": 0,
      "outputs": []
    },
    {
      "cell_type": "code",
      "metadata": {
        "id": "zsjb8DmRVtDy",
        "colab_type": "code",
        "outputId": "022ac0e1-8576-4498-b25a-74861d2723e2",
        "colab": {
          "base_uri": "https://localhost:8080/",
          "height": 210
        }
      },
      "source": [
        "!wget http://ftp.feq.ufu.br/ubirajara/Sugar_set_30_2019.zip\n",
        "#!ls -l trash_nov_22_2018.zip\n"
      ],
      "execution_count": 4,
      "outputs": [
        {
          "output_type": "stream",
          "text": [
            "--2019-11-08 00:23:42--  http://ftp.feq.ufu.br/ubirajara/Sugar_set_30_2019.zip\n",
            "Resolving ftp.feq.ufu.br (ftp.feq.ufu.br)... 200.19.144.11\n",
            "Connecting to ftp.feq.ufu.br (ftp.feq.ufu.br)|200.19.144.11|:80... connected.\n",
            "HTTP request sent, awaiting response... 200 OK\n",
            "Length: 19584173 (19M) [application/zip]\n",
            "Saving to: ‘Sugar_set_30_2019.zip’\n",
            "\n",
            "Sugar_set_30_2019.z 100%[===================>]  18.68M  4.97MB/s    in 3.8s    \n",
            "\n",
            "2019-11-08 00:23:47 (4.97 MB/s) - ‘Sugar_set_30_2019.zip’ saved [19584173/19584173]\n",
            "\n"
          ],
          "name": "stdout"
        }
      ]
    },
    {
      "cell_type": "code",
      "metadata": {
        "id": "ygswjsh1ptUl",
        "colab_type": "code",
        "colab": {}
      },
      "source": [
        "\n",
        "file_name = zipfile.ZipFile('Sugar_set_30_2019.zip', 'r')\n",
        "file_name.extractall() "
      ],
      "execution_count": 0,
      "outputs": []
    },
    {
      "cell_type": "code",
      "metadata": {
        "id": "Qq1UTVWMnU0n",
        "colab_type": "code",
        "colab": {}
      },
      "source": [
        "# all images are resized in variable x, are in gray in variable p and in variable w are dataframe\n",
        "FILE='Sugar_set_30_2019.zip'\n",
        "img_name=[]\n",
        "x=[]\n",
        "p=[]\n",
        "w=[]\n",
        "Size=5 # trocar por 64 qdo acabar a analise\n",
        "\n",
        "with zipfile.ZipFile(FILE, \"r\") as f:\n",
        "    for name in f.namelist():\n",
        "        img_name.append(name)\n",
        "        #x.append(cv2.imread(name))\n",
        "        x.append(cv2.resize(cv2.imread(name),(Size,Size)))\n",
        "\n",
        "nrow=len(img_name)\n",
        "ncol=Size*Size\n",
        "pp=np.zeros((nrow,ncol))\n",
        "for i in range(nrow):\n",
        "    w.append(cv2.cvtColor(np.array(x[i]), cv2.COLOR_BGR2GRAY))\n",
        "    pp[i,:]=w[i].ravel()"
      ],
      "execution_count": 0,
      "outputs": []
    },
    {
      "cell_type": "code",
      "metadata": {
        "id": "FFahQriWmGHt",
        "colab_type": "code",
        "outputId": "9ba669ee-7ac3-4985-824c-8ea65a339e84",
        "colab": {
          "base_uri": "https://localhost:8080/",
          "height": 158
        }
      },
      "source": [
        "!git clone https://github.com/ucfilho/marquesgabi #clonar do Github\n",
        "%cd marquesgabi\n",
        "import Go2GLCM"
      ],
      "execution_count": 7,
      "outputs": [
        {
          "output_type": "stream",
          "text": [
            "Cloning into 'marquesgabi'...\n",
            "remote: Enumerating objects: 35, done.\u001b[K\n",
            "remote: Counting objects: 100% (35/35), done.\u001b[K\n",
            "remote: Compressing objects: 100% (35/35), done.\u001b[K\n",
            "remote: Total 197 (delta 20), reused 0 (delta 0), pack-reused 162\u001b[K\n",
            "Receiving objects: 100% (197/197), 3.39 MiB | 5.56 MiB/s, done.\n",
            "Resolving deltas: 100% (106/106), done.\n",
            "/content/marquesgabi\n"
          ],
          "name": "stdout"
        }
      ]
    },
    {
      "cell_type": "code",
      "metadata": {
        "id": "9XPFWhiq3tGW",
        "colab_type": "code",
        "outputId": "052a708c-6917-4d3c-bef3-2dddeccf0879",
        "colab": {
          "base_uri": "https://localhost:8080/",
          "height": 1000
        }
      },
      "source": [
        "Nfotos=len(img_name)\n",
        "GLCM=[]\n",
        "for k in range(Nfotos):\n",
        "  p=pp[k,:].reshape(Size,Size)\n",
        "  MAT=Go2GLCM.GLCM(p)\n",
        "  pd.set_option('display.max_columns', 30)\n",
        "  GLCM.append(MAT.ravel())\n",
        "\n",
        "Nomes=['ASM','constrast','correl','variance','inv diff mom','sum aveg',\n",
        "       'sum var','sum entropy','entropy','dif var','dif entropy','IMC1',\n",
        "       'IMC2','MCC']\n",
        "print(pd.DataFrame(GLCM,columns=Nomes))\n",
        "\n",
        "  "
      ],
      "execution_count": 8,
      "outputs": [
        {
          "output_type": "stream",
          "text": [
            "         ASM  constrast     correl  variance  inv diff mom   sum aveg  \\\n",
            "0   0.040159   4.006764 -48.388893  5.873156      0.423837  20.097900   \n",
            "1   0.041540   4.282528 -47.724904  5.762803      0.411868  20.118283   \n",
            "2   0.040287   4.030399 -49.193342  5.979967      0.424910  20.208554   \n",
            "3   0.040175   4.015663 -48.607804  6.027608      0.435603  20.231465   \n",
            "4   0.040313   4.043838 -47.746904  5.656749      0.422210  19.935322   \n",
            "5   0.040234   4.056964 -49.752577  5.948915      0.431240  20.434179   \n",
            "6   0.040177   3.895373 -49.375098  5.944445      0.435292  20.236533   \n",
            "7   0.040276   3.931919 -51.702480  6.036687      0.428104  20.603832   \n",
            "8   0.040229   3.993338 -49.941784  6.066993      0.427480  20.420368   \n",
            "9   0.040272   3.979461 -49.007498  5.888981      0.430643  20.247112   \n",
            "10  0.040134   3.934069 -48.671268  5.729726      0.432728  20.036278   \n",
            "11  0.041463   3.928237 -48.569188  5.890711      0.447866  20.068643   \n",
            "12  0.040367   4.035181 -49.472654  5.853991      0.426656  20.309776   \n",
            "13  0.040158   3.968848 -49.843685  5.912714      0.429517  20.221838   \n",
            "14  0.040253   4.044039 -50.763577  5.959033      0.422164  20.563070   \n",
            "15  0.040186   4.023711 -49.898148  5.956926      0.428484  20.352234   \n",
            "16  0.040090   4.097282 -49.108733  5.946493      0.422124  20.268240   \n",
            "17  0.040080   4.012748 -48.622208  6.011883      0.427612  20.219547   \n",
            "18  0.040168   3.938882 -48.567679  5.859662      0.433305  20.110533   \n",
            "19  0.040256   3.993746 -49.612653  6.041455      0.428717  20.406517   \n",
            "20  0.041017   3.807823 -48.158425  5.624193      0.444352  19.769018   \n",
            "21  0.040295   3.873777 -49.870148  5.934538      0.430973  20.242979   \n",
            "22  0.040133   4.009592 -48.905516  5.925221      0.421378  20.140887   \n",
            "23  0.040141   3.981876 -47.131547  5.783934      0.428346  19.925278   \n",
            "\n",
            "      sum var  sum entropy   entropy    dif var  dif entropy      IMC1  \\\n",
            "0   38.848134     2.080038  0.648663  20.033820     7.608990 -0.000770   \n",
            "1   38.570089     2.064334  0.646616  21.412639     7.688757 -0.005531   \n",
            "2   39.133866     2.071191  0.656965  20.151997     7.628194 -0.001239   \n",
            "3   39.597120     2.083742  0.653877  20.078315     7.654684 -0.000658   \n",
            "4   38.085237     2.073301  0.652921  20.219188     7.614789 -0.001073   \n",
            "5   40.230847     2.075870  0.682095  20.284821     7.655078 -0.000922   \n",
            "6   39.573951     2.085067  0.652156  19.476865     7.577211 -0.000988   \n",
            "7   40.693982     2.074155  0.658831  19.659596     7.578699 -0.000549   \n",
            "8   40.181363     2.081093  0.666620  19.966688     7.605428 -0.000692   \n",
            "9   39.592274     2.082958  0.673809  19.897304     7.621302 -0.001170   \n",
            "10  38.554257     2.077204  0.646436  19.670347     7.601373 -0.000467   \n",
            "11  38.872586     2.078754  0.645509  19.641186     7.659214 -0.006092   \n",
            "12  39.582354     2.076718  0.684002  20.175903     7.629865 -0.000825   \n",
            "13  39.031595     2.070200  0.643805  19.844242     7.610513 -0.000632   \n",
            "14  40.558430     2.074030  0.689326  20.220195     7.622171 -0.000570   \n",
            "15  39.695415     2.072495  0.660197  20.118557     7.627342 -0.000876   \n",
            "16  39.327358     2.071620  0.664715  20.486409     7.647754 -0.000337   \n",
            "17  39.499598     2.084077  0.650044  20.063739     7.623504 -0.000212   \n",
            "18  39.054108     2.083887  0.655471  19.694408     7.600480 -0.000923   \n",
            "19  40.250093     2.085007  0.668884  19.968729     7.623622 -0.000853   \n",
            "20  37.541614     2.076241  0.628183  19.039113     7.580083 -0.003077   \n",
            "21  39.453390     2.079680  0.650935  19.368886     7.536257 -0.001198   \n",
            "22  38.845679     2.075156  0.647399  20.047962     7.588288 -0.000810   \n",
            "23  38.512463     2.087686  0.658245  19.909380     7.609884 -0.000701   \n",
            "\n",
            "        IMC2       MCC  \n",
            "0   0.049748  0.039787  \n",
            "1   0.132720  0.133372  \n",
            "2   0.063068  0.045709  \n",
            "3   0.045987  0.036992  \n",
            "4   0.058718  0.051329  \n",
            "5   0.054422  0.043527  \n",
            "6   0.056352  0.040677  \n",
            "7   0.042002  0.038265  \n",
            "8   0.047156  0.037697  \n",
            "9   0.061295  0.043862  \n",
            "10  0.038765  0.029734  \n",
            "11  0.139237  0.141814  \n",
            "12  0.051484  0.038411  \n",
            "13  0.045091  0.035332  \n",
            "14  0.042812  0.034853  \n",
            "15  0.053054  0.040517  \n",
            "16  0.032944  0.023720  \n",
            "17  0.026141  0.022604  \n",
            "18  0.054465  0.041306  \n",
            "19  0.052339  0.039832  \n",
            "20  0.099215  0.096133  \n",
            "21  0.062043  0.047937  \n",
            "22  0.051039  0.039404  \n",
            "23  0.047462  0.036301  \n"
          ],
          "name": "stdout"
        }
      ]
    },
    {
      "cell_type": "code",
      "metadata": {
        "id": "8JqTwJ9TpmzE",
        "colab_type": "code",
        "outputId": "a7469329-3ec5-4c1b-96df-d2b091ee29b5",
        "colab": {
          "base_uri": "https://localhost:8080/",
          "height": 34
        }
      },
      "source": [
        "print(p.shape)"
      ],
      "execution_count": 9,
      "outputs": [
        {
          "output_type": "stream",
          "text": [
            "(5, 5)\n"
          ],
          "name": "stdout"
        }
      ]
    },
    {
      "cell_type": "code",
      "metadata": {
        "id": "4SByB4bq4wO9",
        "colab_type": "code",
        "outputId": "3a8647b8-0849-46bf-e6d8-fe8bfc409bc7",
        "colab": {
          "base_uri": "https://localhost:8080/",
          "height": 54
        }
      },
      "source": [
        "'''          \n",
        "          0         1          2         3         4          5          6  \\\n",
        "0  0.040159  4.006764 -48.388893  5.873156  0.423837  20.097900  38.848134   \n",
        "1  0.041540  4.282528 -47.724904  5.762803  0.411868  20.118283  38.570089   \n",
        "2  0.040287  4.030399 -49.193342  5.979967  0.424910  20.208554  39.133866   \n",
        "3  0.040175  4.015663 -48.607804  6.027608  0.435603  20.231465  39.597120   \n",
        "4  0.040313  4.043838 -47.746904  5.656749  0.422210  19.935322  38.085237   \n",
        "\n",
        "          7         8          9        10        11        12        13  \n",
        "0  2.080038  0.648663  20.033820  7.608990 -0.000770  0.049748  0.039787  \n",
        "1  2.064334  0.646616  21.412639  7.688757 -0.005531  0.132720  0.133372  \n",
        "2  2.071191  0.656965  20.151997  7.628194 -0.001239  0.063068  0.045709  \n",
        "3  2.083742  0.653877  20.078315  7.654684 -0.000658  0.045987  0.036992  \n",
        "4  2.073301  0.652921  20.219188  7.614789 -0.001073  0.058718  0.051329\n",
        "'''"
      ],
      "execution_count": 10,
      "outputs": [
        {
          "output_type": "execute_result",
          "data": {
            "text/plain": [
              "'          \\n          0         1          2         3         4          5          6  0  0.040159  4.006764 -48.388893  5.873156  0.423837  20.097900  38.848134   \\n1  0.041540  4.282528 -47.724904  5.762803  0.411868  20.118283  38.570089   \\n2  0.040287  4.030399 -49.193342  5.979967  0.424910  20.208554  39.133866   \\n3  0.040175  4.015663 -48.607804  6.027608  0.435603  20.231465  39.597120   \\n4  0.040313  4.043838 -47.746904  5.656749  0.422210  19.935322  38.085237   \\n\\n          7         8          9        10        11        12        13  \\n0  2.080038  0.648663  20.033820  7.608990 -0.000770  0.049748  0.039787  \\n1  2.064334  0.646616  21.412639  7.688757 -0.005531  0.132720  0.133372  \\n2  2.071191  0.656965  20.151997  7.628194 -0.001239  0.063068  0.045709  \\n3  2.083742  0.653877  20.078315  7.654684 -0.000658  0.045987  0.036992  \\n4  2.073301  0.652921  20.219188  7.614789 -0.001073  0.058718  0.051329\\n'"
            ]
          },
          "metadata": {
            "tags": []
          },
          "execution_count": 10
        }
      ]
    },
    {
      "cell_type": "code",
      "metadata": {
        "id": "DVBIw8hpxRC3",
        "colab_type": "code",
        "outputId": "17904e57-49bc-43fd-8c31-b84685fee3f2",
        "colab": {
          "base_uri": "https://localhost:8080/",
          "height": 87
        }
      },
      "source": [
        "import numpy as np\n",
        "#from skimage.feature import haar_like_feature_coord\n",
        "#from skimage.feature import draw_haar_like_feature\n",
        "from skimage.feature import greycomatrix\n",
        "from skimage.feature import greycoprops\n",
        "#import skimage.feature.greycoprops as greycoprops\n",
        "image = np.array([[0, 0, 1, 1],[0, 0, 1, 1],[0, 2, 2, 2],[2, 2, 3, 3]], dtype=np.uint8)\n",
        "g = greycomatrix(image, [1, 2], [0, np.pi/2], levels=6,normed=True, symmetric=True)\n",
        "contrast = greycoprops(g, 'contrast')\n",
        "correlation= greycoprops(g, 'correlation')\n",
        "print(contrast)\n",
        "print(correlation)"
      ],
      "execution_count": 11,
      "outputs": [
        {
          "output_type": "stream",
          "text": [
            "[[0.58333333 1.        ]\n",
            " [1.25       2.75      ]]\n",
            "[[ 0.71953255  0.48571429]\n",
            " [ 0.41176471 -0.29411765]]\n"
          ],
          "name": "stdout"
        }
      ]
    },
    {
      "cell_type": "code",
      "metadata": {
        "id": "f3-bQ4EKb7Ua",
        "colab_type": "code",
        "outputId": "5d90e885-0bfa-4586-ba3f-9192aa152882",
        "colab": {
          "base_uri": "https://localhost:8080/",
          "height": 87
        }
      },
      "source": [
        "image = np.array(w[0], dtype=np.uint8)\n",
        "g = greycomatrix(image, [1, 2], [0, np.pi/2], levels=255,normed=True, symmetric=True)\n",
        "contrast = greycoprops(g, 'contrast')\n",
        "correlation= greycoprops(g, 'correlation')\n",
        "print(contrast)\n",
        "print(correlation)"
      ],
      "execution_count": 12,
      "outputs": [
        {
          "output_type": "stream",
          "text": [
            "[[ 98.2         85.1       ]\n",
            " [153.66666667  72.4       ]]\n",
            "[[-0.0829887   0.15825915]\n",
            " [-0.56657076  0.20068695]]\n"
          ],
          "name": "stdout"
        }
      ]
    },
    {
      "cell_type": "code",
      "metadata": {
        "id": "aiA8Ic5DR1Dc",
        "colab_type": "code",
        "outputId": "21c7ca5e-28d4-4bba-e477-6eb6f1cce343",
        "colab": {
          "base_uri": "https://localhost:8080/",
          "height": 87
        }
      },
      "source": [
        "P=w[0]\n",
        "print\n",
        "row,col=P.shape\n",
        "Size=row\n",
        "Soma=0\n",
        "for i in range(Size):\n",
        "    for j in range(Size):\n",
        "      Soma=Soma+P[i,j]\n",
        "  \n",
        "for i in range(Size):\n",
        "  for j in range(Size):\n",
        "    P[i,j]=P[i,j]/Soma\n",
        "\n",
        "image = np.array(P, dtype=np.uint8)\n",
        "g = greycomatrix(image, [1, 2], [0, np.pi/2], levels=255,normed=True, symmetric=True)\n",
        "contrast = greycoprops(g, 'contrast')\n",
        "correlation= greycoprops(g, 'correlation')\n",
        "print(contrast)\n",
        "print(correlation)"
      ],
      "execution_count": 13,
      "outputs": [
        {
          "output_type": "stream",
          "text": [
            "[[0. 0.]\n",
            " [0. 0.]]\n",
            "[[1. 1.]\n",
            " [1. 1.]]\n"
          ],
          "name": "stdout"
        }
      ]
    },
    {
      "cell_type": "code",
      "metadata": {
        "id": "T1T7VLXfX8u3",
        "colab_type": "code",
        "outputId": "d28acf4d-26f0-4858-8378-97ba8d1029da",
        "colab": {
          "base_uri": "https://localhost:8080/",
          "height": 122
        }
      },
      "source": [
        "print(P);print(Size)"
      ],
      "execution_count": 14,
      "outputs": [
        {
          "output_type": "stream",
          "text": [
            "[[0 0 0 0 0]\n",
            " [0 0 0 0 0]\n",
            " [0 0 0 0 0]\n",
            " [0 0 0 0 0]\n",
            " [0 0 0 0 0]]\n",
            "5\n"
          ],
          "name": "stdout"
        }
      ]
    },
    {
      "cell_type": "code",
      "metadata": {
        "id": "yfCdjVXYUyxa",
        "colab_type": "code",
        "colab": {}
      },
      "source": [
        "# glcm = [0 1 2 3;1 1 2 3;1 0 2 0;0 0 0 3]"
      ],
      "execution_count": 0,
      "outputs": []
    },
    {
      "cell_type": "code",
      "metadata": {
        "id": "rf0_P-i_U4sV",
        "colab_type": "code",
        "outputId": "e8e1fc34-ae72-4de7-f51d-0082e02f7768",
        "colab": {
          "base_uri": "https://localhost:8080/",
          "height": 54
        }
      },
      "source": [
        "'''\n",
        "https://www.mathworks.com/help/images/ref/graycoprops.html\n",
        "glcm = 4×4\n",
        "\n",
        "     0     1     2     3\n",
        "     1     1     2     3\n",
        "     1     0     2     0\n",
        "     0     0     0     3\n",
        "'''"
      ],
      "execution_count": 16,
      "outputs": [
        {
          "output_type": "execute_result",
          "data": {
            "text/plain": [
              "'\\nhttps://www.mathworks.com/help/images/ref/graycoprops.html\\nglcm = 4×4\\n\\n     0     1     2     3\\n     1     1     2     3\\n     1     0     2     0\\n     0     0     0     3\\n'"
            ]
          },
          "metadata": {
            "tags": []
          },
          "execution_count": 16
        }
      ]
    },
    {
      "cell_type": "code",
      "metadata": {
        "id": "0VHCSz9AU8aW",
        "colab_type": "code",
        "outputId": "4a979b56-d4af-444f-b02f-83036a274c5d",
        "colab": {
          "base_uri": "https://localhost:8080/",
          "height": 54
        }
      },
      "source": [
        "'''\n",
        "stats = graycoprops(glcm)\n",
        "stats = struct with fields:\n",
        "       Contrast: 2.8947\n",
        "    Correlation: 0.0783\n",
        "         Energy: 0.1191\n",
        "    Homogeneity: 0.5658\n",
        "'''"
      ],
      "execution_count": 17,
      "outputs": [
        {
          "output_type": "execute_result",
          "data": {
            "text/plain": [
              "'\\nstats = graycoprops(glcm)\\nstats = struct with fields:\\n       Contrast: 2.8947\\n    Correlation: 0.0783\\n         Energy: 0.1191\\n    Homogeneity: 0.5658\\n'"
            ]
          },
          "metadata": {
            "tags": []
          },
          "execution_count": 17
        }
      ]
    },
    {
      "cell_type": "code",
      "metadata": {
        "id": "AQFCL9xiVFVI",
        "colab_type": "code",
        "outputId": "b575c653-a67b-4141-f442-01e52824e981",
        "colab": {
          "base_uri": "https://localhost:8080/",
          "height": 87
        }
      },
      "source": [
        "glcm = np.array([[0, 1, 2, 3],[1, 1, 2, 3],[1, 0, 2, 0],[0, 0, 0, 3]]);print(glcm)"
      ],
      "execution_count": 18,
      "outputs": [
        {
          "output_type": "stream",
          "text": [
            "[[0 1 2 3]\n",
            " [1 1 2 3]\n",
            " [1 0 2 0]\n",
            " [0 0 0 3]]\n"
          ],
          "name": "stdout"
        }
      ]
    },
    {
      "cell_type": "code",
      "metadata": {
        "colab_type": "code",
        "outputId": "657a2c0f-baa1-4a33-e068-ddb7a9fe6165",
        "id": "Tf3rDWIVKpCw",
        "colab": {
          "base_uri": "https://localhost:8080/",
          "height": 87
        }
      },
      "source": [
        "glcm = np.array([[0, 1, 2, 3],[1, 1, 2, 3],[1, 0, 2, 0],[0, 0, 0, 3]]);print(glcm)"
      ],
      "execution_count": 19,
      "outputs": [
        {
          "output_type": "stream",
          "text": [
            "[[0 1 2 3]\n",
            " [1 1 2 3]\n",
            " [1 0 2 0]\n",
            " [0 0 0 3]]\n"
          ],
          "name": "stdout"
        }
      ]
    },
    {
      "cell_type": "code",
      "metadata": {
        "id": "Es3xk8QnWZtf",
        "colab_type": "code",
        "outputId": "18d3fd74-9f0b-41eb-ea4a-7b7a85610a3a",
        "colab": {
          "base_uri": "https://localhost:8080/",
          "height": 87
        }
      },
      "source": [
        "image = np.array(glcm, dtype=np.uint8)\n",
        "g = greycomatrix(image, [0,1], [0, np.pi/2], levels=4, normed=True, symmetric=True)\n",
        "contrast = greycoprops(g, 'contrast')\n",
        "correlation= greycoprops(g, 'correlation')\n",
        "print(contrast)\n",
        "print(correlation)"
      ],
      "execution_count": 20,
      "outputs": [
        {
          "output_type": "stream",
          "text": [
            "[[0.         0.        ]\n",
            " [1.91666667 2.08333333]]\n",
            "[[1.         1.        ]\n",
            " [0.13615023 0.10581222]]\n"
          ],
          "name": "stdout"
        }
      ]
    },
    {
      "cell_type": "code",
      "metadata": {
        "colab_type": "code",
        "outputId": "218acf12-970d-4283-cafd-6f2b9cd38e2b",
        "id": "73wNKi0TKv13",
        "colab": {
          "base_uri": "https://localhost:8080/",
          "height": 87
        }
      },
      "source": [
        "Glcm_test = np.array([[0, 1, 2, 3],[1, 1, 2, 3],[1, 0, 2, 0],[0, 0, 0, 3]]);print(Glcm_test)"
      ],
      "execution_count": 34,
      "outputs": [
        {
          "output_type": "stream",
          "text": [
            "[[0 1 2 3]\n",
            " [1 1 2 3]\n",
            " [1 0 2 0]\n",
            " [0 0 0 3]]\n"
          ],
          "name": "stdout"
        }
      ]
    },
    {
      "cell_type": "code",
      "metadata": {
        "id": "L6ctF1EmVssR",
        "colab_type": "code",
        "outputId": "b5063196-9bcd-40bd-f0fe-b65aaa0092ca",
        "colab": {
          "base_uri": "https://localhost:8080/",
          "height": 545
        }
      },
      "source": [
        "row,col=Glcm.shape\n",
        "print('====');print(Glcm_test)\n",
        "GLCMat=np.zeros((row,col))\n",
        "for i in range(row):\n",
        "  for j in range(col):\n",
        "    print(Glcm_test[i,j])\n",
        "    A=2**Glcm_test[i,j]\n",
        "    GLCMat[i,j]=A\n",
        "print(GLCMat)\n",
        "MAT=Go2GLCM.GLCM(GLCMat) # como calcular se tem zero???\n",
        "Nomes=['ASM','constrast','correl','variance','inv diff mom','sum aveg',\n",
        "       'sum var','sum entropy','entropy','dif var','dif entropy','IMC1',\n",
        "       'IMC2','MCC']\n",
        "print(pd.DataFrame(MAT,columns=Nomes))\n",
        "#print(MAT)"
      ],
      "execution_count": 35,
      "outputs": [
        {
          "output_type": "stream",
          "text": [
            "====\n",
            "[[0 1 2 3]\n",
            " [1 1 2 3]\n",
            " [1 0 2 0]\n",
            " [0 0 0 3]]\n",
            "0\n",
            "1\n",
            "2\n",
            "3\n",
            "1\n",
            "1\n",
            "2\n",
            "3\n",
            "1\n",
            "0\n",
            "2\n",
            "0\n",
            "0\n",
            "0\n",
            "0\n",
            "3\n",
            "[[1. 2. 4. 8.]\n",
            " [2. 2. 4. 8.]\n",
            " [2. 1. 4. 1.]\n",
            " [1. 1. 1. 8.]]\n",
            "      ASM  constrast     correl  variance  inv diff mom  sum aveg    sum var  \\\n",
            "0  0.1048       3.04 -35.910537  2.781406         0.488     13.76  21.386099   \n",
            "\n",
            "   sum entropy  entropy  dif var  dif entropy      IMC1      IMC2       MCC  \n",
            "0     1.702149  0.95788    12.16     5.456622 -0.064736  0.400743  0.388483  \n"
          ],
          "name": "stdout"
        }
      ]
    },
    {
      "cell_type": "code",
      "metadata": {
        "id": "A72kNG5LLrZ0",
        "colab_type": "code",
        "colab": {
          "base_uri": "https://localhost:8080/",
          "height": 34
        },
        "outputId": "c4872ba3-0bcd-4f09-8a60-f8d976e3a4c9"
      },
      "source": [
        "print(MAT[0,0]**0.5)"
      ],
      "execution_count": 36,
      "outputs": [
        {
          "output_type": "stream",
          "text": [
            "0.3237282811247729\n"
          ],
          "name": "stdout"
        }
      ]
    },
    {
      "cell_type": "code",
      "metadata": {
        "colab_type": "code",
        "id": "XaKkeOqwK1oH",
        "colab": {}
      },
      "source": [
        "glcm = np.array([[0, 1, 2, 3],[1, 1, 2, 3],[1, 0, 2, 0],[0, 0, 0, 3]]);print(glcm)"
      ],
      "execution_count": 0,
      "outputs": []
    },
    {
      "cell_type": "code",
      "metadata": {
        "colab_type": "code",
        "id": "Yt7lXlyGK6ff",
        "colab": {}
      },
      "source": [
        "MAT=Go2GLCM.GLCM(glcm) # como calcular se tem zero???\n",
        "print(MAT)"
      ],
      "execution_count": 0,
      "outputs": []
    }
  ]
}