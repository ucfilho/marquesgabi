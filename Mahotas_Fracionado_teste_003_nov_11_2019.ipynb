{
  "nbformat": 4,
  "nbformat_minor": 0,
  "metadata": {
    "colab": {
      "name": "Mahotas_Fracionado_teste_003_nov_11_2019.ipynb",
      "provenance": [],
      "collapsed_sections": [],
      "include_colab_link": true
    },
    "kernelspec": {
      "name": "python3",
      "display_name": "Python 3"
    }
  },
  "cells": [
    {
      "cell_type": "markdown",
      "metadata": {
        "id": "view-in-github",
        "colab_type": "text"
      },
      "source": [
        "<a href=\"https://colab.research.google.com/github/ucfilho/marquesgabi/blob/master/Mahotas_Fracionado_teste_003_nov_11_2019.ipynb\" target=\"_parent\"><img src=\"https://colab.research.google.com/assets/colab-badge.svg\" alt=\"Open In Colab\"/></a>"
      ]
    },
    {
      "cell_type": "code",
      "metadata": {
        "id": "f393Z8HdEmRg",
        "colab_type": "code",
        "outputId": "9b02e018-0fa3-413e-acfd-ff4fef9f9791",
        "colab": {
          "base_uri": "https://localhost:8080/",
          "height": 230
        }
      },
      "source": [
        "!pip install mahotas"
      ],
      "execution_count": 0,
      "outputs": [
        {
          "output_type": "stream",
          "text": [
            "Collecting mahotas\n",
            "\u001b[?25l  Downloading https://files.pythonhosted.org/packages/27/4b/72581c4316b2fb08cbcb3309d9f2eccd40f09f6af6117545e75f4015c505/mahotas-1.4.8.tar.gz (1.5MB)\n",
            "\u001b[K     |████████████████████████████████| 1.5MB 2.6MB/s \n",
            "\u001b[?25hRequirement already satisfied: numpy in /usr/local/lib/python3.6/dist-packages (from mahotas) (1.17.3)\n",
            "Building wheels for collected packages: mahotas\n",
            "  Building wheel for mahotas (setup.py) ... \u001b[?25l\u001b[?25hdone\n",
            "  Created wheel for mahotas: filename=mahotas-1.4.8-cp36-cp36m-linux_x86_64.whl size=4263966 sha256=3724e4c6d7cd22abc782187f69be7e6b5129cce647fb3d6a52cd63661946df3d\n",
            "  Stored in directory: /root/.cache/pip/wheels/3e/8b/93/690deca49a46242df274db70dbef26c0a6fa86e378b677e1ab\n",
            "Successfully built mahotas\n",
            "Installing collected packages: mahotas\n",
            "Successfully installed mahotas-1.4.8\n"
          ],
          "name": "stdout"
        }
      ]
    },
    {
      "cell_type": "code",
      "metadata": {
        "id": "W0wfLMP8nWAM",
        "colab_type": "code",
        "colab": {}
      },
      "source": [
        "# proximas etapas que falta : dividir a foto em 10x10 e aplicar o mahotas em cada foto\n",
        "# encontrar \n",
        "# GLCM?\n",
        "# COLOCAR MAIS VARIAVEIS NAS FOTOS\n",
        "# VER QUAIS PARAMETROS USAR PARA CALCULAR O PSD (particle size distribution)\n",
        "# GERAR AS IMAGENS ARTIFICIAIS"
      ],
      "execution_count": 0,
      "outputs": []
    },
    {
      "cell_type": "code",
      "metadata": {
        "id": "SzWdrvAgvBId",
        "colab_type": "code",
        "colab": {}
      },
      "source": [
        "import numpy as np\n",
        "import cv2\n",
        "from skimage import data\n",
        "import matplotlib.pyplot as plt\n",
        "import matplotlib\n",
        "import pandas as pd\n",
        "from skimage import io, util\n",
        "import mahotas.features.texture as mht\n",
        "import mahotas.features\n",
        "import os \n",
        "import zipfile\n",
        "from skimage import filters\n",
        "from skimage import exposure\n",
        "import skimage.feature as sk\n",
        "from google.colab import files\n",
        "from numpy import linalg as LA\n",
        "%matplotlib inline"
      ],
      "execution_count": 0,
      "outputs": []
    },
    {
      "cell_type": "code",
      "metadata": {
        "id": "h1Zsufcm9bfv",
        "colab_type": "code",
        "outputId": "2af2e70b-ed69-4733-b930-9e861da7d548",
        "colab": {
          "base_uri": "https://localhost:8080/",
          "height": 210
        }
      },
      "source": [
        "!wget http://ftp.feq.ufu.br/ubirajara/Sugar_set_30_2019.zip\n",
        "#!ls -l trash_nov_22_2018.zip"
      ],
      "execution_count": 0,
      "outputs": [
        {
          "output_type": "stream",
          "text": [
            "--2019-11-11 16:08:05--  http://ftp.feq.ufu.br/ubirajara/Sugar_set_30_2019.zip\n",
            "Resolving ftp.feq.ufu.br (ftp.feq.ufu.br)... 200.19.144.11\n",
            "Connecting to ftp.feq.ufu.br (ftp.feq.ufu.br)|200.19.144.11|:80... connected.\n",
            "HTTP request sent, awaiting response... 200 OK\n",
            "Length: 19584173 (19M) [application/zip]\n",
            "Saving to: ‘Sugar_set_30_2019.zip’\n",
            "\n",
            "Sugar_set_30_2019.z 100%[===================>]  18.68M  4.14MB/s    in 4.8s    \n",
            "\n",
            "2019-11-11 16:08:13 (3.88 MB/s) - ‘Sugar_set_30_2019.zip’ saved [19584173/19584173]\n",
            "\n"
          ],
          "name": "stdout"
        }
      ]
    },
    {
      "cell_type": "code",
      "metadata": {
        "id": "qKqzlX77P5-M",
        "colab_type": "code",
        "colab": {}
      },
      "source": [
        "# https://buildmedia.readthedocs.org/media/pdf/mahotas/latest/mahotas.pdf\n",
        "\n",
        "# Why there are only 13 features implemented? (pag 42)\n",
        "# Only the first 13 features are implemented. The last (14th) feature is \n",
        "# normally considered to be unstable, although it\n",
        "# is not clear to me why this is. (See this unanswered question on Cross-validated).\n",
        "\n",
        "# What mahotas.features.haralick return as answer?  (pag 58)\n",
        "# mahotas.features.haralick returns features in 4 directions. \n",
        "# We just take the mean (sometimes you use the spread ptp() too).\n",
        "\n",
        "# Who uses mahotas? (pag 62)\n",
        "# In June 2016, there were 34 papers citing the mahotas paper\n",
        "\n",
        "\n"
      ],
      "execution_count": 0,
      "outputs": []
    },
    {
      "cell_type": "code",
      "metadata": {
        "id": "YVBsUlEc-Azi",
        "colab_type": "code",
        "colab": {}
      },
      "source": [
        "file_name = zipfile.ZipFile('Sugar_set_30_2019.zip', 'r')\n",
        "file_name.extractall()"
      ],
      "execution_count": 0,
      "outputs": []
    },
    {
      "cell_type": "code",
      "metadata": {
        "id": "Dv9BnUWK-HqD",
        "colab_type": "code",
        "colab": {}
      },
      "source": [
        "# all images are resized in variable x, are in gray in variable p and in variable w are dataframe\n",
        "FILE='Sugar_set_30_2019.zip'\n",
        "img_name=[]\n",
        "x=[]\n",
        "p=[]\n",
        "w=[]\n",
        "Size=64 # tamanho da foto\n",
        "Sub_Size=4 # tamanho do fracionamento\n",
        "Row_Crop=1/2 # posicao do corte\n",
        "Crop=int(Size*Row_Crop)\n",
        "\n",
        "with zipfile.ZipFile(FILE, \"r\") as f:\n",
        "    for name in f.namelist():\n",
        "        img_name.append(name)\n",
        "        #x.append(cv2.imread(name))\n",
        "        x.append(cv2.resize(cv2.imread(name),(Size,Size)))\n",
        "\n",
        "nrow=len(img_name)\n",
        "ncol=Size*Size\n",
        "pp=np.zeros((nrow,ncol))\n",
        "for i in range(nrow):\n",
        "    w.append(cv2.cvtColor(np.array(x[i]), cv2.COLOR_BGR2GRAY))\n",
        "    pp[i,:]=w[i].ravel()"
      ],
      "execution_count": 0,
      "outputs": []
    },
    {
      "cell_type": "code",
      "metadata": {
        "id": "5zptA88eLE7I",
        "colab_type": "code",
        "colab": {}
      },
      "source": [
        "Nomes=['ASM','constrast','correl','variance','inv diff mom','sum aveg',\n",
        "       'sum var','sum entropy','entropy','dif var','dif entropy','IMC1',\n",
        "       'IMC2']\n"
      ],
      "execution_count": 0,
      "outputs": []
    },
    {
      "cell_type": "code",
      "metadata": {
        "id": "8Ficqv20-hfM",
        "colab_type": "code",
        "outputId": "9a454cc5-32ce-4612-dff4-23fb7a777281",
        "colab": {
          "base_uri": "https://localhost:8080/",
          "height": 1000
        }
      },
      "source": [
        "Nfotos=len(img_name)\n",
        "GLCM=[]\n",
        "glcm_haralick=[]\n",
        "for k in range(Nfotos):\n",
        "  p=pp[k,:].reshape(Size,Size)\n",
        "  Mahotas =pd.DataFrame(mahotas.features.haralick(p.astype(int)), columns =Nomes)\n",
        "  GLCM=[]\n",
        "  for i in Nomes:\n",
        "    GLCM.append(Mahotas[i].mean())\n",
        "  glcm_haralick.append(GLCM)\n",
        "\n",
        "print(pd.DataFrame(glcm_haralick,columns=Nomes))\n"
      ],
      "execution_count": 0,
      "outputs": [
        {
          "output_type": "stream",
          "text": [
            "         ASM    constrast    correl    variance  inv diff mom    sum aveg  \\\n",
            "0   0.028926    95.465625  0.007925   47.260693      0.100675  224.453125   \n",
            "1   0.032441  1019.881250 -0.090186  474.659844      0.089655  233.937500   \n",
            "2   0.029375   176.337500  0.146018  103.655449      0.090540  226.468750   \n",
            "3   0.030664    95.121875 -0.002434   47.590459      0.101340  228.946875   \n",
            "4   0.029590   159.746875  0.044044   83.721436      0.087985  222.703125   \n",
            "5   0.029727   104.781250  0.201476   65.540625      0.097444  229.425000   \n",
            "6   0.030840   102.478125  0.129225   58.843154      0.128326  231.996875   \n",
            "7   0.032656    97.018750  0.329610   73.599180      0.130997  235.306250   \n",
            "8   0.030488   128.940625  0.274450   88.978857      0.097787  251.615625   \n",
            "9   0.029551   174.531250  0.074583   95.730527      0.125745  248.462500   \n",
            "10  0.030078    71.443750  0.278276   49.246641      0.123552  254.900000   \n",
            "11  0.028438  1896.446875 -0.182054  800.328467      0.062714  259.003125   \n",
            "12  0.032441   249.134375  0.082582  135.356396      0.104379  256.434375   \n",
            "13  0.039961   133.643750 -0.030486   65.289648      0.134286  256.418750   \n",
            "14  0.030801   113.753125  0.337559   87.949053      0.158116  253.803125   \n",
            "15  0.035781   111.784375  0.025987   58.006787      0.126939  233.059375   \n",
            "16  0.033281    34.640625  0.327160   25.757178      0.156320  223.134375   \n",
            "17  0.033867    38.456250  0.214123   24.600938      0.145032  224.900000   \n",
            "18  0.029727   127.615625 -0.085387   58.930459      0.084628  245.909375   \n",
            "19  0.030840   132.146875  0.215590   85.687100      0.056809  241.684375   \n",
            "20  0.030215  1142.703125 -0.072795  530.712217      0.106623  264.365625   \n",
            "21  0.030664   214.556250  0.109713  121.157422      0.092328  255.400000   \n",
            "22  0.033320   130.518750 -0.022221   64.200137      0.100909  267.043750   \n",
            "23  0.029238   109.578125 -0.042380   53.032217      0.088677  250.059375   \n",
            "\n",
            "        sum var  sum entropy   entropy   dif var  dif entropy      IMC1  \\\n",
            "0     93.577148     3.708361  5.132839  0.000835     3.323220 -0.733254   \n",
            "1    878.758125     3.805419  5.007839  0.000433     3.398802 -0.727422   \n",
            "2    238.284297     3.824169  5.110964  0.000702     3.518502 -0.695233   \n",
            "3     95.239961     3.767919  5.067214  0.000827     3.332817 -0.675060   \n",
            "4    175.138867     3.932778  5.114089  0.000582     3.677233 -0.738548   \n",
            "5    157.381250     3.917214  5.104714  0.000673     3.480175 -0.722745   \n",
            "6    132.894492     3.798464  5.064089  0.000815     3.389460 -0.700633   \n",
            "7    197.377969     3.976528  5.042214  0.000649     3.564028 -0.717283   \n",
            "8    226.974805     3.882778  5.070339  0.000583     3.577233 -0.683823   \n",
            "9    208.390859     3.792214  5.107839  0.000592     3.498381 -0.705797   \n",
            "10   125.542812     3.674752  5.098464  0.000802     3.205336 -0.656002   \n",
            "11  1304.866992     3.923464  5.148464  0.000336     3.709188 -0.816311   \n",
            "12   292.291211     3.848464  5.007839  0.000476     3.711669 -0.682495   \n",
            "13   127.514844     3.659188  4.789028  0.000635     3.464611 -0.642388   \n",
            "14   238.043086     3.835964  5.057839  0.000641     3.427816 -0.710620   \n",
            "15   120.242773     3.688906  4.901528  0.000695     3.420861 -0.689254   \n",
            "16    68.388086     3.845278  5.017214  0.001040     3.033278 -0.625184   \n",
            "17    59.947500     3.614028  4.954714  0.001057     3.075457 -0.643838   \n",
            "18   108.106211     3.724047  5.104714  0.000638     3.551406 -0.749147   \n",
            "19   210.601523     3.935964  5.064089  0.000557     3.668907 -0.718138   \n",
            "20   980.145742     3.842919  5.089089  0.000373     3.661547 -0.761474   \n",
            "21   270.073437     3.955419  5.067214  0.000445     3.839028 -0.724372   \n",
            "22   126.281797     3.717797  5.011669  0.000648     3.443502 -0.691332   \n",
            "23   102.550742     3.779714  5.120339  0.000781     3.299208 -0.665986   \n",
            "\n",
            "        IMC2  \n",
            "0   0.998645  \n",
            "1   0.998329  \n",
            "2   0.997809  \n",
            "3   0.997107  \n",
            "4   0.998692  \n",
            "5   0.998431  \n",
            "6   0.997805  \n",
            "7   0.998131  \n",
            "8   0.997388  \n",
            "9   0.998077  \n",
            "10  0.996393  \n",
            "11  0.999576  \n",
            "12  0.997178  \n",
            "13  0.994473  \n",
            "14  0.998078  \n",
            "15  0.997044  \n",
            "16  0.994621  \n",
            "17  0.995380  \n",
            "18  0.998882  \n",
            "19  0.998230  \n",
            "20  0.999011  \n",
            "21  0.998384  \n",
            "22  0.997286  \n",
            "23  0.996917  \n"
          ],
          "name": "stdout"
        }
      ]
    }
  ]
}