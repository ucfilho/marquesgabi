{
  "nbformat": 4,
  "nbformat_minor": 0,
  "metadata": {
    "colab": {
      "name": "Mahotas_Fracionado_teste_003_nov_11_2019.ipynb",
      "provenance": [],
      "collapsed_sections": [],
      "include_colab_link": true
    },
    "kernelspec": {
      "name": "python3",
      "display_name": "Python 3"
    }
  },
  "cells": [
    {
      "cell_type": "markdown",
      "metadata": {
        "id": "view-in-github",
        "colab_type": "text"
      },
      "source": [
        "<a href=\"https://colab.research.google.com/github/ucfilho/marquesgabi/blob/master/Mahotas_Fracionado_teste_003_nov_11_2019.ipynb\" target=\"_parent\"><img src=\"https://colab.research.google.com/assets/colab-badge.svg\" alt=\"Open In Colab\"/></a>"
      ]
    },
    {
      "cell_type": "code",
      "metadata": {
        "id": "f393Z8HdEmRg",
        "colab_type": "code",
        "outputId": "319ba894-9e37-43a0-c5e7-b18aeb48cb27",
        "colab": {
          "base_uri": "https://localhost:8080/",
          "height": 52
        }
      },
      "source": [
        "!pip install mahotas"
      ],
      "execution_count": 1,
      "outputs": [
        {
          "output_type": "stream",
          "text": [
            "Requirement already satisfied: mahotas in /usr/local/lib/python3.6/dist-packages (1.4.8)\n",
            "Requirement already satisfied: numpy in /usr/local/lib/python3.6/dist-packages (from mahotas) (1.17.3)\n"
          ],
          "name": "stdout"
        }
      ]
    },
    {
      "cell_type": "code",
      "metadata": {
        "id": "W0wfLMP8nWAM",
        "colab_type": "code",
        "colab": {}
      },
      "source": [
        "# proximas etapas que falta : dividir a foto em 10x10 e aplicar o mahotas em cada foto\n",
        "# encontrar \n",
        "# GLCM?\n",
        "# COLOCAR MAIS VARIAVEIS NAS FOTOS\n",
        "# VER QUAIS PARAMETROS USAR PARA CALCULAR O PSD (particle size distribution)\n",
        "# GERAR AS IMAGENS ARTIFICIAIS"
      ],
      "execution_count": 0,
      "outputs": []
    },
    {
      "cell_type": "code",
      "metadata": {
        "id": "SzWdrvAgvBId",
        "colab_type": "code",
        "colab": {}
      },
      "source": [
        "import numpy as np\n",
        "import cv2\n",
        "from skimage import data\n",
        "import matplotlib.pyplot as plt\n",
        "import matplotlib\n",
        "import pandas as pd\n",
        "from skimage import io, util\n",
        "import mahotas.features.texture as mht\n",
        "import mahotas.features\n",
        "import os \n",
        "import zipfile\n",
        "from skimage import filters\n",
        "from skimage import exposure\n",
        "import skimage.feature as sk\n",
        "from google.colab import files\n",
        "from numpy import linalg as LA\n",
        "%matplotlib inline"
      ],
      "execution_count": 0,
      "outputs": []
    },
    {
      "cell_type": "code",
      "metadata": {
        "id": "h1Zsufcm9bfv",
        "colab_type": "code",
        "outputId": "c2ee02cc-d37a-4c23-84c2-7d105108bb6f",
        "colab": {
          "base_uri": "https://localhost:8080/",
          "height": 210
        }
      },
      "source": [
        "!wget http://ftp.feq.ufu.br/ubirajara/Sugar_set_30_2019.zip\n",
        "#!ls -l trash_nov_22_2018.zip"
      ],
      "execution_count": 4,
      "outputs": [
        {
          "output_type": "stream",
          "text": [
            "--2019-11-11 20:59:54--  http://ftp.feq.ufu.br/ubirajara/Sugar_set_30_2019.zip\n",
            "Resolving ftp.feq.ufu.br (ftp.feq.ufu.br)... 200.19.144.11\n",
            "Connecting to ftp.feq.ufu.br (ftp.feq.ufu.br)|200.19.144.11|:80... connected.\n",
            "HTTP request sent, awaiting response... 200 OK\n",
            "Length: 19584173 (19M) [application/zip]\n",
            "Saving to: ‘Sugar_set_30_2019.zip.6’\n",
            "\n",
            "Sugar_set_30_2019.z 100%[===================>]  18.68M  6.70MB/s    in 2.8s    \n",
            "\n",
            "2019-11-11 20:59:58 (6.70 MB/s) - ‘Sugar_set_30_2019.zip.6’ saved [19584173/19584173]\n",
            "\n"
          ],
          "name": "stdout"
        }
      ]
    },
    {
      "cell_type": "code",
      "metadata": {
        "id": "qKqzlX77P5-M",
        "colab_type": "code",
        "colab": {}
      },
      "source": [
        "# https://buildmedia.readthedocs.org/media/pdf/mahotas/latest/mahotas.pdf\n",
        "\n",
        "# Why there are only 13 features implemented? (pag 42)\n",
        "# Only the first 13 features are implemented. The last (14th) feature is \n",
        "# normally considered to be unstable, although it\n",
        "# is not clear to me why this is. (See this unanswered question on Cross-validated).\n",
        "\n",
        "# What mahotas.features.haralick return as answer?  (pag 58)\n",
        "# mahotas.features.haralick returns features in 4 directions. \n",
        "# We just take the mean (sometimes you use the spread ptp() too).\n",
        "\n",
        "# Who uses mahotas? (pag 62)\n",
        "# In June 2016, there were 34 papers citing the mahotas paper\n",
        "\n",
        "\n"
      ],
      "execution_count": 0,
      "outputs": []
    },
    {
      "cell_type": "code",
      "metadata": {
        "id": "YVBsUlEc-Azi",
        "colab_type": "code",
        "colab": {}
      },
      "source": [
        "file_name = zipfile.ZipFile('Sugar_set_30_2019.zip', 'r')\n",
        "file_name.extractall()"
      ],
      "execution_count": 0,
      "outputs": []
    },
    {
      "cell_type": "code",
      "metadata": {
        "id": "Dv9BnUWK-HqD",
        "colab_type": "code",
        "colab": {}
      },
      "source": [
        "# all images are resized in variable x, are in gray in variable p and in variable w are dataframe\n",
        "FILE='Sugar_set_30_2019.zip'\n",
        "img_name=[]\n",
        "x=[]\n",
        "p=[]\n",
        "w=[]\n",
        "Size=64 # tamanho da foto\n",
        "Sub_Size=4 # tamanho do fracionamento\n",
        "Row_Crop=1/2 # posicao do corte\n",
        "Crop=int(Size*Row_Crop)\n",
        "\n",
        "with zipfile.ZipFile(FILE, \"r\") as f:\n",
        "    for name in f.namelist():\n",
        "        img_name.append(name)\n",
        "        #x.append(cv2.imread(name))\n",
        "        x.append(cv2.resize(cv2.imread(name),(Size,Size)))\n",
        "\n",
        "nrow=len(img_name)\n",
        "ncol=Size*Size\n",
        "pp=np.zeros((nrow,ncol))\n",
        "for i in range(nrow):\n",
        "    w.append(cv2.cvtColor(np.array(x[i]), cv2.COLOR_BGR2GRAY))\n",
        "    pp[i,:]=w[i].ravel()"
      ],
      "execution_count": 0,
      "outputs": []
    },
    {
      "cell_type": "code",
      "metadata": {
        "id": "rIJFUkGF2h9o",
        "colab_type": "code",
        "colab": {
          "base_uri": "https://localhost:8080/",
          "height": 459
        },
        "outputId": "cf61a9da-d715-44a8-af26-71564b66ea25"
      },
      "source": [
        "!wget http://ftp.feq.ufu.br/ubirajara/TesteSugarAbr25.zip\n",
        "\n",
        "file_name = zipfile.ZipFile('TesteSugarAbr25.zip', 'r')\n",
        "file_name.extractall()\n",
        "# all images are load in variable x...\n",
        "FILE='TesteSugarAbr25.zip'\n",
        "img_name=[]\n",
        "xw=[]\n",
        "ww=[]\n",
        "\n",
        "with zipfile.ZipFile(FILE, \"r\") as f:\n",
        "    for name in f.namelist():\n",
        "        img_name.append(name)\n",
        "        #xw.append(cv2.imread(name))\n",
        "        xw.append(cv2.resize(cv2.imread(name),(Size,Size)))\n",
        "\n",
        "nrow=len(img_name)\n",
        "ncol=Size*Size\n",
        "pw=np.zeros((nrow,ncol))\n",
        "#pw=[]\n",
        "for i in range(nrow):\n",
        "    ww.append(cv2.cvtColor(np.array(xw[i]), cv2.COLOR_BGR2GRAY))\n",
        "    pw[i,:]=ww[i].ravel()\n",
        "\n",
        "plt.axis(\"off\")\n",
        "plt.imshow(ww[0])"
      ],
      "execution_count": 7,
      "outputs": [
        {
          "output_type": "stream",
          "text": [
            "--2019-11-11 21:00:00--  http://ftp.feq.ufu.br/ubirajara/TesteSugarAbr25.zip\n",
            "Resolving ftp.feq.ufu.br (ftp.feq.ufu.br)... 200.19.144.11\n",
            "Connecting to ftp.feq.ufu.br (ftp.feq.ufu.br)|200.19.144.11|:80... connected.\n",
            "HTTP request sent, awaiting response... 200 OK\n",
            "Length: 158733 (155K) [application/zip]\n",
            "Saving to: ‘TesteSugarAbr25.zip.11’\n",
            "\n",
            "TesteSugarAbr25.zip 100%[===================>] 155.01K   223KB/s    in 0.7s    \n",
            "\n",
            "2019-11-11 21:00:01 (223 KB/s) - ‘TesteSugarAbr25.zip.11’ saved [158733/158733]\n",
            "\n"
          ],
          "name": "stdout"
        },
        {
          "output_type": "execute_result",
          "data": {
            "text/plain": [
              "<matplotlib.image.AxesImage at 0x7faae3dd9eb8>"
            ]
          },
          "metadata": {
            "tags": []
          },
          "execution_count": 7
        },
        {
          "output_type": "display_data",
          "data": {
            "image/png": "[encoded data removed]",
            "text/plain": [
              "<Figure size 432x288 with 1 Axes>"
            ]
          },
          "metadata": {
            "tags": []
          }
        }
      ]
    },
    {
      "cell_type": "code",
      "metadata": {
        "id": "5zptA88eLE7I",
        "colab_type": "code",
        "colab": {}
      },
      "source": [
        "Nomes=['ASM','constrast','correl','variance','inv diff mom','sum aveg',\n",
        "       'sum var','sum entropy','entropy','dif var','dif entropy','IMC1',\n",
        "       'IMC2']\n"
      ],
      "execution_count": 0,
      "outputs": []
    },
    {
      "cell_type": "code",
      "metadata": {
        "id": "8Ficqv20-hfM",
        "colab_type": "code",
        "outputId": "b4fe10f8-656b-462b-fbaf-320ca05dddbc",
        "colab": {
          "base_uri": "https://localhost:8080/",
          "height": 263
        }
      },
      "source": [
        "#foto 0 (k=0)\n",
        "k=0\n",
        "#p_foto=pp[k,:].reshape(Size,Size)\n",
        "p_foto=pw[k,:].reshape(Size,Size)\n",
        "GLCM=[]\n",
        "glcm_haralick=[]\n",
        "x_ref=[]\n",
        "Count=Sub_Size\n",
        "p=np.zeros((Sub_Size,Sub_Size))\n",
        "j_ref=0\n",
        "for k in range(Size):\n",
        "  if((k+Sub_Size-1)<Size):\n",
        "    for i in range(Sub_Size):\n",
        "      for j in range(Sub_Size):\n",
        "        p[i,j]=p_foto[Crop+i,j+k]\n",
        "      \n",
        "    x_ref.append(Count-Sub_Size)\n",
        "    Count=Count+1\n",
        "    \n",
        "    Mahotas =pd.DataFrame(mahotas.features.haralick(p.astype(int)), columns =Nomes)\n",
        "    \n",
        "    GLCM=[]\n",
        "    for ii in Nomes:\n",
        "      GLCM.append(Mahotas[ii].mean())\n",
        "      #print('cheguei aqui!!!')\n",
        "    glcm_haralick.append(GLCM)\n",
        "\n",
        "df=pd.DataFrame(glcm_haralick,columns=Nomes)\n",
        "print(df)"
      ],
      "execution_count": 10,
      "outputs": [
        {
          "output_type": "stream",
          "text": [
            "         ASM   constrast    correl  ...  dif entropy      IMC1      IMC2\n",
            "0   0.051890  304.451389  0.426923  ...     2.937970 -0.709995  0.995571\n",
            "1   0.050347  401.979167 -0.140504  ...     2.946888 -0.771070  0.997749\n",
            "2   0.050347  542.611111 -0.165784  ...     3.054323 -0.795088  0.998319\n",
            "3   0.052083  694.041667  0.416972  ...     3.028384 -0.799709  0.998302\n",
            "4   0.054687  717.236111  0.535052  ...     3.012657 -0.732306  0.996072\n",
            "..       ...         ...       ...  ...          ...       ...       ...\n",
            "56  0.053434  479.666667 -0.007287  ...     2.905222 -0.770791  0.997572\n",
            "57  0.050347  247.638889  0.362012  ...     2.884252 -0.795046  0.998326\n",
            "58  0.049479  202.604167  0.406966  ...     2.972828 -0.814956  0.998732\n",
            "59  0.049479  133.326389  0.360062  ...     2.986717 -0.814956  0.998732\n",
            "60  0.050347  170.784722  0.470560  ...     3.044110 -0.817623  0.998692\n",
            "\n",
            "[61 rows x 13 columns]\n"
          ],
          "name": "stdout"
        }
      ]
    },
    {
      "cell_type": "code",
      "metadata": {
        "id": "P3315Q6Dxa6u",
        "colab_type": "code",
        "colab": {
          "base_uri": "https://localhost:8080/",
          "height": 282
        },
        "outputId": "59910c14-291b-4306-bde4-56f07202c5a3"
      },
      "source": [
        "plt.plot(x_ref,df['entropy'])"
      ],
      "execution_count": 11,
      "outputs": [
        {
          "output_type": "execute_result",
          "data": {
            "text/plain": [
              "[<matplotlib.lines.Line2D at 0x7faae1313c50>]"
            ]
          },
          "metadata": {
            "tags": []
          },
          "execution_count": 11
        },
        {
          "output_type": "display_data",
          "data": {
            "image/png": "[encoded data removed]",
            "text/plain": [
              "<Figure size 432x288 with 1 Axes>"
            ]
          },
          "metadata": {
            "tags": []
          }
        }
      ]
    },
    {
      "cell_type": "code",
      "metadata": {
        "id": "pWoXCW9EDk9u",
        "colab_type": "code",
        "colab": {
          "base_uri": "https://localhost:8080/",
          "height": 282
        },
        "outputId": "9c4789f9-ceb1-40ac-a3c5-60bf968c2ba6"
      },
      "source": [
        "plt.plot(x_ref,df['ASM'])"
      ],
      "execution_count": 12,
      "outputs": [
        {
          "output_type": "execute_result",
          "data": {
            "text/plain": [
              "[<matplotlib.lines.Line2D at 0x7faae1253940>]"
            ]
          },
          "metadata": {
            "tags": []
          },
          "execution_count": 12
        },
        {
          "output_type": "display_data",
          "data": {
            "image/png": "[encoded data removed]",
            "text/plain": [
              "<Figure size 432x288 with 1 Axes>"
            ]
          },
          "metadata": {
            "tags": []
          }
        }
      ]
    },
    {
      "cell_type": "code",
      "metadata": {
        "id": "8R9jsmgsDtFV",
        "colab_type": "code",
        "colab": {
          "base_uri": "https://localhost:8080/",
          "height": 282
        },
        "outputId": "bfff758f-cf34-4bd4-fea7-a0be69772325"
      },
      "source": [
        "plt.plot(x_ref,df['constrast'])   "
      ],
      "execution_count": 13,
      "outputs": [
        {
          "output_type": "execute_result",
          "data": {
            "text/plain": [
              "[<matplotlib.lines.Line2D at 0x7faae123a3c8>]"
            ]
          },
          "metadata": {
            "tags": []
          },
          "execution_count": 13
        },
        {
          "output_type": "display_data",
          "data": {
            "image/png": "[encoded data removed]",
            "text/plain": [
              "<Figure size 432x288 with 1 Axes>"
            ]
          },
          "metadata": {
            "tags": []
          }
        }
      ]
    }
  ]
}