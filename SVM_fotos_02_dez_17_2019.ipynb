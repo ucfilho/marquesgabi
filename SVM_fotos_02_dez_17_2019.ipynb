{
  "nbformat": 4,
  "nbformat_minor": 0,
  "metadata": {
    "colab": {
      "name": "SVM_fotos_02_dez_17_2019.ipynb",
      "provenance": [],
      "include_colab_link": true
    },
    "kernelspec": {
      "name": "python3",
      "display_name": "Python 3"
    },
    "accelerator": "GPU"
  },
  "cells": [
    {
      "cell_type": "markdown",
      "metadata": {
        "id": "view-in-github",
        "colab_type": "text"
      },
      "source": [
        "<a href=\"https://colab.research.google.com/github/ucfilho/marquesgabi/blob/master/SVM_fotos_02_dez_17_2019.ipynb\" target=\"_parent\"><img src=\"https://colab.research.google.com/assets/colab-badge.svg\" alt=\"Open In Colab\"/></a>"
      ]
    },
    {
      "cell_type": "code",
      "metadata": {
        "id": "uPzMNtMQeqs-",
        "colab_type": "code",
        "colab": {}
      },
      "source": [
        "from sklearn.model_selection import train_test_split\n",
        "import numpy as np\n",
        "import cv2\n",
        "import pandas as pd\n",
        "from sklearn.svm import SVC\n",
        "import random\n",
        "from sklearn.metrics import classification_report, confusion_matrix\n",
        "import matplotlib.pyplot as plt\n",
        "import matplotlib\n",
        "%matplotlib inline"
      ],
      "execution_count": 0,
      "outputs": []
    },
    {
      "cell_type": "code",
      "metadata": {
        "id": "o4y_z_-ge57N",
        "colab_type": "code",
        "outputId": "6c07af27-df93-465a-a6db-32bfa383461b",
        "colab": {
          "base_uri": "https://localhost:8080/",
          "height": 217
        }
      },
      "source": [
        "!wget http://ftp.feq.ufu.br/ubirajara/Fotos_Treina_ANN_dez_2019.csv\n",
        "Transfere='Fotos_Treina_ANN_dez_2019.csv'"
      ],
      "execution_count": 0,
      "outputs": [
        {
          "output_type": "stream",
          "text": [
            "--2019-12-17 23:14:41--  http://ftp.feq.ufu.br/ubirajara/Fotos_Treina_ANN_dez_2019.csv\n",
            "Resolving ftp.feq.ufu.br (ftp.feq.ufu.br)... 200.19.144.11\n",
            "Connecting to ftp.feq.ufu.br (ftp.feq.ufu.br)|200.19.144.11|:80... connected.\n",
            "HTTP request sent, awaiting response... 200 OK\n",
            "Length: 21508 (21K) [text/csv]\n",
            "Saving to: ‘Fotos_Treina_ANN_dez_2019.csv.6’\n",
            "\n",
            "Fotos_Treina_ANN_de 100%[===================>]  21.00K  30.6KB/s    in 0.7s    \n",
            "\n",
            "2019-12-17 23:14:42 (30.6 KB/s) - ‘Fotos_Treina_ANN_dez_2019.csv.6’ saved [21508/21508]\n",
            "\n"
          ],
          "name": "stdout"
        }
      ]
    },
    {
      "cell_type": "code",
      "metadata": {
        "id": "es7O1fUjfK2o",
        "colab_type": "code",
        "colab": {}
      },
      "source": [
        "df= pd.read_csv(Transfere) "
      ],
      "execution_count": 0,
      "outputs": []
    },
    {
      "cell_type": "code",
      "metadata": {
        "id": "cytkRXeDgL7P",
        "colab_type": "code",
        "colab": {}
      },
      "source": [
        "df['Type'] = df['Type'].map({'buraco':1, 'grao':2, 'indef':3}) "
      ],
      "execution_count": 0,
      "outputs": []
    },
    {
      "cell_type": "code",
      "metadata": {
        "id": "1gVOPf_LhXhb",
        "colab_type": "code",
        "colab": {}
      },
      "source": [
        "X=df.iloc[:,2:12]\n",
        "y=df.iloc[:,1]"
      ],
      "execution_count": 0,
      "outputs": []
    },
    {
      "cell_type": "code",
      "metadata": {
        "id": "Zi9gBj86i0V_",
        "colab_type": "code",
        "colab": {}
      },
      "source": [
        "# Train Test Split\n",
        "random.seed(13)\n",
        "X_train, X_test, y_train, y_test = train_test_split(X, y, test_size=0.30)"
      ],
      "execution_count": 0,
      "outputs": []
    },
    {
      "cell_type": "code",
      "metadata": {
        "id": "tSFUnE9E0UeS",
        "colab_type": "code",
        "outputId": "0b23d92f-bd7e-44a3-9bfa-ae33806cc0c5",
        "colab": {
          "base_uri": "https://localhost:8080/",
          "height": 690
        }
      },
      "source": [
        "print(y_test)"
      ],
      "execution_count": 0,
      "outputs": [
        {
          "output_type": "stream",
          "text": [
            "107    3\n",
            "118    3\n",
            "58     2\n",
            "6      1\n",
            "76     2\n",
            "114    3\n",
            "51     2\n",
            "8      1\n",
            "39     1\n",
            "57     2\n",
            "99     3\n",
            "81     3\n",
            "12     1\n",
            "97     3\n",
            "48     2\n",
            "37     1\n",
            "27     1\n",
            "113    3\n",
            "108    3\n",
            "72     2\n",
            "2      1\n",
            "102    3\n",
            "60     2\n",
            "59     2\n",
            "88     3\n",
            "103    3\n",
            "115    3\n",
            "100    3\n",
            "98     3\n",
            "50     2\n",
            "86     3\n",
            "67     2\n",
            "109    3\n",
            "71     2\n",
            "84     3\n",
            "10     1\n",
            "Name: Type, dtype: int64\n"
          ],
          "name": "stdout"
        }
      ]
    },
    {
      "cell_type": "code",
      "metadata": {
        "id": "xNTDvAyki_nV",
        "colab_type": "code",
        "outputId": "5d4b8431-2656-4f33-c335-9223e790b269",
        "colab": {
          "base_uri": "https://localhost:8080/",
          "height": 90
        }
      },
      "source": [
        "# Feature Scaling\n",
        "#svclassifier = SVC(kernel='linear')\n",
        "#svclassifier = SVC(kernel='rbf')\n",
        "# svclassifier = SVC(kernel='poly', C=0.025) #demorou muito \n",
        "#svclassifier =SVC(kernel='linear', C=1E10)\n",
        "#C = 1e6 \n",
        "#clf = SVC(kernel='rbf', C=C)\n",
        "#clf = SVC(kernel='poly', C=C)\n",
        "#clf = SVC(C=0.0001, kernel='poly', degree=2, gamma=2)\n",
        "clf =  SVC(kernel = 'rbf', C = 100, gamma = 0.1)\n",
        "clf.fit(X_train, y_train)"
      ],
      "execution_count": 0,
      "outputs": [
        {
          "output_type": "execute_result",
          "data": {
            "text/plain": [
              "SVC(C=100, cache_size=200, class_weight=None, coef0=0.0,\n",
              "    decision_function_shape='ovr', degree=3, gamma=0.1, kernel='rbf',\n",
              "    max_iter=-1, probability=False, random_state=None, shrinking=True,\n",
              "    tol=0.001, verbose=False)"
            ]
          },
          "metadata": {
            "tags": []
          },
          "execution_count": 15
        }
      ]
    },
    {
      "cell_type": "code",
      "metadata": {
        "id": "nkojtCWHyH-I",
        "colab_type": "code",
        "colab": {}
      },
      "source": [
        "y_pred = clf.predict(X_test)"
      ],
      "execution_count": 0,
      "outputs": []
    },
    {
      "cell_type": "code",
      "metadata": {
        "id": "PYvri4wIjyGm",
        "colab_type": "code",
        "outputId": "933b3ce9-87ab-425a-d17a-17b0f3601d13",
        "colab": {
          "base_uri": "https://localhost:8080/",
          "height": 310
        }
      },
      "source": [
        "# Evaluating the Algorithm\n",
        "print(confusion_matrix(y_test, y_pred))\n",
        "print(classification_report(y_test, y_pred))"
      ],
      "execution_count": 0,
      "outputs": [
        {
          "output_type": "stream",
          "text": [
            "[[ 8  0  0]\n",
            " [11  0  0]\n",
            " [17  0  0]]\n",
            "              precision    recall  f1-score   support\n",
            "\n",
            "           1       0.22      1.00      0.36         8\n",
            "           2       0.00      0.00      0.00        11\n",
            "           3       0.00      0.00      0.00        17\n",
            "\n",
            "    accuracy                           0.22        36\n",
            "   macro avg       0.07      0.33      0.12        36\n",
            "weighted avg       0.05      0.22      0.08        36\n",
            "\n"
          ],
          "name": "stdout"
        },
        {
          "output_type": "stream",
          "text": [
            "/usr/local/lib/python3.6/dist-packages/sklearn/metrics/classification.py:1437: UndefinedMetricWarning: Precision and F-score are ill-defined and being set to 0.0 in labels with no predicted samples.\n",
            "  'precision', 'predicted', average, warn_for)\n"
          ],
          "name": "stderr"
        }
      ]
    }
  ]
}