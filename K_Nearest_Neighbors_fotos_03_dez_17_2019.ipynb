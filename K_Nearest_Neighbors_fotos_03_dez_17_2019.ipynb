{
  "nbformat": 4,
  "nbformat_minor": 0,
  "metadata": {
    "colab": {
      "name": "K_Nearest_Neighbors_fotos_03_dez_17_2019.ipynb",
      "provenance": [],
      "include_colab_link": true
    },
    "kernelspec": {
      "name": "python3",
      "display_name": "Python 3"
    }
  },
  "cells": [
    {
      "cell_type": "markdown",
      "metadata": {
        "id": "view-in-github",
        "colab_type": "text"
      },
      "source": [
        "<a href=\"https://colab.research.google.com/github/ucfilho/marquesgabi/blob/master/K_Nearest_Neighbors_fotos_03_dez_17_2019.ipynb\" target=\"_parent\"><img src=\"https://colab.research.google.com/assets/colab-badge.svg\" alt=\"Open In Colab\"/></a>"
      ]
    },
    {
      "cell_type": "code",
      "metadata": {
        "id": "uPzMNtMQeqs-",
        "colab_type": "code",
        "colab": {}
      },
      "source": [
        "from sklearn.model_selection import train_test_split\n",
        "import numpy as np\n",
        "import cv2\n",
        "import pandas as pd\n",
        "from sklearn.preprocessing import StandardScaler\n",
        "scaler = StandardScaler()\n",
        "from sklearn.neighbors import KNeighborsClassifier\n",
        "from sklearn.metrics import classification_report, confusion_matrix\n",
        "import matplotlib.pyplot as plt\n",
        "import matplotlib\n",
        "%matplotlib inline"
      ],
      "execution_count": 0,
      "outputs": []
    },
    {
      "cell_type": "code",
      "metadata": {
        "id": "o4y_z_-ge57N",
        "colab_type": "code",
        "outputId": "55db0d8f-4e0c-47fe-ce8d-485ba52dbbbb",
        "colab": {
          "base_uri": "https://localhost:8080/",
          "height": 217
        }
      },
      "source": [
        "!wget http://ftp.feq.ufu.br/ubirajara/Fotos_Treina_ANN_dez_2019.csv\n",
        "Transfere='Fotos_Treina_ANN_dez_2019.csv'"
      ],
      "execution_count": 2,
      "outputs": [
        {
          "output_type": "stream",
          "text": [
            "--2019-12-19 13:59:00--  http://ftp.feq.ufu.br/ubirajara/Fotos_Treina_ANN_dez_2019.csv\n",
            "Resolving ftp.feq.ufu.br (ftp.feq.ufu.br)... 200.19.144.11\n",
            "Connecting to ftp.feq.ufu.br (ftp.feq.ufu.br)|200.19.144.11|:80... connected.\n",
            "HTTP request sent, awaiting response... 200 OK\n",
            "Length: 21508 (21K) [text/csv]\n",
            "Saving to: ‘Fotos_Treina_ANN_dez_2019.csv’\n",
            "\n",
            "Fotos_Treina_ANN_de 100%[===================>]  21.00K  36.7KB/s    in 0.6s    \n",
            "\n",
            "2019-12-19 13:59:02 (36.7 KB/s) - ‘Fotos_Treina_ANN_dez_2019.csv’ saved [21508/21508]\n",
            "\n"
          ],
          "name": "stdout"
        }
      ]
    },
    {
      "cell_type": "code",
      "metadata": {
        "id": "es7O1fUjfK2o",
        "colab_type": "code",
        "colab": {}
      },
      "source": [
        "df= pd.read_csv(Transfere) "
      ],
      "execution_count": 0,
      "outputs": []
    },
    {
      "cell_type": "code",
      "metadata": {
        "id": "cytkRXeDgL7P",
        "colab_type": "code",
        "colab": {}
      },
      "source": [
        "df['Type'] = df['Type'].map({'buraco':1, 'grao':2, 'indef':3}) "
      ],
      "execution_count": 0,
      "outputs": []
    },
    {
      "cell_type": "code",
      "metadata": {
        "id": "1gVOPf_LhXhb",
        "colab_type": "code",
        "colab": {}
      },
      "source": [
        "X=df.iloc[:,2:12]\n",
        "y=df.iloc[:,1]"
      ],
      "execution_count": 0,
      "outputs": []
    },
    {
      "cell_type": "code",
      "metadata": {
        "id": "Zi9gBj86i0V_",
        "colab_type": "code",
        "colab": {}
      },
      "source": [
        "# Train Test Split\n",
        "X_train, X_test, y_train, y_test = train_test_split(X, y, test_size=0.20)"
      ],
      "execution_count": 0,
      "outputs": []
    },
    {
      "cell_type": "code",
      "metadata": {
        "id": "xNTDvAyki_nV",
        "colab_type": "code",
        "colab": {}
      },
      "source": [
        "# Feature Scaling\n",
        "scaler.fit(X_train)\n",
        "X_train = scaler.transform(X_train)\n",
        "X_test = scaler.transform(X_test)"
      ],
      "execution_count": 0,
      "outputs": []
    },
    {
      "cell_type": "code",
      "metadata": {
        "id": "5t3bSGknjhQb",
        "colab_type": "code",
        "colab": {}
      },
      "source": [
        "# Training and Predictions\n",
        "classifier = KNeighborsClassifier(n_neighbors=10)\n",
        "classifier.fit(X_train, y_train)\n",
        "y_pred = classifier.predict(X_test)"
      ],
      "execution_count": 0,
      "outputs": []
    },
    {
      "cell_type": "code",
      "metadata": {
        "id": "PYvri4wIjyGm",
        "colab_type": "code",
        "outputId": "2817c258-a776-4207-a2a9-921492046655",
        "colab": {
          "base_uri": "https://localhost:8080/",
          "height": 255
        }
      },
      "source": [
        "# Evaluating the Algorithm\n",
        "print(confusion_matrix(y_test, y_pred))\n",
        "print(classification_report(y_test, y_pred))"
      ],
      "execution_count": 9,
      "outputs": [
        {
          "output_type": "stream",
          "text": [
            "[[5 4 1]\n",
            " [2 6 4]\n",
            " [1 0 1]]\n",
            "              precision    recall  f1-score   support\n",
            "\n",
            "           1       0.62      0.50      0.56        10\n",
            "           2       0.60      0.50      0.55        12\n",
            "           3       0.17      0.50      0.25         2\n",
            "\n",
            "    accuracy                           0.50        24\n",
            "   macro avg       0.46      0.50      0.45        24\n",
            "weighted avg       0.57      0.50      0.53        24\n",
            "\n"
          ],
          "name": "stdout"
        }
      ]
    },
    {
      "cell_type": "code",
      "metadata": {
        "id": "A0lrw9b6klSH",
        "colab_type": "code",
        "colab": {}
      },
      "source": [
        "# Comparing Error Rate with the K Value\n",
        "error = []\n",
        "\n",
        "# Calculating error for K values between 1 and 40\n",
        "for i in range(1, 40):\n",
        "    knn = KNeighborsClassifier(n_neighbors=i)\n",
        "    knn.fit(X_train, y_train)\n",
        "    pred_i = knn.predict(X_test)\n",
        "    error.append(np.mean(pred_i != y_test))"
      ],
      "execution_count": 0,
      "outputs": []
    },
    {
      "cell_type": "code",
      "metadata": {
        "id": "57Xsa0Hckwmq",
        "colab_type": "code",
        "outputId": "40087890-528e-4a57-fb0b-865413c17bd7",
        "colab": {
          "base_uri": "https://localhost:8080/",
          "height": 422
        }
      },
      "source": [
        "plt.figure(figsize=(12, 6))\n",
        "plt.plot(range(1, 40), error, color='red', linestyle='dashed', marker='o',\n",
        "         markerfacecolor='blue', markersize=10)\n",
        "plt.title('Error Rate K Value')\n",
        "plt.xlabel('K Value')\n",
        "plt.ylabel('Mean Error')"
      ],
      "execution_count": 11,
      "outputs": [
        {
          "output_type": "execute_result",
          "data": {
            "text/plain": [
              "Text(0, 0.5, 'Mean Error')"
            ]
          },
          "metadata": {
            "tags": []
          },
          "execution_count": 11
        },
        {
          "output_type": "display_data",
          "data": {
            "image/png": "[encoded data removed]",
            "text/plain": [
              "<Figure size 864x432 with 1 Axes>"
            ]
          },
          "metadata": {
            "tags": []
          }
        }
      ]
    },
    {
      "cell_type": "code",
      "metadata": {
        "id": "P7owhi_DlF3C",
        "colab_type": "code",
        "colab": {}
      },
      "source": [
        "# Training and Predictions\n",
        "classifier = KNeighborsClassifier(n_neighbors=12)\n",
        "classifier.fit(X_train, y_train)\n",
        "y_pred = classifier.predict(X_test)"
      ],
      "execution_count": 0,
      "outputs": []
    },
    {
      "cell_type": "code",
      "metadata": {
        "id": "LVdTxY-8lM4z",
        "colab_type": "code",
        "outputId": "59568246-b0c2-4e75-b352-4d83a356c636",
        "colab": {
          "base_uri": "https://localhost:8080/",
          "height": 255
        }
      },
      "source": [
        "# Evaluating the Algorithm\n",
        "print(confusion_matrix(y_test, y_pred))\n",
        "print(classification_report(y_test, y_pred))"
      ],
      "execution_count": 13,
      "outputs": [
        {
          "output_type": "stream",
          "text": [
            "[[5 2 3]\n",
            " [2 5 5]\n",
            " [1 0 1]]\n",
            "              precision    recall  f1-score   support\n",
            "\n",
            "           1       0.62      0.50      0.56        10\n",
            "           2       0.71      0.42      0.53        12\n",
            "           3       0.11      0.50      0.18         2\n",
            "\n",
            "    accuracy                           0.46        24\n",
            "   macro avg       0.48      0.47      0.42        24\n",
            "weighted avg       0.63      0.46      0.51        24\n",
            "\n"
          ],
          "name": "stdout"
        }
      ]
    }
  ]
}