{
  "nbformat": 4,
  "nbformat_minor": 0,
  "metadata": {
    "colab": {
      "name": "Cristais_Virtuais_jun_23_2019.ipynb",
      "version": "0.3.2",
      "provenance": [],
      "collapsed_sections": [],
      "include_colab_link": true
    },
    "kernelspec": {
      "name": "python3",
      "display_name": "Python 3"
    }
  },
  "cells": [
    {
      "cell_type": "markdown",
      "metadata": {
        "id": "view-in-github",
        "colab_type": "text"
      },
      "source": [
        "<a href=\"https://colab.research.google.com/github/ucfilho/marquesgabi/blob/master/Cristais_Virtuais_jun_23_2019.ipynb\" target=\"_parent\"><img src=\"https://colab.research.google.com/assets/colab-badge.svg\" alt=\"Open In Colab\"/></a>"
      ]
    },
    {
      "cell_type": "code",
      "metadata": {
        "id": "7xeWqX7ABjwO",
        "colab_type": "code",
        "colab": {}
      },
      "source": [
        "\n",
        "import matplotlib.pyplot as plt\n",
        "import matplotlib.patches as patches\n",
        "from PIL import Image\n",
        "from random import randrange, uniform\n",
        "import numpy as np\n"
      ],
      "execution_count": 0,
      "outputs": []
    },
    {
      "cell_type": "code",
      "metadata": {
        "id": "PQK97uWhE-pc",
        "colab_type": "code",
        "colab": {
          "base_uri": "https://localhost:8080/",
          "height": 54
        },
        "outputId": "01f45c81-ba87-41b9-b1f8-d9af1b21c36f"
      },
      "source": [
        "# clona o diretorio github ucfilho/ANN no colaboratory research\n",
        "!git clone https://github.com/ucfilho/marquesgabi\n",
        "%cd marquesgabi"
      ],
      "execution_count": 2,
      "outputs": [
        {
          "output_type": "stream",
          "text": [
            "fatal: destination path 'marquesgabi' already exists and is not an empty directory.\n",
            "/content/marquesgabi\n"
          ],
          "name": "stdout"
        }
      ]
    },
    {
      "cell_type": "code",
      "metadata": {
        "id": "qwuNuXeWF2o8",
        "colab_type": "code",
        "colab": {
          "base_uri": "https://localhost:8080/",
          "height": 181
        },
        "outputId": "d4104312-c93e-4ae0-fca4-1179bf5e3b81"
      },
      "source": [
        "!ls"
      ],
      "execution_count": 3,
      "outputs": [
        {
          "output_type": "stream",
          "text": [
            "Analise_ajuste_modelos_jun_16_2019.ipynb  Sugar_05_abril_25_2019.ipynb\n",
            "Cristais_Sinteticos_jun_23_2019.ipynb\t  Sugar_06_maio_02_2019.ipynb\n",
            "plain-white-background.jpg\t\t  Sugar_07_maio_02_2019.ipynb\n",
            "README.md\t\t\t\t  Sugar_08_maio_06_2019.ipynb\n",
            "Regressao_Linear_jun_14_2019.ipynb\t  Sugar_09_maio_06_2019.ipynb\n",
            "Sugar_01_abril_25_2019.ipynb\t\t  Sugar_10_maio_24_2019.ipynb\n",
            "Sugar_02_abril_25_2019.ipynb\t\t  Sugar_11_maio_24_2019.ipynb\n",
            "Sugar_03_abril_25_2019.ipynb\t\t  Sugar_12_jun_04_2019.ipynb\n",
            "Sugar_04_abril_25_2019.ipynb\t\t  Sugar_13_jun_06_2019.ipynb\n"
          ],
          "name": "stdout"
        }
      ]
    },
    {
      "cell_type": "code",
      "metadata": {
        "id": "iwnmJgsNC8wM",
        "colab_type": "code",
        "colab": {
          "base_uri": "https://localhost:8080/",
          "height": 269
        },
        "outputId": "f600890b-2be9-476f-f837-e384acfd96bd"
      },
      "source": [
        "\n",
        "im = np.array(Image.open('plain-white-background.jpg'), dtype=np.uint8)\n",
        "\n",
        "# Create figure and axes\n",
        "fig,ax = plt.subplots(1)\n",
        "\n",
        "# Display the image\n",
        "plt.axis(\"off\")\n",
        "ax.imshow(im)\n",
        "\n",
        "# Create a Rectangle patch\n",
        "rect_01 = patches.Rectangle((50,100),40,30,linewidth=1,edgecolor='gray',facecolor='gray')\n",
        "rect_02 = patches.Rectangle((200,100),100,80,linewidth=1,edgecolor='gray',facecolor='gray')\n",
        "# Add the patch to the Axes\n",
        "ax.add_patch(rect_01)\n",
        "ax.add_patch(rect_02)\n",
        "\n",
        "plt.show()"
      ],
      "execution_count": 4,
      "outputs": [
        {
          "output_type": "display_data",
          "data": {
            "image/png": "[encoded data removed]",
            "text/plain": [
              "<Figure size 432x288 with 1 Axes>"
            ]
          },
          "metadata": {
            "tags": []
          }
        }
      ]
    },
    {
      "cell_type": "code",
      "metadata": {
        "id": "WOdf87_kIs4s",
        "colab_type": "code",
        "colab": {
          "base_uri": "https://localhost:8080/",
          "height": 54
        },
        "outputId": "0fd9a2ae-ce26-4641-9f22-931e39cf057e"
      },
      "source": [
        "A=im.shape\n",
        "print(im.shape)\n",
        "print(A[0])\n",
        "Nx=A[0]\n",
        "Ny=A[1]"
      ],
      "execution_count": 5,
      "outputs": [
        {
          "output_type": "stream",
          "text": [
            "(1280, 1920, 3)\n",
            "1280\n"
          ],
          "name": "stdout"
        }
      ]
    },
    {
      "cell_type": "code",
      "metadata": {
        "id": "JGo2f9KhIKJ1",
        "colab_type": "code",
        "colab": {
          "base_uri": "https://localhost:8080/",
          "height": 269
        },
        "outputId": "083194bc-6b33-41cd-a236-ee7c2e5f7968"
      },
      "source": [
        "Num=100 # numero de cristais sinteticos\n",
        "im = np.array(Image.open('plain-white-background.jpg'), dtype=np.uint8)\n",
        "A=im.shape\n",
        "Nx=A[0]\n",
        "Ny=A[1]\n",
        "\n",
        "fig,ax = plt.subplots(1)\n",
        "plt.axis(\"off\")\n",
        "ax.imshow(im)\n",
        "\n",
        "for i in range(Num):\n",
        "  x1 = randrange(0, Nx)\n",
        "  x2 = randrange(0, int(Nx/5))\n",
        "  y1 = randrange(0, Ny)\n",
        "  y2 = randrange(0, int(Ny/5))                 \n",
        "  rect = patches.Rectangle((x1,y1),x2,y2,linewidth=1,edgecolor='black',facecolor='gray')\n",
        "  ax.add_patch(rect)\n",
        "\n",
        "\n",
        "plt.show()"
      ],
      "execution_count": 6,
      "outputs": [
        {
          "output_type": "display_data",
          "data": {
            "image/png": "[encoded data removed]",
            "text/plain": [
              "<Figure size 432x288 with 1 Axes>"
            ]
          },
          "metadata": {
            "tags": []
          }
        }
      ]
    },
    {
      "cell_type": "code",
      "metadata": {
        "id": "hSCWFVXHMGnE",
        "colab_type": "code",
        "colab": {
          "base_uri": "https://localhost:8080/",
          "height": 269
        },
        "outputId": "2247d119-1d10-45c0-80ec-77d8c1ef037d"
      },
      "source": [
        "Num=100 # numero de cristais sinteticos\n",
        "im = np.array(Image.open('plain-white-background.jpg'), dtype=np.uint8)\n",
        "A=im.shape\n",
        "Nx=A[0]\n",
        "Ny=A[1]\n",
        "\n",
        "fig,ax = plt.subplots(1)\n",
        "plt.axis(\"off\")\n",
        "ax.imshow(im)\n",
        "\n",
        "for i in range(Num):\n",
        "  x1 = randrange(0, Nx)\n",
        "  x2 = randrange(0, int(Nx/5))\n",
        "  frand = uniform(0.9, 1.1)\n",
        "  y1 = int(x1*frand)\n",
        "  y2 = randrange(0, int(Ny/5))                 \n",
        "  rect = patches.Rectangle((x1,y1),x2,y2,linewidth=1,edgecolor='black',facecolor='gray')\n",
        "  ax.add_patch(rect)\n",
        "\n",
        "\n",
        "plt.show()"
      ],
      "execution_count": 7,
      "outputs": [
        {
          "output_type": "display_data",
          "data": {
            "image/png": "[encoded data removed]",
            "text/plain": [
              "<Figure size 432x288 with 1 Axes>"
            ]
          },
          "metadata": {
            "tags": []
          }
        }
      ]
    },
    {
      "cell_type": "code",
      "metadata": {
        "id": "gN9wOxfBM5sM",
        "colab_type": "code",
        "colab": {
          "base_uri": "https://localhost:8080/",
          "height": 269
        },
        "outputId": "4ac7081e-4c45-4f18-8e01-e5e3ae9700f8"
      },
      "source": [
        "Num=300 # numero de cristais sinteticos\n",
        "im = np.array(Image.open('plain-white-background.jpg'), dtype=np.uint8)\n",
        "A=im.shape\n",
        "Nx=A[0]\n",
        "Ny=A[1]\n",
        "\n",
        "fig,ax = plt.subplots(1)\n",
        "plt.axis(\"off\")\n",
        "ax.imshow(im)\n",
        "\n",
        "for i in range(Num):\n",
        "  x1 = randrange(0, Nx)\n",
        "  x2 = randrange(0, int(Nx/5))\n",
        "  frand = uniform(0.8, 1.1)\n",
        "  y1 = randrange(0, Ny) \n",
        "  y2 = int(x2*frand)                \n",
        "  rect = patches.Rectangle((x1,y1),x2,y2,linewidth=1,edgecolor='black',facecolor='gray')\n",
        "  ax.add_patch(rect)\n",
        "\n",
        "\n",
        "plt.show()"
      ],
      "execution_count": 15,
      "outputs": [
        {
          "output_type": "display_data",
          "data": {
            "image/png": "[encoded data removed]",
            "text/plain": [
              "<Figure size 432x288 with 1 Axes>"
            ]
          },
          "metadata": {
            "tags": []
          }
        }
      ]
    }
  ]
}