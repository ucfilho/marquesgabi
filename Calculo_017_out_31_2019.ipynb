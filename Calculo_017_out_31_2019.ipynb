{
  "nbformat": 4,
  "nbformat_minor": 0,
  "metadata": {
    "colab": {
      "name": "Calculo_017_out_31_2019.ipynb",
      "provenance": [],
      "collapsed_sections": [],
      "include_colab_link": true
    },
    "kernelspec": {
      "name": "python3",
      "display_name": "Python 3"
    }
  },
  "cells": [
    {
      "cell_type": "markdown",
      "metadata": {
        "id": "view-in-github",
        "colab_type": "text"
      },
      "source": [
        "<a href=\"https://colab.research.google.com/github/ucfilho/marquesgabi/blob/master/Calculo_017_out_31_2019.ipynb\" target=\"_parent\"><img src=\"https://colab.research.google.com/assets/colab-badge.svg\" alt=\"Open In Colab\"/></a>"
      ]
    },
    {
      "cell_type": "code",
      "metadata": {
        "id": "9q3V2QrqnMBI",
        "colab_type": "code",
        "colab": {}
      },
      "source": [
        "# carrega as bibliotecas do python"
      ],
      "execution_count": 0,
      "outputs": []
    },
    {
      "cell_type": "code",
      "metadata": {
        "id": "szqvrsIInRDg",
        "colab_type": "code",
        "colab": {}
      },
      "source": [
        "%matplotlib inline\n",
        "from matplotlib import pyplot as plt\n",
        "import os \n",
        "import cv2\n",
        "import zipfile\n",
        "from skimage import data\n",
        "from skimage import filters\n",
        "from skimage import exposure\n",
        "import skimage.feature as sk\n",
        "import numpy as np\n",
        "import pandas as pd\n",
        "from google.colab import files\n",
        "from sklearn.metrics.cluster import entropy\n",
        "from sklearn.metrics.cluster import homogeneity_score\n"
      ],
      "execution_count": 0,
      "outputs": []
    },
    {
      "cell_type": "code",
      "metadata": {
        "id": "zsjb8DmRVtDy",
        "colab_type": "code",
        "outputId": "a836ca30-b116-4e3f-f5b7-5ef6405ee09e",
        "colab": {
          "base_uri": "https://localhost:8080/",
          "height": 223
        }
      },
      "source": [
        "!wget http://ftp.feq.ufu.br/ubirajara/Sugar_set_30_2019.zip\n",
        "#!ls -l trash_nov_22_2018.zip\n"
      ],
      "execution_count": 3,
      "outputs": [
        {
          "output_type": "stream",
          "text": [
            "--2019-10-31 03:15:26--  http://ftp.feq.ufu.br/ubirajara/Sugar_set_30_2019.zip\n",
            "Resolving ftp.feq.ufu.br (ftp.feq.ufu.br)... 200.19.144.11\n",
            "Connecting to ftp.feq.ufu.br (ftp.feq.ufu.br)|200.19.144.11|:80... connected.\n",
            "HTTP request sent, awaiting response... 200 OK\n",
            "Length: 19584173 (19M) [application/zip]\n",
            "Saving to: ‘Sugar_set_30_2019.zip.3’\n",
            "\n",
            "Sugar_set_30_2019.z 100%[===================>]  18.68M  5.42MB/s    in 3.4s    \n",
            "\n",
            "2019-10-31 03:15:30 (5.42 MB/s) - ‘Sugar_set_30_2019.zip.3’ saved [19584173/19584173]\n",
            "\n"
          ],
          "name": "stdout"
        }
      ]
    },
    {
      "cell_type": "code",
      "metadata": {
        "id": "ygswjsh1ptUl",
        "colab_type": "code",
        "colab": {}
      },
      "source": [
        "\n",
        "file_name = zipfile.ZipFile('Sugar_set_30_2019.zip', 'r')\n",
        "file_name.extractall() "
      ],
      "execution_count": 0,
      "outputs": []
    },
    {
      "cell_type": "code",
      "metadata": {
        "id": "Qq1UTVWMnU0n",
        "colab_type": "code",
        "colab": {}
      },
      "source": [
        "# all images are resized in variable x, are in gray in variable p and in variable w are dataframe\n",
        "FILE='Sugar_set_30_2019.zip'\n",
        "img_name=[]\n",
        "x=[]\n",
        "p=[]\n",
        "w=[]\n",
        "Size=5 # trocar por 64 qdo acabar a analise\n",
        "\n",
        "with zipfile.ZipFile(FILE, \"r\") as f:\n",
        "    for name in f.namelist():\n",
        "        img_name.append(name)\n",
        "        #x.append(cv2.imread(name))\n",
        "        x.append(cv2.resize(cv2.imread(name),(Size,Size)))\n",
        "\n",
        "nrow=len(img_name)\n",
        "ncol=Size*Size\n",
        "pp=np.zeros((nrow,ncol))\n",
        "for i in range(nrow):\n",
        "    w.append(cv2.cvtColor(np.array(x[i]), cv2.COLOR_BGR2GRAY))\n",
        "    pp[i,:]=w[i].ravel()"
      ],
      "execution_count": 0,
      "outputs": []
    },
    {
      "cell_type": "code",
      "metadata": {
        "id": "9XPFWhiq3tGW",
        "colab_type": "code",
        "colab": {}
      },
      "source": [
        "Nfotos=len(img_name)\n",
        "GLCM=np.zeros((Nfotos, 14))   \n",
        "Nrow=Size\n",
        "Ncol=Size\n",
        "#print(GLCM.shape)\n",
        "#Soma=np.sum(pp[k,:])\n",
        "\n",
        "G=Ncol-1\n",
        "\n",
        "\n",
        "  \n",
        "\n",
        "\n",
        "\n",
        "\n",
        "\n",
        "for k in range(Nfotos):\n",
        "  Pdif=[] \n",
        "  Psom=[]\n",
        "  p=pp[k,:].reshape(Size,Size)\n",
        "  Soma=0\n",
        "  for i in range(Size):\n",
        "    for j in range(Size):\n",
        "      Soma=Soma+p[i,j]\n",
        "   \n",
        "  for i in range(Size):\n",
        "    for j in range(Size):\n",
        "      p[i,j]=p[i,j]/Soma\n",
        "\n",
        "  for kr in range(2*G+1):\n",
        "    Soma_soma=0\n",
        "    for i in range(Nrow):\n",
        "      for j in range(Ncol):\n",
        "        if((i+j)==kr):\n",
        "          Soma_soma=Soma_soma+p[i,j]\n",
        "    Psom.append(Soma_soma)\n",
        "\n",
        "  for kr in range(G+1):\n",
        "    Soma_dif=0\n",
        "    for i in range(Nrow):\n",
        "      for j in range(Ncol):\n",
        "        if((abs(i-j))==kr):\n",
        "          Soma_dif=Soma_dif+p[i,j]\n",
        "    Pdif.append(Soma_dif)\n",
        "\n",
        "\n",
        "  for i in range(Nrow):\n",
        "    for j in range(Ncol):\n",
        "      #print(\"i=%d j=%d k=%d\"%(i,j,k))\n",
        "      GLCM[k,0]=GLCM[k,0]+p[i,j]**2 #segundo momento angular\n",
        "      GLCM[k,1]=GLCM[k,1]+(i-j)**2*p[i,j] #contraste\n",
        "\n",
        "\n",
        "      MIx=0;MIy=0\n",
        "      for ii in range(Nrow):\n",
        "        for jj in range(Ncol):\n",
        "          MIy=MIy+jj*p[ii,jj]\n",
        "          MIx=MIx+ii*p[ii,jj]\n",
        "      Sx2=0;Sy2=0;\n",
        "      for ii in range(Nrow):\n",
        "        for jj in range(Ncol):\n",
        "          Sx2=Sx2+(ii-MIx)**2*p[ii,jj]\n",
        "          Sy2=Sy2+(jj-MIy)**2*p[ii,jj]\n",
        "      Sx=Sx2**0.5\n",
        "      Sy=Sy2**0.5\n",
        "\n",
        "\n",
        "      GLCM[k,2]=GLCM[k,2]+((i*j)*p[i,j]-MIx*MIy)/(Sx*Sy) #Correlacao\n",
        "      # CONFERIR CORRELACAO EM OUTROS\n",
        "\n",
        "      GLCM[k,3]=GLCM[k,3]+(i-np.mean(p))**2*p[i,j] #Variancia\n",
        "\n",
        "      GLCM[k,4]=GLCM[k,4]+(1/(1+(i-j)**2))*p[i,j]#INVERSA DIF MOMENTO\n",
        "      \n",
        "      f8=0\n",
        "      \n",
        "      for kr in range(len(Psom)):\n",
        "        GLCM[k,5]=GLCM[k,5]+kr*Psom[kr] # conferir !!!!! ok???\n",
        "        f8=f8-Psom[kr]*np.log(Psom[kr])\n",
        "\n",
        "      for kr in range(len(Psom)):\n",
        "        GLCM[k,6]=GLCM[k,6]+(kr-f8)**2*Psom[kr] # sum of variance\n",
        "\n",
        "      GLCM[k,7]=f8  # sum entropy\n",
        "      GLCM[k,8]=GLCM[k,8]-p[i,j]*np.log(p[i,j]) # entropia\n",
        "\n",
        "      for kr in range(len(Pdif)):\n",
        "        GLCM[k,9]=GLCM[k,9]+(kr)**2*Pdif[kr] # variance difference\n",
        "        GLCM[k,10]=GLCM[k,10]-Pdif[kr]*np.log(Pdif[kr]) # difference entropy\n"
      ],
      "execution_count": 0,
      "outputs": []
    },
    {
      "cell_type": "code",
      "metadata": {
        "id": "VJG8c7cmrR3y",
        "colab_type": "code",
        "colab": {}
      },
      "source": [
        "# ver os conceitos GLCM aqui tambem\n",
        "# http://haralick.org/journals/TexturalFeatures.pdf"
      ],
      "execution_count": 0,
      "outputs": []
    },
    {
      "cell_type": "code",
      "metadata": {
        "id": "bWRUesbYqQ2v",
        "colab_type": "code",
        "outputId": "45d3ba14-8eed-456b-a272-2d5477cb536b",
        "colab": {
          "base_uri": "https://localhost:8080/",
          "height": 969
        }
      },
      "source": [
        "pd.set_option('display.max_columns', 30)\n",
        "print(pd.DataFrame(GLCM))"
      ],
      "execution_count": 8,
      "outputs": [
        {
          "output_type": "stream",
          "text": [
            "           0         1          2         3         4           5           6  \\\n",
            "0   0.040159  4.006764 -48.388893  5.873156  0.423837  100.489498  194.240670   \n",
            "1   0.041540  4.282528 -47.724904  5.762803  0.411868  100.591416  192.850445   \n",
            "2   0.040287  4.030399 -49.193342  5.979967  0.424910  101.042771  195.669329   \n",
            "3   0.040175  4.015663 -48.607804  6.027608  0.435603  101.157327  197.985601   \n",
            "4   0.040313  4.043838 -47.746904  5.656749  0.422210   99.676608  190.426187   \n",
            "5   0.040234  4.056964 -49.752577  5.948915  0.431240  102.170893  201.154237   \n",
            "6   0.040177  3.895373 -49.375098  5.944445  0.435292  101.182666  197.869755   \n",
            "7   0.040276  3.931919 -51.702480  6.036687  0.428104  103.019158  203.469908   \n",
            "8   0.040229  3.993338 -49.941784  6.066993  0.427480  102.101840  200.906815   \n",
            "9   0.040272  3.979461 -49.007498  5.888981  0.430643  101.235558  197.961370   \n",
            "10  0.040134  3.934069 -48.671268  5.729726  0.432728  100.181388  192.771285   \n",
            "11  0.041463  3.928237 -48.569188  5.890711  0.447866  100.343214  194.362928   \n",
            "12  0.040367  4.035181 -49.472654  5.853991  0.426656  101.548879  197.911771   \n",
            "13  0.040158  3.968848 -49.843685  5.912714  0.429517  101.109188  195.157974   \n",
            "14  0.040253  4.044039 -50.763577  5.959033  0.422164  102.815351  202.792149   \n",
            "15  0.040186  4.023711 -49.898148  5.956926  0.428484  101.761168  198.477077   \n",
            "16  0.040090  4.097282 -49.108733  5.946493  0.422124  101.341202  196.636789   \n",
            "17  0.040080  4.012748 -48.622208  6.011883  0.427612  101.097734  197.497989   \n",
            "18  0.040168  3.938882 -48.567679  5.859662  0.433305  100.552666  195.270540   \n",
            "19  0.040256  3.993746 -49.612653  6.041455  0.428717  102.032587  201.250465   \n",
            "20  0.041017  3.807823 -48.158425  5.624193  0.444352   98.845088  187.708072   \n",
            "21  0.040295  3.873777 -49.870148  5.934538  0.430973  101.214894  197.266951   \n",
            "22  0.040133  4.009592 -48.905516  5.925221  0.421378  100.704436  194.228394   \n",
            "23  0.040141  3.981876 -47.131547  5.783934  0.428346   99.626391  192.562316   \n",
            "\n",
            "           7         8           9         10   11   12   13  \n",
            "0   2.080038  3.216867  100.169099  38.044950  0.0  0.0  0.0  \n",
            "1   2.064334  3.203164  107.063197  38.443785  0.0  0.0  0.0  \n",
            "2   2.071191  3.215219  100.759986  38.140968  0.0  0.0  0.0  \n",
            "3   2.083742  3.216685  100.391577  38.273419  0.0  0.0  0.0  \n",
            "4   2.073301  3.214975  101.095940  38.073945  0.0  0.0  0.0  \n",
            "5   2.075870  3.215969  101.424106  38.275388  0.0  0.0  0.0  \n",
            "6   2.085067  3.216637   97.384323  37.886053  0.0  0.0  0.0  \n",
            "7   2.074155  3.215371   98.297982  37.893496  0.0  0.0  0.0  \n",
            "8   2.081093  3.216015   99.833439  38.027139  0.0  0.0  0.0  \n",
            "9   2.082958  3.215601   99.486521  38.106512  0.0  0.0  0.0  \n",
            "10  2.077204  3.217205   98.351735  38.006863  0.0  0.0  0.0  \n",
            "11  2.078754  3.203624   98.205928  38.296071  0.0  0.0  0.0  \n",
            "12  2.076718  3.214418  100.879514  38.149323  0.0  0.0  0.0  \n",
            "13  2.070200  3.216909   99.221208  38.052566  0.0  0.0  0.0  \n",
            "14  2.074030  3.215724  101.100975  38.110857  0.0  0.0  0.0  \n",
            "15  2.072495  3.216545  100.592784  38.136709  0.0  0.0  0.0  \n",
            "16  2.071620  3.217750  102.432046  38.238770  0.0  0.0  0.0  \n",
            "17  2.084077  3.217872  100.318697  38.117519  0.0  0.0  0.0  \n",
            "18  2.083887  3.216786   98.472042  38.002399  0.0  0.0  0.0  \n",
            "19  2.085007  3.215717   99.843647  38.118111  0.0  0.0  0.0  \n",
            "20  2.076241  3.207716   95.195565  37.900415  0.0  0.0  0.0  \n",
            "21  2.079680  3.215196   96.844430  37.681287  0.0  0.0  0.0  \n",
            "22  2.075156  3.217210  100.239808  37.941441  0.0  0.0  0.0  \n",
            "23  2.087686  3.217122   99.546900  38.049418  0.0  0.0  0.0  \n"
          ],
          "name": "stdout"
        }
      ]
    },
    {
      "cell_type": "code",
      "metadata": {
        "id": "4SByB4bq4wO9",
        "colab_type": "code",
        "outputId": "01750861-6f29-4db6-a99e-ba0f2472837f",
        "colab": {
          "base_uri": "https://localhost:8080/",
          "height": 260
        }
      },
      "source": [
        "GLCM=pd.DataFrame(GLCM)\n",
        "pd.set_option('display.max_columns', 30)\n",
        "print(GLCM.head(5))"
      ],
      "execution_count": 9,
      "outputs": [
        {
          "output_type": "stream",
          "text": [
            "          0         1          2         3         4           5           6  \\\n",
            "0  0.040159  4.006764 -48.388893  5.873156  0.423837  100.489498  194.240670   \n",
            "1  0.041540  4.282528 -47.724904  5.762803  0.411868  100.591416  192.850445   \n",
            "2  0.040287  4.030399 -49.193342  5.979967  0.424910  101.042771  195.669329   \n",
            "3  0.040175  4.015663 -48.607804  6.027608  0.435603  101.157327  197.985601   \n",
            "4  0.040313  4.043838 -47.746904  5.656749  0.422210   99.676608  190.426187   \n",
            "\n",
            "          7         8           9         10   11   12   13  \n",
            "0  2.080038  3.216867  100.169099  38.044950  0.0  0.0  0.0  \n",
            "1  2.064334  3.203164  107.063197  38.443785  0.0  0.0  0.0  \n",
            "2  2.071191  3.215219  100.759986  38.140968  0.0  0.0  0.0  \n",
            "3  2.083742  3.216685  100.391577  38.273419  0.0  0.0  0.0  \n",
            "4  2.073301  3.214975  101.095940  38.073945  0.0  0.0  0.0  \n"
          ],
          "name": "stdout"
        }
      ]
    },
    {
      "cell_type": "code",
      "metadata": {
        "id": "DVBIw8hpxRC3",
        "colab_type": "code",
        "outputId": "6b15408b-ac10-45bf-89e4-41fce62794ca",
        "colab": {
          "base_uri": "https://localhost:8080/",
          "height": 92
        }
      },
      "source": [
        "import numpy as np\n",
        "#from skimage.feature import haar_like_feature_coord\n",
        "#from skimage.feature import draw_haar_like_feature\n",
        "from skimage.feature import greycomatrix\n",
        "from skimage.feature import greycoprops\n",
        "#import skimage.feature.greycoprops as greycoprops\n",
        "image = np.array([[0, 0, 1, 1],[0, 0, 1, 1],[0, 2, 2, 2],[2, 2, 3, 3]], dtype=np.uint8)\n",
        "g = greycomatrix(image, [1, 2], [0, np.pi/2], levels=6,normed=True, symmetric=True)\n",
        "contrast = greycoprops(g, 'contrast')\n",
        "correlation= greycoprops(g, 'correlation')\n",
        "print(contrast)\n",
        "print(correlation)"
      ],
      "execution_count": 10,
      "outputs": [
        {
          "output_type": "stream",
          "text": [
            "[[0.58333333 1.        ]\n",
            " [1.25       2.75      ]]\n",
            "[[ 0.71953255  0.48571429]\n",
            " [ 0.41176471 -0.29411765]]\n"
          ],
          "name": "stdout"
        }
      ]
    }
  ]
}