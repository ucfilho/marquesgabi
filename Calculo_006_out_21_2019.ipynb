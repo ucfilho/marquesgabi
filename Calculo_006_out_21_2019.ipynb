{
  "nbformat": 4,
  "nbformat_minor": 0,
  "metadata": {
    "colab": {
      "name": "Calculo_006_out_21_2019.ipynb",
      "provenance": [],
      "collapsed_sections": [],
      "include_colab_link": true
    },
    "kernelspec": {
      "name": "python3",
      "display_name": "Python 3"
    }
  },
  "cells": [
    {
      "cell_type": "markdown",
      "metadata": {
        "id": "view-in-github",
        "colab_type": "text"
      },
      "source": [
        "<a href=\"https://colab.research.google.com/github/ucfilho/marquesgabi/blob/master/Calculo_006_out_21_2019.ipynb\" target=\"_parent\"><img src=\"https://colab.research.google.com/assets/colab-badge.svg\" alt=\"Open In Colab\"/></a>"
      ]
    },
    {
      "cell_type": "code",
      "metadata": {
        "id": "9q3V2QrqnMBI",
        "colab_type": "code",
        "colab": {}
      },
      "source": [
        "# carrega as bibliotecas do python"
      ],
      "execution_count": 0,
      "outputs": []
    },
    {
      "cell_type": "code",
      "metadata": {
        "id": "szqvrsIInRDg",
        "colab_type": "code",
        "colab": {}
      },
      "source": [
        "%matplotlib inline\n",
        "from matplotlib import pyplot as plt\n",
        "import os \n",
        "import cv2\n",
        "import zipfile\n",
        "from skimage import data\n",
        "from skimage import filters\n",
        "from skimage import exposure\n",
        "import numpy as np\n",
        "import pandas as pd\n",
        "from google.colab import files"
      ],
      "execution_count": 0,
      "outputs": []
    },
    {
      "cell_type": "code",
      "metadata": {
        "id": "zsjb8DmRVtDy",
        "colab_type": "code",
        "outputId": "728ed14b-b08d-45b8-a562-03dfe1e48ac3",
        "colab": {
          "base_uri": "https://localhost:8080/",
          "height": 223
        }
      },
      "source": [
        "!wget http://ftp.feq.ufu.br/ubirajara/Sugar_set_30_2019.zip\n",
        "#!ls -l trash_nov_22_2018.zip\n"
      ],
      "execution_count": 3,
      "outputs": [
        {
          "output_type": "stream",
          "text": [
            "--2019-10-21 14:23:57--  http://ftp.feq.ufu.br/ubirajara/Sugar_set_30_2019.zip\n",
            "Resolving ftp.feq.ufu.br (ftp.feq.ufu.br)... 200.19.144.11\n",
            "Connecting to ftp.feq.ufu.br (ftp.feq.ufu.br)|200.19.144.11|:80... connected.\n",
            "HTTP request sent, awaiting response... 200 OK\n",
            "Length: 19584173 (19M) [application/zip]\n",
            "Saving to: ‘Sugar_set_30_2019.zip’\n",
            "\n",
            "Sugar_set_30_2019.z 100%[===================>]  18.68M  5.43MB/s    in 3.4s    \n",
            "\n",
            "2019-10-21 14:24:01 (5.43 MB/s) - ‘Sugar_set_30_2019.zip’ saved [19584173/19584173]\n",
            "\n"
          ],
          "name": "stdout"
        }
      ]
    },
    {
      "cell_type": "code",
      "metadata": {
        "id": "ygswjsh1ptUl",
        "colab_type": "code",
        "colab": {}
      },
      "source": [
        "\n",
        "file_name = zipfile.ZipFile('Sugar_set_30_2019.zip', 'r')\n",
        "file_name.extractall() "
      ],
      "execution_count": 0,
      "outputs": []
    },
    {
      "cell_type": "code",
      "metadata": {
        "id": "Qq1UTVWMnU0n",
        "colab_type": "code",
        "colab": {}
      },
      "source": [
        "# all images are load in variable x...\n",
        "FILE='Sugar_set_30_2019.zip'\n",
        "img_name=[]\n",
        "x=[]\n",
        "p=[]\n",
        "w=[]\n",
        "\n",
        "\n",
        "with zipfile.ZipFile(FILE, \"r\") as f:\n",
        "    for name in f.namelist():\n",
        "        img_name.append(name)\n",
        "        #x.append(cv2.imread(name))\n",
        "        x.append(cv2.resize(cv2.imread(name),(64,64)))\n",
        "        p.append(cv2.cvtColor(cv2.imread(name), cv2.COLOR_RGB2GRAY))\n",
        "\n",
        "Num=len(img_name)\n",
        "\n",
        "for i in range(Num):\n",
        "    w.append(cv2.cvtColor(np.array(x[i]), cv2.COLOR_BGR2GRAY))\n"
      ],
      "execution_count": 0,
      "outputs": []
    },
    {
      "cell_type": "code",
      "metadata": {
        "id": "y_z3gpiinuP2",
        "colab_type": "code",
        "colab": {}
      },
      "source": [
        "#img=plt.imread(img_name[2])\n",
        "#plt.axis(\"off\")\n",
        "#plt.imshow(x[2])"
      ],
      "execution_count": 0,
      "outputs": []
    },
    {
      "cell_type": "code",
      "metadata": {
        "id": "eh8FK7Nqvm1v",
        "colab_type": "code",
        "colab": {}
      },
      "source": [
        "#img=plt.imread(img_name[2])\n",
        "#plt.axis(\"off\")\n",
        "#plt.imshow(p[2], cmap = \"gray\")"
      ],
      "execution_count": 0,
      "outputs": []
    },
    {
      "cell_type": "code",
      "metadata": {
        "id": "eC0IvMs8yVC3",
        "colab_type": "code",
        "colab": {}
      },
      "source": [
        "#plt.axis(\"off\")\n",
        "#plt.imshow(w[2], cmap = \"gray\")"
      ],
      "execution_count": 0,
      "outputs": []
    },
    {
      "cell_type": "code",
      "metadata": {
        "id": "uuBE_d5teyw_",
        "colab_type": "code",
        "colab": {
          "base_uri": "https://localhost:8080/",
          "height": 36
        },
        "outputId": "22981744-b02e-497f-e066-f7c8c673ad0e"
      },
      "source": [
        "Soma=0\n",
        "A=np.array(p[0])\n",
        "print(sum(A))\n"
      ],
      "execution_count": 28,
      "outputs": [
        {
          "output_type": "stream",
          "text": [
            "[232 137  94 ... 171 100  31]\n"
          ],
          "name": "stdout"
        }
      ]
    },
    {
      "cell_type": "code",
      "metadata": {
        "id": "InCNyDEPfRaa",
        "colab_type": "code",
        "colab": {
          "base_uri": "https://localhost:8080/",
          "height": 55
        },
        "outputId": "6122d29b-a13a-448a-ca02-8181660c9e25"
      },
      "source": [
        "M=np.array([[2,3],[3,2]])\n",
        "Soma=0\n",
        "for i in range(2):\n",
        "  for j in range(2):\n",
        "    Soma=Soma+M[i,j]\n",
        "print(Soma)\n",
        "\n",
        "print(np.sum(M)) # correto os dois"
      ],
      "execution_count": 27,
      "outputs": [
        {
          "output_type": "stream",
          "text": [
            "10\n",
            "10\n"
          ],
          "name": "stdout"
        }
      ]
    },
    {
      "cell_type": "code",
      "metadata": {
        "id": "6cMFyrV3mR0N",
        "colab_type": "code",
        "colab": {
          "base_uri": "https://localhost:8080/",
          "height": 55
        },
        "outputId": "bb412f3c-f6f6-4b9b-fc20-fa2437687d44"
      },
      "source": [
        "Soma=0\n",
        "for i in range(64):\n",
        "  for j in range(64):\n",
        "    Soma=Soma+p[0][i,j]\n",
        "print(Soma)\n",
        "\n",
        "print(np.sum(p[0])) # correto os dois"
      ],
      "execution_count": 31,
      "outputs": [
        {
          "output_type": "stream",
          "text": [
            "379131\n",
            "330592540\n"
          ],
          "name": "stdout"
        }
      ]
    },
    {
      "cell_type": "code",
      "metadata": {
        "id": "t6iebAWIgX6I",
        "colab_type": "code",
        "colab": {
          "base_uri": "https://localhost:8080/",
          "height": 36
        },
        "outputId": "5d9b1622-19bc-47f8-c5bc-01f3acff0a13"
      },
      "source": [
        "print(np.sum(p[0][:,0])) # errado "
      ],
      "execution_count": 25,
      "outputs": [
        {
          "output_type": "stream",
          "text": [
            "183272\n"
          ],
          "name": "stdout"
        }
      ]
    },
    {
      "cell_type": "code",
      "metadata": {
        "id": "pmV6tdMigLao",
        "colab_type": "code",
        "colab": {
          "base_uri": "https://localhost:8080/",
          "height": 56
        },
        "outputId": "dd3e2e67-c7d8-44e1-805c-ac8e75f4464b"
      },
      "source": [
        "Num=len(img_name)\n",
        "MP=[]\n",
        "for k in range(Num):\n",
        "  Soma=0\n",
        "  for i in range(64):\n",
        "    for j in range(64):\n",
        "      Soma=Soma+p[k][i,j]\n",
        "  MP.append(Soma)\n",
        "print(MP)"
      ],
      "execution_count": 29,
      "outputs": [
        {
          "output_type": "stream",
          "text": [
            "[379131, 401229, 399430, 386293, 382921, 385930, 403846, 386138, 418977, 427227, 467134, 414421, 426800, 435215, 449231, 408467, 399262, 401986, 433264, 423563, 437965, 466633, 441547, 465707]\n"
          ],
          "name": "stdout"
        }
      ]
    },
    {
      "cell_type": "code",
      "metadata": {
        "id": "cNy09rYWoCMF",
        "colab_type": "code",
        "colab": {}
      },
      "source": [
        ""
      ],
      "execution_count": 0,
      "outputs": []
    },
    {
      "cell_type": "code",
      "metadata": {
        "id": "HQ-nNY4c0ImC",
        "colab_type": "code",
        "outputId": "984fdc60-659f-4b59-dffb-d094cdfad838",
        "colab": {
          "base_uri": "https://localhost:8080/",
          "height": 36
        }
      },
      "source": [
        "Nrow=64\n",
        "Ncol=64\n",
        "Entropia=0 # estamos calculando da primeira foto\n",
        "for i in range(Nrow):\n",
        "  for j in range(Ncol):\n",
        "    Entropia=Entropia-p[0][i,j]*np.log(p[0][i,j])\n",
        "print(\"Entropia=\",Entropia)\n"
      ],
      "execution_count": 10,
      "outputs": [
        {
          "output_type": "stream",
          "text": [
            "Entropia= -1718510.75\n"
          ],
          "name": "stdout"
        }
      ]
    },
    {
      "cell_type": "code",
      "metadata": {
        "id": "qCae0Ft32stE",
        "colab_type": "code",
        "colab": {}
      },
      "source": [
        ""
      ],
      "execution_count": 0,
      "outputs": []
    },
    {
      "cell_type": "code",
      "metadata": {
        "id": "dgCx4Jn43XnM",
        "colab_type": "code",
        "outputId": "10a28f55-f879-4b40-9b49-16b582bc8fb0",
        "colab": {
          "base_uri": "https://localhost:8080/",
          "height": 75
        }
      },
      "source": [
        "print(img_name)\n",
        "Nfotos=len(img_name)\n",
        "print(Nfotos)"
      ],
      "execution_count": 11,
      "outputs": [
        {
          "output_type": "stream",
          "text": [
            "['IMG_16_0634.jpg', 'IMG_16_0639.jpg', 'IMG_16_0640.jpg', 'IMG_18_0655.jpg', 'IMG_18_0656.jpg', 'IMG_18_0658.jpg', 'IMG_20_0680.jpg', 'IMG_20_0681.jpg', 'IMG_20_0688.jpg', 'IMG_25_0703.jpg', 'IMG_25_0706.jpg', 'IMG_25_0710.jpg', 'IMG_30_0732.jpg', 'IMG_30_0735.jpg', 'IMG_30_0737.jpg', 'IMG_35_0751.jpg', 'IMG_35_0757.jpg', 'IMG_35_0760.jpg', 'IMG_40_0776.jpg', 'IMG_40_0777.jpg', 'IMG_40_0780.jpg', 'IMG_70_0816.jpg', 'IMG_70_0818.jpg', 'IMG_70_0821.jpg']\n",
            "24\n"
          ],
          "name": "stdout"
        }
      ]
    },
    {
      "cell_type": "code",
      "metadata": {
        "id": "9XPFWhiq3tGW",
        "colab_type": "code",
        "colab": {}
      },
      "source": [
        "Nfotos=len(img_name)\n",
        "GLCM=np.zeros((Nfotos, 13))   # lembrar do ANN_Hydrofoil_Neuronio_set_17_2018.ipynb\n",
        "Nrow=64\n",
        "Ncol=64\n",
        "n=64\n",
        "for k in range(Nfotos):\n",
        "  Nrow=np.copy(len(w[k][0,:]))\n",
        "  Ncol=np.copy(len(w[k][:,0]))\n",
        "  for i in range(Nrow):\n",
        "    for j in range(Ncol):\n",
        "      GLCM[k,7]=GLCM[k,7]-w[k][i,j]*np.log(w[k][i,j]) # entropia\n",
        "      GLCM[k,0]=GLCM[k,0]+w[k][i,j]**2 #segundo momento angular\n",
        "      GLCM[k,1]=GLCM[k,1]+(i-j)**2*w[k][i,j] #contraste\n",
        "      GLCM[k,3]=GLCM[k,3]+(i-np.mean(w[0]))**2*w[k][i,j] #Variancia\n",
        "\n"
      ],
      "execution_count": 0,
      "outputs": []
    },
    {
      "cell_type": "code",
      "metadata": {
        "id": "4SByB4bq4wO9",
        "colab_type": "code",
        "outputId": "12546f72-9173-4d05-ffd9-879667b7333a",
        "colab": {
          "base_uri": "https://localhost:8080/",
          "height": 260
        }
      },
      "source": [
        "GLCM=pd.DataFrame(GLCM)\n",
        "pd.set_option('display.max_columns', 30)\n",
        "print(GLCM.head(5))"
      ],
      "execution_count": 13,
      "outputs": [
        {
          "output_type": "stream",
          "text": [
            "           0            1    2             3    4    5    6            7   \\\n",
            "0  54484823.0  318468978.0  0.0  3.373193e+09  0.0  0.0  0.0 -2226516.000   \n",
            "1  54769626.0  318949216.0  0.0  3.383962e+09  0.0  0.0  0.0 -2233982.750   \n",
            "2  54438840.0  318645769.0  0.0  3.371528e+09  0.0  0.0  0.0 -2225965.000   \n",
            "3  55163756.0  320683053.0  0.0  3.388901e+09  0.0  0.0  0.0 -2244433.750   \n",
            "4  49194613.0  303734074.0  0.0  3.244090e+09  0.0  0.0  0.0 -2092762.375   \n",
            "\n",
            "    8    9    10   11   12  \n",
            "0  0.0  0.0  0.0  0.0  0.0  \n",
            "1  0.0  0.0  0.0  0.0  0.0  \n",
            "2  0.0  0.0  0.0  0.0  0.0  \n",
            "3  0.0  0.0  0.0  0.0  0.0  \n",
            "4  0.0  0.0  0.0  0.0  0.0  \n"
          ],
          "name": "stdout"
        }
      ]
    },
    {
      "cell_type": "code",
      "metadata": {
        "id": "gQrpoGmM_eng",
        "colab_type": "code",
        "outputId": "9f2708cf-17b8-4b38-b455-f87e24dd46e4",
        "colab": {
          "base_uri": "https://localhost:8080/",
          "height": 36
        }
      },
      "source": [
        "print(np.mean(w[0]))"
      ],
      "execution_count": 14,
      "outputs": [
        {
          "output_type": "stream",
          "text": [
            "114.515869140625\n"
          ],
          "name": "stdout"
        }
      ]
    }
  ]
}