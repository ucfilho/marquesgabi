{
  "nbformat": 4,
  "nbformat_minor": 0,
  "metadata": {
    "colab": {
      "name": "Cristais_Virtuais_distribui_jun_28_2019.ipynb",
      "version": "0.3.2",
      "provenance": [],
      "collapsed_sections": [],
      "include_colab_link": true
    },
    "kernelspec": {
      "name": "python3",
      "display_name": "Python 3"
    }
  },
  "cells": [
    {
      "cell_type": "markdown",
      "metadata": {
        "id": "view-in-github",
        "colab_type": "text"
      },
      "source": [
        "<a href=\"https://colab.research.google.com/github/ucfilho/marquesgabi/blob/master/Cristais_Virtuais_distribui_jun_28_2019.ipynb\" target=\"_parent\"><img src=\"https://colab.research.google.com/assets/colab-badge.svg\" alt=\"Open In Colab\"/></a>"
      ]
    },
    {
      "cell_type": "code",
      "metadata": {
        "id": "7xeWqX7ABjwO",
        "colab_type": "code",
        "colab": {}
      },
      "source": [
        "\n",
        "import matplotlib.pyplot as plt\n",
        "import matplotlib.patches as patches\n",
        "from PIL import Image\n",
        "from random import randrange, uniform\n",
        "import numpy as np\n",
        "import pandas as pd\n"
      ],
      "execution_count": 0,
      "outputs": []
    },
    {
      "cell_type": "code",
      "metadata": {
        "id": "PQK97uWhE-pc",
        "colab_type": "code",
        "outputId": "0afda4e1-bbd6-4b67-cb7f-c36b176468db",
        "colab": {
          "base_uri": "https://localhost:8080/",
          "height": 54
        }
      },
      "source": [
        "# clona o diretorio github ucfilho/ANN no colaboratory research\n",
        "!git clone https://github.com/ucfilho/marquesgabi\n",
        "%cd marquesgabi"
      ],
      "execution_count": 2,
      "outputs": [
        {
          "output_type": "stream",
          "text": [
            "fatal: destination path 'marquesgabi' already exists and is not an empty directory.\n",
            "/content/marquesgabi\n"
          ],
          "name": "stdout"
        }
      ]
    },
    {
      "cell_type": "code",
      "metadata": {
        "id": "qwuNuXeWF2o8",
        "colab_type": "code",
        "outputId": "753f435f-f210-4d1b-aa40-dc31c8573430",
        "colab": {
          "base_uri": "https://localhost:8080/",
          "height": 182
        }
      },
      "source": [
        "!ls"
      ],
      "execution_count": 3,
      "outputs": [
        {
          "output_type": "stream",
          "text": [
            "Analise_ajuste_modelos_jun_16_2019.ipynb  Sugar_05_abril_25_2019.ipynb\n",
            "Cristais_Virtuais_jun_23_2019.ipynb\t  Sugar_06_maio_02_2019.ipynb\n",
            "plain-white-background.jpg\t\t  Sugar_07_maio_02_2019.ipynb\n",
            "README.md\t\t\t\t  Sugar_08_maio_06_2019.ipynb\n",
            "Regressao_Linear_jun_14_2019.ipynb\t  Sugar_09_maio_06_2019.ipynb\n",
            "Sugar_01_abril_25_2019.ipynb\t\t  Sugar_10_maio_24_2019.ipynb\n",
            "Sugar_02_abril_25_2019.ipynb\t\t  Sugar_11_maio_24_2019.ipynb\n",
            "Sugar_03_abril_25_2019.ipynb\t\t  Sugar_12_jun_04_2019.ipynb\n",
            "Sugar_04_abril_25_2019.ipynb\t\t  Sugar_13_jun_06_2019.ipynb\n"
          ],
          "name": "stdout"
        }
      ]
    },
    {
      "cell_type": "code",
      "metadata": {
        "id": "JGo2f9KhIKJ1",
        "colab_type": "code",
        "outputId": "57a61ec7-d69a-4138-c8ec-2d395c082c93",
        "colab": {
          "base_uri": "https://localhost:8080/",
          "height": 269
        }
      },
      "source": [
        "Num=100 # numero de cristais sinteticos\n",
        "im = np.array(Image.open('plain-white-background.jpg'), dtype=np.uint8)\n",
        "A=im.shape\n",
        "Nx=A[0]\n",
        "Ny=A[1]\n",
        "\n",
        "fig,ax = plt.subplots(1)\n",
        "plt.axis(\"off\")\n",
        "ax.imshow(im)\n",
        "\n",
        "for i in range(Num):\n",
        "  x1 = randrange(0, Nx)\n",
        "  x2 = randrange(0, int(Nx/5))\n",
        "  y1 = randrange(0, Ny)\n",
        "  y2 = randrange(0, int(Ny/5))                 \n",
        "  rect = patches.Rectangle((x1,y1),x2,y2,linewidth=1,edgecolor='black',facecolor='gray')\n",
        "  ax.add_patch(rect)\n",
        "\n",
        "\n",
        "plt.show()"
      ],
      "execution_count": 4,
      "outputs": [
        {
          "output_type": "display_data",
          "data": {
            "image/png": "[encoded data removed]",
            "text/plain": [
              "<Figure size 432x288 with 1 Axes>"
            ]
          },
          "metadata": {
            "tags": []
          }
        }
      ]
    },
    {
      "cell_type": "code",
      "metadata": {
        "id": "hSCWFVXHMGnE",
        "colab_type": "code",
        "outputId": "8d7c8cfa-5bce-4bcd-8551-2e97ec98c0da",
        "colab": {
          "base_uri": "https://localhost:8080/",
          "height": 269
        }
      },
      "source": [
        "Num=100 # numero de cristais sinteticos\n",
        "im = np.array(Image.open('plain-white-background.jpg'), dtype=np.uint8)\n",
        "A=im.shape\n",
        "Nx=A[0]\n",
        "Ny=A[1]\n",
        "\n",
        "fig,ax = plt.subplots(1)\n",
        "plt.axis(\"off\")\n",
        "ax.imshow(im)\n",
        "\n",
        "for i in range(Num):\n",
        "  x1 = randrange(0, Nx)\n",
        "  x2 = randrange(0, int(Nx/5))\n",
        "  frand = uniform(0.9, 1.1)\n",
        "  y1 = int(x1*frand)\n",
        "  y2 = randrange(0, int(Ny/5))                 \n",
        "  rect = patches.Rectangle((x1,y1),x2,y2,linewidth=1,edgecolor='black',facecolor='gray')\n",
        "  ax.add_patch(rect)\n",
        "\n",
        "\n",
        "plt.show()"
      ],
      "execution_count": 5,
      "outputs": [
        {
          "output_type": "display_data",
          "data": {
            "image/png": "[encoded data removed]",
            "text/plain": [
              "<Figure size 432x288 with 1 Axes>"
            ]
          },
          "metadata": {
            "tags": []
          }
        }
      ]
    },
    {
      "cell_type": "code",
      "metadata": {
        "id": "gN9wOxfBM5sM",
        "colab_type": "code",
        "outputId": "d91f97f7-f81b-4e19-efb7-aeafe3f23633",
        "colab": {
          "base_uri": "https://localhost:8080/",
          "height": 269
        }
      },
      "source": [
        "Num=300 # numero de cristais sinteticos\n",
        "im = np.array(Image.open('plain-white-background.jpg'), dtype=np.uint8)\n",
        "A=im.shape\n",
        "Nx=A[0]\n",
        "Ny=A[1]\n",
        "\n",
        "fig,ax = plt.subplots(1)\n",
        "plt.axis(\"off\")\n",
        "ax.imshow(im)\n",
        "\n",
        "for i in range(Num):\n",
        "  x1 = randrange(0, Nx)\n",
        "  x2 = randrange(0, int(Nx/5))\n",
        "  frand = uniform(0.8, 1.1)\n",
        "  y1 = randrange(0, Ny) \n",
        "  y2 = int(x2*frand)                \n",
        "  rect = patches.Rectangle((x1,y1),x2,y2,linewidth=1,edgecolor='black',facecolor='gray')\n",
        "  ax.add_patch(rect)\n",
        "\n",
        "\n",
        "plt.show()"
      ],
      "execution_count": 6,
      "outputs": [
        {
          "output_type": "display_data",
          "data": {
            "image/png": "[encoded data removed]",
            "text/plain": [
              "<Figure size 432x288 with 1 Axes>"
            ]
          },
          "metadata": {
            "tags": []
          }
        }
      ]
    },
    {
      "cell_type": "code",
      "metadata": {
        "id": "iy58NXW4UtOf",
        "colab_type": "code",
        "colab": {
          "base_uri": "https://localhost:8080/",
          "height": 269
        },
        "outputId": "82f05752-3968-48c5-81ca-d54b170a549f"
      },
      "source": [
        "Num=300 # numero de cristais sinteticos\n",
        "im = np.array(Image.open('plain-white-background.jpg'), dtype=np.uint8)\n",
        "A=im.shape\n",
        "Nx=A[0]\n",
        "Ny=A[1]\n",
        "\n",
        "fig,ax = plt.subplots(1)\n",
        "plt.axis(\"off\")\n",
        "ax.imshow(im)\n",
        "\n",
        "\n",
        "for i in range(Num):\n",
        "  x1 = randrange(0, Nx)\n",
        "  x2 = randrange(int(Nx*0.1), int(Nx*0.2))\n",
        "  frand = uniform(0.8, 1.1)\n",
        "  y1 = randrange(0, Ny) \n",
        "  y2 = int(x2*frand)                \n",
        "  rect = patches.Rectangle((x1,y1),x2,y2,linewidth=1,edgecolor='black',facecolor='gray')\n",
        "  ax.add_patch(rect)\n",
        "\n",
        "\n",
        "plt.show()"
      ],
      "execution_count": 7,
      "outputs": [
        {
          "output_type": "display_data",
          "data": {
            "image/png": "[encoded data removed]",
            "text/plain": [
              "<Figure size 432x288 with 1 Axes>"
            ]
          },
          "metadata": {
            "tags": []
          }
        }
      ]
    },
    {
      "cell_type": "code",
      "metadata": {
        "id": "fWoAXLvmVh1d",
        "colab_type": "code",
        "colab": {
          "base_uri": "https://localhost:8080/",
          "height": 269
        },
        "outputId": "f98d9339-87d5-44be-a632-615aa1d688e2"
      },
      "source": [
        "Num=300 # numero de cristais sinteticos\n",
        "im = np.array(Image.open('plain-white-background.jpg'), dtype=np.uint8)\n",
        "A=im.shape\n",
        "Nx=A[0]\n",
        "Ny=A[1]\n",
        "\n",
        "fig,ax = plt.subplots(1)\n",
        "plt.axis(\"off\")\n",
        "ax.imshow(im)\n",
        "MEDIDAS=[]\n",
        "\n",
        "for i in range(Num):\n",
        "  x1 = randrange(0, Nx)\n",
        "  x2 = randrange(int(Nx*0.1), int(Nx*0.2))\n",
        "  frand = uniform(0.8, 1.1)\n",
        "  y1 = randrange(0, Ny) \n",
        "  y2 = int(x2*frand)                \n",
        "  rect = patches.Rectangle((x1,y1),x2,y2,linewidth=1,edgecolor='black',facecolor='gray')\n",
        "  ax.add_patch(rect)\n",
        "  d=(x2*y2*4/np.pi)**0.5\n",
        "  MEDIDAS.append(d)\n",
        "\n",
        "plt.show()"
      ],
      "execution_count": 9,
      "outputs": [
        {
          "output_type": "display_data",
          "data": {
            "image/png": "[encoded data removed]",
            "text/plain": [
              "<Figure size 432x288 with 1 Axes>"
            ]
          },
          "metadata": {
            "tags": []
          }
        }
      ]
    },
    {
      "cell_type": "code",
      "metadata": {
        "id": "m-u3IgBwWKaX",
        "colab_type": "code",
        "colab": {
          "base_uri": "https://localhost:8080/",
          "height": 1000
        },
        "outputId": "14888ceb-be27-424a-ed82-df265328d2c0"
      },
      "source": [
        "MEDIDAS=pd.Series(MEDIDAS)\n",
        "print(MEDIDAS)"
      ],
      "execution_count": 10,
      "outputs": [
        {
          "output_type": "stream",
          "text": [
            "0      177.098023\n",
            "1      177.697329\n",
            "2      161.322709\n",
            "3      170.792031\n",
            "4      184.278517\n",
            "5      287.167510\n",
            "6      155.614083\n",
            "7      281.516469\n",
            "8      263.591885\n",
            "9      227.362102\n",
            "10     251.322238\n",
            "11     148.329294\n",
            "12     192.791101\n",
            "13     263.168891\n",
            "14     254.313735\n",
            "15     280.930157\n",
            "16     165.318138\n",
            "17     164.727900\n",
            "18     182.783494\n",
            "19     177.718823\n",
            "20     245.963365\n",
            "21     223.897270\n",
            "22     249.828346\n",
            "23     206.317582\n",
            "24     144.194319\n",
            "25     151.740779\n",
            "26     188.408913\n",
            "27     155.306954\n",
            "28     169.707627\n",
            "29     225.574256\n",
            "          ...    \n",
            "270    257.208580\n",
            "271    146.463442\n",
            "272    213.889621\n",
            "273    153.567389\n",
            "274    209.039664\n",
            "275    194.624964\n",
            "276    250.133947\n",
            "277    190.110962\n",
            "278    244.272590\n",
            "279    204.467162\n",
            "280    283.719493\n",
            "281    223.347828\n",
            "282    179.933141\n",
            "283    165.221838\n",
            "284    208.166843\n",
            "285    199.023823\n",
            "286    216.948319\n",
            "287    157.391704\n",
            "288    198.687675\n",
            "289    224.033709\n",
            "290    245.921949\n",
            "291    142.712087\n",
            "292    222.594063\n",
            "293    245.986658\n",
            "294    227.929799\n",
            "295    224.033709\n",
            "296    196.130347\n",
            "297    261.082654\n",
            "298    142.148906\n",
            "299    168.533165\n",
            "Length: 300, dtype: float64\n"
          ],
          "name": "stdout"
        }
      ]
    },
    {
      "cell_type": "code",
      "metadata": {
        "id": "4q_vCvidWzRV",
        "colab_type": "code",
        "colab": {
          "base_uri": "https://localhost:8080/",
          "height": 287
        },
        "outputId": "1a7e58bd-560c-4a93-afad-f24dcc30c6f3"
      },
      "source": [
        "MEDIDAS.plot.hist(grid=True, bins=20, rwidth=0.9,color='#607c8e')"
      ],
      "execution_count": 11,
      "outputs": [
        {
          "output_type": "execute_result",
          "data": {
            "text/plain": [
              "<matplotlib.axes._subplots.AxesSubplot at 0x7fdac3ab7160>"
            ]
          },
          "metadata": {
            "tags": []
          },
          "execution_count": 11
        },
        {
          "output_type": "display_data",
          "data": {
            "image/png": "[encoded data removed]",
            "text/plain": [
              "<Figure size 432x288 with 1 Axes>"
            ]
          },
          "metadata": {
            "tags": []
          }
        }
      ]
    }
  ]
}