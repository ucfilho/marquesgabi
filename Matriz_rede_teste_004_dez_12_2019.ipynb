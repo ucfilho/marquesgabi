{
  "nbformat": 4,
  "nbformat_minor": 0,
  "metadata": {
    "colab": {
      "name": "Matriz_rede_teste_004_dez_12_2019.ipynb",
      "provenance": [],
      "collapsed_sections": [],
      "include_colab_link": true
    },
    "kernelspec": {
      "name": "python3",
      "display_name": "Python 3"
    },
    "accelerator": "GPU"
  },
  "cells": [
    {
      "cell_type": "markdown",
      "metadata": {
        "id": "view-in-github",
        "colab_type": "text"
      },
      "source": [
        "<a href=\"https://colab.research.google.com/github/ucfilho/marquesgabi/blob/master/Matriz_rede_teste_004_dez_12_2019.ipynb\" target=\"_parent\"><img src=\"https://colab.research.google.com/assets/colab-badge.svg\" alt=\"Open In Colab\"/></a>"
      ]
    },
    {
      "cell_type": "code",
      "metadata": {
        "id": "SzWdrvAgvBId",
        "colab_type": "code",
        "colab": {}
      },
      "source": [
        "import numpy as np\n",
        "import cv2\n",
        "from skimage import data\n",
        "import matplotlib.pyplot as plt\n",
        "import matplotlib\n",
        "import pandas as pd\n",
        "from skimage import io, util\n",
        "import os \n",
        "import zipfile\n",
        "from skimage import filters\n",
        "from skimage import exposure\n",
        "import skimage.feature as sk\n",
        "from google.colab import files\n",
        "from scipy import stats\n",
        "from scipy.signal import find_peaks\n",
        "from scipy.signal import peak_prominences\n",
        "from scipy.signal import peak_widths\n",
        "from scipy.integrate import simps\n",
        "%matplotlib inline"
      ],
      "execution_count": 0,
      "outputs": []
    },
    {
      "cell_type": "code",
      "metadata": {
        "id": "h1Zsufcm9bfv",
        "colab_type": "code",
        "outputId": "aaeddd3d-37a5-4e53-bd2e-6442bfc11cad",
        "colab": {
          "base_uri": "https://localhost:8080/",
          "height": 223
        }
      },
      "source": [
        "!wget http://ftp.feq.ufu.br/ubirajara/Contraste_dez_10_2019.zip\n",
        "Transfere='Contraste_dez_10_2019.zip'"
      ],
      "execution_count": 2,
      "outputs": [
        {
          "output_type": "stream",
          "text": [
            "--2019-12-12 13:13:01--  http://ftp.feq.ufu.br/ubirajara/Contraste_dez_10_2019.zip\n",
            "Resolving ftp.feq.ufu.br (ftp.feq.ufu.br)... 200.19.144.11\n",
            "Connecting to ftp.feq.ufu.br (ftp.feq.ufu.br)|200.19.144.11|:80... connected.\n",
            "HTTP request sent, awaiting response... 200 OK\n",
            "Length: 128014 (125K) [application/zip]\n",
            "Saving to: ‘Contraste_dez_10_2019.zip.2’\n",
            "\n",
            "Contraste_dez_10_20 100%[===================>] 125.01K  79.4KB/s    in 1.6s    \n",
            "\n",
            "2019-12-12 13:13:04 (79.4 KB/s) - ‘Contraste_dez_10_2019.zip.2’ saved [128014/128014]\n",
            "\n"
          ],
          "name": "stdout"
        }
      ]
    },
    {
      "cell_type": "code",
      "metadata": {
        "id": "n3EWa3f7A-FE",
        "colab_type": "code",
        "colab": {}
      },
      "source": [
        "file_name = zipfile.ZipFile(Transfere, 'r')\n",
        "file_name.extractall()\n",
        "FILE=Transfere\n",
        "file_name=[]\n",
        "\n",
        "with zipfile.ZipFile(FILE, \"r\") as f:\n",
        "    for name in f.namelist():\n",
        "        file_name.append(name)"
      ],
      "execution_count": 0,
      "outputs": []
    },
    {
      "cell_type": "code",
      "metadata": {
        "id": "avVL_ZAd7ZLi",
        "colab_type": "code",
        "colab": {}
      },
      "source": [
        "#print(file_name)"
      ],
      "execution_count": 0,
      "outputs": []
    },
    {
      "cell_type": "code",
      "metadata": {
        "id": "qKqzlX77P5-M",
        "colab_type": "code",
        "colab": {}
      },
      "source": [
        "df = pd.read_csv(file_name[0]) # first picture\n",
        "df=np.array(df)\n",
        "df = np.delete(df, 0, axis=1) # delete first colunm"
      ],
      "execution_count": 0,
      "outputs": []
    },
    {
      "cell_type": "code",
      "metadata": {
        "id": "SMWUK-YFAnW-",
        "colab_type": "code",
        "colab": {
          "base_uri": "https://localhost:8080/",
          "height": 36
        },
        "outputId": "3e00f240-2714-4c50-ba44-4bcb9f4c2ae2"
      },
      "source": [
        "row,col=df.shape\n",
        "print(row)"
      ],
      "execution_count": 6,
      "outputs": [
        {
          "output_type": "stream",
          "text": [
            "40\n"
          ],
          "name": "stdout"
        }
      ]
    },
    {
      "cell_type": "code",
      "metadata": {
        "id": "nWTtaP0CBMU3",
        "colab_type": "code",
        "colab": {}
      },
      "source": [
        "Nomes=['no.peaks','Media_proem','area under','Width_peaks','Width_peaks_max',\n",
        "       'Width_peaks_min','Median','Mode','Mean','Sd' ]"
      ],
      "execution_count": 0,
      "outputs": []
    },
    {
      "cell_type": "code",
      "metadata": {
        "id": "LuyJQcmS9xc0",
        "colab_type": "code",
        "outputId": "7a14e2f6-4e43-436c-bac1-8237fde20b83",
        "colab": {
          "base_uri": "https://localhost:8080/",
          "height": 745
        }
      },
      "source": [
        "#Num=row\n",
        "Num=3\n",
        "for i in range(Num):\n",
        "  x=df[i,:]\n",
        "  peaks, rr = find_peaks(x, height=0)\n",
        "\n",
        "  N_peaks=len(peaks)\n",
        "  prominences = peak_prominences(x, peaks)\n",
        "  Media_proem=np.mean(prominences)\n",
        "  Area = simps(x, dx=1)\n",
        "  Width_peaks =np.mean(peak_widths(x, peaks, rel_height=0.5))\n",
        "  Width_peaks_max =np.max(peak_widths(x, peaks, rel_height=0.5))\n",
        "  Width_peaks_min =np.min(peak_widths(x, peaks, rel_height=0.5))\n",
        "  Median = np.median(x)\n",
        "  Mode= stats.mode(x)[0]\n",
        "  Mean=np.mean(x);print('mean=',Mean)\n",
        "  Sd=np.std(x);print('Sd=',Sd)\n",
        "\n",
        "  Features=[]\n",
        "  Features.append(N_peaks)\n",
        "  Features.append(Media_proem )\n",
        "  Features.append(Area)\n",
        "  Features.append(Width_peaks )\n",
        "  Features.append(Width_peaks_max)\n",
        "  Features.append(Width_peaks_min)\n",
        "  Features.append(Median )\n",
        "  Features.append(Mode[0])\n",
        "  Features.append(Mean)\n",
        "  Features.append(Sd)\n",
        "\n",
        "  Features=pd.DataFrame(Features,index=Nomes)\n",
        "  print(Features)\n"
      ],
      "execution_count": 8,
      "outputs": [
        {
          "output_type": "stream",
          "text": [
            "mean= 3.4285614492345253\n",
            "Sd= 3.9549928914347356\n",
            "                          0\n",
            "no.peaks           9.000000\n",
            "Media_proem       59.225513\n",
            "area under       545.763345\n",
            "Width_peaks       45.112796\n",
            "Width_peaks_max  159.073313\n",
            "Width_peaks_min    0.500041\n",
            "Median             1.367743\n",
            "Mode               0.492801\n",
            "Mean               3.428561\n",
            "Sd                 3.954993\n",
            "mean= 6.175833823367265\n",
            "Sd= 3.765708529062195\n",
            "                          0\n",
            "no.peaks           5.000000\n",
            "Media_proem       51.211486\n",
            "area under       990.885570\n",
            "Width_peaks       45.991672\n",
            "Width_peaks_max  154.712230\n",
            "Width_peaks_min    0.509767\n",
            "Median             6.468943\n",
            "Mode               0.762829\n",
            "Mean               6.175834\n",
            "Sd                 3.765709\n",
            "mean= 3.4767544490997655\n",
            "Sd= 3.0281018735891614\n",
            "                          0\n",
            "no.peaks           6.000000\n",
            "Media_proem       22.557113\n",
            "area under       553.116669\n",
            "Width_peaks       28.912166\n",
            "Width_peaks_max   82.792535\n",
            "Width_peaks_min    0.500516\n",
            "Median             1.879343\n",
            "Mode               0.887800\n",
            "Mean               3.476754\n",
            "Sd                 3.028102\n"
          ],
          "name": "stdout"
        }
      ]
    },
    {
      "cell_type": "code",
      "metadata": {
        "id": "IzO_LnsnJru2",
        "colab_type": "code",
        "colab": {}
      },
      "source": [
        "Nomes=['area','n.peaks','l.peaks','mean','sd','max','min']\n"
      ],
      "execution_count": 0,
      "outputs": []
    },
    {
      "cell_type": "code",
      "metadata": {
        "id": "YVBsUlEc-Azi",
        "colab_type": "code",
        "outputId": "8fc07cf7-9637-4864-88bb-bbb3b5dd08ca",
        "colab": {
          "base_uri": "https://localhost:8080/",
          "height": 36
        }
      },
      "source": [
        "'''\n",
        "file_name = zipfile.ZipFile(Transfere, 'r')\n",
        "file_name.extractall()\n",
        "'''"
      ],
      "execution_count": 10,
      "outputs": [
        {
          "output_type": "execute_result",
          "data": {
            "text/plain": [
              "\"\\nfile_name = zipfile.ZipFile(Transfere, 'r')\\nfile_name.extractall()\\n\""
            ]
          },
          "metadata": {
            "tags": []
          },
          "execution_count": 10
        }
      ]
    },
    {
      "cell_type": "code",
      "metadata": {
        "id": "t7KEAGdCBJ0a",
        "colab_type": "code",
        "outputId": "2bd134f1-0ec3-4bd5-a30b-ee18d4af4dd0",
        "colab": {
          "base_uri": "https://localhost:8080/",
          "height": 36
        }
      },
      "source": [
        "'''\n",
        "print(file_name)\n",
        "'''"
      ],
      "execution_count": 11,
      "outputs": [
        {
          "output_type": "execute_result",
          "data": {
            "text/plain": [
              "'\\nprint(file_name)\\n'"
            ]
          },
          "metadata": {
            "tags": []
          },
          "execution_count": 11
        }
      ]
    },
    {
      "cell_type": "code",
      "metadata": {
        "id": "8R9jsmgsDtFV",
        "colab_type": "code",
        "outputId": "3cd63a2a-4918-41e1-f6c7-d6eb7aeada54",
        "colab": {
          "base_uri": "https://localhost:8080/",
          "height": 36
        }
      },
      "source": [
        "'''\n",
        "plt.plot(x_ref,df['constrast'])   \n",
        "'''"
      ],
      "execution_count": 12,
      "outputs": [
        {
          "output_type": "execute_result",
          "data": {
            "text/plain": [
              "\"\\nplt.plot(x_ref,df['constrast'])   \\n\""
            ]
          },
          "metadata": {
            "tags": []
          },
          "execution_count": 12
        }
      ]
    },
    {
      "cell_type": "code",
      "metadata": {
        "id": "3QB5rgbiF8Pc",
        "colab_type": "code",
        "colab": {}
      },
      "source": [
        "# https://docs.scipy.org/doc/scipy/reference/generated/scipy.signal.find_peaks.html"
      ],
      "execution_count": 0,
      "outputs": []
    },
    {
      "cell_type": "code",
      "metadata": {
        "id": "U09-LfLZFNCw",
        "colab_type": "code",
        "outputId": "979b1ca9-a2f1-40b8-fc3c-50ce19576c07",
        "colab": {
          "base_uri": "https://localhost:8080/",
          "height": 56
        }
      },
      "source": [
        "'''\n",
        "x=np.array(df['constrast'])\n",
        "peaks, rr = find_peaks(x, height=0)\n",
        "plt.plot(x)\n",
        "plt.plot(peaks, x[peaks], \"x\")\n",
        "plt.plot(np.zeros_like(x), \"--\", color=\"gray\")\n",
        "plt.show()\n",
        "'''"
      ],
      "execution_count": 14,
      "outputs": [
        {
          "output_type": "execute_result",
          "data": {
            "text/plain": [
              "'\\nx=np.array(df[\\'constrast\\'])\\npeaks, rr = find_peaks(x, height=0)\\nplt.plot(x)\\nplt.plot(peaks, x[peaks], \"x\")\\nplt.plot(np.zeros_like(x), \"--\", color=\"gray\")\\nplt.show()\\n'"
            ]
          },
          "metadata": {
            "tags": []
          },
          "execution_count": 14
        }
      ]
    },
    {
      "cell_type": "code",
      "metadata": {
        "id": "s0z7uLL-FeVZ",
        "colab_type": "code",
        "outputId": "e9710518-0cc2-480e-adea-d8791fce9be2",
        "colab": {
          "base_uri": "https://localhost:8080/",
          "height": 36
        }
      },
      "source": [
        "'''\n",
        "print('Picos do contraste (posicao):')\n",
        "print(peaks)\n",
        "'''"
      ],
      "execution_count": 15,
      "outputs": [
        {
          "output_type": "execute_result",
          "data": {
            "text/plain": [
              "\"\\nprint('Picos do contraste (posicao):')\\nprint(peaks)\\n\""
            ]
          },
          "metadata": {
            "tags": []
          },
          "execution_count": 15
        }
      ]
    },
    {
      "cell_type": "code",
      "metadata": {
        "id": "7dujkF5CG_Rl",
        "colab_type": "code",
        "outputId": "e5b5a561-92dc-497a-a6b4-72ea78218335",
        "colab": {
          "base_uri": "https://localhost:8080/",
          "height": 36
        }
      },
      "source": [
        "'''\n",
        "prominences = peak_prominences(x, peaks)[0]\n",
        "print(prominences)\n",
        "'''"
      ],
      "execution_count": 16,
      "outputs": [
        {
          "output_type": "execute_result",
          "data": {
            "text/plain": [
              "'\\nprominences = peak_prominences(x, peaks)[0]\\nprint(prominences)\\n'"
            ]
          },
          "metadata": {
            "tags": []
          },
          "execution_count": 16
        }
      ]
    },
    {
      "cell_type": "code",
      "metadata": {
        "id": "AFNEVWAnH7ui",
        "colab_type": "code",
        "outputId": "0befae36-d733-49aa-9a67-8afd6681fc84",
        "colab": {
          "base_uri": "https://localhost:8080/",
          "height": 36
        }
      },
      "source": [
        "'''\n",
        "results_widths = peak_widths(x, peaks, rel_height=0.5)\n",
        "print(results_widths)\n",
        "'''"
      ],
      "execution_count": 17,
      "outputs": [
        {
          "output_type": "execute_result",
          "data": {
            "text/plain": [
              "'\\nresults_widths = peak_widths(x, peaks, rel_height=0.5)\\nprint(results_widths)\\n'"
            ]
          },
          "metadata": {
            "tags": []
          },
          "execution_count": 17
        }
      ]
    }
  ]
}