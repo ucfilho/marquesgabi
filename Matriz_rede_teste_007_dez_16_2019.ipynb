{
  "nbformat": 4,
  "nbformat_minor": 0,
  "metadata": {
    "colab": {
      "name": "Matriz_rede_teste_007_dez_16_2019.ipynb",
      "provenance": [],
      "collapsed_sections": [],
      "include_colab_link": true
    },
    "kernelspec": {
      "name": "python3",
      "display_name": "Python 3"
    },
    "accelerator": "GPU"
  },
  "cells": [
    {
      "cell_type": "markdown",
      "metadata": {
        "id": "view-in-github",
        "colab_type": "text"
      },
      "source": [
        "<a href=\"https://colab.research.google.com/github/ucfilho/marquesgabi/blob/master/Matriz_rede_teste_007_dez_16_2019.ipynb\" target=\"_parent\"><img src=\"https://colab.research.google.com/assets/colab-badge.svg\" alt=\"Open In Colab\"/></a>"
      ]
    },
    {
      "cell_type": "code",
      "metadata": {
        "id": "SzWdrvAgvBId",
        "colab_type": "code",
        "colab": {}
      },
      "source": [
        "import numpy as np\n",
        "import cv2\n",
        "from skimage import data\n",
        "import matplotlib.pyplot as plt\n",
        "import matplotlib\n",
        "import pandas as pd\n",
        "from skimage import io, util\n",
        "import os \n",
        "import zipfile\n",
        "from skimage import filters\n",
        "from skimage import exposure\n",
        "import skimage.feature as sk\n",
        "from google.colab import files\n",
        "from scipy import stats\n",
        "from scipy.signal import find_peaks\n",
        "from scipy.signal import peak_prominences\n",
        "from scipy.signal import peak_widths\n",
        "from scipy.integrate import simps\n",
        "%matplotlib inline"
      ],
      "execution_count": 0,
      "outputs": []
    },
    {
      "cell_type": "code",
      "metadata": {
        "id": "h1Zsufcm9bfv",
        "colab_type": "code",
        "outputId": "8545c5e6-5086-44ca-eb03-8fe2b05fa391",
        "colab": {
          "base_uri": "https://localhost:8080/",
          "height": 223
        }
      },
      "source": [
        "!wget http://ftp.feq.ufu.br/ubirajara/Contraste_dez_10_2019.zip\n",
        "Transfere='Contraste_dez_10_2019.zip'"
      ],
      "execution_count": 0,
      "outputs": [
        {
          "output_type": "stream",
          "text": [
            "--2019-12-17 13:55:10--  http://ftp.feq.ufu.br/ubirajara/Contraste_dez_10_2019.zip\n",
            "Resolving ftp.feq.ufu.br (ftp.feq.ufu.br)... 200.19.144.11\n",
            "Connecting to ftp.feq.ufu.br (ftp.feq.ufu.br)|200.19.144.11|:80... connected.\n",
            "HTTP request sent, awaiting response... 200 OK\n",
            "Length: 128014 (125K) [application/zip]\n",
            "Saving to: ‘Contraste_dez_10_2019.zip.9’\n",
            "\n",
            "Contraste_dez_10_20 100%[===================>] 125.01K  66.6KB/s    in 1.9s    \n",
            "\n",
            "2019-12-17 13:55:12 (66.6 KB/s) - ‘Contraste_dez_10_2019.zip.9’ saved [128014/128014]\n",
            "\n"
          ],
          "name": "stdout"
        }
      ]
    },
    {
      "cell_type": "code",
      "metadata": {
        "id": "n3EWa3f7A-FE",
        "colab_type": "code",
        "colab": {}
      },
      "source": [
        "file_name = zipfile.ZipFile(Transfere, 'r')\n",
        "file_name.extractall()\n",
        "FILE=Transfere\n",
        "file_name=[]\n",
        "\n",
        "with zipfile.ZipFile(FILE, \"r\") as f:\n",
        "    for name in f.namelist():\n",
        "        file_name.append(name)"
      ],
      "execution_count": 0,
      "outputs": []
    },
    {
      "cell_type": "code",
      "metadata": {
        "id": "avVL_ZAd7ZLi",
        "colab_type": "code",
        "outputId": "9bddaaff-e8e2-410f-9bad-3ea632a710cb",
        "colab": {
          "base_uri": "https://localhost:8080/",
          "height": 36
        }
      },
      "source": [
        "print(file_name)"
      ],
      "execution_count": 0,
      "outputs": [
        {
          "output_type": "stream",
          "text": [
            "['Contraste_Buraco_01_dez_2019.csv', 'Contraste_Grao_01_dez_2019.csv', 'Contraste_Indef_01_dez_2019.csv']\n"
          ],
          "name": "stdout"
        }
      ]
    },
    {
      "cell_type": "code",
      "metadata": {
        "id": "lq0P1UxC3ZRC",
        "colab_type": "code",
        "colab": {}
      },
      "source": [
        "Nomes=['no.peaks','Media_proem','area under','Width_peaks','Width_peaks_max',\n",
        "       'Width_peaks_min','Median','Mode','Mean','Sd' ]"
      ],
      "execution_count": 0,
      "outputs": []
    },
    {
      "cell_type": "code",
      "metadata": {
        "id": "qKqzlX77P5-M",
        "colab_type": "code",
        "outputId": "71051b04-3d23-4fdf-bae7-e919ed4086ec",
        "colab": {
          "base_uri": "https://localhost:8080/",
          "height": 167
        }
      },
      "source": [
        "df_b= pd.read_csv(file_name[0]) # first picture\n",
        "print(df_b.head())\n",
        "df_b=np.array(df_b)\n",
        "df_b= np.delete(df_b, 0, axis=1) # delete first colunm\n"
      ],
      "execution_count": 0,
      "outputs": [
        {
          "output_type": "stream",
          "text": [
            "   Unnamed: 0          0          1  ...        158        159        160\n",
            "0           0  10.217542  10.737327  ...   2.519001   2.498003   2.473397\n",
            "1           1   6.003546   5.834985  ...   0.776007   0.768684   0.762829\n",
            "2           2   0.931476   0.928858  ...  11.728546  12.057861  12.352392\n",
            "3           3  11.321692  11.112385  ...   9.826890   9.810289   9.791580\n",
            "4           4  22.274404  22.561366  ...   9.063979   9.158033   9.172432\n",
            "\n",
            "[5 rows x 162 columns]\n"
          ],
          "name": "stdout"
        }
      ]
    },
    {
      "cell_type": "code",
      "metadata": {
        "id": "d2Rumo-x2q6u",
        "colab_type": "code",
        "colab": {}
      },
      "source": [
        "row_b,col=df_b.shape"
      ],
      "execution_count": 0,
      "outputs": []
    },
    {
      "cell_type": "code",
      "metadata": {
        "id": "LuyJQcmS9xc0",
        "colab_type": "code",
        "colab": {}
      },
      "source": [
        "Num=row_b  # linha do numero de fotos\n",
        "col=len(Nomes) # coluna do dataframe\n",
        "matriz_x_b=np.zeros((row_b,col))\n",
        "for i in range(Num):\n",
        "  x=df_b[i,:]\n",
        "  peaks, rr = find_peaks(x, height=0)\n",
        "\n",
        "  N_peaks=len(peaks)\n",
        "  prominences = peak_prominences(x, peaks)\n",
        "  Media_proem=np.mean(prominences)\n",
        "  Area = simps(x, dx=1)\n",
        "  Width_peaks =np.mean(peak_widths(x, peaks, rel_height=0.5))\n",
        "  Width_peaks_max =np.max(peak_widths(x, peaks, rel_height=0.5))\n",
        "  Width_peaks_min =np.min(peak_widths(x, peaks, rel_height=0.5))\n",
        "  Median = np.median(x)\n",
        "  Mode= stats.mode(x)[0]\n",
        "  Mean=np.mean(x)\n",
        "  Sd=np.std(x)\n",
        "\n",
        "  Features=[]\n",
        "  Features.append(N_peaks)\n",
        "  Features.append(Media_proem )\n",
        "  Features.append(Area)\n",
        "  Features.append(Width_peaks )\n",
        "  Features.append(Width_peaks_max)\n",
        "  Features.append(Width_peaks_min)\n",
        "  Features.append(Median )\n",
        "  Features.append(Mode[0])\n",
        "  Features.append(Mean)\n",
        "  Features.append(Sd)\n",
        "  Features=pd.DataFrame(Features,index=Nomes)\n",
        "  matriz_x_b[i,:]=np.array(Features.loc[:,0])"
      ],
      "execution_count": 0,
      "outputs": []
    },
    {
      "cell_type": "code",
      "metadata": {
        "id": "WowMS03-MDub",
        "colab_type": "code",
        "outputId": "3aad242a-7027-4fa5-9ddf-4ba92397b460",
        "colab": {
          "base_uri": "https://localhost:8080/",
          "height": 167
        }
      },
      "source": [
        "df_g = pd.read_csv(file_name[1]) # second picture\n",
        "print(df_g.head())\n",
        "df_g=np.array(df_g)\n",
        "df_g = np.delete(df_g, 0, axis=1) # delete first colunm\n"
      ],
      "execution_count": 0,
      "outputs": [
        {
          "output_type": "stream",
          "text": [
            "   Unnamed: 0          0          1  ...        158        159        160\n",
            "0           0  10.217542  10.737327  ...   2.519001   2.498003   2.473397\n",
            "1           1   6.003546   5.834985  ...   0.776007   0.768684   0.762829\n",
            "2           2   0.931476   0.928858  ...  11.728546  12.057861  12.352392\n",
            "3           3  11.321692  11.112385  ...   9.826890   9.810289   9.791580\n",
            "4           4  22.274404  22.561366  ...   9.063979   9.158033   9.172432\n",
            "\n",
            "[5 rows x 162 columns]\n"
          ],
          "name": "stdout"
        }
      ]
    },
    {
      "cell_type": "code",
      "metadata": {
        "id": "6hWTFQTU26aB",
        "colab_type": "code",
        "colab": {}
      },
      "source": [
        "row_g,col=df_g.shape"
      ],
      "execution_count": 0,
      "outputs": []
    },
    {
      "cell_type": "code",
      "metadata": {
        "id": "_YlN66Qx1w_X",
        "colab_type": "code",
        "colab": {}
      },
      "source": [
        "Num=row_g  # linha do numero de fotos\n",
        "col=len(Nomes) # coluna do dataframe\n",
        "matriz_x_g=np.zeros((row_g,col))\n",
        "for i in range(Num):\n",
        "  x=df_g[i,:]\n",
        "  peaks, rr = find_peaks(x, height=0)\n",
        "\n",
        "  N_peaks=len(peaks)\n",
        "  prominences = peak_prominences(x, peaks)\n",
        "  Media_proem=np.mean(prominences)\n",
        "  Area = simps(x, dx=1)\n",
        "  Width_peaks =np.mean(peak_widths(x, peaks, rel_height=0.5))\n",
        "  Width_peaks_max =np.max(peak_widths(x, peaks, rel_height=0.5))\n",
        "  Width_peaks_min =np.min(peak_widths(x, peaks, rel_height=0.5))\n",
        "  Median = np.median(x)\n",
        "  Mode= stats.mode(x)[0]\n",
        "  Mean=np.mean(x)\n",
        "  Sd=np.std(x)\n",
        "\n",
        "  Features=[]\n",
        "  Features.append(N_peaks)\n",
        "  Features.append(Media_proem )\n",
        "  Features.append(Area)\n",
        "  Features.append(Width_peaks )\n",
        "  Features.append(Width_peaks_max)\n",
        "  Features.append(Width_peaks_min)\n",
        "  Features.append(Median )\n",
        "  Features.append(Mode[0])\n",
        "  Features.append(Mean)\n",
        "  Features.append(Sd)\n",
        "  Features=pd.DataFrame(Features,index=Nomes)\n",
        "  matriz_x_g[i,:]=np.array(Features.loc[:,0])"
      ],
      "execution_count": 0,
      "outputs": []
    },
    {
      "cell_type": "code",
      "metadata": {
        "id": "EVoal9QcMgh2",
        "colab_type": "code",
        "outputId": "15122233-41aa-4429-a468-834c18349058",
        "colab": {
          "base_uri": "https://localhost:8080/",
          "height": 167
        }
      },
      "source": [
        "df_i = pd.read_csv(file_name[2]) # third picture\n",
        "print(df_i.head())\n",
        "df_i=np.array(df_i)\n",
        "df_i = np.delete(df_i, 0, axis=1) # delete first colunm\n"
      ],
      "execution_count": 0,
      "outputs": [
        {
          "output_type": "stream",
          "text": [
            "   Unnamed: 0          0          1  ...        158        159        160\n",
            "0           0  10.217542  10.737327  ...   2.519001   2.498003   2.473397\n",
            "1           1   6.003546   5.834985  ...   0.776007   0.768684   0.762829\n",
            "2           2   0.931476   0.928858  ...  11.728546  12.057861  12.352392\n",
            "3           3  11.321692  11.112385  ...   9.826890   9.810289   9.791580\n",
            "4           4  22.274404  22.561366  ...   9.063979   9.158033   9.172432\n",
            "\n",
            "[5 rows x 162 columns]\n"
          ],
          "name": "stdout"
        }
      ]
    },
    {
      "cell_type": "code",
      "metadata": {
        "id": "4YtyyA9o2-sq",
        "colab_type": "code",
        "colab": {}
      },
      "source": [
        "row_i,col=df_i.shape"
      ],
      "execution_count": 0,
      "outputs": []
    },
    {
      "cell_type": "code",
      "metadata": {
        "id": "eLhvsIQ119LU",
        "colab_type": "code",
        "colab": {}
      },
      "source": [
        "Num=row_i  # linha do numero de fotos\n",
        "col=len(Nomes) # coluna do dataframe\n",
        "matriz_x_i=np.zeros((row_i,col))\n",
        "for i in range(Num):\n",
        "  x=df_i[i,:]\n",
        "  peaks, rr = find_peaks(x, height=0)\n",
        "\n",
        "  N_peaks=len(peaks)\n",
        "  prominences = peak_prominences(x, peaks)\n",
        "  Media_proem=np.mean(prominences)\n",
        "  Area = simps(x, dx=1)\n",
        "  Width_peaks =np.mean(peak_widths(x, peaks, rel_height=0.5))\n",
        "  Width_peaks_max =np.max(peak_widths(x, peaks, rel_height=0.5))\n",
        "  Width_peaks_min =np.min(peak_widths(x, peaks, rel_height=0.5))\n",
        "  Median = np.median(x)\n",
        "  Mode= stats.mode(x)[0]\n",
        "  Mean=np.mean(x)\n",
        "  Sd=np.std(x)\n",
        "\n",
        "  Features=[]\n",
        "  Features.append(N_peaks)\n",
        "  Features.append(Media_proem )\n",
        "  Features.append(Area)\n",
        "  Features.append(Width_peaks )\n",
        "  Features.append(Width_peaks_max)\n",
        "  Features.append(Width_peaks_min)\n",
        "  Features.append(Median )\n",
        "  Features.append(Mode[0])\n",
        "  Features.append(Mean)\n",
        "  Features.append(Sd)\n",
        "  Features=pd.DataFrame(Features,index=Nomes)\n",
        "  matriz_x_i[i,:]=np.array(Features.loc[:,0])"
      ],
      "execution_count": 0,
      "outputs": []
    },
    {
      "cell_type": "code",
      "metadata": {
        "id": "nWTtaP0CBMU3",
        "colab_type": "code",
        "colab": {}
      },
      "source": [
        "Nomes=['no.peaks','Media_proem','area under','Width_peaks','Width_peaks_max',\n",
        "       'Width_peaks_min','Median','Mode','Mean','Sd' ]"
      ],
      "execution_count": 0,
      "outputs": []
    },
    {
      "cell_type": "code",
      "metadata": {
        "id": "5MooYYWXNQH4",
        "colab_type": "code",
        "colab": {}
      },
      "source": [
        "#print(matriz_x)"
      ],
      "execution_count": 0,
      "outputs": []
    },
    {
      "cell_type": "code",
      "metadata": {
        "id": "SvqwCW3gCv5z",
        "colab_type": "code",
        "outputId": "1fddeba0-e848-4c5e-e0c7-cdff1bc8b9df",
        "colab": {
          "base_uri": "https://localhost:8080/",
          "height": 820
        }
      },
      "source": [
        "df_buraco=pd.DataFrame(matriz_x_b,columns=Nomes)\n",
        "print(df_buraco)"
      ],
      "execution_count": 0,
      "outputs": [
        {
          "output_type": "stream",
          "text": [
            "    no.peaks  Media_proem   area under  ...      Mode       Mean         Sd\n",
            "0        9.0    59.225513   545.763345  ...  0.492801   3.428561   3.954993\n",
            "1        5.0    51.211486   990.885570  ...  0.762829   6.175834   3.765709\n",
            "2        6.0    22.557113   553.116669  ...  0.887800   3.476754   3.028102\n",
            "3        5.0    64.623715   679.735834  ...  0.656805   4.287639   2.874732\n",
            "4        3.0    49.081802  1073.987286  ...  2.185055   6.767893   6.089387\n",
            "5        8.0    60.562144   286.617691  ...  0.422222   1.795585   1.169058\n",
            "6        3.0    61.902764   738.006794  ...  0.710955   4.668445   4.936378\n",
            "7        6.0    41.412836  1465.493898  ...  1.808970   9.188403  10.882562\n",
            "8        3.0    52.315613   533.071433  ...  0.583826   3.340808   1.898353\n",
            "9        3.0    63.006968   784.902961  ...  0.642961   5.017915   6.220446\n",
            "10       4.0    51.036473   430.408294  ...  0.574462   2.717181   2.625300\n",
            "11       5.0    44.654713   569.084322  ...  1.605383   3.566899   1.900541\n",
            "12      10.0    60.026966   210.980120  ...  0.744962   1.323497   0.502659\n",
            "13      13.0    50.659222   377.236944  ...  0.496043   2.357642   1.221809\n",
            "14       3.0    48.217662  1760.057950  ...  0.967743  11.103878  12.875971\n",
            "15       6.0    74.579705   960.963733  ...  0.596224   5.975165   7.396431\n",
            "16       6.0    60.886869  1292.375162  ...  0.594605   8.033739   5.120889\n",
            "17       2.0    71.349790  2610.581881  ...  1.150448  16.281962  12.689364\n",
            "18       6.0    60.403916   225.256135  ...  0.716363   1.420028   1.141691\n",
            "19       4.0    81.024208  1848.271278  ...  0.748570  11.531817  10.332178\n",
            "20      12.0    47.148300   172.802961  ...  0.611271   1.094080   0.848285\n",
            "21       1.0    60.710952   889.446032  ...  0.275325   5.630819   9.064970\n",
            "22       5.0    70.639658  1767.322726  ...  0.695472  11.047750  11.738763\n",
            "23       2.0    60.495085   870.174916  ...  0.618294   5.482294   4.012127\n",
            "24       9.0    45.150846   227.711808  ...  0.362064   1.435725   1.159469\n",
            "25       8.0    62.474657   361.039400  ...  0.493240   2.269350   2.040295\n",
            "26       3.0    35.191080   447.062104  ...  0.823677   2.828204   2.364313\n",
            "27       8.0    20.883132   391.707976  ...  0.978493   2.468071   2.052938\n",
            "28       3.0    61.587363   373.144491  ...  0.914649   2.327520   1.729443\n",
            "29       4.0    45.113026   138.643287  ...  0.241128   0.865492   0.725662\n",
            "30       4.0    57.087345  1256.750879  ...  0.395233   8.057484  19.352611\n",
            "31       7.0    56.850443  1116.799733  ...  3.709611   6.966962   1.519366\n",
            "32       7.0    35.936115   568.893987  ...  0.335252   3.560169   3.652015\n",
            "33       6.0    62.305731   258.071389  ...  0.281332   1.629517   2.431000\n",
            "34       5.0    78.082783  1330.875003  ...  0.448500   8.502259  16.890443\n",
            "35       5.0    85.434456   574.512282  ...  0.992308   3.623753   4.787403\n",
            "36       5.0    49.666155   984.113837  ...  0.993676   6.143098   2.079341\n",
            "37       2.0    34.292354   591.496677  ...  0.329500   3.696199   3.590491\n",
            "38       3.0    73.961817  1559.969614  ...  1.337862   9.728400   6.196267\n",
            "39      10.0    27.490159   671.374180  ...  0.829150   4.178344   3.612252\n",
            "\n",
            "[40 rows x 10 columns]\n"
          ],
          "name": "stdout"
        }
      ]
    },
    {
      "cell_type": "code",
      "metadata": {
        "id": "Bv_cmBTAJQxV",
        "colab_type": "code",
        "outputId": "56d61868-d6be-49fc-d401-3316f2de2e82",
        "colab": {
          "base_uri": "https://localhost:8080/",
          "height": 820
        }
      },
      "source": [
        "df_grao=pd.DataFrame(matriz_x_g,columns=Nomes)\n",
        "print(df_grao)"
      ],
      "execution_count": 0,
      "outputs": [
        {
          "output_type": "stream",
          "text": [
            "    no.peaks  Media_proem   area under  ...      Mode       Mean         Sd\n",
            "0        9.0    59.225513   545.763345  ...  0.492801   3.428561   3.954993\n",
            "1        5.0    51.211486   990.885570  ...  0.762829   6.175834   3.765709\n",
            "2        6.0    22.557113   553.116669  ...  0.887800   3.476754   3.028102\n",
            "3        5.0    64.623715   679.735834  ...  0.656805   4.287639   2.874732\n",
            "4        3.0    49.081802  1073.987286  ...  2.185055   6.767893   6.089387\n",
            "5        8.0    60.562144   286.617691  ...  0.422222   1.795585   1.169058\n",
            "6        3.0    61.902764   738.006794  ...  0.710955   4.668445   4.936378\n",
            "7        6.0    41.412836  1465.493898  ...  1.808970   9.188403  10.882562\n",
            "8        3.0    52.315613   533.071433  ...  0.583826   3.340808   1.898353\n",
            "9        3.0    63.006968   784.902961  ...  0.642961   5.017915   6.220446\n",
            "10       4.0    51.036473   430.408294  ...  0.574462   2.717181   2.625300\n",
            "11       5.0    44.654713   569.084322  ...  1.605383   3.566899   1.900541\n",
            "12      10.0    60.026966   210.980120  ...  0.744962   1.323497   0.502659\n",
            "13      13.0    50.659222   377.236944  ...  0.496043   2.357642   1.221809\n",
            "14       3.0    48.217662  1760.057950  ...  0.967743  11.103878  12.875971\n",
            "15       6.0    74.579705   960.963733  ...  0.596224   5.975165   7.396431\n",
            "16       6.0    60.886869  1292.375162  ...  0.594605   8.033739   5.120889\n",
            "17       2.0    71.349790  2610.581881  ...  1.150448  16.281962  12.689364\n",
            "18       6.0    60.403916   225.256135  ...  0.716363   1.420028   1.141691\n",
            "19       4.0    81.024208  1848.271278  ...  0.748570  11.531817  10.332178\n",
            "20      12.0    47.148300   172.802961  ...  0.611271   1.094080   0.848285\n",
            "21       1.0    60.710952   889.446032  ...  0.275325   5.630819   9.064970\n",
            "22       5.0    70.639658  1767.322726  ...  0.695472  11.047750  11.738763\n",
            "23       2.0    60.495085   870.174916  ...  0.618294   5.482294   4.012127\n",
            "24       9.0    45.150846   227.711808  ...  0.362064   1.435725   1.159469\n",
            "25       8.0    62.474657   361.039400  ...  0.493240   2.269350   2.040295\n",
            "26       3.0    35.191080   447.062104  ...  0.823677   2.828204   2.364313\n",
            "27       8.0    20.883132   391.707976  ...  0.978493   2.468071   2.052938\n",
            "28       3.0    61.587363   373.144491  ...  0.914649   2.327520   1.729443\n",
            "29       4.0    45.113026   138.643287  ...  0.241128   0.865492   0.725662\n",
            "30       4.0    57.087345  1256.750879  ...  0.395233   8.057484  19.352611\n",
            "31       7.0    56.850443  1116.799733  ...  3.709611   6.966962   1.519366\n",
            "32       7.0    35.936115   568.893987  ...  0.335252   3.560169   3.652015\n",
            "33       6.0    62.305731   258.071389  ...  0.281332   1.629517   2.431000\n",
            "34       5.0    78.082783  1330.875003  ...  0.448500   8.502259  16.890443\n",
            "35       5.0    85.434456   574.512282  ...  0.992308   3.623753   4.787403\n",
            "36       5.0    49.666155   984.113837  ...  0.993676   6.143098   2.079341\n",
            "37       2.0    34.292354   591.496677  ...  0.329500   3.696199   3.590491\n",
            "38       3.0    73.961817  1559.969614  ...  1.337862   9.728400   6.196267\n",
            "39      10.0    27.490159   671.374180  ...  0.829150   4.178344   3.612252\n",
            "\n",
            "[40 rows x 10 columns]\n"
          ],
          "name": "stdout"
        }
      ]
    },
    {
      "cell_type": "code",
      "metadata": {
        "id": "WMdBjiG32b5S",
        "colab_type": "code",
        "outputId": "f51e0986-7822-49c3-b4b8-19e68ad6b97b",
        "colab": {
          "base_uri": "https://localhost:8080/",
          "height": 820
        }
      },
      "source": [
        "df_indef=pd.DataFrame(matriz_x_i,columns=Nomes)\n",
        "print(df_indef)"
      ],
      "execution_count": 0,
      "outputs": [
        {
          "output_type": "stream",
          "text": [
            "    no.peaks  Media_proem   area under  ...      Mode       Mean         Sd\n",
            "0        9.0    59.225513   545.763345  ...  0.492801   3.428561   3.954993\n",
            "1        5.0    51.211486   990.885570  ...  0.762829   6.175834   3.765709\n",
            "2        6.0    22.557113   553.116669  ...  0.887800   3.476754   3.028102\n",
            "3        5.0    64.623715   679.735834  ...  0.656805   4.287639   2.874732\n",
            "4        3.0    49.081802  1073.987286  ...  2.185055   6.767893   6.089387\n",
            "5        8.0    60.562144   286.617691  ...  0.422222   1.795585   1.169058\n",
            "6        3.0    61.902764   738.006794  ...  0.710955   4.668445   4.936378\n",
            "7        6.0    41.412836  1465.493898  ...  1.808970   9.188403  10.882562\n",
            "8        3.0    52.315613   533.071433  ...  0.583826   3.340808   1.898353\n",
            "9        3.0    63.006968   784.902961  ...  0.642961   5.017915   6.220446\n",
            "10       4.0    51.036473   430.408294  ...  0.574462   2.717181   2.625300\n",
            "11       5.0    44.654713   569.084322  ...  1.605383   3.566899   1.900541\n",
            "12      10.0    60.026966   210.980120  ...  0.744962   1.323497   0.502659\n",
            "13      13.0    50.659222   377.236944  ...  0.496043   2.357642   1.221809\n",
            "14       3.0    48.217662  1760.057950  ...  0.967743  11.103878  12.875971\n",
            "15       6.0    74.579705   960.963733  ...  0.596224   5.975165   7.396431\n",
            "16       6.0    60.886869  1292.375162  ...  0.594605   8.033739   5.120889\n",
            "17       2.0    71.349790  2610.581881  ...  1.150448  16.281962  12.689364\n",
            "18       6.0    60.403916   225.256135  ...  0.716363   1.420028   1.141691\n",
            "19       4.0    81.024208  1848.271278  ...  0.748570  11.531817  10.332178\n",
            "20      12.0    47.148300   172.802961  ...  0.611271   1.094080   0.848285\n",
            "21       1.0    60.710952   889.446032  ...  0.275325   5.630819   9.064970\n",
            "22       5.0    70.639658  1767.322726  ...  0.695472  11.047750  11.738763\n",
            "23       2.0    60.495085   870.174916  ...  0.618294   5.482294   4.012127\n",
            "24       9.0    45.150846   227.711808  ...  0.362064   1.435725   1.159469\n",
            "25       8.0    62.474657   361.039400  ...  0.493240   2.269350   2.040295\n",
            "26       3.0    35.191080   447.062104  ...  0.823677   2.828204   2.364313\n",
            "27       8.0    20.883132   391.707976  ...  0.978493   2.468071   2.052938\n",
            "28       3.0    61.587363   373.144491  ...  0.914649   2.327520   1.729443\n",
            "29       4.0    45.113026   138.643287  ...  0.241128   0.865492   0.725662\n",
            "30       4.0    57.087345  1256.750879  ...  0.395233   8.057484  19.352611\n",
            "31       7.0    56.850443  1116.799733  ...  3.709611   6.966962   1.519366\n",
            "32       7.0    35.936115   568.893987  ...  0.335252   3.560169   3.652015\n",
            "33       6.0    62.305731   258.071389  ...  0.281332   1.629517   2.431000\n",
            "34       5.0    78.082783  1330.875003  ...  0.448500   8.502259  16.890443\n",
            "35       5.0    85.434456   574.512282  ...  0.992308   3.623753   4.787403\n",
            "36       5.0    49.666155   984.113837  ...  0.993676   6.143098   2.079341\n",
            "37       2.0    34.292354   591.496677  ...  0.329500   3.696199   3.590491\n",
            "38       3.0    73.961817  1559.969614  ...  1.337862   9.728400   6.196267\n",
            "39      10.0    27.490159   671.374180  ...  0.829150   4.178344   3.612252\n",
            "\n",
            "[40 rows x 10 columns]\n"
          ],
          "name": "stdout"
        }
      ]
    }
  ]
}