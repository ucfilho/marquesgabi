{
  "nbformat": 4,
  "nbformat_minor": 0,
  "metadata": {
    "colab": {
      "name": "SVM_fotos_01_dez_17_2019.ipynb",
      "provenance": [],
      "include_colab_link": true
    },
    "kernelspec": {
      "name": "python3",
      "display_name": "Python 3"
    },
    "accelerator": "GPU"
  },
  "cells": [
    {
      "cell_type": "markdown",
      "metadata": {
        "id": "view-in-github",
        "colab_type": "text"
      },
      "source": [
        "<a href=\"https://colab.research.google.com/github/ucfilho/marquesgabi/blob/master/SVM_fotos_01_dez_17_2019.ipynb\" target=\"_parent\"><img src=\"https://colab.research.google.com/assets/colab-badge.svg\" alt=\"Open In Colab\"/></a>"
      ]
    },
    {
      "cell_type": "code",
      "metadata": {
        "id": "uPzMNtMQeqs-",
        "colab_type": "code",
        "colab": {}
      },
      "source": [
        "from sklearn.model_selection import train_test_split\n",
        "import numpy as np\n",
        "import cv2\n",
        "import pandas as pd\n",
        "from sklearn.svm import SVC\n",
        "import random\n",
        "from sklearn.metrics import classification_report, confusion_matrix\n",
        "import matplotlib.pyplot as plt\n",
        "import matplotlib\n",
        "%matplotlib inline"
      ],
      "execution_count": 0,
      "outputs": []
    },
    {
      "cell_type": "code",
      "metadata": {
        "id": "o4y_z_-ge57N",
        "colab_type": "code",
        "colab": {
          "base_uri": "https://localhost:8080/",
          "height": 217
        },
        "outputId": "78eead30-e960-4674-e6e8-7f4611ef70bb"
      },
      "source": [
        "!wget http://ftp.feq.ufu.br/ubirajara/Fotos_Treina_ANN_dez_2019.csv\n",
        "Transfere='Fotos_Treina_ANN_dez_2019.csv'"
      ],
      "execution_count": 2,
      "outputs": [
        {
          "output_type": "stream",
          "text": [
            "--2019-12-17 22:58:06--  http://ftp.feq.ufu.br/ubirajara/Fotos_Treina_ANN_dez_2019.csv\n",
            "Resolving ftp.feq.ufu.br (ftp.feq.ufu.br)... 200.19.144.11\n",
            "Connecting to ftp.feq.ufu.br (ftp.feq.ufu.br)|200.19.144.11|:80... connected.\n",
            "HTTP request sent, awaiting response... 200 OK\n",
            "Length: 21508 (21K) [text/csv]\n",
            "Saving to: ‘Fotos_Treina_ANN_dez_2019.csv’\n",
            "\n",
            "Fotos_Treina_ANN_de 100%[===================>]  21.00K  36.0KB/s    in 0.6s    \n",
            "\n",
            "2019-12-17 22:58:07 (36.0 KB/s) - ‘Fotos_Treina_ANN_dez_2019.csv’ saved [21508/21508]\n",
            "\n"
          ],
          "name": "stdout"
        }
      ]
    },
    {
      "cell_type": "code",
      "metadata": {
        "id": "es7O1fUjfK2o",
        "colab_type": "code",
        "colab": {}
      },
      "source": [
        "df= pd.read_csv(Transfere) "
      ],
      "execution_count": 0,
      "outputs": []
    },
    {
      "cell_type": "code",
      "metadata": {
        "id": "cytkRXeDgL7P",
        "colab_type": "code",
        "colab": {}
      },
      "source": [
        "df['Type'] = df['Type'].map({'buraco':1, 'grao':2, 'indef':3}) "
      ],
      "execution_count": 0,
      "outputs": []
    },
    {
      "cell_type": "code",
      "metadata": {
        "id": "1gVOPf_LhXhb",
        "colab_type": "code",
        "colab": {}
      },
      "source": [
        "X=df.iloc[:,2:12]\n",
        "y=df.iloc[:,1]"
      ],
      "execution_count": 0,
      "outputs": []
    },
    {
      "cell_type": "code",
      "metadata": {
        "id": "Zi9gBj86i0V_",
        "colab_type": "code",
        "colab": {}
      },
      "source": [
        "# Train Test Split\n",
        "random.seed(13)\n",
        "X_train, X_test, y_train, y_test = train_test_split(X, y, test_size=0.30)"
      ],
      "execution_count": 0,
      "outputs": []
    },
    {
      "cell_type": "code",
      "metadata": {
        "id": "tSFUnE9E0UeS",
        "colab_type": "code",
        "colab": {
          "base_uri": "https://localhost:8080/",
          "height": 690
        },
        "outputId": "92baa463-69f4-4e1e-8280-3cd8afa6d687"
      },
      "source": [
        "print(y_test)"
      ],
      "execution_count": 7,
      "outputs": [
        {
          "output_type": "stream",
          "text": [
            "111    3\n",
            "33     1\n",
            "63     2\n",
            "14     1\n",
            "42     2\n",
            "81     3\n",
            "5      1\n",
            "22     1\n",
            "95     3\n",
            "105    3\n",
            "44     2\n",
            "51     2\n",
            "99     3\n",
            "76     2\n",
            "53     2\n",
            "39     1\n",
            "37     1\n",
            "77     2\n",
            "43     2\n",
            "59     2\n",
            "78     2\n",
            "1      1\n",
            "58     2\n",
            "4      1\n",
            "93     3\n",
            "101    3\n",
            "62     2\n",
            "73     2\n",
            "110    3\n",
            "108    3\n",
            "19     1\n",
            "80     3\n",
            "96     3\n",
            "10     1\n",
            "70     2\n",
            "41     2\n",
            "Name: Type, dtype: int64\n"
          ],
          "name": "stdout"
        }
      ]
    },
    {
      "cell_type": "code",
      "metadata": {
        "id": "xNTDvAyki_nV",
        "colab_type": "code",
        "colab": {}
      },
      "source": [
        "# Feature Scaling\n",
        "#svclassifier = SVC(kernel='linear')\n",
        "#svclassifier = SVC(kernel='rbf')\n",
        "# svclassifier = SVC(kernel='poly', C=0.025) #demorou muito \n",
        "#svclassifier =SVC(kernel='linear', C=1E10)\n",
        "C = 1.0 \n",
        "clf = svm.SVC(kernel='rbf', C=C)\n",
        "\n",
        "svclassifier.fit(X_train, y_train)"
      ],
      "execution_count": 0,
      "outputs": []
    },
    {
      "cell_type": "code",
      "metadata": {
        "id": "nkojtCWHyH-I",
        "colab_type": "code",
        "colab": {}
      },
      "source": [
        "y_pred = svclassifier.predict(X_test)"
      ],
      "execution_count": 0,
      "outputs": []
    },
    {
      "cell_type": "code",
      "metadata": {
        "id": "PYvri4wIjyGm",
        "colab_type": "code",
        "colab": {}
      },
      "source": [
        "# Evaluating the Algorithm\n",
        "print(confusion_matrix(y_test, y_pred))\n",
        "print(classification_report(y_test, y_pred))"
      ],
      "execution_count": 0,
      "outputs": []
    }
  ]
}