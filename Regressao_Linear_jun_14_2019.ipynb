{
  "nbformat": 4,
  "nbformat_minor": 0,
  "metadata": {
    "colab": {
      "name": "Regressao_Linear_jun_14_2019.ipynb",
      "version": "0.3.2",
      "provenance": [],
      "collapsed_sections": [],
      "include_colab_link": true
    },
    "kernelspec": {
      "name": "python3",
      "display_name": "Python 3"
    }
  },
  "cells": [
    {
      "cell_type": "markdown",
      "metadata": {
        "id": "view-in-github",
        "colab_type": "text"
      },
      "source": [
        "<a href=\"https://colab.research.google.com/github/ucfilho/marquesgabi/blob/master/Regressao_Linear_jun_14_2019.ipynb\" target=\"_parent\"><img src=\"https://colab.research.google.com/assets/colab-badge.svg\" alt=\"Open In Colab\"/></a>"
      ]
    },
    {
      "cell_type": "code",
      "metadata": {
        "id": "wwmhr7WKIZid",
        "colab_type": "code",
        "colab": {}
      },
      "source": [
        "import numpy as np\n",
        "import matplotlib.pyplot as plt  # To visualize\n",
        "import pandas as pd  # To read data\n",
        "from sklearn.linear_model import LinearRegression"
      ],
      "execution_count": 0,
      "outputs": []
    },
    {
      "cell_type": "code",
      "metadata": {
        "id": "zCKJukB8IeJy",
        "colab_type": "code",
        "outputId": "c798a804-6231-45fa-fb2a-f0c93c404845",
        "colab": {
          "base_uri": "https://localhost:8080/",
          "height": 52
        }
      },
      "source": [
        "X=[0.948,0.789,0.583,0.321,0.187,0.115,0.069,0.037,0.022,0.011,0.004]\n",
        "D=[2.38 ,1.68 ,1.19,0.841, 0.595,0.420 ,0.297,0.210 ,0.149 ,0.105 ,0.074]\n",
        "print(len(X))\n",
        "print(len(D))"
      ],
      "execution_count": 0,
      "outputs": [
        {
          "output_type": "stream",
          "text": [
            "11\n",
            "11\n"
          ],
          "name": "stdout"
        }
      ]
    },
    {
      "cell_type": "code",
      "metadata": {
        "id": "sR5RlepCJoCX",
        "colab_type": "code",
        "colab": {}
      },
      "source": [
        ""
      ],
      "execution_count": 0,
      "outputs": []
    },
    {
      "cell_type": "code",
      "metadata": {
        "id": "mAwDTbtbKhpZ",
        "colab_type": "code",
        "colab": {}
      },
      "source": [
        "Y=np.copy(X)\n",
        "X=np.array(D)\n",
        "X=X.reshape((-1, 1))\n",
        "linear_regressor = LinearRegression()  # create object for the class\n",
        "linear_regressor.fit(X, Y)  # perform linear regression\n",
        "Y_pred = linear_regressor.predict(X)  # make predictions\n"
      ],
      "execution_count": 0,
      "outputs": []
    },
    {
      "cell_type": "code",
      "metadata": {
        "id": "f9yFzjPqPaaM",
        "colab_type": "code",
        "outputId": "edbf64c0-bdea-481f-d7bc-16cd1835839b",
        "colab": {
          "base_uri": "https://localhost:8080/",
          "height": 269
        }
      },
      "source": [
        "plt.scatter(X, Y)\n",
        "plt.plot(X, Y_pred, color='red')\n",
        "plt.show()"
      ],
      "execution_count": 0,
      "outputs": [
        {
          "output_type": "display_data",
          "data": {
            "image/png": "[encoded data removed]",
            "text/plain": [
              "<Figure size 432x288 with 1 Axes>"
            ]
          },
          "metadata": {
            "tags": []
          }
        }
      ]
    },
    {
      "cell_type": "code",
      "metadata": {
        "id": "6N92q7Y5PbOq",
        "colab_type": "code",
        "outputId": "8166fb14-c0b2-4781-fee3-7547a6a20cce",
        "colab": {
          "base_uri": "https://localhost:8080/",
          "height": 210
        }
      },
      "source": [
        "print(X)"
      ],
      "execution_count": 0,
      "outputs": [
        {
          "output_type": "stream",
          "text": [
            "[[2.38 ]\n",
            " [1.68 ]\n",
            " [1.19 ]\n",
            " [0.841]\n",
            " [0.595]\n",
            " [0.42 ]\n",
            " [0.297]\n",
            " [0.21 ]\n",
            " [0.149]\n",
            " [0.105]\n",
            " [0.074]]\n"
          ],
          "name": "stdout"
        }
      ]
    },
    {
      "cell_type": "code",
      "metadata": {
        "id": "sBansO3nQtq8",
        "colab_type": "code",
        "outputId": "84c38b6c-e856-454b-8360-f049425295ce",
        "colab": {
          "base_uri": "https://localhost:8080/",
          "height": 34
        }
      },
      "source": [
        "model = LinearRegression().fit(X, Y)\n",
        "r_sq = model.score(X, Y)\n",
        "print('coefficient of determination:', r_sq)\n"
      ],
      "execution_count": 0,
      "outputs": [
        {
          "output_type": "stream",
          "text": [
            "coefficient of determination: 0.9793134603931017\n"
          ],
          "name": "stdout"
        }
      ]
    },
    {
      "cell_type": "code",
      "metadata": {
        "id": "3N3IsQE4WB2E",
        "colab_type": "code",
        "outputId": "b24225e3-0ef4-47df-f3d5-e7a20511a849",
        "colab": {
          "base_uri": "https://localhost:8080/",
          "height": 52
        }
      },
      "source": [
        "print('intercept:', model.intercept_)\n",
        "print('slope:', model.coef_)\n"
      ],
      "execution_count": 0,
      "outputs": [
        {
          "output_type": "stream",
          "text": [
            "intercept: -0.04427674940220783\n",
            "slope: [0.4499489]\n"
          ],
          "name": "stdout"
        }
      ]
    }
  ]
}