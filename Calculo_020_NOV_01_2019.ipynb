{
  "nbformat": 4,
  "nbformat_minor": 0,
  "metadata": {
    "colab": {
      "name": "Calculo_020_NOV_01_2019.ipynb",
      "provenance": [],
      "collapsed_sections": [],
      "include_colab_link": true
    },
    "kernelspec": {
      "name": "python3",
      "display_name": "Python 3"
    }
  },
  "cells": [
    {
      "cell_type": "markdown",
      "metadata": {
        "id": "view-in-github",
        "colab_type": "text"
      },
      "source": [
        "<a href=\"https://colab.research.google.com/github/ucfilho/marquesgabi/blob/master/Calculo_020_NOV_01_2019.ipynb\" target=\"_parent\"><img src=\"https://colab.research.google.com/assets/colab-badge.svg\" alt=\"Open In Colab\"/></a>"
      ]
    },
    {
      "cell_type": "code",
      "metadata": {
        "id": "9q3V2QrqnMBI",
        "colab_type": "code",
        "colab": {}
      },
      "source": [
        "# carrega as bibliotecas do python"
      ],
      "execution_count": 0,
      "outputs": []
    },
    {
      "cell_type": "code",
      "metadata": {
        "id": "7ehcD9CI2hdG",
        "colab_type": "code",
        "colab": {}
      },
      "source": [
        "# rotate image....\n",
        "# https://www.pyimagesearch.com/2017/01/02/rotate-images-correctly-with-opencv-and-python/\n",
        "# https://pythontic.com/image-processing/pillow/rotate"
      ],
      "execution_count": 0,
      "outputs": []
    },
    {
      "cell_type": "code",
      "metadata": {
        "id": "szqvrsIInRDg",
        "colab_type": "code",
        "colab": {}
      },
      "source": [
        "%matplotlib inline\n",
        "from matplotlib import pyplot as plt\n",
        "import os \n",
        "import cv2\n",
        "import zipfile\n",
        "from skimage import data\n",
        "from skimage import filters\n",
        "from skimage import exposure\n",
        "import skimage.feature as sk\n",
        "import numpy as np\n",
        "import pandas as pd\n",
        "from google.colab import files\n",
        "from sklearn.metrics.cluster import entropy\n",
        "from sklearn.metrics.cluster import homogeneity_score\n",
        "from numpy import linalg as LA\n"
      ],
      "execution_count": 0,
      "outputs": []
    },
    {
      "cell_type": "code",
      "metadata": {
        "id": "zsjb8DmRVtDy",
        "colab_type": "code",
        "outputId": "0ab7e0b4-d66b-466b-8859-f306e96fbade",
        "colab": {
          "base_uri": "https://localhost:8080/",
          "height": 210
        }
      },
      "source": [
        "!wget http://ftp.feq.ufu.br/ubirajara/Sugar_set_30_2019.zip\n",
        "#!ls -l trash_nov_22_2018.zip\n"
      ],
      "execution_count": 0,
      "outputs": [
        {
          "output_type": "stream",
          "text": [
            "--2019-11-01 21:34:39--  http://ftp.feq.ufu.br/ubirajara/Sugar_set_30_2019.zip\n",
            "Resolving ftp.feq.ufu.br (ftp.feq.ufu.br)... 200.19.144.11\n",
            "Connecting to ftp.feq.ufu.br (ftp.feq.ufu.br)|200.19.144.11|:80... connected.\n",
            "HTTP request sent, awaiting response... 200 OK\n",
            "Length: 19584173 (19M) [application/zip]\n",
            "Saving to: ‘Sugar_set_30_2019.zip.1’\n",
            "\n",
            "Sugar_set_30_2019.z 100%[===================>]  18.68M  4.87MB/s    in 3.8s    \n",
            "\n",
            "2019-11-01 21:34:43 (4.87 MB/s) - ‘Sugar_set_30_2019.zip.1’ saved [19584173/19584173]\n",
            "\n"
          ],
          "name": "stdout"
        }
      ]
    },
    {
      "cell_type": "code",
      "metadata": {
        "id": "ygswjsh1ptUl",
        "colab_type": "code",
        "colab": {}
      },
      "source": [
        "\n",
        "file_name = zipfile.ZipFile('Sugar_set_30_2019.zip', 'r')\n",
        "file_name.extractall() "
      ],
      "execution_count": 0,
      "outputs": []
    },
    {
      "cell_type": "code",
      "metadata": {
        "id": "Qq1UTVWMnU0n",
        "colab_type": "code",
        "colab": {}
      },
      "source": [
        "# all images are resized in variable x, are in gray in variable p and in variable w are dataframe\n",
        "FILE='Sugar_set_30_2019.zip'\n",
        "img_name=[]\n",
        "x=[]\n",
        "p=[]\n",
        "w=[]\n",
        "Size=5 # trocar por 64 qdo acabar a analise\n",
        "\n",
        "with zipfile.ZipFile(FILE, \"r\") as f:\n",
        "    for name in f.namelist():\n",
        "        img_name.append(name)\n",
        "        #x.append(cv2.imread(name))\n",
        "        x.append(cv2.resize(cv2.imread(name),(Size,Size)))\n",
        "\n",
        "nrow=len(img_name)\n",
        "ncol=Size*Size\n",
        "pp=np.zeros((nrow,ncol))\n",
        "for i in range(nrow):\n",
        "    w.append(cv2.cvtColor(np.array(x[i]), cv2.COLOR_BGR2GRAY))\n",
        "    pp[i,:]=w[i].ravel()"
      ],
      "execution_count": 0,
      "outputs": []
    },
    {
      "cell_type": "code",
      "metadata": {
        "id": "FFahQriWmGHt",
        "colab_type": "code",
        "outputId": "0a50fdde-99cc-4161-c515-9f4d43e5e5c1",
        "colab": {
          "base_uri": "https://localhost:8080/",
          "height": 52
        }
      },
      "source": [
        "!git clone https://github.com/ucfilho/marquesgabi #clonar do Github\n",
        "%cd marquesgabi\n",
        "import Go2GLCM"
      ],
      "execution_count": 0,
      "outputs": [
        {
          "output_type": "stream",
          "text": [
            "fatal: destination path 'marquesgabi' already exists and is not an empty directory.\n",
            "/content/marquesgabi\n"
          ],
          "name": "stdout"
        }
      ]
    },
    {
      "cell_type": "code",
      "metadata": {
        "id": "9XPFWhiq3tGW",
        "colab_type": "code",
        "outputId": "f4860ee1-20f9-4427-8019-531cbda81544",
        "colab": {
          "base_uri": "https://localhost:8080/",
          "height": 105
        }
      },
      "source": [
        "#Nfotos=len(img_name)\n",
        "Nfotos=1\n",
        "for k in range(Nfotos):\n",
        "  p=pp[k,:].reshape(Size,Size)\n",
        "  GLCM=Go2GLCM.GLCM(p)\n",
        "  pd.set_option('display.max_columns', 30)\n",
        "  print(pd.DataFrame(GLCM))\n",
        "\n",
        "  "
      ],
      "execution_count": 0,
      "outputs": [
        {
          "output_type": "stream",
          "text": [
            "         0        1          2            3         4          5         6  \\\n",
            "0  0.06272  2.61547 -26.620639  1522.803756  0.490929  12.046745  15.48616   \n",
            "\n",
            "          7        8          9        10        11        12        13  \n",
            "0  1.840619  0.71127  10.461881  5.334037 -0.000456  0.035534  0.025436  \n"
          ],
          "name": "stdout"
        }
      ]
    },
    {
      "cell_type": "code",
      "metadata": {
        "id": "8JqTwJ9TpmzE",
        "colab_type": "code",
        "outputId": "ad635efc-663b-419a-c405-aa5bb9f8dac2",
        "colab": {
          "base_uri": "https://localhost:8080/",
          "height": 34
        }
      },
      "source": [
        "print(p.shape)"
      ],
      "execution_count": 0,
      "outputs": [
        {
          "output_type": "stream",
          "text": [
            "(5, 5)\n"
          ],
          "name": "stdout"
        }
      ]
    },
    {
      "cell_type": "code",
      "metadata": {
        "id": "4SByB4bq4wO9",
        "colab_type": "code",
        "outputId": "9a9e827c-ac66-48d5-b6a2-825bc039943b",
        "colab": {
          "base_uri": "https://localhost:8080/",
          "height": 54
        }
      },
      "source": [
        "'''          \n",
        "          0         1          2         3         4          5          6  \\\n",
        "0  0.040159  4.006764 -48.388893  5.873156  0.423837  20.097900  38.848134   \n",
        "1  0.041540  4.282528 -47.724904  5.762803  0.411868  20.118283  38.570089   \n",
        "2  0.040287  4.030399 -49.193342  5.979967  0.424910  20.208554  39.133866   \n",
        "3  0.040175  4.015663 -48.607804  6.027608  0.435603  20.231465  39.597120   \n",
        "4  0.040313  4.043838 -47.746904  5.656749  0.422210  19.935322  38.085237   \n",
        "\n",
        "          7         8          9        10        11        12        13  \n",
        "0  2.080038  0.648663  20.033820  7.608990 -0.000770  0.049748  0.039787  \n",
        "1  2.064334  0.646616  21.412639  7.688757 -0.005531  0.132720  0.133372  \n",
        "2  2.071191  0.656965  20.151997  7.628194 -0.001239  0.063068  0.045709  \n",
        "3  2.083742  0.653877  20.078315  7.654684 -0.000658  0.045987  0.036992  \n",
        "4  2.073301  0.652921  20.219188  7.614789 -0.001073  0.058718  0.051329\n",
        "'''"
      ],
      "execution_count": 0,
      "outputs": [
        {
          "output_type": "execute_result",
          "data": {
            "text/plain": [
              "'          \\n          0         1          2         3         4          5          6  0  0.040159  4.006764 -48.388893  5.873156  0.423837  20.097900  38.848134   \\n1  0.041540  4.282528 -47.724904  5.762803  0.411868  20.118283  38.570089   \\n2  0.040287  4.030399 -49.193342  5.979967  0.424910  20.208554  39.133866   \\n3  0.040175  4.015663 -48.607804  6.027608  0.435603  20.231465  39.597120   \\n4  0.040313  4.043838 -47.746904  5.656749  0.422210  19.935322  38.085237   \\n\\n          7         8          9        10        11        12        13  \\n0  2.080038  0.648663  20.033820  7.608990 -0.000770  0.049748  0.039787  \\n1  2.064334  0.646616  21.412639  7.688757 -0.005531  0.132720  0.133372  \\n2  2.071191  0.656965  20.151997  7.628194 -0.001239  0.063068  0.045709  \\n3  2.083742  0.653877  20.078315  7.654684 -0.000658  0.045987  0.036992  \\n4  2.073301  0.652921  20.219188  7.614789 -0.001073  0.058718  0.051329\\n'"
            ]
          },
          "metadata": {
            "tags": []
          },
          "execution_count": 9
        }
      ]
    },
    {
      "cell_type": "code",
      "metadata": {
        "id": "DVBIw8hpxRC3",
        "colab_type": "code",
        "outputId": "e5e104fe-ea6e-45e4-85a6-372129396aba",
        "colab": {
          "base_uri": "https://localhost:8080/",
          "height": 87
        }
      },
      "source": [
        "import numpy as np\n",
        "#from skimage.feature import haar_like_feature_coord\n",
        "#from skimage.feature import draw_haar_like_feature\n",
        "from skimage.feature import greycomatrix\n",
        "from skimage.feature import greycoprops\n",
        "#import skimage.feature.greycoprops as greycoprops\n",
        "image = np.array([[0, 0, 1, 1],[0, 0, 1, 1],[0, 2, 2, 2],[2, 2, 3, 3]], dtype=np.uint8)\n",
        "g = greycomatrix(image, [1, 2], [0, np.pi/2], levels=6,normed=True, symmetric=True)\n",
        "contrast = greycoprops(g, 'contrast')\n",
        "correlation= greycoprops(g, 'correlation')\n",
        "print(contrast)\n",
        "print(correlation)"
      ],
      "execution_count": 0,
      "outputs": [
        {
          "output_type": "stream",
          "text": [
            "[[0.58333333 1.        ]\n",
            " [1.25       2.75      ]]\n",
            "[[ 0.71953255  0.48571429]\n",
            " [ 0.41176471 -0.29411765]]\n"
          ],
          "name": "stdout"
        }
      ]
    }
  ]
}