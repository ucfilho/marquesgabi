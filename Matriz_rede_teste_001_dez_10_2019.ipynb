{
  "nbformat": 4,
  "nbformat_minor": 0,
  "metadata": {
    "colab": {
      "name": "Matriz_rede_teste_001_dez_10_2019.ipynb",
      "provenance": [],
      "collapsed_sections": [],
      "include_colab_link": true
    },
    "kernelspec": {
      "name": "python3",
      "display_name": "Python 3"
    },
    "accelerator": "GPU"
  },
  "cells": [
    {
      "cell_type": "markdown",
      "metadata": {
        "id": "view-in-github",
        "colab_type": "text"
      },
      "source": [
        "<a href=\"https://colab.research.google.com/github/ucfilho/marquesgabi/blob/master/Matriz_rede_teste_001_dez_10_2019.ipynb\" target=\"_parent\"><img src=\"https://colab.research.google.com/assets/colab-badge.svg\" alt=\"Open In Colab\"/></a>"
      ]
    },
    {
      "cell_type": "code",
      "metadata": {
        "id": "SzWdrvAgvBId",
        "colab_type": "code",
        "colab": {}
      },
      "source": [
        "import numpy as np\n",
        "import cv2\n",
        "from skimage import data\n",
        "import matplotlib.pyplot as plt\n",
        "import matplotlib\n",
        "import pandas as pd\n",
        "from skimage import io, util\n",
        "import os \n",
        "import zipfile\n",
        "from skimage import filters\n",
        "from skimage import exposure\n",
        "import skimage.feature as sk\n",
        "from google.colab import files\n",
        "from numpy import linalg as LA\n",
        "from scipy.signal import find_peaks\n",
        "from scipy.signal import peak_prominences\n",
        "from scipy.signal import peak_widths\n",
        "%matplotlib inline"
      ],
      "execution_count": 0,
      "outputs": []
    },
    {
      "cell_type": "code",
      "metadata": {
        "id": "h1Zsufcm9bfv",
        "colab_type": "code",
        "outputId": "311f0b3c-90b7-462a-87c5-490fab51d71a",
        "colab": {
          "base_uri": "https://localhost:8080/",
          "height": 223
        }
      },
      "source": [
        "!wget http://ftp.feq.ufu.br/ubirajara/Contraste_dez_10_2019.zip\n",
        "Transfere='Contraste_dez_10_2019.zip'"
      ],
      "execution_count": 2,
      "outputs": [
        {
          "output_type": "stream",
          "text": [
            "--2019-12-10 14:11:30--  http://ftp.feq.ufu.br/ubirajara/Contraste_dez_10_2019.zip\n",
            "Resolving ftp.feq.ufu.br (ftp.feq.ufu.br)... 200.19.144.11\n",
            "Connecting to ftp.feq.ufu.br (ftp.feq.ufu.br)|200.19.144.11|:80... connected.\n",
            "HTTP request sent, awaiting response... 200 OK\n",
            "Length: 128014 (125K) [application/zip]\n",
            "Saving to: ‘Contraste_dez_10_2019.zip’\n",
            "\n",
            "Contraste_dez_10_20 100%[===================>] 125.01K  72.4KB/s    in 1.7s    \n",
            "\n",
            "2019-12-10 14:11:33 (72.4 KB/s) - ‘Contraste_dez_10_2019.zip’ saved [128014/128014]\n",
            "\n"
          ],
          "name": "stdout"
        }
      ]
    },
    {
      "cell_type": "code",
      "metadata": {
        "id": "n3EWa3f7A-FE",
        "colab_type": "code",
        "colab": {}
      },
      "source": [
        "file_name = zipfile.ZipFile(Transfere, 'r')\n",
        "file_name.extractall()\n",
        "FILE=Transfere\n",
        "file_name=[]\n",
        "\n",
        "with zipfile.ZipFile(FILE, \"r\") as f:\n",
        "    for name in f.namelist():\n",
        "        file_name.append(name)"
      ],
      "execution_count": 0,
      "outputs": []
    },
    {
      "cell_type": "code",
      "metadata": {
        "id": "avVL_ZAd7ZLi",
        "colab_type": "code",
        "colab": {
          "base_uri": "https://localhost:8080/",
          "height": 36
        },
        "outputId": "4b5d675d-f157-4432-c5ca-963d99663944"
      },
      "source": [
        "print(file_name)"
      ],
      "execution_count": 4,
      "outputs": [
        {
          "output_type": "stream",
          "text": [
            "['Contraste_Buraco_01_dez_2019.csv', 'Contraste_Grao_01_dez_2019.csv', 'Contraste_Indef_01_dez_2019.csv']\n"
          ],
          "name": "stdout"
        }
      ]
    },
    {
      "cell_type": "code",
      "metadata": {
        "id": "qKqzlX77P5-M",
        "colab_type": "code",
        "colab": {
          "base_uri": "https://localhost:8080/",
          "height": 820
        },
        "outputId": "347e300a-0557-4fc6-d214-1c441734d015"
      },
      "source": [
        "df = pd.read_csv(file_name[0]) \n",
        "print(df)"
      ],
      "execution_count": 15,
      "outputs": [
        {
          "output_type": "stream",
          "text": [
            "    Unnamed: 0          0          1  ...        158        159        160\n",
            "0            0  10.217542  10.737327  ...   2.519001   2.498003   2.473397\n",
            "1            1   6.003546   5.834985  ...   0.776007   0.768684   0.762829\n",
            "2            2   0.931476   0.928858  ...  11.728546  12.057861  12.352392\n",
            "3            3  11.321692  11.112385  ...   9.826890   9.810289   9.791580\n",
            "4            4  22.274404  22.561366  ...   9.063979   9.158033   9.172432\n",
            "5            5   1.415002   1.393471  ...   3.545221   3.501245   3.458107\n",
            "6            6  26.711822  26.569983  ...   1.103074   1.096409   1.087463\n",
            "7            7   3.241564   3.161025  ...  28.485482  26.345944  24.153369\n",
            "8            8   5.038946   5.031418  ...   4.331188   4.366757   4.409336\n",
            "9            9  27.668787  26.629684  ...  17.054878  17.302663  17.551414\n",
            "10          10   8.357980   8.401619  ...   5.708966   5.737188   5.760030\n",
            "11          11   5.000497   4.993142  ...   5.460478   5.419457   5.387364\n",
            "12          12   2.850579   2.804097  ...   1.531932   1.457154   1.371963\n",
            "13          13   3.685067   3.652786  ...   0.950801   0.948714   0.947272\n",
            "14          14  45.936834  46.025653  ...   9.237245   8.945825   8.666790\n",
            "15          15   1.104072   1.131266  ...   1.113930   1.136444   1.164822\n",
            "16          16   0.594605   0.603057  ...   1.459792   1.423788   1.376072\n",
            "17          17  20.640200  21.745287  ...   1.214781   1.178953   1.150448\n",
            "18          18   5.536880   5.518927  ...   1.268643   1.253172   1.234278\n",
            "19          19  14.457080  14.762340  ...   2.614929   2.503480   2.389094\n",
            "20          20   1.950641   1.859344  ...   4.401504   4.527839   4.659558\n",
            "21          21  33.436317  33.224696  ...   0.860236   0.881127   0.904278\n",
            "22          22  11.502075  12.444473  ...  12.572119  12.366971  12.196528\n",
            "23          23  12.029126  11.985910  ...  13.045587  12.958974  12.887816\n",
            "24          24   2.072736   2.076800  ...   4.475382   4.606936   4.743056\n",
            "25          25   2.531907   2.609480  ...   6.436859   6.362044   6.233818\n",
            "26          26   6.295377   6.046306  ...   9.910088  10.060182  10.205736\n",
            "27          27   1.140796   1.160178  ...  10.027807  10.041642  10.044268\n",
            "28          28   2.665035   3.202387  ...   0.475682   0.458428   0.442000\n",
            "29          29   0.241128   0.245825  ...   1.378875   1.281431   1.178279\n",
            "30          30  74.406505  74.317493  ...   4.968121   4.998636   5.035162\n",
            "31          31   3.709611   4.404011  ...   6.568750   6.330165   6.062599\n",
            "32          32   3.917258   3.924244  ...   5.500452   5.083136   4.659303\n",
            "33          33   7.953715   8.053604  ...   0.725810   0.724848   0.723233\n",
            "34          34   8.436547   8.280543  ...  65.042131  65.045940  65.052145\n",
            "35          35  17.343914  17.331340  ...   1.041400   1.022678   1.003139\n",
            "36          36   8.834094   8.882318  ...   1.040906   1.019732   0.993676\n",
            "37          37   0.329500   0.330782  ...   6.733757   6.783346   6.834899\n",
            "38          38   2.356295   2.611604  ...  10.375970  10.342406  10.301348\n",
            "39          39   1.798213   1.803406  ...   1.070611   0.952342   0.829150\n",
            "\n",
            "[40 rows x 162 columns]\n"
          ],
          "name": "stdout"
        }
      ]
    },
    {
      "cell_type": "code",
      "metadata": {
        "id": "YVBsUlEc-Azi",
        "colab_type": "code",
        "colab": {
          "base_uri": "https://localhost:8080/",
          "height": 36
        },
        "outputId": "13e29fd1-a5b9-4518-e19e-a8f5ebfa3309"
      },
      "source": [
        "'''\n",
        "file_name = zipfile.ZipFile(Transfere, 'r')\n",
        "file_name.extractall()\n",
        "'''"
      ],
      "execution_count": 6,
      "outputs": [
        {
          "output_type": "execute_result",
          "data": {
            "text/plain": [
              "\"\\nfile_name = zipfile.ZipFile(Transfere, 'r')\\nfile_name.extractall()\\n\""
            ]
          },
          "metadata": {
            "tags": []
          },
          "execution_count": 6
        }
      ]
    },
    {
      "cell_type": "code",
      "metadata": {
        "id": "t7KEAGdCBJ0a",
        "colab_type": "code",
        "outputId": "a7d56a22-9b02-4c0b-bf56-9a25c2454d0e",
        "colab": {
          "base_uri": "https://localhost:8080/",
          "height": 36
        }
      },
      "source": [
        "'''\n",
        "print(file_name)\n",
        "'''"
      ],
      "execution_count": 7,
      "outputs": [
        {
          "output_type": "execute_result",
          "data": {
            "text/plain": [
              "'\\nprint(file_name)\\n'"
            ]
          },
          "metadata": {
            "tags": []
          },
          "execution_count": 7
        }
      ]
    },
    {
      "cell_type": "code",
      "metadata": {
        "id": "8R9jsmgsDtFV",
        "colab_type": "code",
        "outputId": "63fd4382-693b-41e3-8af8-2929da4f19cc",
        "colab": {
          "base_uri": "https://localhost:8080/",
          "height": 36
        }
      },
      "source": [
        "'''\n",
        "plt.plot(x_ref,df['constrast'])   \n",
        "'''"
      ],
      "execution_count": 8,
      "outputs": [
        {
          "output_type": "execute_result",
          "data": {
            "text/plain": [
              "\"\\nplt.plot(x_ref,df['constrast'])   \\n\""
            ]
          },
          "metadata": {
            "tags": []
          },
          "execution_count": 8
        }
      ]
    },
    {
      "cell_type": "code",
      "metadata": {
        "id": "3QB5rgbiF8Pc",
        "colab_type": "code",
        "colab": {}
      },
      "source": [
        "# https://docs.scipy.org/doc/scipy/reference/generated/scipy.signal.find_peaks.html"
      ],
      "execution_count": 0,
      "outputs": []
    },
    {
      "cell_type": "code",
      "metadata": {
        "id": "U09-LfLZFNCw",
        "colab_type": "code",
        "outputId": "36447e6c-3f80-403b-dba4-178e2caf44b7",
        "colab": {
          "base_uri": "https://localhost:8080/",
          "height": 56
        }
      },
      "source": [
        "'''\n",
        "x=np.array(df['constrast'])\n",
        "peaks, rr = find_peaks(x, height=0)\n",
        "plt.plot(x)\n",
        "plt.plot(peaks, x[peaks], \"x\")\n",
        "plt.plot(np.zeros_like(x), \"--\", color=\"gray\")\n",
        "plt.show()\n",
        "'''"
      ],
      "execution_count": 10,
      "outputs": [
        {
          "output_type": "execute_result",
          "data": {
            "text/plain": [
              "'\\nx=np.array(df[\\'constrast\\'])\\npeaks, rr = find_peaks(x, height=0)\\nplt.plot(x)\\nplt.plot(peaks, x[peaks], \"x\")\\nplt.plot(np.zeros_like(x), \"--\", color=\"gray\")\\nplt.show()\\n'"
            ]
          },
          "metadata": {
            "tags": []
          },
          "execution_count": 10
        }
      ]
    },
    {
      "cell_type": "code",
      "metadata": {
        "id": "s0z7uLL-FeVZ",
        "colab_type": "code",
        "outputId": "2993b0b7-fb40-4c07-f606-1676bf301f4b",
        "colab": {
          "base_uri": "https://localhost:8080/",
          "height": 36
        }
      },
      "source": [
        "'''\n",
        "print('Picos do contraste (posicao):')\n",
        "print(peaks)\n",
        "'''"
      ],
      "execution_count": 11,
      "outputs": [
        {
          "output_type": "execute_result",
          "data": {
            "text/plain": [
              "\"\\nprint('Picos do contraste (posicao):')\\nprint(peaks)\\n\""
            ]
          },
          "metadata": {
            "tags": []
          },
          "execution_count": 11
        }
      ]
    },
    {
      "cell_type": "code",
      "metadata": {
        "id": "7dujkF5CG_Rl",
        "colab_type": "code",
        "outputId": "d0dc27fc-c36d-4a70-ead5-2b6ae23f7dac",
        "colab": {
          "base_uri": "https://localhost:8080/",
          "height": 36
        }
      },
      "source": [
        "'''\n",
        "prominences = peak_prominences(x, peaks)[0]\n",
        "print(prominences)\n",
        "'''"
      ],
      "execution_count": 12,
      "outputs": [
        {
          "output_type": "execute_result",
          "data": {
            "text/plain": [
              "'\\nprominences = peak_prominences(x, peaks)[0]\\nprint(prominences)\\n'"
            ]
          },
          "metadata": {
            "tags": []
          },
          "execution_count": 12
        }
      ]
    },
    {
      "cell_type": "code",
      "metadata": {
        "id": "AFNEVWAnH7ui",
        "colab_type": "code",
        "outputId": "d1a331a8-ad41-4dea-e60d-18dbb5f90819",
        "colab": {
          "base_uri": "https://localhost:8080/",
          "height": 36
        }
      },
      "source": [
        "'''\n",
        "results_widths = peak_widths(x, peaks, rel_height=0.5)\n",
        "print(results_widths)\n",
        "'''"
      ],
      "execution_count": 13,
      "outputs": [
        {
          "output_type": "execute_result",
          "data": {
            "text/plain": [
              "'\\nresults_widths = peak_widths(x, peaks, rel_height=0.5)\\nprint(results_widths)\\n'"
            ]
          },
          "metadata": {
            "tags": []
          },
          "execution_count": 13
        }
      ]
    }
  ]
}