{
  "nbformat": 4,
  "nbformat_minor": 0,
  "metadata": {
    "colab": {
      "name": "Calculo_007_out_21_2019.ipynb",
      "provenance": [],
      "collapsed_sections": [],
      "include_colab_link": true
    },
    "kernelspec": {
      "name": "python3",
      "display_name": "Python 3"
    }
  },
  "cells": [
    {
      "cell_type": "markdown",
      "metadata": {
        "id": "view-in-github",
        "colab_type": "text"
      },
      "source": [
        "<a href=\"https://colab.research.google.com/github/ucfilho/marquesgabi/blob/master/Calculo_007_out_21_2019.ipynb\" target=\"_parent\"><img src=\"https://colab.research.google.com/assets/colab-badge.svg\" alt=\"Open In Colab\"/></a>"
      ]
    },
    {
      "cell_type": "code",
      "metadata": {
        "id": "9q3V2QrqnMBI",
        "colab_type": "code",
        "colab": {}
      },
      "source": [
        "# carrega as bibliotecas do python"
      ],
      "execution_count": 0,
      "outputs": []
    },
    {
      "cell_type": "code",
      "metadata": {
        "id": "szqvrsIInRDg",
        "colab_type": "code",
        "colab": {}
      },
      "source": [
        "%matplotlib inline\n",
        "from matplotlib import pyplot as plt\n",
        "import os \n",
        "import cv2\n",
        "import zipfile\n",
        "from skimage import data\n",
        "from skimage import filters\n",
        "from skimage import exposure\n",
        "import numpy as np\n",
        "import pandas as pd\n",
        "from google.colab import files"
      ],
      "execution_count": 0,
      "outputs": []
    },
    {
      "cell_type": "code",
      "metadata": {
        "id": "zsjb8DmRVtDy",
        "colab_type": "code",
        "outputId": "c0a7c304-543a-4bff-b807-4c35fd4aaa55",
        "colab": {
          "base_uri": "https://localhost:8080/",
          "height": 223
        }
      },
      "source": [
        "!wget http://ftp.feq.ufu.br/ubirajara/Sugar_set_30_2019.zip\n",
        "#!ls -l trash_nov_22_2018.zip\n"
      ],
      "execution_count": 3,
      "outputs": [
        {
          "output_type": "stream",
          "text": [
            "--2019-10-21 19:45:13--  http://ftp.feq.ufu.br/ubirajara/Sugar_set_30_2019.zip\n",
            "Resolving ftp.feq.ufu.br (ftp.feq.ufu.br)... 200.19.144.11\n",
            "Connecting to ftp.feq.ufu.br (ftp.feq.ufu.br)|200.19.144.11|:80... connected.\n",
            "HTTP request sent, awaiting response... 200 OK\n",
            "Length: 19584173 (19M) [application/zip]\n",
            "Saving to: ‘Sugar_set_30_2019.zip’\n",
            "\n",
            "Sugar_set_30_2019.z 100%[===================>]  18.68M  3.94MB/s    in 4.7s    \n",
            "\n",
            "2019-10-21 19:45:20 (3.94 MB/s) - ‘Sugar_set_30_2019.zip’ saved [19584173/19584173]\n",
            "\n"
          ],
          "name": "stdout"
        }
      ]
    },
    {
      "cell_type": "code",
      "metadata": {
        "id": "ygswjsh1ptUl",
        "colab_type": "code",
        "colab": {}
      },
      "source": [
        "\n",
        "file_name = zipfile.ZipFile('Sugar_set_30_2019.zip', 'r')\n",
        "file_name.extractall() "
      ],
      "execution_count": 0,
      "outputs": []
    },
    {
      "cell_type": "code",
      "metadata": {
        "id": "Qq1UTVWMnU0n",
        "colab_type": "code",
        "colab": {}
      },
      "source": [
        "# all images are load in variable x...\n",
        "FILE='Sugar_set_30_2019.zip'\n",
        "img_name=[]\n",
        "x=[]\n",
        "p=[]\n",
        "w=[]\n",
        "\n",
        "\n",
        "with zipfile.ZipFile(FILE, \"r\") as f:\n",
        "    for name in f.namelist():\n",
        "        img_name.append(name)\n",
        "        #x.append(cv2.imread(name))\n",
        "        x.append(cv2.resize(cv2.imread(name),(64,64)))\n",
        "        p.append(cv2.cvtColor(cv2.imread(name), cv2.COLOR_RGB2GRAY))\n",
        "\n",
        "Num=len(img_name)\n",
        "\n",
        "for i in range(Num):\n",
        "    w.append(cv2.cvtColor(np.array(x[i]), cv2.COLOR_BGR2GRAY))\n"
      ],
      "execution_count": 0,
      "outputs": []
    },
    {
      "cell_type": "code",
      "metadata": {
        "id": "pmV6tdMigLao",
        "colab_type": "code",
        "outputId": "a0252b68-84f5-4706-ed7d-8cd15e9e44fc",
        "colab": {
          "base_uri": "https://localhost:8080/",
          "height": 56
        }
      },
      "source": [
        "Num=len(img_name)\n",
        "MP=[]\n",
        "for k in range(Num):\n",
        "  Soma=0\n",
        "  for i in range(64):\n",
        "    for j in range(64):\n",
        "      Soma=Soma+p[k][i,j]\n",
        "  MP.append(Soma)\n",
        "print(MP)"
      ],
      "execution_count": 6,
      "outputs": [
        {
          "output_type": "stream",
          "text": [
            "[379131, 401229, 399430, 386293, 382921, 385930, 403846, 386138, 418977, 427227, 467134, 414421, 426800, 435215, 449231, 408467, 399262, 401986, 433264, 423563, 437965, 466633, 441547, 465707]\n"
          ],
          "name": "stdout"
        }
      ]
    },
    {
      "cell_type": "code",
      "metadata": {
        "id": "5P-b8jTsqaYF",
        "colab_type": "code",
        "outputId": "381788d8-3721-448f-eb9e-d5a0c541674d",
        "colab": {
          "base_uri": "https://localhost:8080/",
          "height": 36
        }
      },
      "source": [
        "print(Num)"
      ],
      "execution_count": 7,
      "outputs": [
        {
          "output_type": "stream",
          "text": [
            "24\n"
          ],
          "name": "stdout"
        }
      ]
    },
    {
      "cell_type": "code",
      "metadata": {
        "id": "t_O0vtWEq6Nm",
        "colab_type": "code",
        "outputId": "94a982e6-9032-4293-c4c8-3106513bc2e3",
        "colab": {
          "base_uri": "https://localhost:8080/",
          "height": 111
        }
      },
      "source": [
        "WW=np.array([[1,2,3],[4,5,6],[7,8,9]])\n",
        "WT=WW.ravel()\n",
        "print(WT)\n",
        "print(type(WT))\n",
        "MM=WT.reshape(3,3)\n",
        "print(MM)"
      ],
      "execution_count": 56,
      "outputs": [
        {
          "output_type": "stream",
          "text": [
            "[1 2 3 4 5 6 7 8 9]\n",
            "<class 'numpy.ndarray'>\n",
            "[[1 2 3]\n",
            " [4 5 6]\n",
            " [7 8 9]]\n"
          ],
          "name": "stdout"
        }
      ]
    },
    {
      "cell_type": "code",
      "metadata": {
        "id": "0XIPN0jNrTyW",
        "colab_type": "code",
        "outputId": "ef5fef6e-ed25-4097-e269-fa5ad3dc4856",
        "colab": {
          "base_uri": "https://localhost:8080/",
          "height": 36
        }
      },
      "source": [
        "95/379131"
      ],
      "execution_count": 9,
      "outputs": [
        {
          "output_type": "execute_result",
          "data": {
            "text/plain": [
              "0.0002505730209347165"
            ]
          },
          "metadata": {
            "tags": []
          },
          "execution_count": 9
        }
      ]
    },
    {
      "cell_type": "code",
      "metadata": {
        "id": "cNy09rYWoCMF",
        "colab_type": "code",
        "outputId": "4de73032-7f8c-4fee-cbb1-cf2c12436969",
        "colab": {
          "base_uri": "https://localhost:8080/",
          "height": 36
        }
      },
      "source": [
        "'''for k in range(Num):\n",
        "  for i in range(64):\n",
        "    for j in range(64):\n",
        "      p[k][i,j]=p[k][i,j]/MP[k]'''"
      ],
      "execution_count": 10,
      "outputs": [
        {
          "output_type": "execute_result",
          "data": {
            "text/plain": [
              "'for k in range(Num):\\n  for i in range(64):\\n    for j in range(64):\\n      p[k][i,j]=p[k][i,j]/MP[k]'"
            ]
          },
          "metadata": {
            "tags": []
          },
          "execution_count": 10
        }
      ]
    },
    {
      "cell_type": "code",
      "metadata": {
        "id": "Set6_sNZqjMp",
        "colab_type": "code",
        "colab": {}
      },
      "source": [
        "pw=[]\n",
        "for k in range(1):\n",
        "  p_new=np.zeros((64,64))\n",
        "  for i in range(64):\n",
        "    for j in range(64):\n",
        "      p_new[i,j]=p[k][i,j]/MP[k]\n",
        "  pw.append(p_new)"
      ],
      "execution_count": 0,
      "outputs": []
    },
    {
      "cell_type": "code",
      "metadata": {
        "id": "EiA9viVSpxse",
        "colab_type": "code",
        "outputId": "cd357f70-13ba-4f32-bded-4197464d0877",
        "colab": {
          "base_uri": "https://localhost:8080/",
          "height": 36
        }
      },
      "source": [
        "print(p.shape)\n"
      ],
      "execution_count": 44,
      "outputs": [
        {
          "output_type": "stream",
          "text": [
            "(64, 64)\n"
          ],
          "name": "stdout"
        }
      ]
    },
    {
      "cell_type": "code",
      "metadata": {
        "id": "HABYiX72sr8d",
        "colab_type": "code",
        "outputId": "ee38d58c-9c44-4f20-9da7-b04531c11b2d",
        "colab": {
          "base_uri": "https://localhost:8080/",
          "height": 56
        }
      },
      "source": [
        "'''\n",
        "primeira foto:\n",
        "[[0.00025057 0.00021365 0.00020573 ... 0.00020046 0.00017936 0.00019782]\n",
        " [0.00027431 0.00023475 0.00021892 ... 0.00021628 0.00020046 0.00021628]\n",
        " [0.0002664  0.00024002 0.00022683 ... 0.00023211 0.0002242  0.00023738]\n",
        " ...\n",
        " [0.00027431 0.00028222 0.00028222 ... 0.00025585 0.00025057 0.00026904]\n",
        " [0.00027167 0.00027695 0.00028222 ... 0.00026376 0.0002453  0.00024794]\n",
        " [0.0002664  0.00026904 0.00027959 ... 0.00027431 0.00024794 0.00024002]]'''"
      ],
      "execution_count": 13,
      "outputs": [
        {
          "output_type": "execute_result",
          "data": {
            "text/plain": [
              "'\\nprimeira foto:\\n[[0.00025057 0.00021365 0.00020573 ... 0.00020046 0.00017936 0.00019782]\\n [0.00027431 0.00023475 0.00021892 ... 0.00021628 0.00020046 0.00021628]\\n [0.0002664  0.00024002 0.00022683 ... 0.00023211 0.0002242  0.00023738]\\n ...\\n [0.00027431 0.00028222 0.00028222 ... 0.00025585 0.00025057 0.00026904]\\n [0.00027167 0.00027695 0.00028222 ... 0.00026376 0.0002453  0.00024794]\\n [0.0002664  0.00026904 0.00027959 ... 0.00027431 0.00024794 0.00024002]]'"
            ]
          },
          "metadata": {
            "tags": []
          },
          "execution_count": 13
        }
      ]
    },
    {
      "cell_type": "code",
      "metadata": {
        "id": "hD6ytCHat3nG",
        "colab_type": "code",
        "colab": {}
      },
      "source": [
        "p=[]"
      ],
      "execution_count": 0,
      "outputs": []
    },
    {
      "cell_type": "code",
      "metadata": {
        "id": "HQ-nNY4c0ImC",
        "colab_type": "code",
        "outputId": "d5a3ecc0-be7e-4fbc-ac9a-fff587b14eb1",
        "colab": {
          "base_uri": "https://localhost:8080/",
          "height": 36
        }
      },
      "source": [
        "Nrow=64\n",
        "Ncol=64\n",
        "Entropia=0 # estamos calculando da primeira foto\n",
        "for i in range(Nrow):\n",
        "  for j in range(Ncol):\n",
        "    Entropia=Entropia-pw[0][i,j]*np.log(pw[0][i,j])\n",
        "print(\"Entropia=\",Entropia)\n"
      ],
      "execution_count": 15,
      "outputs": [
        {
          "output_type": "stream",
          "text": [
            "Entropia= 8.312682777307495\n"
          ],
          "name": "stdout"
        }
      ]
    },
    {
      "cell_type": "code",
      "metadata": {
        "id": "qCae0Ft32stE",
        "colab_type": "code",
        "colab": {
          "base_uri": "https://localhost:8080/",
          "height": 36
        },
        "outputId": "bea8932d-547a-4fe7-ca37-94349bc901b2"
      },
      "source": [
        "print(Nfotos)"
      ],
      "execution_count": 18,
      "outputs": [
        {
          "output_type": "stream",
          "text": [
            "24\n"
          ],
          "name": "stdout"
        }
      ]
    },
    {
      "cell_type": "code",
      "metadata": {
        "id": "dgCx4Jn43XnM",
        "colab_type": "code",
        "outputId": "e7ddfa12-55aa-4680-b1ef-83a48a4e5a34",
        "colab": {
          "base_uri": "https://localhost:8080/",
          "height": 75
        }
      },
      "source": [
        "print(img_name)\n",
        "Nfotos=len(img_name)\n",
        "print(Nfotos)"
      ],
      "execution_count": 16,
      "outputs": [
        {
          "output_type": "stream",
          "text": [
            "['IMG_16_0634.jpg', 'IMG_16_0639.jpg', 'IMG_16_0640.jpg', 'IMG_18_0655.jpg', 'IMG_18_0656.jpg', 'IMG_18_0658.jpg', 'IMG_20_0680.jpg', 'IMG_20_0681.jpg', 'IMG_20_0688.jpg', 'IMG_25_0703.jpg', 'IMG_25_0706.jpg', 'IMG_25_0710.jpg', 'IMG_30_0732.jpg', 'IMG_30_0735.jpg', 'IMG_30_0737.jpg', 'IMG_35_0751.jpg', 'IMG_35_0757.jpg', 'IMG_35_0760.jpg', 'IMG_40_0776.jpg', 'IMG_40_0777.jpg', 'IMG_40_0780.jpg', 'IMG_70_0816.jpg', 'IMG_70_0818.jpg', 'IMG_70_0821.jpg']\n",
            "24\n"
          ],
          "name": "stdout"
        }
      ]
    },
    {
      "cell_type": "code",
      "metadata": {
        "id": "9XPFWhiq3tGW",
        "colab_type": "code",
        "outputId": "b28563fb-7bf3-406f-bbc9-8df33da3ca95",
        "colab": {
          "base_uri": "https://localhost:8080/",
          "height": 397
        }
      },
      "source": [
        "Nfotos=len(img_name)\n",
        "GLCM=np.zeros((Nfotos, 14))   # lembrar do ANN_Hydrofoil_Neuronio_set_17_2018.ipynb\n",
        "Nrow=64\n",
        "Ncol=64\n",
        "print(GLCM.shape)\n",
        "for k in range(Nfotos):\n",
        "  p=np.copy(pw[k])\n",
        "  print(pw[k])\n",
        "  for i in range(Nrow):\n",
        "    for j in range(Ncol):\n",
        "      #print(\"i=%d j=%d k=%d\"%(i,j,k))\n",
        "      GLCM[k,7]=GLCM[k,7]-p[i,j]*np.log(p[i,j]) # entropia\n",
        "      GLCM[k,0]=GLCM[k,0]+p[i,j]**2 #segundo momento angular\n",
        "      GLCM[k,1]=GLCM[k,1]+(i-j)**2*p[i,j] #contraste\n",
        "      GLCM[k,3]=GLCM[k,3]+(i-np.mean(p))**2*p[i,j] #Variancia\n",
        "\n"
      ],
      "execution_count": 37,
      "outputs": [
        {
          "output_type": "stream",
          "text": [
            "(24, 14)\n",
            "[[0.00025057 0.00021365 0.00020573 ... 0.00020046 0.00017936 0.00019782]\n",
            " [0.00027431 0.00023475 0.00021892 ... 0.00021628 0.00020046 0.00021628]\n",
            " [0.0002664  0.00024002 0.00022683 ... 0.00023211 0.0002242  0.00023738]\n",
            " ...\n",
            " [0.00027431 0.00028222 0.00028222 ... 0.00025585 0.00025057 0.00026904]\n",
            " [0.00027167 0.00027695 0.00028222 ... 0.00026376 0.0002453  0.00024794]\n",
            " [0.0002664  0.00026904 0.00027959 ... 0.00027431 0.00024794 0.00024002]]\n"
          ],
          "name": "stdout"
        },
        {
          "output_type": "error",
          "ename": "IndexError",
          "evalue": "ignored",
          "traceback": [
            "\u001b[0;31m---------------------------------------------------------------------------\u001b[0m",
            "\u001b[0;31mIndexError\u001b[0m                                Traceback (most recent call last)",
            "\u001b[0;32m<ipython-input-37-5ecc5d1bc253>\u001b[0m in \u001b[0;36m<module>\u001b[0;34m()\u001b[0m\n\u001b[1;32m      5\u001b[0m \u001b[0mprint\u001b[0m\u001b[0;34m(\u001b[0m\u001b[0mGLCM\u001b[0m\u001b[0;34m.\u001b[0m\u001b[0mshape\u001b[0m\u001b[0;34m)\u001b[0m\u001b[0;34m\u001b[0m\u001b[0;34m\u001b[0m\u001b[0m\n\u001b[1;32m      6\u001b[0m \u001b[0;32mfor\u001b[0m \u001b[0mk\u001b[0m \u001b[0;32min\u001b[0m \u001b[0mrange\u001b[0m\u001b[0;34m(\u001b[0m\u001b[0mNfotos\u001b[0m\u001b[0;34m)\u001b[0m\u001b[0;34m:\u001b[0m\u001b[0;34m\u001b[0m\u001b[0;34m\u001b[0m\u001b[0m\n\u001b[0;32m----> 7\u001b[0;31m   \u001b[0mp\u001b[0m\u001b[0;34m=\u001b[0m\u001b[0mnp\u001b[0m\u001b[0;34m.\u001b[0m\u001b[0mcopy\u001b[0m\u001b[0;34m(\u001b[0m\u001b[0mpw\u001b[0m\u001b[0;34m[\u001b[0m\u001b[0mk\u001b[0m\u001b[0;34m]\u001b[0m\u001b[0;34m)\u001b[0m\u001b[0;34m\u001b[0m\u001b[0;34m\u001b[0m\u001b[0m\n\u001b[0m\u001b[1;32m      8\u001b[0m   \u001b[0mprint\u001b[0m\u001b[0;34m(\u001b[0m\u001b[0mpw\u001b[0m\u001b[0;34m[\u001b[0m\u001b[0mk\u001b[0m\u001b[0;34m]\u001b[0m\u001b[0;34m)\u001b[0m\u001b[0;34m\u001b[0m\u001b[0;34m\u001b[0m\u001b[0m\n\u001b[1;32m      9\u001b[0m   \u001b[0;32mfor\u001b[0m \u001b[0mi\u001b[0m \u001b[0;32min\u001b[0m \u001b[0mrange\u001b[0m\u001b[0;34m(\u001b[0m\u001b[0mNrow\u001b[0m\u001b[0;34m)\u001b[0m\u001b[0;34m:\u001b[0m\u001b[0;34m\u001b[0m\u001b[0;34m\u001b[0m\u001b[0m\n",
            "\u001b[0;31mIndexError\u001b[0m: list index out of range"
          ]
        }
      ]
    },
    {
      "cell_type": "code",
      "metadata": {
        "id": "zCeWSpZnscYY",
        "colab_type": "code",
        "colab": {
          "base_uri": "https://localhost:8080/",
          "height": 55
        },
        "outputId": "cb23860a-83a2-4a85-afd9-ea7f3c43690a"
      },
      "source": [
        "print(GLCM.shape)\n",
        "print(pw[0].shape)"
      ],
      "execution_count": 32,
      "outputs": [
        {
          "output_type": "stream",
          "text": [
            "(24, 14)\n",
            "(64, 64)\n"
          ],
          "name": "stdout"
        }
      ]
    },
    {
      "cell_type": "code",
      "metadata": {
        "id": "bWRUesbYqQ2v",
        "colab_type": "code",
        "colab": {
          "base_uri": "https://localhost:8080/",
          "height": 969
        },
        "outputId": "f374f8c3-d3bd-4762-fddf-1e9d1defee0e"
      },
      "source": [
        "pd.set_option('display.max_columns', 30)\n",
        "print(pd.DataFrame(GLCM))"
      ],
      "execution_count": 26,
      "outputs": [
        {
          "output_type": "stream",
          "text": [
            "          0           1    2            3    4    5    6         7    8    9   \\\n",
            "0   0.000247  686.652368  0.0  1385.145331  0.0  0.0  0.0  8.312683  0.0  0.0   \n",
            "1   0.000000    0.000000  0.0     0.000000  0.0  0.0  0.0  0.000000  0.0  0.0   \n",
            "2   0.000000    0.000000  0.0     0.000000  0.0  0.0  0.0  0.000000  0.0  0.0   \n",
            "3   0.000000    0.000000  0.0     0.000000  0.0  0.0  0.0  0.000000  0.0  0.0   \n",
            "4   0.000000    0.000000  0.0     0.000000  0.0  0.0  0.0  0.000000  0.0  0.0   \n",
            "5   0.000000    0.000000  0.0     0.000000  0.0  0.0  0.0  0.000000  0.0  0.0   \n",
            "6   0.000000    0.000000  0.0     0.000000  0.0  0.0  0.0  0.000000  0.0  0.0   \n",
            "7   0.000000    0.000000  0.0     0.000000  0.0  0.0  0.0  0.000000  0.0  0.0   \n",
            "8   0.000000    0.000000  0.0     0.000000  0.0  0.0  0.0  0.000000  0.0  0.0   \n",
            "9   0.000000    0.000000  0.0     0.000000  0.0  0.0  0.0  0.000000  0.0  0.0   \n",
            "10  0.000000    0.000000  0.0     0.000000  0.0  0.0  0.0  0.000000  0.0  0.0   \n",
            "11  0.000000    0.000000  0.0     0.000000  0.0  0.0  0.0  0.000000  0.0  0.0   \n",
            "12  0.000000    0.000000  0.0     0.000000  0.0  0.0  0.0  0.000000  0.0  0.0   \n",
            "13  0.000000    0.000000  0.0     0.000000  0.0  0.0  0.0  0.000000  0.0  0.0   \n",
            "14  0.000000    0.000000  0.0     0.000000  0.0  0.0  0.0  0.000000  0.0  0.0   \n",
            "15  0.000000    0.000000  0.0     0.000000  0.0  0.0  0.0  0.000000  0.0  0.0   \n",
            "16  0.000000    0.000000  0.0     0.000000  0.0  0.0  0.0  0.000000  0.0  0.0   \n",
            "17  0.000000    0.000000  0.0     0.000000  0.0  0.0  0.0  0.000000  0.0  0.0   \n",
            "18  0.000000    0.000000  0.0     0.000000  0.0  0.0  0.0  0.000000  0.0  0.0   \n",
            "19  0.000000    0.000000  0.0     0.000000  0.0  0.0  0.0  0.000000  0.0  0.0   \n",
            "20  0.000000    0.000000  0.0     0.000000  0.0  0.0  0.0  0.000000  0.0  0.0   \n",
            "21  0.000000    0.000000  0.0     0.000000  0.0  0.0  0.0  0.000000  0.0  0.0   \n",
            "22  0.000000    0.000000  0.0     0.000000  0.0  0.0  0.0  0.000000  0.0  0.0   \n",
            "23  0.000000    0.000000  0.0     0.000000  0.0  0.0  0.0  0.000000  0.0  0.0   \n",
            "\n",
            "     10   11   12  \n",
            "0   0.0  0.0  0.0  \n",
            "1   0.0  0.0  0.0  \n",
            "2   0.0  0.0  0.0  \n",
            "3   0.0  0.0  0.0  \n",
            "4   0.0  0.0  0.0  \n",
            "5   0.0  0.0  0.0  \n",
            "6   0.0  0.0  0.0  \n",
            "7   0.0  0.0  0.0  \n",
            "8   0.0  0.0  0.0  \n",
            "9   0.0  0.0  0.0  \n",
            "10  0.0  0.0  0.0  \n",
            "11  0.0  0.0  0.0  \n",
            "12  0.0  0.0  0.0  \n",
            "13  0.0  0.0  0.0  \n",
            "14  0.0  0.0  0.0  \n",
            "15  0.0  0.0  0.0  \n",
            "16  0.0  0.0  0.0  \n",
            "17  0.0  0.0  0.0  \n",
            "18  0.0  0.0  0.0  \n",
            "19  0.0  0.0  0.0  \n",
            "20  0.0  0.0  0.0  \n",
            "21  0.0  0.0  0.0  \n",
            "22  0.0  0.0  0.0  \n",
            "23  0.0  0.0  0.0  \n"
          ],
          "name": "stdout"
        }
      ]
    },
    {
      "cell_type": "code",
      "metadata": {
        "id": "4SByB4bq4wO9",
        "colab_type": "code",
        "colab": {}
      },
      "source": [
        "GLCM=pd.DataFrame(GLCM)\n",
        "pd.set_option('display.max_columns', 30)\n",
        "print(GLCM.head(5))"
      ],
      "execution_count": 0,
      "outputs": []
    },
    {
      "cell_type": "code",
      "metadata": {
        "id": "gQrpoGmM_eng",
        "colab_type": "code",
        "colab": {}
      },
      "source": [
        "print(np.mean(w[0]))"
      ],
      "execution_count": 0,
      "outputs": []
    }
  ]
}